{
 "cells": [
  {
   "cell_type": "code",
   "execution_count": 1,
   "id": "5d87e640",
   "metadata": {},
   "outputs": [],
   "source": [
    "import pickle\n",
    "import numpy as np\n",
    "import pandas as pd\n",
    "import matplotlib.pyplot as plt\n",
    "%matplotlib inline"
   ]
  },
  {
   "cell_type": "code",
   "execution_count": 2,
   "id": "95600074",
   "metadata": {
    "scrolled": true
   },
   "outputs": [
    {
     "data": {
      "text/html": [
       "<div>\n",
       "<style scoped>\n",
       "    .dataframe tbody tr th:only-of-type {\n",
       "        vertical-align: middle;\n",
       "    }\n",
       "\n",
       "    .dataframe tbody tr th {\n",
       "        vertical-align: top;\n",
       "    }\n",
       "\n",
       "    .dataframe thead th {\n",
       "        text-align: right;\n",
       "    }\n",
       "</style>\n",
       "<table border=\"1\" class=\"dataframe\">\n",
       "  <thead>\n",
       "    <tr style=\"text-align: right;\">\n",
       "      <th></th>\n",
       "      <th>Frame</th>\n",
       "      <th>N_Person</th>\n",
       "      <th>Xcenter</th>\n",
       "      <th>Ycenter</th>\n",
       "      <th>PerXmin</th>\n",
       "      <th>PerYmin</th>\n",
       "      <th>PerXmax</th>\n",
       "      <th>PerYmax</th>\n",
       "      <th>N_Handgun</th>\n",
       "      <th>HgXcenter</th>\n",
       "      <th>...</th>\n",
       "      <th>HgYmin</th>\n",
       "      <th>HgXmax</th>\n",
       "      <th>HgYmax</th>\n",
       "      <th>Intersection</th>\n",
       "      <th>Included_Center</th>\n",
       "      <th>Intersection_Area</th>\n",
       "      <th>Hg_Area</th>\n",
       "      <th>Distance</th>\n",
       "      <th>Ground_Truth</th>\n",
       "      <th>GT</th>\n",
       "    </tr>\n",
       "  </thead>\n",
       "  <tbody>\n",
       "    <tr>\n",
       "      <th>0</th>\n",
       "      <td>0</td>\n",
       "      <td>0</td>\n",
       "      <td>474.999451</td>\n",
       "      <td>309.582947</td>\n",
       "      <td>395.377251</td>\n",
       "      <td>156.402725</td>\n",
       "      <td>554.621651</td>\n",
       "      <td>462.763168</td>\n",
       "      <td>0</td>\n",
       "      <td>409.881988</td>\n",
       "      <td>...</td>\n",
       "      <td>176.115577</td>\n",
       "      <td>425.699604</td>\n",
       "      <td>203.980340</td>\n",
       "      <td>Center_left</td>\n",
       "      <td>1</td>\n",
       "      <td>844.925198</td>\n",
       "      <td>881.508223</td>\n",
       "      <td>136.120892</td>\n",
       "      <td>1</td>\n",
       "      <td>NB</td>\n",
       "    </tr>\n",
       "    <tr>\n",
       "      <th>1</th>\n",
       "      <td>1</td>\n",
       "      <td>0</td>\n",
       "      <td>474.938843</td>\n",
       "      <td>309.623566</td>\n",
       "      <td>395.161308</td>\n",
       "      <td>156.591705</td>\n",
       "      <td>554.716377</td>\n",
       "      <td>462.655426</td>\n",
       "      <td>0</td>\n",
       "      <td>409.638031</td>\n",
       "      <td>...</td>\n",
       "      <td>176.050999</td>\n",
       "      <td>425.668627</td>\n",
       "      <td>203.878841</td>\n",
       "      <td>Center_left</td>\n",
       "      <td>1</td>\n",
       "      <td>848.952861</td>\n",
       "      <td>892.193796</td>\n",
       "      <td>136.317231</td>\n",
       "      <td>1</td>\n",
       "      <td>NB</td>\n",
       "    </tr>\n",
       "    <tr>\n",
       "      <th>2</th>\n",
       "      <td>2</td>\n",
       "      <td>0</td>\n",
       "      <td>475.070465</td>\n",
       "      <td>309.475372</td>\n",
       "      <td>395.484291</td>\n",
       "      <td>156.138077</td>\n",
       "      <td>554.656639</td>\n",
       "      <td>462.812668</td>\n",
       "      <td>0</td>\n",
       "      <td>409.610718</td>\n",
       "      <td>...</td>\n",
       "      <td>175.932056</td>\n",
       "      <td>425.627609</td>\n",
       "      <td>203.722820</td>\n",
       "      <td>Center_left</td>\n",
       "      <td>1</td>\n",
       "      <td>837.705837</td>\n",
       "      <td>890.243298</td>\n",
       "      <td>136.384041</td>\n",
       "      <td>1</td>\n",
       "      <td>NB</td>\n",
       "    </tr>\n",
       "    <tr>\n",
       "      <th>3</th>\n",
       "      <td>3</td>\n",
       "      <td>0</td>\n",
       "      <td>476.837311</td>\n",
       "      <td>308.901245</td>\n",
       "      <td>399.288238</td>\n",
       "      <td>154.448364</td>\n",
       "      <td>554.386383</td>\n",
       "      <td>463.354126</td>\n",
       "      <td>0</td>\n",
       "      <td>408.519043</td>\n",
       "      <td>...</td>\n",
       "      <td>177.653896</td>\n",
       "      <td>423.709709</td>\n",
       "      <td>202.787083</td>\n",
       "      <td>Center_left</td>\n",
       "      <td>1</td>\n",
       "      <td>613.789372</td>\n",
       "      <td>763.579688</td>\n",
       "      <td>136.939795</td>\n",
       "      <td>1</td>\n",
       "      <td>NB</td>\n",
       "    </tr>\n",
       "    <tr>\n",
       "      <th>4</th>\n",
       "      <td>4</td>\n",
       "      <td>0</td>\n",
       "      <td>476.918640</td>\n",
       "      <td>308.815064</td>\n",
       "      <td>399.598404</td>\n",
       "      <td>154.249756</td>\n",
       "      <td>554.238876</td>\n",
       "      <td>463.380371</td>\n",
       "      <td>0</td>\n",
       "      <td>408.613525</td>\n",
       "      <td>...</td>\n",
       "      <td>177.582060</td>\n",
       "      <td>423.771116</td>\n",
       "      <td>202.885134</td>\n",
       "      <td>Center_left</td>\n",
       "      <td>1</td>\n",
       "      <td>611.643926</td>\n",
       "      <td>767.067283</td>\n",
       "      <td>136.847188</td>\n",
       "      <td>1</td>\n",
       "      <td>NB</td>\n",
       "    </tr>\n",
       "  </tbody>\n",
       "</table>\n",
       "<p>5 rows × 22 columns</p>\n",
       "</div>"
      ],
      "text/plain": [
       "   Frame  N_Person     Xcenter     Ycenter     PerXmin     PerYmin  \\\n",
       "0      0         0  474.999451  309.582947  395.377251  156.402725   \n",
       "1      1         0  474.938843  309.623566  395.161308  156.591705   \n",
       "2      2         0  475.070465  309.475372  395.484291  156.138077   \n",
       "3      3         0  476.837311  308.901245  399.288238  154.448364   \n",
       "4      4         0  476.918640  308.815064  399.598404  154.249756   \n",
       "\n",
       "      PerXmax     PerYmax  N_Handgun   HgXcenter  ...      HgYmin      HgXmax  \\\n",
       "0  554.621651  462.763168          0  409.881988  ...  176.115577  425.699604   \n",
       "1  554.716377  462.655426          0  409.638031  ...  176.050999  425.668627   \n",
       "2  554.656639  462.812668          0  409.610718  ...  175.932056  425.627609   \n",
       "3  554.386383  463.354126          0  408.519043  ...  177.653896  423.709709   \n",
       "4  554.238876  463.380371          0  408.613525  ...  177.582060  423.771116   \n",
       "\n",
       "       HgYmax  Intersection  Included_Center Intersection_Area     Hg_Area  \\\n",
       "0  203.980340   Center_left                1        844.925198  881.508223   \n",
       "1  203.878841   Center_left                1        848.952861  892.193796   \n",
       "2  203.722820   Center_left                1        837.705837  890.243298   \n",
       "3  202.787083   Center_left                1        613.789372  763.579688   \n",
       "4  202.885134   Center_left                1        611.643926  767.067283   \n",
       "\n",
       "     Distance  Ground_Truth  GT  \n",
       "0  136.120892             1  NB  \n",
       "1  136.317231             1  NB  \n",
       "2  136.384041             1  NB  \n",
       "3  136.939795             1  NB  \n",
       "4  136.847188             1  NB  \n",
       "\n",
       "[5 rows x 22 columns]"
      ]
     },
     "execution_count": 2,
     "metadata": {},
     "output_type": "execute_result"
    }
   ],
   "source": [
    "df = pd.read_csv('ams17.csv')\n",
    "df.head()"
   ]
  },
  {
   "cell_type": "code",
   "execution_count": 3,
   "id": "8ae1ff95",
   "metadata": {},
   "outputs": [
    {
     "data": {
      "text/plain": [
       "17743"
      ]
     },
     "execution_count": 3,
     "metadata": {},
     "output_type": "execute_result"
    }
   ],
   "source": [
    "len(df)"
   ]
  },
  {
   "cell_type": "code",
   "execution_count": 4,
   "id": "9ac6c889",
   "metadata": {
    "scrolled": true
   },
   "outputs": [
    {
     "name": "stdout",
     "output_type": "stream",
     "text": [
      "<class 'pandas.core.frame.DataFrame'>\n",
      "RangeIndex: 17743 entries, 0 to 17742\n",
      "Data columns (total 22 columns):\n",
      " #   Column             Non-Null Count  Dtype  \n",
      "---  ------             --------------  -----  \n",
      " 0   Frame              17743 non-null  int64  \n",
      " 1   N_Person           17743 non-null  int64  \n",
      " 2   Xcenter            17743 non-null  float64\n",
      " 3   Ycenter            17743 non-null  float64\n",
      " 4   PerXmin            17743 non-null  float64\n",
      " 5   PerYmin            17743 non-null  float64\n",
      " 6   PerXmax            17743 non-null  float64\n",
      " 7   PerYmax            17743 non-null  float64\n",
      " 8   N_Handgun          17743 non-null  int64  \n",
      " 9   HgXcenter          17743 non-null  float64\n",
      " 10  HgYcenter          17743 non-null  float64\n",
      " 11  HgXmin             17743 non-null  float64\n",
      " 12  HgYmin             17743 non-null  float64\n",
      " 13  HgXmax             17743 non-null  float64\n",
      " 14  HgYmax             17743 non-null  float64\n",
      " 15  Intersection       17743 non-null  object \n",
      " 16  Included_Center    17743 non-null  int64  \n",
      " 17  Intersection_Area  17743 non-null  float64\n",
      " 18  Hg_Area            17743 non-null  float64\n",
      " 19  Distance           17743 non-null  float64\n",
      " 20  Ground_Truth       17743 non-null  int64  \n",
      " 21  GT                 17743 non-null  object \n",
      "dtypes: float64(15), int64(5), object(2)\n",
      "memory usage: 3.0+ MB\n"
     ]
    }
   ],
   "source": [
    "df.info()"
   ]
  },
  {
   "cell_type": "code",
   "execution_count": 5,
   "id": "048f07b5",
   "metadata": {},
   "outputs": [
    {
     "data": {
      "text/plain": [
       "Frame                 1933\n",
       "N_Person                 5\n",
       "Xcenter              13827\n",
       "Ycenter              13808\n",
       "PerXmin              13835\n",
       "PerYmin              13832\n",
       "PerXmax              13835\n",
       "PerYmax              13813\n",
       "N_Handgun                5\n",
       "HgXcenter             7280\n",
       "HgYcenter             7278\n",
       "HgXmin                7282\n",
       "HgYmin                7282\n",
       "HgXmax                7282\n",
       "HgYmax                7281\n",
       "Intersection             9\n",
       "Included_Center          2\n",
       "Intersection_Area     7806\n",
       "Hg_Area               7282\n",
       "Distance             17743\n",
       "Ground_Truth             2\n",
       "GT                       2\n",
       "dtype: int64"
      ]
     },
     "execution_count": 5,
     "metadata": {},
     "output_type": "execute_result"
    }
   ],
   "source": [
    "df.nunique()"
   ]
  },
  {
   "cell_type": "code",
   "execution_count": 6,
   "id": "86b0f52d",
   "metadata": {
    "scrolled": false
   },
   "outputs": [
    {
     "data": {
      "text/plain": [
       "1    16848\n",
       "0      895\n",
       "Name: Ground_Truth, dtype: int64"
      ]
     },
     "execution_count": 6,
     "metadata": {},
     "output_type": "execute_result"
    }
   ],
   "source": [
    "df['Ground_Truth'].value_counts()"
   ]
  },
  {
   "cell_type": "code",
   "execution_count": 7,
   "id": "732110e8",
   "metadata": {
    "scrolled": true
   },
   "outputs": [
    {
     "data": {
      "text/html": [
       "<div>\n",
       "<style scoped>\n",
       "    .dataframe tbody tr th:only-of-type {\n",
       "        vertical-align: middle;\n",
       "    }\n",
       "\n",
       "    .dataframe tbody tr th {\n",
       "        vertical-align: top;\n",
       "    }\n",
       "\n",
       "    .dataframe thead th {\n",
       "        text-align: right;\n",
       "    }\n",
       "</style>\n",
       "<table border=\"1\" class=\"dataframe\">\n",
       "  <thead>\n",
       "    <tr style=\"text-align: right;\">\n",
       "      <th></th>\n",
       "      <th>Frame</th>\n",
       "      <th>N_Person</th>\n",
       "      <th>Xcenter</th>\n",
       "      <th>Ycenter</th>\n",
       "      <th>PerXmin</th>\n",
       "      <th>PerYmin</th>\n",
       "      <th>PerXmax</th>\n",
       "      <th>PerYmax</th>\n",
       "      <th>N_Handgun</th>\n",
       "      <th>HgXcenter</th>\n",
       "      <th>...</th>\n",
       "      <th>GT</th>\n",
       "      <th>Intersection_Center_left</th>\n",
       "      <th>Intersection_Center_right</th>\n",
       "      <th>Intersection_Down_center</th>\n",
       "      <th>Intersection_Down_left</th>\n",
       "      <th>Intersection_Inside</th>\n",
       "      <th>Intersection_No_intersection</th>\n",
       "      <th>Intersection_Up_center</th>\n",
       "      <th>Intersection_Up_left</th>\n",
       "      <th>Intersection_Up_right</th>\n",
       "    </tr>\n",
       "  </thead>\n",
       "  <tbody>\n",
       "    <tr>\n",
       "      <th>0</th>\n",
       "      <td>0</td>\n",
       "      <td>0</td>\n",
       "      <td>474.999451</td>\n",
       "      <td>309.582947</td>\n",
       "      <td>395.377251</td>\n",
       "      <td>156.402725</td>\n",
       "      <td>554.621651</td>\n",
       "      <td>462.763168</td>\n",
       "      <td>0</td>\n",
       "      <td>409.881988</td>\n",
       "      <td>...</td>\n",
       "      <td>NB</td>\n",
       "      <td>1</td>\n",
       "      <td>0</td>\n",
       "      <td>0</td>\n",
       "      <td>0</td>\n",
       "      <td>0</td>\n",
       "      <td>0</td>\n",
       "      <td>0</td>\n",
       "      <td>0</td>\n",
       "      <td>0</td>\n",
       "    </tr>\n",
       "    <tr>\n",
       "      <th>1</th>\n",
       "      <td>1</td>\n",
       "      <td>0</td>\n",
       "      <td>474.938843</td>\n",
       "      <td>309.623566</td>\n",
       "      <td>395.161308</td>\n",
       "      <td>156.591705</td>\n",
       "      <td>554.716377</td>\n",
       "      <td>462.655426</td>\n",
       "      <td>0</td>\n",
       "      <td>409.638031</td>\n",
       "      <td>...</td>\n",
       "      <td>NB</td>\n",
       "      <td>1</td>\n",
       "      <td>0</td>\n",
       "      <td>0</td>\n",
       "      <td>0</td>\n",
       "      <td>0</td>\n",
       "      <td>0</td>\n",
       "      <td>0</td>\n",
       "      <td>0</td>\n",
       "      <td>0</td>\n",
       "    </tr>\n",
       "    <tr>\n",
       "      <th>2</th>\n",
       "      <td>2</td>\n",
       "      <td>0</td>\n",
       "      <td>475.070465</td>\n",
       "      <td>309.475372</td>\n",
       "      <td>395.484291</td>\n",
       "      <td>156.138077</td>\n",
       "      <td>554.656639</td>\n",
       "      <td>462.812668</td>\n",
       "      <td>0</td>\n",
       "      <td>409.610718</td>\n",
       "      <td>...</td>\n",
       "      <td>NB</td>\n",
       "      <td>1</td>\n",
       "      <td>0</td>\n",
       "      <td>0</td>\n",
       "      <td>0</td>\n",
       "      <td>0</td>\n",
       "      <td>0</td>\n",
       "      <td>0</td>\n",
       "      <td>0</td>\n",
       "      <td>0</td>\n",
       "    </tr>\n",
       "    <tr>\n",
       "      <th>3</th>\n",
       "      <td>3</td>\n",
       "      <td>0</td>\n",
       "      <td>476.837311</td>\n",
       "      <td>308.901245</td>\n",
       "      <td>399.288238</td>\n",
       "      <td>154.448364</td>\n",
       "      <td>554.386383</td>\n",
       "      <td>463.354126</td>\n",
       "      <td>0</td>\n",
       "      <td>408.519043</td>\n",
       "      <td>...</td>\n",
       "      <td>NB</td>\n",
       "      <td>1</td>\n",
       "      <td>0</td>\n",
       "      <td>0</td>\n",
       "      <td>0</td>\n",
       "      <td>0</td>\n",
       "      <td>0</td>\n",
       "      <td>0</td>\n",
       "      <td>0</td>\n",
       "      <td>0</td>\n",
       "    </tr>\n",
       "    <tr>\n",
       "      <th>4</th>\n",
       "      <td>4</td>\n",
       "      <td>0</td>\n",
       "      <td>476.918640</td>\n",
       "      <td>308.815064</td>\n",
       "      <td>399.598404</td>\n",
       "      <td>154.249756</td>\n",
       "      <td>554.238876</td>\n",
       "      <td>463.380371</td>\n",
       "      <td>0</td>\n",
       "      <td>408.613525</td>\n",
       "      <td>...</td>\n",
       "      <td>NB</td>\n",
       "      <td>1</td>\n",
       "      <td>0</td>\n",
       "      <td>0</td>\n",
       "      <td>0</td>\n",
       "      <td>0</td>\n",
       "      <td>0</td>\n",
       "      <td>0</td>\n",
       "      <td>0</td>\n",
       "      <td>0</td>\n",
       "    </tr>\n",
       "  </tbody>\n",
       "</table>\n",
       "<p>5 rows × 30 columns</p>\n",
       "</div>"
      ],
      "text/plain": [
       "   Frame  N_Person     Xcenter     Ycenter     PerXmin     PerYmin  \\\n",
       "0      0         0  474.999451  309.582947  395.377251  156.402725   \n",
       "1      1         0  474.938843  309.623566  395.161308  156.591705   \n",
       "2      2         0  475.070465  309.475372  395.484291  156.138077   \n",
       "3      3         0  476.837311  308.901245  399.288238  154.448364   \n",
       "4      4         0  476.918640  308.815064  399.598404  154.249756   \n",
       "\n",
       "      PerXmax     PerYmax  N_Handgun   HgXcenter  ...  GT  \\\n",
       "0  554.621651  462.763168          0  409.881988  ...  NB   \n",
       "1  554.716377  462.655426          0  409.638031  ...  NB   \n",
       "2  554.656639  462.812668          0  409.610718  ...  NB   \n",
       "3  554.386383  463.354126          0  408.519043  ...  NB   \n",
       "4  554.238876  463.380371          0  408.613525  ...  NB   \n",
       "\n",
       "   Intersection_Center_left  Intersection_Center_right  \\\n",
       "0                         1                          0   \n",
       "1                         1                          0   \n",
       "2                         1                          0   \n",
       "3                         1                          0   \n",
       "4                         1                          0   \n",
       "\n",
       "   Intersection_Down_center  Intersection_Down_left  Intersection_Inside  \\\n",
       "0                         0                       0                    0   \n",
       "1                         0                       0                    0   \n",
       "2                         0                       0                    0   \n",
       "3                         0                       0                    0   \n",
       "4                         0                       0                    0   \n",
       "\n",
       "   Intersection_No_intersection  Intersection_Up_center  Intersection_Up_left  \\\n",
       "0                             0                       0                     0   \n",
       "1                             0                       0                     0   \n",
       "2                             0                       0                     0   \n",
       "3                             0                       0                     0   \n",
       "4                             0                       0                     0   \n",
       "\n",
       "   Intersection_Up_right  \n",
       "0                      0  \n",
       "1                      0  \n",
       "2                      0  \n",
       "3                      0  \n",
       "4                      0  \n",
       "\n",
       "[5 rows x 30 columns]"
      ]
     },
     "execution_count": 7,
     "metadata": {},
     "output_type": "execute_result"
    }
   ],
   "source": [
    "df2 = pd.get_dummies(df,columns=['Intersection'])\n",
    "df2.head()"
   ]
  },
  {
   "cell_type": "code",
   "execution_count": 8,
   "id": "a246c9a2",
   "metadata": {
    "scrolled": true
   },
   "outputs": [
    {
     "name": "stdout",
     "output_type": "stream",
     "text": [
      "<class 'pandas.core.frame.DataFrame'>\n",
      "RangeIndex: 17743 entries, 0 to 17742\n",
      "Data columns (total 30 columns):\n",
      " #   Column                        Non-Null Count  Dtype  \n",
      "---  ------                        --------------  -----  \n",
      " 0   Frame                         17743 non-null  int64  \n",
      " 1   N_Person                      17743 non-null  int64  \n",
      " 2   Xcenter                       17743 non-null  float64\n",
      " 3   Ycenter                       17743 non-null  float64\n",
      " 4   PerXmin                       17743 non-null  float64\n",
      " 5   PerYmin                       17743 non-null  float64\n",
      " 6   PerXmax                       17743 non-null  float64\n",
      " 7   PerYmax                       17743 non-null  float64\n",
      " 8   N_Handgun                     17743 non-null  int64  \n",
      " 9   HgXcenter                     17743 non-null  float64\n",
      " 10  HgYcenter                     17743 non-null  float64\n",
      " 11  HgXmin                        17743 non-null  float64\n",
      " 12  HgYmin                        17743 non-null  float64\n",
      " 13  HgXmax                        17743 non-null  float64\n",
      " 14  HgYmax                        17743 non-null  float64\n",
      " 15  Included_Center               17743 non-null  int64  \n",
      " 16  Intersection_Area             17743 non-null  float64\n",
      " 17  Hg_Area                       17743 non-null  float64\n",
      " 18  Distance                      17743 non-null  float64\n",
      " 19  Ground_Truth                  17743 non-null  int64  \n",
      " 20  GT                            17743 non-null  object \n",
      " 21  Intersection_Center_left      17743 non-null  uint8  \n",
      " 22  Intersection_Center_right     17743 non-null  uint8  \n",
      " 23  Intersection_Down_center      17743 non-null  uint8  \n",
      " 24  Intersection_Down_left        17743 non-null  uint8  \n",
      " 25  Intersection_Inside           17743 non-null  uint8  \n",
      " 26  Intersection_No_intersection  17743 non-null  uint8  \n",
      " 27  Intersection_Up_center        17743 non-null  uint8  \n",
      " 28  Intersection_Up_left          17743 non-null  uint8  \n",
      " 29  Intersection_Up_right         17743 non-null  uint8  \n",
      "dtypes: float64(15), int64(5), object(1), uint8(9)\n",
      "memory usage: 3.0+ MB\n"
     ]
    }
   ],
   "source": [
    "df2.info()"
   ]
  },
  {
   "cell_type": "markdown",
   "id": "49376aaf",
   "metadata": {},
   "source": [
    "# Random Forest \n",
    "## Todos los predictores"
   ]
  },
  {
   "cell_type": "code",
   "execution_count": 9,
   "id": "a8376980",
   "metadata": {
    "scrolled": false
   },
   "outputs": [
    {
     "name": "stdout",
     "output_type": "stream",
     "text": [
      "{1: 'NB', 0: 'LR'}\n"
     ]
    }
   ],
   "source": [
    "pred = dict(zip(df2.Ground_Truth.unique(),df2.GT.unique()))\n",
    "print(pred)"
   ]
  },
  {
   "cell_type": "code",
   "execution_count": 10,
   "id": "7e893d55",
   "metadata": {
    "scrolled": true
   },
   "outputs": [
    {
     "name": "stdout",
     "output_type": "stream",
     "text": [
      "1    16848\n",
      "0      895\n",
      "Name: Ground_Truth, dtype: int64\n"
     ]
    }
   ],
   "source": [
    "print(df2['Ground_Truth'].value_counts())"
   ]
  },
  {
   "cell_type": "code",
   "execution_count": 11,
   "id": "e0a1da1a",
   "metadata": {},
   "outputs": [],
   "source": [
    "df3 = df2.drop(columns=[\"GT\"])"
   ]
  },
  {
   "cell_type": "code",
   "execution_count": 12,
   "id": "b88b8d0f",
   "metadata": {
    "scrolled": true
   },
   "outputs": [
    {
     "name": "stdout",
     "output_type": "stream",
     "text": [
      "<class 'pandas.core.frame.DataFrame'>\n",
      "RangeIndex: 17743 entries, 0 to 17742\n",
      "Data columns (total 29 columns):\n",
      " #   Column                        Non-Null Count  Dtype  \n",
      "---  ------                        --------------  -----  \n",
      " 0   Frame                         17743 non-null  int64  \n",
      " 1   N_Person                      17743 non-null  int64  \n",
      " 2   Xcenter                       17743 non-null  float64\n",
      " 3   Ycenter                       17743 non-null  float64\n",
      " 4   PerXmin                       17743 non-null  float64\n",
      " 5   PerYmin                       17743 non-null  float64\n",
      " 6   PerXmax                       17743 non-null  float64\n",
      " 7   PerYmax                       17743 non-null  float64\n",
      " 8   N_Handgun                     17743 non-null  int64  \n",
      " 9   HgXcenter                     17743 non-null  float64\n",
      " 10  HgYcenter                     17743 non-null  float64\n",
      " 11  HgXmin                        17743 non-null  float64\n",
      " 12  HgYmin                        17743 non-null  float64\n",
      " 13  HgXmax                        17743 non-null  float64\n",
      " 14  HgYmax                        17743 non-null  float64\n",
      " 15  Included_Center               17743 non-null  int64  \n",
      " 16  Intersection_Area             17743 non-null  float64\n",
      " 17  Hg_Area                       17743 non-null  float64\n",
      " 18  Distance                      17743 non-null  float64\n",
      " 19  Ground_Truth                  17743 non-null  int64  \n",
      " 20  Intersection_Center_left      17743 non-null  uint8  \n",
      " 21  Intersection_Center_right     17743 non-null  uint8  \n",
      " 22  Intersection_Down_center      17743 non-null  uint8  \n",
      " 23  Intersection_Down_left        17743 non-null  uint8  \n",
      " 24  Intersection_Inside           17743 non-null  uint8  \n",
      " 25  Intersection_No_intersection  17743 non-null  uint8  \n",
      " 26  Intersection_Up_center        17743 non-null  uint8  \n",
      " 27  Intersection_Up_left          17743 non-null  uint8  \n",
      " 28  Intersection_Up_right         17743 non-null  uint8  \n",
      "dtypes: float64(15), int64(5), uint8(9)\n",
      "memory usage: 2.9 MB\n"
     ]
    }
   ],
   "source": [
    "df3.info()"
   ]
  },
  {
   "cell_type": "code",
   "execution_count": 13,
   "id": "c1daddd3",
   "metadata": {},
   "outputs": [
    {
     "name": "stdout",
     "output_type": "stream",
     "text": [
      "(14194, 28) (14194,)\n",
      "(3549, 28) (3549,)\n"
     ]
    }
   ],
   "source": [
    "from sklearn.model_selection import train_test_split\n",
    "\n",
    "train_df, test_df = train_test_split(df3, test_size=0.2, random_state=123)\n",
    "X_train, y_train = train_df.drop(columns=[\"Ground_Truth\"], axis=1), train_df[\"Ground_Truth\"]\n",
    "X_test, y_test = test_df.drop(columns=[\"Ground_Truth\"], axis=1), test_df[\"Ground_Truth\"]\n",
    "\n",
    "print(X_train.shape, y_train.shape)\n",
    "print(X_test.shape, y_test.shape)"
   ]
  },
  {
   "cell_type": "code",
   "execution_count": 14,
   "id": "81e31bc9",
   "metadata": {
    "scrolled": true
   },
   "outputs": [
    {
     "name": "stdout",
     "output_type": "stream",
     "text": [
      "mean_train =  0.9776666038556181\n",
      "mean_test =  0.9764690468391745\n"
     ]
    },
    {
     "data": {
      "text/html": [
       "<div>\n",
       "<style scoped>\n",
       "    .dataframe tbody tr th:only-of-type {\n",
       "        vertical-align: middle;\n",
       "    }\n",
       "\n",
       "    .dataframe tbody tr th {\n",
       "        vertical-align: top;\n",
       "    }\n",
       "\n",
       "    .dataframe thead th {\n",
       "        text-align: right;\n",
       "    }\n",
       "</style>\n",
       "<table border=\"1\" class=\"dataframe\">\n",
       "  <thead>\n",
       "    <tr style=\"text-align: right;\">\n",
       "      <th></th>\n",
       "      <th>fit_time</th>\n",
       "      <th>score_time</th>\n",
       "      <th>test_score</th>\n",
       "      <th>train_score</th>\n",
       "    </tr>\n",
       "  </thead>\n",
       "  <tbody>\n",
       "    <tr>\n",
       "      <th>0</th>\n",
       "      <td>0.090760</td>\n",
       "      <td>0.002991</td>\n",
       "      <td>0.980282</td>\n",
       "      <td>0.978002</td>\n",
       "    </tr>\n",
       "    <tr>\n",
       "      <th>1</th>\n",
       "      <td>0.089730</td>\n",
       "      <td>0.002992</td>\n",
       "      <td>0.969014</td>\n",
       "      <td>0.975497</td>\n",
       "    </tr>\n",
       "    <tr>\n",
       "      <th>2</th>\n",
       "      <td>0.091753</td>\n",
       "      <td>0.002992</td>\n",
       "      <td>0.975352</td>\n",
       "      <td>0.976437</td>\n",
       "    </tr>\n",
       "    <tr>\n",
       "      <th>3</th>\n",
       "      <td>0.089758</td>\n",
       "      <td>0.002992</td>\n",
       "      <td>0.979577</td>\n",
       "      <td>0.978707</td>\n",
       "    </tr>\n",
       "    <tr>\n",
       "      <th>4</th>\n",
       "      <td>0.089758</td>\n",
       "      <td>0.001995</td>\n",
       "      <td>0.971106</td>\n",
       "      <td>0.976908</td>\n",
       "    </tr>\n",
       "    <tr>\n",
       "      <th>5</th>\n",
       "      <td>0.089758</td>\n",
       "      <td>0.002992</td>\n",
       "      <td>0.978154</td>\n",
       "      <td>0.976204</td>\n",
       "    </tr>\n",
       "    <tr>\n",
       "      <th>6</th>\n",
       "      <td>0.090756</td>\n",
       "      <td>0.002992</td>\n",
       "      <td>0.973925</td>\n",
       "      <td>0.976047</td>\n",
       "    </tr>\n",
       "    <tr>\n",
       "      <th>7</th>\n",
       "      <td>0.099732</td>\n",
       "      <td>0.002992</td>\n",
       "      <td>0.980268</td>\n",
       "      <td>0.976047</td>\n",
       "    </tr>\n",
       "    <tr>\n",
       "      <th>8</th>\n",
       "      <td>0.092750</td>\n",
       "      <td>0.002992</td>\n",
       "      <td>0.979563</td>\n",
       "      <td>0.980978</td>\n",
       "    </tr>\n",
       "    <tr>\n",
       "      <th>9</th>\n",
       "      <td>0.091753</td>\n",
       "      <td>0.002992</td>\n",
       "      <td>0.977449</td>\n",
       "      <td>0.981840</td>\n",
       "    </tr>\n",
       "  </tbody>\n",
       "</table>\n",
       "</div>"
      ],
      "text/plain": [
       "   fit_time  score_time  test_score  train_score\n",
       "0  0.090760    0.002991    0.980282     0.978002\n",
       "1  0.089730    0.002992    0.969014     0.975497\n",
       "2  0.091753    0.002992    0.975352     0.976437\n",
       "3  0.089758    0.002992    0.979577     0.978707\n",
       "4  0.089758    0.001995    0.971106     0.976908\n",
       "5  0.089758    0.002992    0.978154     0.976204\n",
       "6  0.090756    0.002992    0.973925     0.976047\n",
       "7  0.099732    0.002992    0.980268     0.976047\n",
       "8  0.092750    0.002992    0.979563     0.980978\n",
       "9  0.091753    0.002992    0.977449     0.981840"
      ]
     },
     "execution_count": 14,
     "metadata": {},
     "output_type": "execute_result"
    }
   ],
   "source": [
    "from sklearn.ensemble import RandomForestClassifier\n",
    "from sklearn.model_selection import cross_validate\n",
    "\n",
    "clf = RandomForestClassifier(n_estimators=10, max_depth=4, random_state=0)\n",
    "y_pred = clf.fit(X_train, y_train).predict(X_test)\n",
    "scores = pd.DataFrame(cross_validate(clf, X_train, y_train, cv=10, return_train_score=True))\n",
    "print(\"mean_train = \", scores['train_score'].mean())\n",
    "print(\"mean_test = \", scores['test_score'].mean())\n",
    "scores"
   ]
  },
  {
   "cell_type": "code",
   "execution_count": 16,
   "id": "803a6a17",
   "metadata": {
    "scrolled": true
   },
   "outputs": [
    {
     "name": "stdout",
     "output_type": "stream",
     "text": [
      "                         feature  importance       std\n",
      "22        Intersection_Down_left    0.000000  0.000000\n",
      "20     Intersection_Center_right    0.000000  0.000000\n",
      "21      Intersection_Down_center    0.000000  0.000000\n",
      "23           Intersection_Inside    0.000000  0.000000\n",
      "8                      N_Handgun    0.000304  0.000912\n",
      "19      Intersection_Center_left    0.000555  0.001665\n",
      "12                        HgYmin    0.003859  0.006832\n",
      "14                        HgYmax    0.007824  0.023472\n",
      "1                       N_Person    0.008396  0.025188\n",
      "15               Included_Center    0.011757  0.035211\n",
      "10                     HgYcenter    0.013225  0.026675\n",
      "24  Intersection_No_intersection    0.013552  0.025129\n",
      "0                          Frame    0.016401  0.030267\n",
      "7                        PerYmax    0.018447  0.032569\n",
      "17                       Hg_Area    0.027562  0.044841\n",
      "6                        PerXmax    0.029086  0.065843\n",
      "5                        PerYmin    0.030823  0.040147\n",
      "16             Intersection_Area    0.031477  0.026529\n",
      "3                        Ycenter    0.037915  0.063376\n",
      "18                      Distance    0.038686  0.108161\n",
      "13                        HgXmax    0.042780  0.086017\n",
      "26          Intersection_Up_left    0.047129  0.033103\n",
      "11                        HgXmin    0.048828  0.075208\n",
      "2                        Xcenter    0.051893  0.078276\n",
      "9                      HgXcenter    0.059851  0.095029\n",
      "25        Intersection_Up_center    0.134250  0.089668\n",
      "27         Intersection_Up_right    0.161658  0.206959\n",
      "4                        PerXmin    0.163743  0.138608\n"
     ]
    },
    {
     "data": {
      "image/png": "[encoded data removed]",
      "text/plain": [
       "<Figure size 800x600 with 1 Axes>"
      ]
     },
     "metadata": {},
     "output_type": "display_data"
    }
   ],
   "source": [
    "clf.fit(X_train.values, y_train.values)\n",
    "predictions=clf.predict(X_test.values)\n",
    "#Le agrego .values para solucionar el problema:\n",
    "#C:\\ProgramData\\Anaconda3\\lib\\site-packages\\sklearn\\base.py:450: UserWarning: X does not have valid feature names, but RandomForestClassifier was fitted with feature names\n",
    "#https://stackoverflow.com/questions/69326639/sklearn-warning-valid-feature-names-in-version-1-0\n",
    "\n",
    "importances = clf.feature_importances_\n",
    "std = np.std([tree.feature_importances_ for tree in clf.estimators_], axis=0)\n",
    "\n",
    "df = pd.DataFrame({'feature': X_train.columns, 'importance': importances, 'std': std})\n",
    "df = df.sort_values('importance')\n",
    "print(df)\n",
    "\n",
    "ax = df.plot(figsize=(8,6),kind='barh', xerr='std', x='feature', legend=False)\n",
    "ax.set_ylabel('')\n",
    "\n",
    "plt.tight_layout()\n",
    "plt.show()"
   ]
  },
  {
   "cell_type": "code",
   "execution_count": 17,
   "id": "4cd43a0d",
   "metadata": {
    "scrolled": false
   },
   "outputs": [
    {
     "name": "stdout",
     "output_type": "stream",
     "text": [
      "              precision    recall  f1-score   support\n",
      "\n",
      "           0       0.99      0.61      0.76       188\n",
      "           1       0.98      1.00      0.99      3361\n",
      "\n",
      "    accuracy                           0.98      3549\n",
      "   macro avg       0.99      0.81      0.87      3549\n",
      "weighted avg       0.98      0.98      0.98      3549\n",
      "\n"
     ]
    }
   ],
   "source": [
    "from sklearn.metrics import classification_report\n",
    "print(classification_report(y_test,predictions))"
   ]
  },
  {
   "cell_type": "code",
   "execution_count": 18,
   "id": "b638c813",
   "metadata": {},
   "outputs": [],
   "source": [
    "# save the model to disk\n",
    "filename = 'rfc_model_intersection.sav'\n",
    "pickle.dump(clf, open(filename, 'wb')) "
   ]
  },
  {
   "cell_type": "markdown",
   "id": "a98ecc7b",
   "metadata": {},
   "source": [
    "# Redes Neuronales - Todos los predictores"
   ]
  },
  {
   "cell_type": "code",
   "execution_count": 18,
   "id": "05a611fa",
   "metadata": {
    "scrolled": true
   },
   "outputs": [],
   "source": [
    "X = df3.drop('Ground_Truth',axis='columns')\n",
    "y = df3.Ground_Truth"
   ]
  },
  {
   "cell_type": "code",
   "execution_count": 19,
   "id": "e6473e29",
   "metadata": {
    "scrolled": true
   },
   "outputs": [
    {
     "name": "stdout",
     "output_type": "stream",
     "text": [
      "<class 'pandas.core.frame.DataFrame'>\n",
      "RangeIndex: 17743 entries, 0 to 17742\n",
      "Data columns (total 28 columns):\n",
      " #   Column                        Non-Null Count  Dtype  \n",
      "---  ------                        --------------  -----  \n",
      " 0   Frame                         17743 non-null  int64  \n",
      " 1   N_Person                      17743 non-null  int64  \n",
      " 2   Xcenter                       17743 non-null  float64\n",
      " 3   Ycenter                       17743 non-null  float64\n",
      " 4   PerXmin                       17743 non-null  float64\n",
      " 5   PerYmin                       17743 non-null  float64\n",
      " 6   PerXmax                       17743 non-null  float64\n",
      " 7   PerYmax                       17743 non-null  float64\n",
      " 8   N_Handgun                     17743 non-null  int64  \n",
      " 9   HgXcenter                     17743 non-null  float64\n",
      " 10  HgYcenter                     17743 non-null  float64\n",
      " 11  HgXmin                        17743 non-null  float64\n",
      " 12  HgYmin                        17743 non-null  float64\n",
      " 13  HgXmax                        17743 non-null  float64\n",
      " 14  HgYmax                        17743 non-null  float64\n",
      " 15  Included_Center               17743 non-null  int64  \n",
      " 16  Intersection_Area             17743 non-null  float64\n",
      " 17  Hg_Area                       17743 non-null  float64\n",
      " 18  Distance                      17743 non-null  float64\n",
      " 19  Intersection_Center_left      17743 non-null  uint8  \n",
      " 20  Intersection_Center_right     17743 non-null  uint8  \n",
      " 21  Intersection_Down_center      17743 non-null  uint8  \n",
      " 22  Intersection_Down_left        17743 non-null  uint8  \n",
      " 23  Intersection_Inside           17743 non-null  uint8  \n",
      " 24  Intersection_No_intersection  17743 non-null  uint8  \n",
      " 25  Intersection_Up_center        17743 non-null  uint8  \n",
      " 26  Intersection_Up_left          17743 non-null  uint8  \n",
      " 27  Intersection_Up_right         17743 non-null  uint8  \n",
      "dtypes: float64(15), int64(4), uint8(9)\n",
      "memory usage: 2.7 MB\n"
     ]
    }
   ],
   "source": [
    "X.info()"
   ]
  },
  {
   "cell_type": "code",
   "execution_count": 20,
   "id": "69009579",
   "metadata": {
    "scrolled": true
   },
   "outputs": [
    {
     "data": {
      "text/plain": [
       "array([[-1.83527022, -1.00718588,  0.39150227, -1.05193817,  0.40751393,\n",
       "        -0.80248587,  0.36021875, -1.40419711, -0.49482751,  0.67515479,\n",
       "        -1.25190039,  0.72635504, -1.17587659,  0.62241581, -1.32343268,\n",
       "         1.22333671, -0.00684935, -0.62895635, -0.73051622,  2.79460752,\n",
       "        -0.27989215, -0.0167893 , -0.01061759, -0.52807854, -1.12788382,\n",
       "        -0.12194913, -0.06110373, -0.13203103],\n",
       "       [-1.83312119, -1.00718588,  0.39121925, -1.05135012,  0.40654292,\n",
       "        -0.80079621,  0.36066159, -1.40691969, -0.49482751,  0.67355368,\n",
       "        -1.25275204,  0.72334446, -1.17652739,  0.62221391, -1.32448667,\n",
       "         1.22333671, -0.00429074, -0.62280354, -0.72909239,  2.79460752,\n",
       "        -0.27989215, -0.0167893 , -0.01061759, -0.52807854, -1.12788382,\n",
       "        -0.12194913, -0.06110373, -0.13203103],\n",
       "       [-1.83097216, -1.00718588,  0.39183388, -1.05349555,  0.40799525,\n",
       "        -0.80485208,  0.36038232, -1.40294629, -0.49482751,  0.67337442,\n",
       "        -1.25416207,  0.7232548 , -1.17772605,  0.62194658, -1.32610683,\n",
       "         1.22333671, -0.0114355 , -0.62392665, -0.72860789,  2.79460752,\n",
       "        -0.27989215, -0.0167893 , -0.01061759, -0.52807854, -1.12788382,\n",
       "        -0.12194913, -0.06110373, -0.13203103]])"
      ]
     },
     "execution_count": 20,
     "metadata": {},
     "output_type": "execute_result"
    }
   ],
   "source": [
    "from sklearn.preprocessing import StandardScaler\n",
    "scaler = StandardScaler()\n",
    "X_scaled = scaler.fit_transform(X)\n",
    "X_scaled[:3]\n",
    "#X_scaled.shape"
   ]
  },
  {
   "cell_type": "code",
   "execution_count": 21,
   "id": "452d05da",
   "metadata": {
    "scrolled": false
   },
   "outputs": [
    {
     "name": "stdout",
     "output_type": "stream",
     "text": [
      "[8.54000225e+02 8.81192583e-01 3.91159741e+02 3.82244618e+02\n",
      " 3.04750706e+02 2.46156816e+02 4.77568776e+02 5.18332420e+02\n",
      " 2.96962182e-01 3.07010569e+02 3.12111503e+02 2.83819865e+02\n",
      " 2.92796519e+02 3.30201272e+02 3.31426488e+02 4.00552330e-01\n",
      " 8.55707192e+02 1.97381626e+03 2.36855558e+02 1.13509553e-01\n",
      " 7.26483684e-02 2.81801274e-04 1.12720509e-04 2.18057826e-01\n",
      " 5.59882771e-01 1.46536662e-02 3.71977681e-03 1.71335174e-02]\n"
     ]
    }
   ],
   "source": [
    "print(scaler.mean_)"
   ]
  },
  {
   "cell_type": "code",
   "execution_count": 22,
   "id": "792e3581",
   "metadata": {
    "scrolled": true
   },
   "outputs": [
    {
     "name": "stdout",
     "output_type": "stream",
     "text": [
      "[4.65326695e+02 8.74905619e-01 2.14148719e+02 6.90740893e+01\n",
      " 2.22388827e+02 1.11845073e+02 2.13905787e+02 3.95736831e+01\n",
      " 6.00132726e-01 1.52367162e+02 9.75026018e+01 1.51777716e+02\n",
      " 9.92289016e+01 1.53431725e+02 9.62996830e+01 4.90010368e-01\n",
      " 1.57416399e+03 1.73669929e+03 1.37895180e+02 3.17214650e-01\n",
      " 2.59558438e-01 1.67845721e-02 1.06163932e-02 4.12926883e-01\n",
      " 4.96401102e-01 1.20162125e-01 6.08764328e-02 1.29768872e-01]\n"
     ]
    }
   ],
   "source": [
    "print(scaler.scale_)"
   ]
  },
  {
   "cell_type": "code",
   "execution_count": 23,
   "id": "0f8c7a7e",
   "metadata": {},
   "outputs": [],
   "source": [
    "from sklearn.model_selection import  train_test_split\n",
    "X_train, X_test, y_train, y_test = train_test_split(X_scaled, y, stratify=y, random_state=10) #stratify hace que el ratio entre 0 y 1 se mantenga en la distri. entre el test(y). "
   ]
  },
  {
   "cell_type": "code",
   "execution_count": 24,
   "id": "89c11ff0",
   "metadata": {},
   "outputs": [
    {
     "data": {
      "text/plain": [
       "(13307, 28)"
      ]
     },
     "execution_count": 24,
     "metadata": {},
     "output_type": "execute_result"
    }
   ],
   "source": [
    "X_train.shape"
   ]
  },
  {
   "cell_type": "code",
   "execution_count": 25,
   "id": "809f7a45",
   "metadata": {
    "scrolled": true
   },
   "outputs": [
    {
     "data": {
      "text/plain": [
       "1    12636\n",
       "0      671\n",
       "Name: Ground_Truth, dtype: int64"
      ]
     },
     "execution_count": 25,
     "metadata": {},
     "output_type": "execute_result"
    }
   ],
   "source": [
    "y_train.value_counts()"
   ]
  },
  {
   "cell_type": "code",
   "execution_count": 26,
   "id": "87692498",
   "metadata": {},
   "outputs": [
    {
     "data": {
      "text/plain": [
       "(4436, 28)"
      ]
     },
     "execution_count": 26,
     "metadata": {},
     "output_type": "execute_result"
    }
   ],
   "source": [
    "X_test.shape"
   ]
  },
  {
   "cell_type": "code",
   "execution_count": 27,
   "id": "37e3175e",
   "metadata": {
    "scrolled": false
   },
   "outputs": [
    {
     "data": {
      "text/plain": [
       "1    4212\n",
       "0     224\n",
       "Name: Ground_Truth, dtype: int64"
      ]
     },
     "execution_count": 27,
     "metadata": {},
     "output_type": "execute_result"
    }
   ],
   "source": [
    "y_test.value_counts()"
   ]
  },
  {
   "cell_type": "code",
   "execution_count": 28,
   "id": "8b1cbdef",
   "metadata": {
    "scrolled": true
   },
   "outputs": [
    {
     "data": {
      "text/plain": [
       "array([[2.22044605e-16, 1.00000000e+00],\n",
       "       [0.00000000e+00, 1.00000000e+00],\n",
       "       [3.27545102e-10, 1.00000000e+00],\n",
       "       ...,\n",
       "       [2.05305550e-10, 1.00000000e+00],\n",
       "       [0.00000000e+00, 1.00000000e+00],\n",
       "       [1.39192435e-10, 1.00000000e+00]])"
      ]
     },
     "execution_count": 28,
     "metadata": {},
     "output_type": "execute_result"
    }
   ],
   "source": [
    "from sklearn.neural_network import MLPClassifier\n",
    "clf=MLPClassifier(hidden_layer_sizes=(25,25,25,25), max_iter=500, alpha=0.0001, solver='adam',\n",
    "                 random_state=0, tol=0.000000001)\n",
    "y_pred = clf.fit(X_train, y_train).predict(X_test)\n",
    "predictions_mlp=clf.predict_proba(X_test)\n",
    "predictions_mlp"
   ]
  },
  {
   "cell_type": "code",
   "execution_count": 29,
   "id": "1e2e8226",
   "metadata": {},
   "outputs": [
    {
     "data": {
      "text/plain": [
       "array([1, 1, 1, ..., 1, 1, 1], dtype=int64)"
      ]
     },
     "execution_count": 29,
     "metadata": {},
     "output_type": "execute_result"
    }
   ],
   "source": [
    "predictions_mlp=clf.predict(X_test)\n",
    "predictions_mlp"
   ]
  },
  {
   "cell_type": "code",
   "execution_count": 31,
   "id": "f87e6606",
   "metadata": {
    "scrolled": true
   },
   "outputs": [
    {
     "name": "stdout",
     "output_type": "stream",
     "text": [
      "              precision    recall  f1-score   support\n",
      "\n",
      "           0       0.98      0.94      0.96       224\n",
      "           1       1.00      1.00      1.00      4212\n",
      "\n",
      "    accuracy                           1.00      4436\n",
      "   macro avg       0.99      0.97      0.98      4436\n",
      "weighted avg       1.00      1.00      1.00      4436\n",
      "\n"
     ]
    }
   ],
   "source": [
    "from sklearn.metrics import classification_report\n",
    "print(classification_report(y_test,predictions_mlp))"
   ]
  },
  {
   "cell_type": "code",
   "execution_count": 32,
   "id": "88b8b418",
   "metadata": {
    "scrolled": true
   },
   "outputs": [
    {
     "name": "stdout",
     "output_type": "stream",
     "text": [
      "Score train =  0.9986473284737356\n",
      "Score test =  0.9961677186654644\n"
     ]
    }
   ],
   "source": [
    "print(\"Score train = \",clf.score(X_train, y_train))\n",
    "print(\"Score test = \",clf.score(X_test, y_test))"
   ]
  },
  {
   "cell_type": "code",
   "execution_count": 32,
   "id": "9e560452",
   "metadata": {},
   "outputs": [],
   "source": [
    "# save the model to disk\n",
    "filename = 'mlp_model_intersection.sav'\n",
    "pickle.dump(clf, open(filename, 'wb')) "
   ]
  }
 ],
 "metadata": {
  "kernelspec": {
   "display_name": "Python 3 (ipykernel)",
   "language": "python",
   "name": "python3"
  },
  "language_info": {
   "codemirror_mode": {
    "name": "ipython",
    "version": 3
   },
   "file_extension": ".py",
   "mimetype": "text/x-python",
   "name": "python",
   "nbconvert_exporter": "python",
   "pygments_lexer": "ipython3",
   "version": "3.8.11"
  }
 },
 "nbformat": 4,
 "nbformat_minor": 5
}
