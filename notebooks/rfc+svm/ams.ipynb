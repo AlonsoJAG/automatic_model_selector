{
 "cells": [
  {
   "cell_type": "code",
   "execution_count": 1,
   "id": "5d87e640",
   "metadata": {},
   "outputs": [],
   "source": [
    "import pickle\n",
    "import numpy as np\n",
    "import pandas as pd\n",
    "import matplotlib.pyplot as plt\n",
    "%matplotlib inline"
   ]
  },
  {
   "cell_type": "code",
   "execution_count": 2,
   "id": "95600074",
   "metadata": {
    "scrolled": true
   },
   "outputs": [
    {
     "data": {
      "text/html": [
       "<div>\n",
       "<style scoped>\n",
       "    .dataframe tbody tr th:only-of-type {\n",
       "        vertical-align: middle;\n",
       "    }\n",
       "\n",
       "    .dataframe tbody tr th {\n",
       "        vertical-align: top;\n",
       "    }\n",
       "\n",
       "    .dataframe thead th {\n",
       "        text-align: right;\n",
       "    }\n",
       "</style>\n",
       "<table border=\"1\" class=\"dataframe\">\n",
       "  <thead>\n",
       "    <tr style=\"text-align: right;\">\n",
       "      <th></th>\n",
       "      <th>Frame</th>\n",
       "      <th>N_Person</th>\n",
       "      <th>Xcenter</th>\n",
       "      <th>Ycenter</th>\n",
       "      <th>PerXmin</th>\n",
       "      <th>PerYmin</th>\n",
       "      <th>PerXmax</th>\n",
       "      <th>PerYmax</th>\n",
       "      <th>N_Handgun</th>\n",
       "      <th>HgXcenter</th>\n",
       "      <th>...</th>\n",
       "      <th>HgYmin</th>\n",
       "      <th>HgXmax</th>\n",
       "      <th>HgYmax</th>\n",
       "      <th>Intersection</th>\n",
       "      <th>Included_Center</th>\n",
       "      <th>Intersection_Area</th>\n",
       "      <th>Hg_Area</th>\n",
       "      <th>Distance</th>\n",
       "      <th>Ground_Truth</th>\n",
       "      <th>GT</th>\n",
       "    </tr>\n",
       "  </thead>\n",
       "  <tbody>\n",
       "    <tr>\n",
       "      <th>0</th>\n",
       "      <td>0</td>\n",
       "      <td>0</td>\n",
       "      <td>474.999451</td>\n",
       "      <td>309.582947</td>\n",
       "      <td>395.377251</td>\n",
       "      <td>156.402725</td>\n",
       "      <td>554.621651</td>\n",
       "      <td>462.763168</td>\n",
       "      <td>0</td>\n",
       "      <td>409.881988</td>\n",
       "      <td>...</td>\n",
       "      <td>176.115577</td>\n",
       "      <td>425.699604</td>\n",
       "      <td>203.980340</td>\n",
       "      <td>Center_left</td>\n",
       "      <td>1</td>\n",
       "      <td>844.925198</td>\n",
       "      <td>881.508223</td>\n",
       "      <td>136.120892</td>\n",
       "      <td>1</td>\n",
       "      <td>SVM</td>\n",
       "    </tr>\n",
       "    <tr>\n",
       "      <th>1</th>\n",
       "      <td>1</td>\n",
       "      <td>0</td>\n",
       "      <td>474.938843</td>\n",
       "      <td>309.623566</td>\n",
       "      <td>395.161308</td>\n",
       "      <td>156.591705</td>\n",
       "      <td>554.716377</td>\n",
       "      <td>462.655426</td>\n",
       "      <td>0</td>\n",
       "      <td>409.638031</td>\n",
       "      <td>...</td>\n",
       "      <td>176.050999</td>\n",
       "      <td>425.668627</td>\n",
       "      <td>203.878841</td>\n",
       "      <td>Center_left</td>\n",
       "      <td>1</td>\n",
       "      <td>848.952861</td>\n",
       "      <td>892.193796</td>\n",
       "      <td>136.317231</td>\n",
       "      <td>1</td>\n",
       "      <td>SVM</td>\n",
       "    </tr>\n",
       "    <tr>\n",
       "      <th>2</th>\n",
       "      <td>2</td>\n",
       "      <td>0</td>\n",
       "      <td>475.070465</td>\n",
       "      <td>309.475372</td>\n",
       "      <td>395.484291</td>\n",
       "      <td>156.138077</td>\n",
       "      <td>554.656639</td>\n",
       "      <td>462.812668</td>\n",
       "      <td>0</td>\n",
       "      <td>409.610718</td>\n",
       "      <td>...</td>\n",
       "      <td>175.932056</td>\n",
       "      <td>425.627609</td>\n",
       "      <td>203.722820</td>\n",
       "      <td>Center_left</td>\n",
       "      <td>1</td>\n",
       "      <td>837.705837</td>\n",
       "      <td>890.243298</td>\n",
       "      <td>136.384041</td>\n",
       "      <td>1</td>\n",
       "      <td>SVM</td>\n",
       "    </tr>\n",
       "    <tr>\n",
       "      <th>3</th>\n",
       "      <td>3</td>\n",
       "      <td>0</td>\n",
       "      <td>476.837311</td>\n",
       "      <td>308.901245</td>\n",
       "      <td>399.288238</td>\n",
       "      <td>154.448364</td>\n",
       "      <td>554.386383</td>\n",
       "      <td>463.354126</td>\n",
       "      <td>0</td>\n",
       "      <td>408.519043</td>\n",
       "      <td>...</td>\n",
       "      <td>177.653896</td>\n",
       "      <td>423.709709</td>\n",
       "      <td>202.787083</td>\n",
       "      <td>Center_left</td>\n",
       "      <td>1</td>\n",
       "      <td>613.789372</td>\n",
       "      <td>763.579688</td>\n",
       "      <td>136.939795</td>\n",
       "      <td>1</td>\n",
       "      <td>SVM</td>\n",
       "    </tr>\n",
       "    <tr>\n",
       "      <th>4</th>\n",
       "      <td>4</td>\n",
       "      <td>0</td>\n",
       "      <td>476.918640</td>\n",
       "      <td>308.815064</td>\n",
       "      <td>399.598404</td>\n",
       "      <td>154.249756</td>\n",
       "      <td>554.238876</td>\n",
       "      <td>463.380371</td>\n",
       "      <td>0</td>\n",
       "      <td>408.613525</td>\n",
       "      <td>...</td>\n",
       "      <td>177.582060</td>\n",
       "      <td>423.771116</td>\n",
       "      <td>202.885134</td>\n",
       "      <td>Center_left</td>\n",
       "      <td>1</td>\n",
       "      <td>611.643926</td>\n",
       "      <td>767.067283</td>\n",
       "      <td>136.847188</td>\n",
       "      <td>1</td>\n",
       "      <td>SVM</td>\n",
       "    </tr>\n",
       "  </tbody>\n",
       "</table>\n",
       "<p>5 rows × 22 columns</p>\n",
       "</div>"
      ],
      "text/plain": [
       "   Frame  N_Person     Xcenter     Ycenter     PerXmin     PerYmin  \\\n",
       "0      0         0  474.999451  309.582947  395.377251  156.402725   \n",
       "1      1         0  474.938843  309.623566  395.161308  156.591705   \n",
       "2      2         0  475.070465  309.475372  395.484291  156.138077   \n",
       "3      3         0  476.837311  308.901245  399.288238  154.448364   \n",
       "4      4         0  476.918640  308.815064  399.598404  154.249756   \n",
       "\n",
       "      PerXmax     PerYmax  N_Handgun   HgXcenter  ...      HgYmin      HgXmax  \\\n",
       "0  554.621651  462.763168          0  409.881988  ...  176.115577  425.699604   \n",
       "1  554.716377  462.655426          0  409.638031  ...  176.050999  425.668627   \n",
       "2  554.656639  462.812668          0  409.610718  ...  175.932056  425.627609   \n",
       "3  554.386383  463.354126          0  408.519043  ...  177.653896  423.709709   \n",
       "4  554.238876  463.380371          0  408.613525  ...  177.582060  423.771116   \n",
       "\n",
       "       HgYmax  Intersection  Included_Center Intersection_Area     Hg_Area  \\\n",
       "0  203.980340   Center_left                1        844.925198  881.508223   \n",
       "1  203.878841   Center_left                1        848.952861  892.193796   \n",
       "2  203.722820   Center_left                1        837.705837  890.243298   \n",
       "3  202.787083   Center_left                1        613.789372  763.579688   \n",
       "4  202.885134   Center_left                1        611.643926  767.067283   \n",
       "\n",
       "     Distance  Ground_Truth   GT  \n",
       "0  136.120892             1  SVM  \n",
       "1  136.317231             1  SVM  \n",
       "2  136.384041             1  SVM  \n",
       "3  136.939795             1  SVM  \n",
       "4  136.847188             1  SVM  \n",
       "\n",
       "[5 rows x 22 columns]"
      ]
     },
     "execution_count": 2,
     "metadata": {},
     "output_type": "execute_result"
    }
   ],
   "source": [
    "df = pd.read_csv('ams13.csv')\n",
    "df.head()"
   ]
  },
  {
   "cell_type": "code",
   "execution_count": 3,
   "id": "8ae1ff95",
   "metadata": {},
   "outputs": [
    {
     "data": {
      "text/plain": [
       "17544"
      ]
     },
     "execution_count": 3,
     "metadata": {},
     "output_type": "execute_result"
    }
   ],
   "source": [
    "len(df)"
   ]
  },
  {
   "cell_type": "code",
   "execution_count": 4,
   "id": "9ac6c889",
   "metadata": {
    "scrolled": true
   },
   "outputs": [
    {
     "name": "stdout",
     "output_type": "stream",
     "text": [
      "<class 'pandas.core.frame.DataFrame'>\n",
      "RangeIndex: 17544 entries, 0 to 17543\n",
      "Data columns (total 22 columns):\n",
      " #   Column             Non-Null Count  Dtype  \n",
      "---  ------             --------------  -----  \n",
      " 0   Frame              17544 non-null  int64  \n",
      " 1   N_Person           17544 non-null  int64  \n",
      " 2   Xcenter            17544 non-null  float64\n",
      " 3   Ycenter            17544 non-null  float64\n",
      " 4   PerXmin            17544 non-null  float64\n",
      " 5   PerYmin            17544 non-null  float64\n",
      " 6   PerXmax            17544 non-null  float64\n",
      " 7   PerYmax            17544 non-null  float64\n",
      " 8   N_Handgun          17544 non-null  int64  \n",
      " 9   HgXcenter          17544 non-null  float64\n",
      " 10  HgYcenter          17544 non-null  float64\n",
      " 11  HgXmin             17544 non-null  float64\n",
      " 12  HgYmin             17544 non-null  float64\n",
      " 13  HgXmax             17544 non-null  float64\n",
      " 14  HgYmax             17544 non-null  float64\n",
      " 15  Intersection       17544 non-null  object \n",
      " 16  Included_Center    17544 non-null  int64  \n",
      " 17  Intersection_Area  17544 non-null  float64\n",
      " 18  Hg_Area            17544 non-null  float64\n",
      " 19  Distance           17544 non-null  float64\n",
      " 20  Ground_Truth       17544 non-null  int64  \n",
      " 21  GT                 17544 non-null  object \n",
      "dtypes: float64(15), int64(5), object(2)\n",
      "memory usage: 2.9+ MB\n"
     ]
    }
   ],
   "source": [
    "df.info()"
   ]
  },
  {
   "cell_type": "code",
   "execution_count": 5,
   "id": "048f07b5",
   "metadata": {},
   "outputs": [
    {
     "data": {
      "text/plain": [
       "Frame                 1933\n",
       "N_Person                 4\n",
       "Xcenter              13726\n",
       "Ycenter              13707\n",
       "PerXmin              13734\n",
       "PerYmin              13732\n",
       "PerXmax              13734\n",
       "PerYmax              13712\n",
       "N_Handgun                5\n",
       "HgXcenter             7251\n",
       "HgYcenter             7249\n",
       "HgXmin                7253\n",
       "HgYmin                7253\n",
       "HgXmax                7253\n",
       "HgYmax                7252\n",
       "Intersection             9\n",
       "Included_Center          2\n",
       "Intersection_Area     7611\n",
       "Hg_Area               7253\n",
       "Distance             17544\n",
       "Ground_Truth             2\n",
       "GT                       2\n",
       "dtype: int64"
      ]
     },
     "execution_count": 5,
     "metadata": {},
     "output_type": "execute_result"
    }
   ],
   "source": [
    "df.nunique()"
   ]
  },
  {
   "cell_type": "code",
   "execution_count": 6,
   "id": "86b0f52d",
   "metadata": {
    "scrolled": false
   },
   "outputs": [
    {
     "data": {
      "text/plain": [
       "1    11993\n",
       "0     5551\n",
       "Name: Ground_Truth, dtype: int64"
      ]
     },
     "execution_count": 6,
     "metadata": {},
     "output_type": "execute_result"
    }
   ],
   "source": [
    "df['Ground_Truth'].value_counts()"
   ]
  },
  {
   "cell_type": "code",
   "execution_count": 7,
   "id": "732110e8",
   "metadata": {
    "scrolled": true
   },
   "outputs": [
    {
     "data": {
      "text/html": [
       "<div>\n",
       "<style scoped>\n",
       "    .dataframe tbody tr th:only-of-type {\n",
       "        vertical-align: middle;\n",
       "    }\n",
       "\n",
       "    .dataframe tbody tr th {\n",
       "        vertical-align: top;\n",
       "    }\n",
       "\n",
       "    .dataframe thead th {\n",
       "        text-align: right;\n",
       "    }\n",
       "</style>\n",
       "<table border=\"1\" class=\"dataframe\">\n",
       "  <thead>\n",
       "    <tr style=\"text-align: right;\">\n",
       "      <th></th>\n",
       "      <th>Frame</th>\n",
       "      <th>N_Person</th>\n",
       "      <th>Xcenter</th>\n",
       "      <th>Ycenter</th>\n",
       "      <th>PerXmin</th>\n",
       "      <th>PerYmin</th>\n",
       "      <th>PerXmax</th>\n",
       "      <th>PerYmax</th>\n",
       "      <th>N_Handgun</th>\n",
       "      <th>HgXcenter</th>\n",
       "      <th>...</th>\n",
       "      <th>GT</th>\n",
       "      <th>Intersection_Center_left</th>\n",
       "      <th>Intersection_Center_right</th>\n",
       "      <th>Intersection_Down_center</th>\n",
       "      <th>Intersection_Down_left</th>\n",
       "      <th>Intersection_Inside</th>\n",
       "      <th>Intersection_No_intersection</th>\n",
       "      <th>Intersection_Up_center</th>\n",
       "      <th>Intersection_Up_left</th>\n",
       "      <th>Intersection_Up_right</th>\n",
       "    </tr>\n",
       "  </thead>\n",
       "  <tbody>\n",
       "    <tr>\n",
       "      <th>0</th>\n",
       "      <td>0</td>\n",
       "      <td>0</td>\n",
       "      <td>474.999451</td>\n",
       "      <td>309.582947</td>\n",
       "      <td>395.377251</td>\n",
       "      <td>156.402725</td>\n",
       "      <td>554.621651</td>\n",
       "      <td>462.763168</td>\n",
       "      <td>0</td>\n",
       "      <td>409.881988</td>\n",
       "      <td>...</td>\n",
       "      <td>SVM</td>\n",
       "      <td>1</td>\n",
       "      <td>0</td>\n",
       "      <td>0</td>\n",
       "      <td>0</td>\n",
       "      <td>0</td>\n",
       "      <td>0</td>\n",
       "      <td>0</td>\n",
       "      <td>0</td>\n",
       "      <td>0</td>\n",
       "    </tr>\n",
       "    <tr>\n",
       "      <th>1</th>\n",
       "      <td>1</td>\n",
       "      <td>0</td>\n",
       "      <td>474.938843</td>\n",
       "      <td>309.623566</td>\n",
       "      <td>395.161308</td>\n",
       "      <td>156.591705</td>\n",
       "      <td>554.716377</td>\n",
       "      <td>462.655426</td>\n",
       "      <td>0</td>\n",
       "      <td>409.638031</td>\n",
       "      <td>...</td>\n",
       "      <td>SVM</td>\n",
       "      <td>1</td>\n",
       "      <td>0</td>\n",
       "      <td>0</td>\n",
       "      <td>0</td>\n",
       "      <td>0</td>\n",
       "      <td>0</td>\n",
       "      <td>0</td>\n",
       "      <td>0</td>\n",
       "      <td>0</td>\n",
       "    </tr>\n",
       "    <tr>\n",
       "      <th>2</th>\n",
       "      <td>2</td>\n",
       "      <td>0</td>\n",
       "      <td>475.070465</td>\n",
       "      <td>309.475372</td>\n",
       "      <td>395.484291</td>\n",
       "      <td>156.138077</td>\n",
       "      <td>554.656639</td>\n",
       "      <td>462.812668</td>\n",
       "      <td>0</td>\n",
       "      <td>409.610718</td>\n",
       "      <td>...</td>\n",
       "      <td>SVM</td>\n",
       "      <td>1</td>\n",
       "      <td>0</td>\n",
       "      <td>0</td>\n",
       "      <td>0</td>\n",
       "      <td>0</td>\n",
       "      <td>0</td>\n",
       "      <td>0</td>\n",
       "      <td>0</td>\n",
       "      <td>0</td>\n",
       "    </tr>\n",
       "    <tr>\n",
       "      <th>3</th>\n",
       "      <td>3</td>\n",
       "      <td>0</td>\n",
       "      <td>476.837311</td>\n",
       "      <td>308.901245</td>\n",
       "      <td>399.288238</td>\n",
       "      <td>154.448364</td>\n",
       "      <td>554.386383</td>\n",
       "      <td>463.354126</td>\n",
       "      <td>0</td>\n",
       "      <td>408.519043</td>\n",
       "      <td>...</td>\n",
       "      <td>SVM</td>\n",
       "      <td>1</td>\n",
       "      <td>0</td>\n",
       "      <td>0</td>\n",
       "      <td>0</td>\n",
       "      <td>0</td>\n",
       "      <td>0</td>\n",
       "      <td>0</td>\n",
       "      <td>0</td>\n",
       "      <td>0</td>\n",
       "    </tr>\n",
       "    <tr>\n",
       "      <th>4</th>\n",
       "      <td>4</td>\n",
       "      <td>0</td>\n",
       "      <td>476.918640</td>\n",
       "      <td>308.815064</td>\n",
       "      <td>399.598404</td>\n",
       "      <td>154.249756</td>\n",
       "      <td>554.238876</td>\n",
       "      <td>463.380371</td>\n",
       "      <td>0</td>\n",
       "      <td>408.613525</td>\n",
       "      <td>...</td>\n",
       "      <td>SVM</td>\n",
       "      <td>1</td>\n",
       "      <td>0</td>\n",
       "      <td>0</td>\n",
       "      <td>0</td>\n",
       "      <td>0</td>\n",
       "      <td>0</td>\n",
       "      <td>0</td>\n",
       "      <td>0</td>\n",
       "      <td>0</td>\n",
       "    </tr>\n",
       "  </tbody>\n",
       "</table>\n",
       "<p>5 rows × 30 columns</p>\n",
       "</div>"
      ],
      "text/plain": [
       "   Frame  N_Person     Xcenter     Ycenter     PerXmin     PerYmin  \\\n",
       "0      0         0  474.999451  309.582947  395.377251  156.402725   \n",
       "1      1         0  474.938843  309.623566  395.161308  156.591705   \n",
       "2      2         0  475.070465  309.475372  395.484291  156.138077   \n",
       "3      3         0  476.837311  308.901245  399.288238  154.448364   \n",
       "4      4         0  476.918640  308.815064  399.598404  154.249756   \n",
       "\n",
       "      PerXmax     PerYmax  N_Handgun   HgXcenter  ...   GT  \\\n",
       "0  554.621651  462.763168          0  409.881988  ...  SVM   \n",
       "1  554.716377  462.655426          0  409.638031  ...  SVM   \n",
       "2  554.656639  462.812668          0  409.610718  ...  SVM   \n",
       "3  554.386383  463.354126          0  408.519043  ...  SVM   \n",
       "4  554.238876  463.380371          0  408.613525  ...  SVM   \n",
       "\n",
       "   Intersection_Center_left  Intersection_Center_right  \\\n",
       "0                         1                          0   \n",
       "1                         1                          0   \n",
       "2                         1                          0   \n",
       "3                         1                          0   \n",
       "4                         1                          0   \n",
       "\n",
       "   Intersection_Down_center  Intersection_Down_left  Intersection_Inside  \\\n",
       "0                         0                       0                    0   \n",
       "1                         0                       0                    0   \n",
       "2                         0                       0                    0   \n",
       "3                         0                       0                    0   \n",
       "4                         0                       0                    0   \n",
       "\n",
       "   Intersection_No_intersection  Intersection_Up_center  Intersection_Up_left  \\\n",
       "0                             0                       0                     0   \n",
       "1                             0                       0                     0   \n",
       "2                             0                       0                     0   \n",
       "3                             0                       0                     0   \n",
       "4                             0                       0                     0   \n",
       "\n",
       "   Intersection_Up_right  \n",
       "0                      0  \n",
       "1                      0  \n",
       "2                      0  \n",
       "3                      0  \n",
       "4                      0  \n",
       "\n",
       "[5 rows x 30 columns]"
      ]
     },
     "execution_count": 7,
     "metadata": {},
     "output_type": "execute_result"
    }
   ],
   "source": [
    "df2 = pd.get_dummies(df,columns=['Intersection'])\n",
    "df2.head()"
   ]
  },
  {
   "cell_type": "code",
   "execution_count": 8,
   "id": "a246c9a2",
   "metadata": {
    "scrolled": true
   },
   "outputs": [
    {
     "name": "stdout",
     "output_type": "stream",
     "text": [
      "<class 'pandas.core.frame.DataFrame'>\n",
      "RangeIndex: 17544 entries, 0 to 17543\n",
      "Data columns (total 30 columns):\n",
      " #   Column                        Non-Null Count  Dtype  \n",
      "---  ------                        --------------  -----  \n",
      " 0   Frame                         17544 non-null  int64  \n",
      " 1   N_Person                      17544 non-null  int64  \n",
      " 2   Xcenter                       17544 non-null  float64\n",
      " 3   Ycenter                       17544 non-null  float64\n",
      " 4   PerXmin                       17544 non-null  float64\n",
      " 5   PerYmin                       17544 non-null  float64\n",
      " 6   PerXmax                       17544 non-null  float64\n",
      " 7   PerYmax                       17544 non-null  float64\n",
      " 8   N_Handgun                     17544 non-null  int64  \n",
      " 9   HgXcenter                     17544 non-null  float64\n",
      " 10  HgYcenter                     17544 non-null  float64\n",
      " 11  HgXmin                        17544 non-null  float64\n",
      " 12  HgYmin                        17544 non-null  float64\n",
      " 13  HgXmax                        17544 non-null  float64\n",
      " 14  HgYmax                        17544 non-null  float64\n",
      " 15  Included_Center               17544 non-null  int64  \n",
      " 16  Intersection_Area             17544 non-null  float64\n",
      " 17  Hg_Area                       17544 non-null  float64\n",
      " 18  Distance                      17544 non-null  float64\n",
      " 19  Ground_Truth                  17544 non-null  int64  \n",
      " 20  GT                            17544 non-null  object \n",
      " 21  Intersection_Center_left      17544 non-null  uint8  \n",
      " 22  Intersection_Center_right     17544 non-null  uint8  \n",
      " 23  Intersection_Down_center      17544 non-null  uint8  \n",
      " 24  Intersection_Down_left        17544 non-null  uint8  \n",
      " 25  Intersection_Inside           17544 non-null  uint8  \n",
      " 26  Intersection_No_intersection  17544 non-null  uint8  \n",
      " 27  Intersection_Up_center        17544 non-null  uint8  \n",
      " 28  Intersection_Up_left          17544 non-null  uint8  \n",
      " 29  Intersection_Up_right         17544 non-null  uint8  \n",
      "dtypes: float64(15), int64(5), object(1), uint8(9)\n",
      "memory usage: 3.0+ MB\n"
     ]
    }
   ],
   "source": [
    "df2.info()"
   ]
  },
  {
   "cell_type": "markdown",
   "id": "49376aaf",
   "metadata": {},
   "source": [
    "# Random Forest \n",
    "## Todos los predictores"
   ]
  },
  {
   "cell_type": "code",
   "execution_count": 9,
   "id": "a8376980",
   "metadata": {
    "scrolled": false
   },
   "outputs": [
    {
     "name": "stdout",
     "output_type": "stream",
     "text": [
      "{1: 'SVM', 0: 'RFC'}\n"
     ]
    }
   ],
   "source": [
    "pred = dict(zip(df2.Ground_Truth.unique(),df2.GT.unique()))\n",
    "print(pred)"
   ]
  },
  {
   "cell_type": "code",
   "execution_count": 10,
   "id": "7e893d55",
   "metadata": {
    "scrolled": true
   },
   "outputs": [
    {
     "name": "stdout",
     "output_type": "stream",
     "text": [
      "1    11993\n",
      "0     5551\n",
      "Name: Ground_Truth, dtype: int64\n"
     ]
    }
   ],
   "source": [
    "print(df2['Ground_Truth'].value_counts())"
   ]
  },
  {
   "cell_type": "code",
   "execution_count": 11,
   "id": "e0a1da1a",
   "metadata": {},
   "outputs": [],
   "source": [
    "df3 = df2.drop(columns=[\"GT\"])"
   ]
  },
  {
   "cell_type": "code",
   "execution_count": 12,
   "id": "b88b8d0f",
   "metadata": {
    "scrolled": true
   },
   "outputs": [
    {
     "name": "stdout",
     "output_type": "stream",
     "text": [
      "<class 'pandas.core.frame.DataFrame'>\n",
      "RangeIndex: 17544 entries, 0 to 17543\n",
      "Data columns (total 29 columns):\n",
      " #   Column                        Non-Null Count  Dtype  \n",
      "---  ------                        --------------  -----  \n",
      " 0   Frame                         17544 non-null  int64  \n",
      " 1   N_Person                      17544 non-null  int64  \n",
      " 2   Xcenter                       17544 non-null  float64\n",
      " 3   Ycenter                       17544 non-null  float64\n",
      " 4   PerXmin                       17544 non-null  float64\n",
      " 5   PerYmin                       17544 non-null  float64\n",
      " 6   PerXmax                       17544 non-null  float64\n",
      " 7   PerYmax                       17544 non-null  float64\n",
      " 8   N_Handgun                     17544 non-null  int64  \n",
      " 9   HgXcenter                     17544 non-null  float64\n",
      " 10  HgYcenter                     17544 non-null  float64\n",
      " 11  HgXmin                        17544 non-null  float64\n",
      " 12  HgYmin                        17544 non-null  float64\n",
      " 13  HgXmax                        17544 non-null  float64\n",
      " 14  HgYmax                        17544 non-null  float64\n",
      " 15  Included_Center               17544 non-null  int64  \n",
      " 16  Intersection_Area             17544 non-null  float64\n",
      " 17  Hg_Area                       17544 non-null  float64\n",
      " 18  Distance                      17544 non-null  float64\n",
      " 19  Ground_Truth                  17544 non-null  int64  \n",
      " 20  Intersection_Center_left      17544 non-null  uint8  \n",
      " 21  Intersection_Center_right     17544 non-null  uint8  \n",
      " 22  Intersection_Down_center      17544 non-null  uint8  \n",
      " 23  Intersection_Down_left        17544 non-null  uint8  \n",
      " 24  Intersection_Inside           17544 non-null  uint8  \n",
      " 25  Intersection_No_intersection  17544 non-null  uint8  \n",
      " 26  Intersection_Up_center        17544 non-null  uint8  \n",
      " 27  Intersection_Up_left          17544 non-null  uint8  \n",
      " 28  Intersection_Up_right         17544 non-null  uint8  \n",
      "dtypes: float64(15), int64(5), uint8(9)\n",
      "memory usage: 2.8 MB\n"
     ]
    }
   ],
   "source": [
    "df3.info()"
   ]
  },
  {
   "cell_type": "code",
   "execution_count": 13,
   "id": "c1daddd3",
   "metadata": {},
   "outputs": [
    {
     "name": "stdout",
     "output_type": "stream",
     "text": [
      "(14035, 28) (14035,)\n",
      "(3509, 28) (3509,)\n"
     ]
    }
   ],
   "source": [
    "from sklearn.model_selection import train_test_split\n",
    "\n",
    "train_df, test_df = train_test_split(df3, test_size=0.2, random_state=123)\n",
    "X_train, y_train = train_df.drop(columns=[\"Ground_Truth\"], axis=1), train_df[\"Ground_Truth\"]\n",
    "X_test, y_test = test_df.drop(columns=[\"Ground_Truth\"], axis=1), test_df[\"Ground_Truth\"]\n",
    "\n",
    "print(X_train.shape, y_train.shape)\n",
    "print(X_test.shape, y_test.shape)"
   ]
  },
  {
   "cell_type": "code",
   "execution_count": 14,
   "id": "81e31bc9",
   "metadata": {
    "scrolled": false
   },
   "outputs": [
    {
     "name": "stdout",
     "output_type": "stream",
     "text": [
      "mean_train =  0.9787752523283665\n",
      "mean_test =  0.9778405756488437\n"
     ]
    },
    {
     "data": {
      "text/html": [
       "<div>\n",
       "<style scoped>\n",
       "    .dataframe tbody tr th:only-of-type {\n",
       "        vertical-align: middle;\n",
       "    }\n",
       "\n",
       "    .dataframe tbody tr th {\n",
       "        vertical-align: top;\n",
       "    }\n",
       "\n",
       "    .dataframe thead th {\n",
       "        text-align: right;\n",
       "    }\n",
       "</style>\n",
       "<table border=\"1\" class=\"dataframe\">\n",
       "  <thead>\n",
       "    <tr style=\"text-align: right;\">\n",
       "      <th></th>\n",
       "      <th>fit_time</th>\n",
       "      <th>score_time</th>\n",
       "      <th>test_score</th>\n",
       "      <th>train_score</th>\n",
       "    </tr>\n",
       "  </thead>\n",
       "  <tbody>\n",
       "    <tr>\n",
       "      <th>0</th>\n",
       "      <td>0.088759</td>\n",
       "      <td>0.001995</td>\n",
       "      <td>0.973647</td>\n",
       "      <td>0.974349</td>\n",
       "    </tr>\n",
       "    <tr>\n",
       "      <th>1</th>\n",
       "      <td>0.086771</td>\n",
       "      <td>0.002988</td>\n",
       "      <td>0.986467</td>\n",
       "      <td>0.977911</td>\n",
       "    </tr>\n",
       "    <tr>\n",
       "      <th>2</th>\n",
       "      <td>0.087733</td>\n",
       "      <td>0.002992</td>\n",
       "      <td>0.980769</td>\n",
       "      <td>0.978941</td>\n",
       "    </tr>\n",
       "    <tr>\n",
       "      <th>3</th>\n",
       "      <td>0.085801</td>\n",
       "      <td>0.002987</td>\n",
       "      <td>0.984330</td>\n",
       "      <td>0.978466</td>\n",
       "    </tr>\n",
       "    <tr>\n",
       "      <th>4</th>\n",
       "      <td>0.087770</td>\n",
       "      <td>0.002986</td>\n",
       "      <td>0.971510</td>\n",
       "      <td>0.980207</td>\n",
       "    </tr>\n",
       "    <tr>\n",
       "      <th>5</th>\n",
       "      <td>0.086771</td>\n",
       "      <td>0.001990</td>\n",
       "      <td>0.973628</td>\n",
       "      <td>0.978942</td>\n",
       "    </tr>\n",
       "    <tr>\n",
       "      <th>6</th>\n",
       "      <td>0.087769</td>\n",
       "      <td>0.002988</td>\n",
       "      <td>0.980756</td>\n",
       "      <td>0.980051</td>\n",
       "    </tr>\n",
       "    <tr>\n",
       "      <th>7</th>\n",
       "      <td>0.087773</td>\n",
       "      <td>0.001987</td>\n",
       "      <td>0.978617</td>\n",
       "      <td>0.980842</td>\n",
       "    </tr>\n",
       "    <tr>\n",
       "      <th>8</th>\n",
       "      <td>0.086735</td>\n",
       "      <td>0.003015</td>\n",
       "      <td>0.970064</td>\n",
       "      <td>0.979180</td>\n",
       "    </tr>\n",
       "    <tr>\n",
       "      <th>9</th>\n",
       "      <td>0.087766</td>\n",
       "      <td>0.002963</td>\n",
       "      <td>0.978617</td>\n",
       "      <td>0.978863</td>\n",
       "    </tr>\n",
       "  </tbody>\n",
       "</table>\n",
       "</div>"
      ],
      "text/plain": [
       "   fit_time  score_time  test_score  train_score\n",
       "0  0.088759    0.001995    0.973647     0.974349\n",
       "1  0.086771    0.002988    0.986467     0.977911\n",
       "2  0.087733    0.002992    0.980769     0.978941\n",
       "3  0.085801    0.002987    0.984330     0.978466\n",
       "4  0.087770    0.002986    0.971510     0.980207\n",
       "5  0.086771    0.001990    0.973628     0.978942\n",
       "6  0.087769    0.002988    0.980756     0.980051\n",
       "7  0.087773    0.001987    0.978617     0.980842\n",
       "8  0.086735    0.003015    0.970064     0.979180\n",
       "9  0.087766    0.002963    0.978617     0.978863"
      ]
     },
     "execution_count": 14,
     "metadata": {},
     "output_type": "execute_result"
    }
   ],
   "source": [
    "from sklearn.ensemble import RandomForestClassifier\n",
    "from sklearn.model_selection import cross_validate\n",
    "\n",
    "clf = RandomForestClassifier(n_estimators=10, max_depth=4, random_state=0)\n",
    "y_pred = clf.fit(X_train, y_train).predict(X_test)\n",
    "scores = pd.DataFrame(cross_validate(clf, X_train, y_train, cv=10, return_train_score=True))\n",
    "print(\"mean_train = \", scores['train_score'].mean())\n",
    "print(\"mean_test = \", scores['test_score'].mean())\n",
    "scores"
   ]
  },
  {
   "cell_type": "code",
   "execution_count": 16,
   "id": "803a6a17",
   "metadata": {
    "scrolled": true
   },
   "outputs": [
    {
     "name": "stdout",
     "output_type": "stream",
     "text": [
      "                         feature  importance       std\n",
      "27         Intersection_Up_right    0.000000  0.000000\n",
      "22        Intersection_Down_left    0.000000  0.000000\n",
      "21      Intersection_Down_center    0.000000  0.000000\n",
      "20     Intersection_Center_right    0.000000  0.000000\n",
      "7                        PerYmax    0.000000  0.000000\n",
      "8                      N_Handgun    0.000000  0.000000\n",
      "15               Included_Center    0.000000  0.000000\n",
      "26          Intersection_Up_left    0.000000  0.000000\n",
      "1                       N_Person    0.000182  0.000544\n",
      "9                      HgXcenter    0.000964  0.001483\n",
      "23           Intersection_Inside    0.001464  0.002928\n",
      "17                       Hg_Area    0.002755  0.004909\n",
      "0                          Frame    0.003270  0.009461\n",
      "11                        HgXmin    0.008861  0.025076\n",
      "13                        HgXmax    0.010426  0.026530\n",
      "25        Intersection_Up_center    0.011081  0.019206\n",
      "18                      Distance    0.012826  0.022383\n",
      "19      Intersection_Center_left    0.021453  0.064358\n",
      "6                        PerXmax    0.025708  0.055009\n",
      "2                        Xcenter    0.032711  0.078838\n",
      "5                        PerYmin    0.035767  0.101578\n",
      "12                        HgYmin    0.064393  0.123536\n",
      "3                        Ycenter    0.073469  0.139372\n",
      "14                        HgYmax    0.076474  0.150008\n",
      "10                     HgYcenter    0.114375  0.172738\n",
      "24  Intersection_No_intersection    0.151111  0.170239\n",
      "16             Intersection_Area    0.152878  0.156024\n",
      "4                        PerXmin    0.199833  0.131386\n"
     ]
    },
    {
     "data": {
      "image/png": "[encoded data removed]",
      "text/plain": [
       "<Figure size 800x600 with 1 Axes>"
      ]
     },
     "metadata": {},
     "output_type": "display_data"
    }
   ],
   "source": [
    "clf.fit(X_train.values, y_train.values)\n",
    "predictions=clf.predict(X_test.values)\n",
    "#Le agrego .values para solucionar el problema:\n",
    "#C:\\ProgramData\\Anaconda3\\lib\\site-packages\\sklearn\\base.py:450: UserWarning: X does not have valid feature names, but RandomForestClassifier was fitted with feature names\n",
    "#https://stackoverflow.com/questions/69326639/sklearn-warning-valid-feature-names-in-version-1-0\n",
    "\n",
    "importances = clf.feature_importances_\n",
    "std = np.std([tree.feature_importances_ for tree in clf.estimators_], axis=0)\n",
    "\n",
    "df = pd.DataFrame({'feature': X_train.columns, 'importance': importances, 'std': std})\n",
    "df = df.sort_values('importance')\n",
    "print(df)\n",
    "\n",
    "ax = df.plot(figsize=(8,6),kind='barh', xerr='std', x='feature', legend=False)\n",
    "ax.set_ylabel('')\n",
    "\n",
    "plt.tight_layout()\n",
    "plt.show()"
   ]
  },
  {
   "cell_type": "code",
   "execution_count": 17,
   "id": "4cd43a0d",
   "metadata": {
    "scrolled": false
   },
   "outputs": [
    {
     "name": "stdout",
     "output_type": "stream",
     "text": [
      "              precision    recall  f1-score   support\n",
      "\n",
      "           0       0.96      0.98      0.97      1117\n",
      "           1       0.99      0.98      0.99      2392\n",
      "\n",
      "    accuracy                           0.98      3509\n",
      "   macro avg       0.98      0.98      0.98      3509\n",
      "weighted avg       0.98      0.98      0.98      3509\n",
      "\n"
     ]
    }
   ],
   "source": [
    "from sklearn.metrics import classification_report\n",
    "print(classification_report(y_test,predictions))"
   ]
  },
  {
   "cell_type": "code",
   "execution_count": 17,
   "id": "b638c813",
   "metadata": {},
   "outputs": [],
   "source": [
    "# save the model to disk\n",
    "filename = 'rfc_model_intersection.sav'\n",
    "pickle.dump(clf, open(filename, 'wb')) "
   ]
  },
  {
   "cell_type": "markdown",
   "id": "a98ecc7b",
   "metadata": {},
   "source": [
    "# Redes Neuronales - Todos los predictores"
   ]
  },
  {
   "cell_type": "code",
   "execution_count": 18,
   "id": "05a611fa",
   "metadata": {
    "scrolled": true
   },
   "outputs": [],
   "source": [
    "X = df3.drop('Ground_Truth',axis='columns')\n",
    "y = df3.Ground_Truth"
   ]
  },
  {
   "cell_type": "code",
   "execution_count": 19,
   "id": "e6473e29",
   "metadata": {
    "scrolled": true
   },
   "outputs": [
    {
     "name": "stdout",
     "output_type": "stream",
     "text": [
      "<class 'pandas.core.frame.DataFrame'>\n",
      "RangeIndex: 17544 entries, 0 to 17543\n",
      "Data columns (total 28 columns):\n",
      " #   Column                        Non-Null Count  Dtype  \n",
      "---  ------                        --------------  -----  \n",
      " 0   Frame                         17544 non-null  int64  \n",
      " 1   N_Person                      17544 non-null  int64  \n",
      " 2   Xcenter                       17544 non-null  float64\n",
      " 3   Ycenter                       17544 non-null  float64\n",
      " 4   PerXmin                       17544 non-null  float64\n",
      " 5   PerYmin                       17544 non-null  float64\n",
      " 6   PerXmax                       17544 non-null  float64\n",
      " 7   PerYmax                       17544 non-null  float64\n",
      " 8   N_Handgun                     17544 non-null  int64  \n",
      " 9   HgXcenter                     17544 non-null  float64\n",
      " 10  HgYcenter                     17544 non-null  float64\n",
      " 11  HgXmin                        17544 non-null  float64\n",
      " 12  HgYmin                        17544 non-null  float64\n",
      " 13  HgXmax                        17544 non-null  float64\n",
      " 14  HgYmax                        17544 non-null  float64\n",
      " 15  Included_Center               17544 non-null  int64  \n",
      " 16  Intersection_Area             17544 non-null  float64\n",
      " 17  Hg_Area                       17544 non-null  float64\n",
      " 18  Distance                      17544 non-null  float64\n",
      " 19  Intersection_Center_left      17544 non-null  uint8  \n",
      " 20  Intersection_Center_right     17544 non-null  uint8  \n",
      " 21  Intersection_Down_center      17544 non-null  uint8  \n",
      " 22  Intersection_Down_left        17544 non-null  uint8  \n",
      " 23  Intersection_Inside           17544 non-null  uint8  \n",
      " 24  Intersection_No_intersection  17544 non-null  uint8  \n",
      " 25  Intersection_Up_center        17544 non-null  uint8  \n",
      " 26  Intersection_Up_left          17544 non-null  uint8  \n",
      " 27  Intersection_Up_right         17544 non-null  uint8  \n",
      "dtypes: float64(15), int64(4), uint8(9)\n",
      "memory usage: 2.7 MB\n"
     ]
    }
   ],
   "source": [
    "X.info()"
   ]
  },
  {
   "cell_type": "code",
   "execution_count": 20,
   "id": "69009579",
   "metadata": {
    "scrolled": true
   },
   "outputs": [
    {
     "data": {
      "text/plain": [
       "array([[-1.83658117e+00, -1.00999824e+00,  3.96637548e-01,\n",
       "        -1.04831006e+00,  4.12372041e-01, -7.99690393e-01,\n",
       "         3.65404513e-01, -1.40016677e+00, -4.92920518e-01,\n",
       "         6.93758180e-01, -1.24796189e+00,  7.44516211e-01,\n",
       "        -1.17204959e+00,  6.41351249e-01, -1.31948698e+00,\n",
       "         1.21888884e+00, -4.43181062e-03, -6.27822005e-01,\n",
       "        -7.39894022e-01,  2.83442862e+00, -2.77928514e-01,\n",
       "        -1.68842817e-02, -1.06776442e-02, -5.28819336e-01,\n",
       "        -1.14253562e+00, -1.22409519e-01, -5.95525396e-02,\n",
       "        -1.19743791e-01],\n",
       "       [-1.83443539e+00, -1.00999824e+00,  3.96354965e-01,\n",
       "        -1.04772367e+00,  4.11402739e-01, -7.98005839e-01,\n",
       "         3.65846737e-01, -1.40288405e+00, -4.92920518e-01,\n",
       "         6.92149159e-01, -1.24881230e+00,  7.41492404e-01,\n",
       "        -1.17269923e+00,  6.41148246e-01, -1.32053981e+00,\n",
       "         1.21888884e+00, -1.88947891e-03, -6.21626149e-01,\n",
       "        -7.38471427e-01,  2.83442862e+00, -2.77928514e-01,\n",
       "        -1.68842817e-02, -1.06776442e-02, -5.28819336e-01,\n",
       "        -1.14253562e+00, -1.22409519e-01, -5.95525396e-02,\n",
       "        -1.19743791e-01],\n",
       "       [-1.83228961e+00, -1.00999824e+00,  3.96968651e-01,\n",
       "        -1.04986306e+00,  4.12852514e-01, -8.02049450e-01,\n",
       "         3.65567854e-01, -1.39891839e+00, -4.92920518e-01,\n",
       "         6.91969015e-01, -1.25022027e+00,  7.41402347e-01,\n",
       "        -1.17389575e+00,  6.40879445e-01, -1.32215819e+00,\n",
       "         1.21888884e+00, -8.98879828e-03, -6.22757114e-01,\n",
       "        -7.37987350e-01,  2.83442862e+00, -2.77928514e-01,\n",
       "        -1.68842817e-02, -1.06776442e-02, -5.28819336e-01,\n",
       "        -1.14253562e+00, -1.22409519e-01, -5.95525396e-02,\n",
       "        -1.19743791e-01]])"
      ]
     },
     "execution_count": 20,
     "metadata": {},
     "output_type": "execute_result"
    }
   ],
   "source": [
    "from sklearn.preprocessing import StandardScaler\n",
    "scaler = StandardScaler()\n",
    "X_scaled = scaler.fit_transform(X)\n",
    "X_scaled[:3]\n",
    "#X_scaled.shape"
   ]
  },
  {
   "cell_type": "code",
   "execution_count": 21,
   "id": "452d05da",
   "metadata": {
    "scrolled": false
   },
   "outputs": [
    {
     "name": "stdout",
     "output_type": "stream",
     "text": [
      "[8.55903899e+02 8.83435933e-01 3.89929273e+02 3.82198064e+02\n",
      " 3.03508454e+02 2.46115199e+02 4.76350091e+02 5.18280928e+02\n",
      " 2.94744642e-01 3.04695345e+02 3.11905472e+02 2.81557956e+02\n",
      " 2.92624884e+02 3.27832734e+02 3.31186061e+02 4.02302782e-01\n",
      " 8.51946248e+02 1.96427034e+03 2.38237073e+02 1.10693114e-01\n",
      " 7.17054264e-02 2.84997720e-04 1.13999088e-04 2.18536252e-01\n",
      " 5.66233470e-01 1.47628819e-02 3.53397173e-03 1.41358869e-02]\n"
     ]
    }
   ],
   "source": [
    "print(scaler.mean_)"
   ]
  },
  {
   "cell_type": "code",
   "execution_count": 22,
   "id": "792e3581",
   "metadata": {
    "scrolled": true
   },
   "outputs": [
    {
     "name": "stdout",
     "output_type": "stream",
     "text": [
      "[4.66031075e+02 8.74690567e-01 2.14478378e+02 6.92687398e+01\n",
      " 2.22781342e+02 1.12184008e+02 2.14205235e+02 3.96508195e+01\n",
      " 5.97955718e-01 1.51618599e+02 9.76452203e+01 1.51113455e+02\n",
      " 9.94064652e+01 1.52594807e+02 9.64054386e+01 4.90362370e-01\n",
      " 1.58423969e+03 1.72463232e+03 1.38014604e+02 3.13751731e-01\n",
      " 2.57999531e-01 1.68794697e-02 1.06764269e-02 4.13253141e-01\n",
      " 4.95593712e-01 1.20602401e-01 5.93420826e-02 1.18051106e-01]\n"
     ]
    }
   ],
   "source": [
    "print(scaler.scale_)"
   ]
  },
  {
   "cell_type": "code",
   "execution_count": 23,
   "id": "0f8c7a7e",
   "metadata": {},
   "outputs": [],
   "source": [
    "from sklearn.model_selection import  train_test_split\n",
    "X_train, X_test, y_train, y_test = train_test_split(X_scaled, y, stratify=y, random_state=10) #stratify hace que el ratio entre 0 y 1 se mantenga en la distri. entre el test(y). "
   ]
  },
  {
   "cell_type": "code",
   "execution_count": 24,
   "id": "89c11ff0",
   "metadata": {},
   "outputs": [
    {
     "data": {
      "text/plain": [
       "(13158, 28)"
      ]
     },
     "execution_count": 24,
     "metadata": {},
     "output_type": "execute_result"
    }
   ],
   "source": [
    "X_train.shape"
   ]
  },
  {
   "cell_type": "code",
   "execution_count": 25,
   "id": "809f7a45",
   "metadata": {
    "scrolled": true
   },
   "outputs": [
    {
     "data": {
      "text/plain": [
       "1    8995\n",
       "0    4163\n",
       "Name: Ground_Truth, dtype: int64"
      ]
     },
     "execution_count": 25,
     "metadata": {},
     "output_type": "execute_result"
    }
   ],
   "source": [
    "y_train.value_counts()"
   ]
  },
  {
   "cell_type": "code",
   "execution_count": 26,
   "id": "87692498",
   "metadata": {},
   "outputs": [
    {
     "data": {
      "text/plain": [
       "(4386, 28)"
      ]
     },
     "execution_count": 26,
     "metadata": {},
     "output_type": "execute_result"
    }
   ],
   "source": [
    "X_test.shape"
   ]
  },
  {
   "cell_type": "code",
   "execution_count": 27,
   "id": "37e3175e",
   "metadata": {
    "scrolled": false
   },
   "outputs": [
    {
     "data": {
      "text/plain": [
       "1    2998\n",
       "0    1388\n",
       "Name: Ground_Truth, dtype: int64"
      ]
     },
     "execution_count": 27,
     "metadata": {},
     "output_type": "execute_result"
    }
   ],
   "source": [
    "y_test.value_counts()"
   ]
  },
  {
   "cell_type": "code",
   "execution_count": 28,
   "id": "8b1cbdef",
   "metadata": {
    "scrolled": true
   },
   "outputs": [
    {
     "data": {
      "text/plain": [
       "array([[1.89135950e-08, 9.99999981e-01],\n",
       "       [1.30262816e-08, 9.99999987e-01],\n",
       "       [9.99999999e-01, 8.90171465e-10],\n",
       "       ...,\n",
       "       [0.00000000e+00, 1.00000000e+00],\n",
       "       [0.00000000e+00, 1.00000000e+00],\n",
       "       [9.99999992e-01, 7.99002928e-09]])"
      ]
     },
     "execution_count": 28,
     "metadata": {},
     "output_type": "execute_result"
    }
   ],
   "source": [
    "from sklearn.neural_network import MLPClassifier\n",
    "clf=MLPClassifier(hidden_layer_sizes=(25,25,25,25), max_iter=500, alpha=0.0001, solver='adam',\n",
    "                 random_state=0, tol=0.000000001)\n",
    "y_pred = clf.fit(X_train, y_train).predict(X_test)\n",
    "predictions_mlp=clf.predict_proba(X_test)\n",
    "predictions_mlp"
   ]
  },
  {
   "cell_type": "code",
   "execution_count": 29,
   "id": "1e2e8226",
   "metadata": {},
   "outputs": [
    {
     "data": {
      "text/plain": [
       "array([1, 1, 0, ..., 1, 1, 0], dtype=int64)"
      ]
     },
     "execution_count": 29,
     "metadata": {},
     "output_type": "execute_result"
    }
   ],
   "source": [
    "predictions_mlp=clf.predict(X_test)\n",
    "predictions_mlp"
   ]
  },
  {
   "cell_type": "code",
   "execution_count": 31,
   "id": "f87e6606",
   "metadata": {
    "scrolled": true
   },
   "outputs": [
    {
     "name": "stdout",
     "output_type": "stream",
     "text": [
      "              precision    recall  f1-score   support\n",
      "\n",
      "           0       0.99      0.99      0.99      1388\n",
      "           1       1.00      1.00      1.00      2998\n",
      "\n",
      "    accuracy                           0.99      4386\n",
      "   macro avg       0.99      0.99      0.99      4386\n",
      "weighted avg       0.99      0.99      0.99      4386\n",
      "\n"
     ]
    }
   ],
   "source": [
    "from sklearn.metrics import classification_report\n",
    "print(classification_report(y_test,predictions_mlp))"
   ]
  },
  {
   "cell_type": "code",
   "execution_count": 32,
   "id": "88b8b418",
   "metadata": {
    "scrolled": true
   },
   "outputs": [
    {
     "name": "stdout",
     "output_type": "stream",
     "text": [
      "Score train =  0.9957440340477276\n",
      "Score test =  0.9947560419516643\n"
     ]
    }
   ],
   "source": [
    "print(\"Score train = \",clf.score(X_train, y_train))\n",
    "print(\"Score test = \",clf.score(X_test, y_test))"
   ]
  },
  {
   "cell_type": "code",
   "execution_count": 30,
   "id": "9e560452",
   "metadata": {},
   "outputs": [],
   "source": [
    "# save the model to disk\n",
    "filename = 'mlp_model_intersection.sav'\n",
    "pickle.dump(clf, open(filename, 'wb')) "
   ]
  }
 ],
 "metadata": {
  "kernelspec": {
   "display_name": "Python 3 (ipykernel)",
   "language": "python",
   "name": "python3"
  },
  "language_info": {
   "codemirror_mode": {
    "name": "ipython",
    "version": 3
   },
   "file_extension": ".py",
   "mimetype": "text/x-python",
   "name": "python",
   "nbconvert_exporter": "python",
   "pygments_lexer": "ipython3",
   "version": "3.8.11"
  }
 },
 "nbformat": 4,
 "nbformat_minor": 5
}
