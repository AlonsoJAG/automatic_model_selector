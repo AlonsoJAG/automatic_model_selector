{
 "cells": [
  {
   "cell_type": "code",
   "execution_count": 66,
   "id": "5d87e640",
   "metadata": {},
   "outputs": [],
   "source": [
    "import pickle\n",
    "import numpy as np\n",
    "import pandas as pd\n",
    "import matplotlib.pyplot as plt\n",
    "%matplotlib inline"
   ]
  },
  {
   "cell_type": "code",
   "execution_count": 67,
   "id": "95600074",
   "metadata": {
    "scrolled": true
   },
   "outputs": [
    {
     "data": {
      "text/html": [
       "<div>\n",
       "<style scoped>\n",
       "    .dataframe tbody tr th:only-of-type {\n",
       "        vertical-align: middle;\n",
       "    }\n",
       "\n",
       "    .dataframe tbody tr th {\n",
       "        vertical-align: top;\n",
       "    }\n",
       "\n",
       "    .dataframe thead th {\n",
       "        text-align: right;\n",
       "    }\n",
       "</style>\n",
       "<table border=\"1\" class=\"dataframe\">\n",
       "  <thead>\n",
       "    <tr style=\"text-align: right;\">\n",
       "      <th></th>\n",
       "      <th>Frame</th>\n",
       "      <th>N_Person</th>\n",
       "      <th>Xcenter</th>\n",
       "      <th>Ycenter</th>\n",
       "      <th>PerXmin</th>\n",
       "      <th>PerYmin</th>\n",
       "      <th>PerXmax</th>\n",
       "      <th>PerYmax</th>\n",
       "      <th>N_Handgun</th>\n",
       "      <th>HgXcenter</th>\n",
       "      <th>...</th>\n",
       "      <th>HgYmin</th>\n",
       "      <th>HgXmax</th>\n",
       "      <th>HgYmax</th>\n",
       "      <th>Intersection</th>\n",
       "      <th>Included_Center</th>\n",
       "      <th>Intersection_Area</th>\n",
       "      <th>Hg_Area</th>\n",
       "      <th>Distance</th>\n",
       "      <th>Ground_Truth</th>\n",
       "      <th>GT</th>\n",
       "    </tr>\n",
       "  </thead>\n",
       "  <tbody>\n",
       "    <tr>\n",
       "      <th>0</th>\n",
       "      <td>0</td>\n",
       "      <td>0</td>\n",
       "      <td>474.999451</td>\n",
       "      <td>309.582947</td>\n",
       "      <td>395.377251</td>\n",
       "      <td>156.402725</td>\n",
       "      <td>554.621651</td>\n",
       "      <td>462.763168</td>\n",
       "      <td>0</td>\n",
       "      <td>409.881988</td>\n",
       "      <td>...</td>\n",
       "      <td>176.115577</td>\n",
       "      <td>425.699604</td>\n",
       "      <td>203.980340</td>\n",
       "      <td>Center_left</td>\n",
       "      <td>1</td>\n",
       "      <td>844.925198</td>\n",
       "      <td>881.508223</td>\n",
       "      <td>136.120892</td>\n",
       "      <td>1</td>\n",
       "      <td>NB</td>\n",
       "    </tr>\n",
       "    <tr>\n",
       "      <th>1</th>\n",
       "      <td>1</td>\n",
       "      <td>0</td>\n",
       "      <td>474.938843</td>\n",
       "      <td>309.623566</td>\n",
       "      <td>395.161308</td>\n",
       "      <td>156.591705</td>\n",
       "      <td>554.716377</td>\n",
       "      <td>462.655426</td>\n",
       "      <td>0</td>\n",
       "      <td>409.638031</td>\n",
       "      <td>...</td>\n",
       "      <td>176.050999</td>\n",
       "      <td>425.668627</td>\n",
       "      <td>203.878841</td>\n",
       "      <td>Center_left</td>\n",
       "      <td>1</td>\n",
       "      <td>848.952861</td>\n",
       "      <td>892.193796</td>\n",
       "      <td>136.317231</td>\n",
       "      <td>1</td>\n",
       "      <td>NB</td>\n",
       "    </tr>\n",
       "    <tr>\n",
       "      <th>2</th>\n",
       "      <td>2</td>\n",
       "      <td>0</td>\n",
       "      <td>475.070465</td>\n",
       "      <td>309.475372</td>\n",
       "      <td>395.484291</td>\n",
       "      <td>156.138077</td>\n",
       "      <td>554.656639</td>\n",
       "      <td>462.812668</td>\n",
       "      <td>0</td>\n",
       "      <td>409.610718</td>\n",
       "      <td>...</td>\n",
       "      <td>175.932056</td>\n",
       "      <td>425.627609</td>\n",
       "      <td>203.722820</td>\n",
       "      <td>Center_left</td>\n",
       "      <td>1</td>\n",
       "      <td>837.705837</td>\n",
       "      <td>890.243298</td>\n",
       "      <td>136.384041</td>\n",
       "      <td>1</td>\n",
       "      <td>NB</td>\n",
       "    </tr>\n",
       "    <tr>\n",
       "      <th>3</th>\n",
       "      <td>3</td>\n",
       "      <td>0</td>\n",
       "      <td>476.837311</td>\n",
       "      <td>308.901245</td>\n",
       "      <td>399.288238</td>\n",
       "      <td>154.448364</td>\n",
       "      <td>554.386383</td>\n",
       "      <td>463.354126</td>\n",
       "      <td>0</td>\n",
       "      <td>408.519043</td>\n",
       "      <td>...</td>\n",
       "      <td>177.653896</td>\n",
       "      <td>423.709709</td>\n",
       "      <td>202.787083</td>\n",
       "      <td>Center_left</td>\n",
       "      <td>1</td>\n",
       "      <td>613.789372</td>\n",
       "      <td>763.579688</td>\n",
       "      <td>136.939795</td>\n",
       "      <td>1</td>\n",
       "      <td>NB</td>\n",
       "    </tr>\n",
       "    <tr>\n",
       "      <th>4</th>\n",
       "      <td>4</td>\n",
       "      <td>0</td>\n",
       "      <td>476.918640</td>\n",
       "      <td>308.815064</td>\n",
       "      <td>399.598404</td>\n",
       "      <td>154.249756</td>\n",
       "      <td>554.238876</td>\n",
       "      <td>463.380371</td>\n",
       "      <td>0</td>\n",
       "      <td>408.613525</td>\n",
       "      <td>...</td>\n",
       "      <td>177.582060</td>\n",
       "      <td>423.771116</td>\n",
       "      <td>202.885134</td>\n",
       "      <td>Center_left</td>\n",
       "      <td>1</td>\n",
       "      <td>611.643926</td>\n",
       "      <td>767.067283</td>\n",
       "      <td>136.847188</td>\n",
       "      <td>1</td>\n",
       "      <td>NB</td>\n",
       "    </tr>\n",
       "  </tbody>\n",
       "</table>\n",
       "<p>5 rows × 22 columns</p>\n",
       "</div>"
      ],
      "text/plain": [
       "   Frame  N_Person     Xcenter     Ycenter     PerXmin     PerYmin  \\\n",
       "0      0         0  474.999451  309.582947  395.377251  156.402725   \n",
       "1      1         0  474.938843  309.623566  395.161308  156.591705   \n",
       "2      2         0  475.070465  309.475372  395.484291  156.138077   \n",
       "3      3         0  476.837311  308.901245  399.288238  154.448364   \n",
       "4      4         0  476.918640  308.815064  399.598404  154.249756   \n",
       "\n",
       "      PerXmax     PerYmax  N_Handgun   HgXcenter  ...      HgYmin      HgXmax  \\\n",
       "0  554.621651  462.763168          0  409.881988  ...  176.115577  425.699604   \n",
       "1  554.716377  462.655426          0  409.638031  ...  176.050999  425.668627   \n",
       "2  554.656639  462.812668          0  409.610718  ...  175.932056  425.627609   \n",
       "3  554.386383  463.354126          0  408.519043  ...  177.653896  423.709709   \n",
       "4  554.238876  463.380371          0  408.613525  ...  177.582060  423.771116   \n",
       "\n",
       "       HgYmax  Intersection  Included_Center Intersection_Area     Hg_Area  \\\n",
       "0  203.980340   Center_left                1        844.925198  881.508223   \n",
       "1  203.878841   Center_left                1        848.952861  892.193796   \n",
       "2  203.722820   Center_left                1        837.705837  890.243298   \n",
       "3  202.787083   Center_left                1        613.789372  763.579688   \n",
       "4  202.885134   Center_left                1        611.643926  767.067283   \n",
       "\n",
       "     Distance  Ground_Truth  GT  \n",
       "0  136.120892             1  NB  \n",
       "1  136.317231             1  NB  \n",
       "2  136.384041             1  NB  \n",
       "3  136.939795             1  NB  \n",
       "4  136.847188             1  NB  \n",
       "\n",
       "[5 rows x 22 columns]"
      ]
     },
     "execution_count": 67,
     "metadata": {},
     "output_type": "execute_result"
    }
   ],
   "source": [
    "df = pd.read_csv('ams27.csv')\n",
    "df.head()"
   ]
  },
  {
   "cell_type": "code",
   "execution_count": 68,
   "id": "8ae1ff95",
   "metadata": {},
   "outputs": [
    {
     "data": {
      "text/plain": [
       "18502"
      ]
     },
     "execution_count": 68,
     "metadata": {},
     "output_type": "execute_result"
    }
   ],
   "source": [
    "len(df)"
   ]
  },
  {
   "cell_type": "code",
   "execution_count": 69,
   "id": "9ac6c889",
   "metadata": {
    "scrolled": true
   },
   "outputs": [
    {
     "name": "stdout",
     "output_type": "stream",
     "text": [
      "<class 'pandas.core.frame.DataFrame'>\n",
      "RangeIndex: 18502 entries, 0 to 18501\n",
      "Data columns (total 22 columns):\n",
      " #   Column             Non-Null Count  Dtype  \n",
      "---  ------             --------------  -----  \n",
      " 0   Frame              18502 non-null  int64  \n",
      " 1   N_Person           18502 non-null  int64  \n",
      " 2   Xcenter            18502 non-null  float64\n",
      " 3   Ycenter            18502 non-null  float64\n",
      " 4   PerXmin            18502 non-null  float64\n",
      " 5   PerYmin            18502 non-null  float64\n",
      " 6   PerXmax            18502 non-null  float64\n",
      " 7   PerYmax            18502 non-null  float64\n",
      " 8   N_Handgun          18502 non-null  int64  \n",
      " 9   HgXcenter          18502 non-null  float64\n",
      " 10  HgYcenter          18502 non-null  float64\n",
      " 11  HgXmin             18502 non-null  float64\n",
      " 12  HgYmin             18502 non-null  float64\n",
      " 13  HgXmax             18502 non-null  float64\n",
      " 14  HgYmax             18502 non-null  float64\n",
      " 15  Intersection       18502 non-null  object \n",
      " 16  Included_Center    18502 non-null  int64  \n",
      " 17  Intersection_Area  18502 non-null  float64\n",
      " 18  Hg_Area            18502 non-null  float64\n",
      " 19  Distance           18502 non-null  float64\n",
      " 20  Ground_Truth       18502 non-null  int64  \n",
      " 21  GT                 18502 non-null  object \n",
      "dtypes: float64(15), int64(5), object(2)\n",
      "memory usage: 3.1+ MB\n"
     ]
    }
   ],
   "source": [
    "df.info()"
   ]
  },
  {
   "cell_type": "code",
   "execution_count": 70,
   "id": "048f07b5",
   "metadata": {},
   "outputs": [
    {
     "data": {
      "text/plain": [
       "Frame                 1933\n",
       "N_Person                 5\n",
       "Xcenter              14254\n",
       "Ycenter              14235\n",
       "PerXmin              14262\n",
       "PerYmin              14259\n",
       "PerXmax              14262\n",
       "PerYmax              14239\n",
       "N_Handgun                5\n",
       "HgXcenter             7303\n",
       "HgYcenter             7301\n",
       "HgXmin                7305\n",
       "HgYmin                7305\n",
       "HgXmax                7305\n",
       "HgYmax                7304\n",
       "Intersection             9\n",
       "Included_Center          2\n",
       "Intersection_Area     8473\n",
       "Hg_Area               7305\n",
       "Distance             18502\n",
       "Ground_Truth             3\n",
       "GT                       3\n",
       "dtype: int64"
      ]
     },
     "execution_count": 70,
     "metadata": {},
     "output_type": "execute_result"
    }
   ],
   "source": [
    "df.nunique()"
   ]
  },
  {
   "cell_type": "code",
   "execution_count": 71,
   "id": "86b0f52d",
   "metadata": {
    "scrolled": false
   },
   "outputs": [
    {
     "data": {
      "text/plain": [
       "0    15109\n",
       "1     2666\n",
       "2      727\n",
       "Name: Ground_Truth, dtype: int64"
      ]
     },
     "execution_count": 71,
     "metadata": {},
     "output_type": "execute_result"
    }
   ],
   "source": [
    "df['Ground_Truth'].value_counts()"
   ]
  },
  {
   "cell_type": "code",
   "execution_count": 72,
   "id": "732110e8",
   "metadata": {
    "scrolled": false
   },
   "outputs": [
    {
     "data": {
      "text/html": [
       "<div>\n",
       "<style scoped>\n",
       "    .dataframe tbody tr th:only-of-type {\n",
       "        vertical-align: middle;\n",
       "    }\n",
       "\n",
       "    .dataframe tbody tr th {\n",
       "        vertical-align: top;\n",
       "    }\n",
       "\n",
       "    .dataframe thead th {\n",
       "        text-align: right;\n",
       "    }\n",
       "</style>\n",
       "<table border=\"1\" class=\"dataframe\">\n",
       "  <thead>\n",
       "    <tr style=\"text-align: right;\">\n",
       "      <th></th>\n",
       "      <th>Frame</th>\n",
       "      <th>N_Person</th>\n",
       "      <th>Xcenter</th>\n",
       "      <th>Ycenter</th>\n",
       "      <th>PerXmin</th>\n",
       "      <th>PerYmin</th>\n",
       "      <th>PerXmax</th>\n",
       "      <th>PerYmax</th>\n",
       "      <th>N_Handgun</th>\n",
       "      <th>HgXcenter</th>\n",
       "      <th>...</th>\n",
       "      <th>GT</th>\n",
       "      <th>Intersection_Center_left</th>\n",
       "      <th>Intersection_Center_right</th>\n",
       "      <th>Intersection_Down_center</th>\n",
       "      <th>Intersection_Down_left</th>\n",
       "      <th>Intersection_Inside</th>\n",
       "      <th>Intersection_No_intersection</th>\n",
       "      <th>Intersection_Up_center</th>\n",
       "      <th>Intersection_Up_left</th>\n",
       "      <th>Intersection_Up_right</th>\n",
       "    </tr>\n",
       "  </thead>\n",
       "  <tbody>\n",
       "    <tr>\n",
       "      <th>0</th>\n",
       "      <td>0</td>\n",
       "      <td>0</td>\n",
       "      <td>474.999451</td>\n",
       "      <td>309.582947</td>\n",
       "      <td>395.377251</td>\n",
       "      <td>156.402725</td>\n",
       "      <td>554.621651</td>\n",
       "      <td>462.763168</td>\n",
       "      <td>0</td>\n",
       "      <td>409.881988</td>\n",
       "      <td>...</td>\n",
       "      <td>NB</td>\n",
       "      <td>1</td>\n",
       "      <td>0</td>\n",
       "      <td>0</td>\n",
       "      <td>0</td>\n",
       "      <td>0</td>\n",
       "      <td>0</td>\n",
       "      <td>0</td>\n",
       "      <td>0</td>\n",
       "      <td>0</td>\n",
       "    </tr>\n",
       "    <tr>\n",
       "      <th>1</th>\n",
       "      <td>1</td>\n",
       "      <td>0</td>\n",
       "      <td>474.938843</td>\n",
       "      <td>309.623566</td>\n",
       "      <td>395.161308</td>\n",
       "      <td>156.591705</td>\n",
       "      <td>554.716377</td>\n",
       "      <td>462.655426</td>\n",
       "      <td>0</td>\n",
       "      <td>409.638031</td>\n",
       "      <td>...</td>\n",
       "      <td>NB</td>\n",
       "      <td>1</td>\n",
       "      <td>0</td>\n",
       "      <td>0</td>\n",
       "      <td>0</td>\n",
       "      <td>0</td>\n",
       "      <td>0</td>\n",
       "      <td>0</td>\n",
       "      <td>0</td>\n",
       "      <td>0</td>\n",
       "    </tr>\n",
       "    <tr>\n",
       "      <th>2</th>\n",
       "      <td>2</td>\n",
       "      <td>0</td>\n",
       "      <td>475.070465</td>\n",
       "      <td>309.475372</td>\n",
       "      <td>395.484291</td>\n",
       "      <td>156.138077</td>\n",
       "      <td>554.656639</td>\n",
       "      <td>462.812668</td>\n",
       "      <td>0</td>\n",
       "      <td>409.610718</td>\n",
       "      <td>...</td>\n",
       "      <td>NB</td>\n",
       "      <td>1</td>\n",
       "      <td>0</td>\n",
       "      <td>0</td>\n",
       "      <td>0</td>\n",
       "      <td>0</td>\n",
       "      <td>0</td>\n",
       "      <td>0</td>\n",
       "      <td>0</td>\n",
       "      <td>0</td>\n",
       "    </tr>\n",
       "    <tr>\n",
       "      <th>3</th>\n",
       "      <td>3</td>\n",
       "      <td>0</td>\n",
       "      <td>476.837311</td>\n",
       "      <td>308.901245</td>\n",
       "      <td>399.288238</td>\n",
       "      <td>154.448364</td>\n",
       "      <td>554.386383</td>\n",
       "      <td>463.354126</td>\n",
       "      <td>0</td>\n",
       "      <td>408.519043</td>\n",
       "      <td>...</td>\n",
       "      <td>NB</td>\n",
       "      <td>1</td>\n",
       "      <td>0</td>\n",
       "      <td>0</td>\n",
       "      <td>0</td>\n",
       "      <td>0</td>\n",
       "      <td>0</td>\n",
       "      <td>0</td>\n",
       "      <td>0</td>\n",
       "      <td>0</td>\n",
       "    </tr>\n",
       "    <tr>\n",
       "      <th>4</th>\n",
       "      <td>4</td>\n",
       "      <td>0</td>\n",
       "      <td>476.918640</td>\n",
       "      <td>308.815064</td>\n",
       "      <td>399.598404</td>\n",
       "      <td>154.249756</td>\n",
       "      <td>554.238876</td>\n",
       "      <td>463.380371</td>\n",
       "      <td>0</td>\n",
       "      <td>408.613525</td>\n",
       "      <td>...</td>\n",
       "      <td>NB</td>\n",
       "      <td>1</td>\n",
       "      <td>0</td>\n",
       "      <td>0</td>\n",
       "      <td>0</td>\n",
       "      <td>0</td>\n",
       "      <td>0</td>\n",
       "      <td>0</td>\n",
       "      <td>0</td>\n",
       "      <td>0</td>\n",
       "    </tr>\n",
       "  </tbody>\n",
       "</table>\n",
       "<p>5 rows × 30 columns</p>\n",
       "</div>"
      ],
      "text/plain": [
       "   Frame  N_Person     Xcenter     Ycenter     PerXmin     PerYmin  \\\n",
       "0      0         0  474.999451  309.582947  395.377251  156.402725   \n",
       "1      1         0  474.938843  309.623566  395.161308  156.591705   \n",
       "2      2         0  475.070465  309.475372  395.484291  156.138077   \n",
       "3      3         0  476.837311  308.901245  399.288238  154.448364   \n",
       "4      4         0  476.918640  308.815064  399.598404  154.249756   \n",
       "\n",
       "      PerXmax     PerYmax  N_Handgun   HgXcenter  ...  GT  \\\n",
       "0  554.621651  462.763168          0  409.881988  ...  NB   \n",
       "1  554.716377  462.655426          0  409.638031  ...  NB   \n",
       "2  554.656639  462.812668          0  409.610718  ...  NB   \n",
       "3  554.386383  463.354126          0  408.519043  ...  NB   \n",
       "4  554.238876  463.380371          0  408.613525  ...  NB   \n",
       "\n",
       "   Intersection_Center_left  Intersection_Center_right  \\\n",
       "0                         1                          0   \n",
       "1                         1                          0   \n",
       "2                         1                          0   \n",
       "3                         1                          0   \n",
       "4                         1                          0   \n",
       "\n",
       "   Intersection_Down_center  Intersection_Down_left  Intersection_Inside  \\\n",
       "0                         0                       0                    0   \n",
       "1                         0                       0                    0   \n",
       "2                         0                       0                    0   \n",
       "3                         0                       0                    0   \n",
       "4                         0                       0                    0   \n",
       "\n",
       "   Intersection_No_intersection  Intersection_Up_center  Intersection_Up_left  \\\n",
       "0                             0                       0                     0   \n",
       "1                             0                       0                     0   \n",
       "2                             0                       0                     0   \n",
       "3                             0                       0                     0   \n",
       "4                             0                       0                     0   \n",
       "\n",
       "   Intersection_Up_right  \n",
       "0                      0  \n",
       "1                      0  \n",
       "2                      0  \n",
       "3                      0  \n",
       "4                      0  \n",
       "\n",
       "[5 rows x 30 columns]"
      ]
     },
     "execution_count": 72,
     "metadata": {},
     "output_type": "execute_result"
    }
   ],
   "source": [
    "df2 = pd.get_dummies(df,columns=['Intersection'])\n",
    "df2.head()"
   ]
  },
  {
   "cell_type": "code",
   "execution_count": 73,
   "id": "a246c9a2",
   "metadata": {
    "scrolled": true
   },
   "outputs": [
    {
     "name": "stdout",
     "output_type": "stream",
     "text": [
      "<class 'pandas.core.frame.DataFrame'>\n",
      "RangeIndex: 18502 entries, 0 to 18501\n",
      "Data columns (total 30 columns):\n",
      " #   Column                        Non-Null Count  Dtype  \n",
      "---  ------                        --------------  -----  \n",
      " 0   Frame                         18502 non-null  int64  \n",
      " 1   N_Person                      18502 non-null  int64  \n",
      " 2   Xcenter                       18502 non-null  float64\n",
      " 3   Ycenter                       18502 non-null  float64\n",
      " 4   PerXmin                       18502 non-null  float64\n",
      " 5   PerYmin                       18502 non-null  float64\n",
      " 6   PerXmax                       18502 non-null  float64\n",
      " 7   PerYmax                       18502 non-null  float64\n",
      " 8   N_Handgun                     18502 non-null  int64  \n",
      " 9   HgXcenter                     18502 non-null  float64\n",
      " 10  HgYcenter                     18502 non-null  float64\n",
      " 11  HgXmin                        18502 non-null  float64\n",
      " 12  HgYmin                        18502 non-null  float64\n",
      " 13  HgXmax                        18502 non-null  float64\n",
      " 14  HgYmax                        18502 non-null  float64\n",
      " 15  Included_Center               18502 non-null  int64  \n",
      " 16  Intersection_Area             18502 non-null  float64\n",
      " 17  Hg_Area                       18502 non-null  float64\n",
      " 18  Distance                      18502 non-null  float64\n",
      " 19  Ground_Truth                  18502 non-null  int64  \n",
      " 20  GT                            18502 non-null  object \n",
      " 21  Intersection_Center_left      18502 non-null  uint8  \n",
      " 22  Intersection_Center_right     18502 non-null  uint8  \n",
      " 23  Intersection_Down_center      18502 non-null  uint8  \n",
      " 24  Intersection_Down_left        18502 non-null  uint8  \n",
      " 25  Intersection_Inside           18502 non-null  uint8  \n",
      " 26  Intersection_No_intersection  18502 non-null  uint8  \n",
      " 27  Intersection_Up_center        18502 non-null  uint8  \n",
      " 28  Intersection_Up_left          18502 non-null  uint8  \n",
      " 29  Intersection_Up_right         18502 non-null  uint8  \n",
      "dtypes: float64(15), int64(5), object(1), uint8(9)\n",
      "memory usage: 3.1+ MB\n"
     ]
    }
   ],
   "source": [
    "df2.info()"
   ]
  },
  {
   "cell_type": "markdown",
   "id": "49376aaf",
   "metadata": {},
   "source": [
    "# Random Forest \n",
    "## Todos los predictores"
   ]
  },
  {
   "cell_type": "code",
   "execution_count": 74,
   "id": "a8376980",
   "metadata": {
    "scrolled": true
   },
   "outputs": [
    {
     "name": "stdout",
     "output_type": "stream",
     "text": [
      "{1: 'NB', 0: 'MLP', 2: 'SVM'}\n"
     ]
    }
   ],
   "source": [
    "pred = dict(zip(df2.Ground_Truth.unique(),df2.GT.unique()))\n",
    "print(pred)"
   ]
  },
  {
   "cell_type": "code",
   "execution_count": 75,
   "id": "7e893d55",
   "metadata": {
    "scrolled": false
   },
   "outputs": [
    {
     "name": "stdout",
     "output_type": "stream",
     "text": [
      "0    15109\n",
      "1     2666\n",
      "2      727\n",
      "Name: Ground_Truth, dtype: int64\n"
     ]
    }
   ],
   "source": [
    "print(df2['Ground_Truth'].value_counts())"
   ]
  },
  {
   "cell_type": "code",
   "execution_count": 76,
   "id": "e0a1da1a",
   "metadata": {
    "scrolled": true
   },
   "outputs": [],
   "source": [
    "df3 = df2.drop(columns=[\"GT\"])"
   ]
  },
  {
   "cell_type": "code",
   "execution_count": 77,
   "id": "b88b8d0f",
   "metadata": {
    "scrolled": false
   },
   "outputs": [
    {
     "name": "stdout",
     "output_type": "stream",
     "text": [
      "<class 'pandas.core.frame.DataFrame'>\n",
      "RangeIndex: 18502 entries, 0 to 18501\n",
      "Data columns (total 29 columns):\n",
      " #   Column                        Non-Null Count  Dtype  \n",
      "---  ------                        --------------  -----  \n",
      " 0   Frame                         18502 non-null  int64  \n",
      " 1   N_Person                      18502 non-null  int64  \n",
      " 2   Xcenter                       18502 non-null  float64\n",
      " 3   Ycenter                       18502 non-null  float64\n",
      " 4   PerXmin                       18502 non-null  float64\n",
      " 5   PerYmin                       18502 non-null  float64\n",
      " 6   PerXmax                       18502 non-null  float64\n",
      " 7   PerYmax                       18502 non-null  float64\n",
      " 8   N_Handgun                     18502 non-null  int64  \n",
      " 9   HgXcenter                     18502 non-null  float64\n",
      " 10  HgYcenter                     18502 non-null  float64\n",
      " 11  HgXmin                        18502 non-null  float64\n",
      " 12  HgYmin                        18502 non-null  float64\n",
      " 13  HgXmax                        18502 non-null  float64\n",
      " 14  HgYmax                        18502 non-null  float64\n",
      " 15  Included_Center               18502 non-null  int64  \n",
      " 16  Intersection_Area             18502 non-null  float64\n",
      " 17  Hg_Area                       18502 non-null  float64\n",
      " 18  Distance                      18502 non-null  float64\n",
      " 19  Ground_Truth                  18502 non-null  int64  \n",
      " 20  Intersection_Center_left      18502 non-null  uint8  \n",
      " 21  Intersection_Center_right     18502 non-null  uint8  \n",
      " 22  Intersection_Down_center      18502 non-null  uint8  \n",
      " 23  Intersection_Down_left        18502 non-null  uint8  \n",
      " 24  Intersection_Inside           18502 non-null  uint8  \n",
      " 25  Intersection_No_intersection  18502 non-null  uint8  \n",
      " 26  Intersection_Up_center        18502 non-null  uint8  \n",
      " 27  Intersection_Up_left          18502 non-null  uint8  \n",
      " 28  Intersection_Up_right         18502 non-null  uint8  \n",
      "dtypes: float64(15), int64(5), uint8(9)\n",
      "memory usage: 3.0 MB\n"
     ]
    }
   ],
   "source": [
    "df3.info()"
   ]
  },
  {
   "cell_type": "code",
   "execution_count": 78,
   "id": "c1daddd3",
   "metadata": {},
   "outputs": [
    {
     "name": "stdout",
     "output_type": "stream",
     "text": [
      "(14801, 28) (14801,)\n",
      "(3701, 28) (3701,)\n"
     ]
    }
   ],
   "source": [
    "from sklearn.model_selection import train_test_split\n",
    "\n",
    "train_df, test_df = train_test_split(df3, test_size=0.2, random_state=123)\n",
    "X_train, y_train = train_df.drop(columns=[\"Ground_Truth\"], axis=1), train_df[\"Ground_Truth\"]\n",
    "X_test, y_test = test_df.drop(columns=[\"Ground_Truth\"], axis=1), test_df[\"Ground_Truth\"]\n",
    "\n",
    "print(X_train.shape, y_train.shape)\n",
    "print(X_test.shape, y_test.shape)"
   ]
  },
  {
   "cell_type": "code",
   "execution_count": 81,
   "id": "81e31bc9",
   "metadata": {
    "scrolled": false
   },
   "outputs": [
    {
     "name": "stdout",
     "output_type": "stream",
     "text": [
      "mean_train =  0.8897896612925514\n",
      "mean_test =  0.8880491176524261\n"
     ]
    },
    {
     "data": {
      "text/html": [
       "<div>\n",
       "<style scoped>\n",
       "    .dataframe tbody tr th:only-of-type {\n",
       "        vertical-align: middle;\n",
       "    }\n",
       "\n",
       "    .dataframe tbody tr th {\n",
       "        vertical-align: top;\n",
       "    }\n",
       "\n",
       "    .dataframe thead th {\n",
       "        text-align: right;\n",
       "    }\n",
       "</style>\n",
       "<table border=\"1\" class=\"dataframe\">\n",
       "  <thead>\n",
       "    <tr style=\"text-align: right;\">\n",
       "      <th></th>\n",
       "      <th>fit_time</th>\n",
       "      <th>score_time</th>\n",
       "      <th>test_score</th>\n",
       "      <th>train_score</th>\n",
       "    </tr>\n",
       "  </thead>\n",
       "  <tbody>\n",
       "    <tr>\n",
       "      <th>0</th>\n",
       "      <td>0.096775</td>\n",
       "      <td>0.002989</td>\n",
       "      <td>0.873059</td>\n",
       "      <td>0.880781</td>\n",
       "    </tr>\n",
       "    <tr>\n",
       "      <th>1</th>\n",
       "      <td>0.098766</td>\n",
       "      <td>0.003944</td>\n",
       "      <td>0.892568</td>\n",
       "      <td>0.895503</td>\n",
       "    </tr>\n",
       "    <tr>\n",
       "      <th>2</th>\n",
       "      <td>0.114694</td>\n",
       "      <td>0.004032</td>\n",
       "      <td>0.890541</td>\n",
       "      <td>0.893176</td>\n",
       "    </tr>\n",
       "    <tr>\n",
       "      <th>3</th>\n",
       "      <td>0.105745</td>\n",
       "      <td>0.005938</td>\n",
       "      <td>0.893919</td>\n",
       "      <td>0.891375</td>\n",
       "    </tr>\n",
       "    <tr>\n",
       "      <th>4</th>\n",
       "      <td>0.112325</td>\n",
       "      <td>0.004961</td>\n",
       "      <td>0.888514</td>\n",
       "      <td>0.891750</td>\n",
       "    </tr>\n",
       "    <tr>\n",
       "      <th>5</th>\n",
       "      <td>0.112456</td>\n",
       "      <td>0.007204</td>\n",
       "      <td>0.879054</td>\n",
       "      <td>0.887846</td>\n",
       "    </tr>\n",
       "    <tr>\n",
       "      <th>6</th>\n",
       "      <td>0.102192</td>\n",
       "      <td>0.003074</td>\n",
       "      <td>0.901351</td>\n",
       "      <td>0.894377</td>\n",
       "    </tr>\n",
       "    <tr>\n",
       "      <th>7</th>\n",
       "      <td>0.107743</td>\n",
       "      <td>0.004991</td>\n",
       "      <td>0.890541</td>\n",
       "      <td>0.889498</td>\n",
       "    </tr>\n",
       "    <tr>\n",
       "      <th>8</th>\n",
       "      <td>0.109975</td>\n",
       "      <td>0.003989</td>\n",
       "      <td>0.891892</td>\n",
       "      <td>0.885894</td>\n",
       "    </tr>\n",
       "    <tr>\n",
       "      <th>9</th>\n",
       "      <td>0.113046</td>\n",
       "      <td>0.003994</td>\n",
       "      <td>0.879054</td>\n",
       "      <td>0.887696</td>\n",
       "    </tr>\n",
       "  </tbody>\n",
       "</table>\n",
       "</div>"
      ],
      "text/plain": [
       "   fit_time  score_time  test_score  train_score\n",
       "0  0.096775    0.002989    0.873059     0.880781\n",
       "1  0.098766    0.003944    0.892568     0.895503\n",
       "2  0.114694    0.004032    0.890541     0.893176\n",
       "3  0.105745    0.005938    0.893919     0.891375\n",
       "4  0.112325    0.004961    0.888514     0.891750\n",
       "5  0.112456    0.007204    0.879054     0.887846\n",
       "6  0.102192    0.003074    0.901351     0.894377\n",
       "7  0.107743    0.004991    0.890541     0.889498\n",
       "8  0.109975    0.003989    0.891892     0.885894\n",
       "9  0.113046    0.003994    0.879054     0.887696"
      ]
     },
     "execution_count": 81,
     "metadata": {},
     "output_type": "execute_result"
    }
   ],
   "source": [
    "from sklearn.ensemble import RandomForestClassifier\n",
    "from sklearn.model_selection import cross_validate\n",
    "\n",
    "clf = RandomForestClassifier(n_estimators=10, max_depth=4, random_state=0)\n",
    "y_pred = clf.fit(X_train, y_train).predict(X_test)\n",
    "scores = pd.DataFrame(cross_validate(clf, X_train, y_train, cv=10, return_train_score=True))\n",
    "print(\"mean_train = \", scores['train_score'].mean())\n",
    "print(\"mean_test = \", scores['test_score'].mean())\n",
    "scores"
   ]
  },
  {
   "cell_type": "code",
   "execution_count": 83,
   "id": "803a6a17",
   "metadata": {
    "scrolled": true
   },
   "outputs": [
    {
     "name": "stdout",
     "output_type": "stream",
     "text": [
      "                         feature  importance       std\n",
      "1                       N_Person    0.000000  0.000000\n",
      "22        Intersection_Down_left    0.000000  0.000000\n",
      "21      Intersection_Down_center    0.000000  0.000000\n",
      "26          Intersection_Up_left    0.000000  0.000000\n",
      "13                        HgXmax    0.001364  0.003511\n",
      "27         Intersection_Up_right    0.003311  0.009932\n",
      "15               Included_Center    0.003387  0.010160\n",
      "25        Intersection_Up_center    0.004803  0.014410\n",
      "11                        HgXmin    0.005159  0.015220\n",
      "23           Intersection_Inside    0.006047  0.014928\n",
      "8                      N_Handgun    0.008495  0.025484\n",
      "14                        HgYmax    0.011146  0.018426\n",
      "17                       Hg_Area    0.012006  0.024354\n",
      "5                        PerYmin    0.013440  0.035777\n",
      "3                        Ycenter    0.015208  0.035737\n",
      "20     Intersection_Center_right    0.016334  0.036035\n",
      "4                        PerXmin    0.019344  0.036582\n",
      "6                        PerXmax    0.021990  0.027783\n",
      "12                        HgYmin    0.023368  0.033157\n",
      "9                      HgXcenter    0.029050  0.050512\n",
      "2                        Xcenter    0.034746  0.046810\n",
      "19      Intersection_Center_left    0.034787  0.060910\n",
      "10                     HgYcenter    0.034856  0.070168\n",
      "18                      Distance    0.037628  0.091624\n",
      "0                          Frame    0.082870  0.070559\n",
      "7                        PerYmax    0.117495  0.108550\n",
      "24  Intersection_No_intersection    0.201786  0.241459\n",
      "16             Intersection_Area    0.261379  0.246030\n"
     ]
    },
    {
     "data": {
      "image/png": "[encoded data removed]",
      "text/plain": [
       "<Figure size 800x600 with 1 Axes>"
      ]
     },
     "metadata": {},
     "output_type": "display_data"
    }
   ],
   "source": [
    "clf.fit(X_train.values, y_train.values)\n",
    "predictions=clf.predict(X_test.values)\n",
    "#Le agrego .values para solucionar el problema:\n",
    "#C:\\ProgramData\\Anaconda3\\lib\\site-packages\\sklearn\\base.py:450: UserWarning: X does not have valid feature names, but RandomForestClassifier was fitted with feature names\n",
    "#https://stackoverflow.com/questions/69326639/sklearn-warning-valid-feature-names-in-version-1-0\n",
    "\n",
    "importances = clf.feature_importances_\n",
    "std = np.std([tree.feature_importances_ for tree in clf.estimators_], axis=0)\n",
    "\n",
    "df = pd.DataFrame({'feature': X_train.columns, 'importance': importances, 'std': std})\n",
    "df = df.sort_values('importance')\n",
    "print(df)\n",
    "\n",
    "ax = df.plot(figsize=(8,6),kind='barh', xerr='std', x='feature', legend=False)\n",
    "ax.set_ylabel('')\n",
    "\n",
    "plt.tight_layout()\n",
    "plt.show()"
   ]
  },
  {
   "cell_type": "code",
   "execution_count": 84,
   "id": "4cd43a0d",
   "metadata": {},
   "outputs": [
    {
     "name": "stdout",
     "output_type": "stream",
     "text": [
      "              precision    recall  f1-score   support\n",
      "\n",
      "           0       0.87      0.99      0.93      2993\n",
      "           1       0.86      0.45      0.59       554\n",
      "           2       0.00      0.00      0.00       154\n",
      "\n",
      "    accuracy                           0.87      3701\n",
      "   macro avg       0.58      0.48      0.51      3701\n",
      "weighted avg       0.83      0.87      0.84      3701\n",
      "\n"
     ]
    },
    {
     "name": "stderr",
     "output_type": "stream",
     "text": [
      "C:\\Users\\ALONSO\\anaconda3\\lib\\site-packages\\sklearn\\metrics\\_classification.py:1327: UndefinedMetricWarning: Precision and F-score are ill-defined and being set to 0.0 in labels with no predicted samples. Use `zero_division` parameter to control this behavior.\n",
      "  _warn_prf(average, modifier, msg_start, len(result))\n",
      "C:\\Users\\ALONSO\\anaconda3\\lib\\site-packages\\sklearn\\metrics\\_classification.py:1327: UndefinedMetricWarning: Precision and F-score are ill-defined and being set to 0.0 in labels with no predicted samples. Use `zero_division` parameter to control this behavior.\n",
      "  _warn_prf(average, modifier, msg_start, len(result))\n",
      "C:\\Users\\ALONSO\\anaconda3\\lib\\site-packages\\sklearn\\metrics\\_classification.py:1327: UndefinedMetricWarning: Precision and F-score are ill-defined and being set to 0.0 in labels with no predicted samples. Use `zero_division` parameter to control this behavior.\n",
      "  _warn_prf(average, modifier, msg_start, len(result))\n"
     ]
    }
   ],
   "source": [
    "from sklearn.metrics import classification_report\n",
    "print(classification_report(y_test,predictions))"
   ]
  },
  {
   "cell_type": "code",
   "execution_count": 85,
   "id": "dd9028c7",
   "metadata": {},
   "outputs": [
    {
     "name": "stdout",
     "output_type": "stream",
     "text": [
      "Score train =  0.8697649283977303\n"
     ]
    }
   ],
   "source": [
    "from sklearn.metrics import accuracy_score\n",
    "print(\"Score test = \", accuracy_score(y_test,predictions))"
   ]
  },
  {
   "cell_type": "code",
   "execution_count": 86,
   "id": "5fec60ef",
   "metadata": {},
   "outputs": [
    {
     "name": "stderr",
     "output_type": "stream",
     "text": [
      "C:\\Users\\ALONSO\\anaconda3\\lib\\site-packages\\sklearn\\metrics\\_classification.py:1327: UndefinedMetricWarning: Precision is ill-defined and being set to 0.0 in labels with no predicted samples. Use `zero_division` parameter to control this behavior.\n",
      "  _warn_prf(average, modifier, msg_start, len(result))\n"
     ]
    },
    {
     "data": {
      "text/plain": [
       "0.5753926613357057"
      ]
     },
     "execution_count": 86,
     "metadata": {},
     "output_type": "execute_result"
    }
   ],
   "source": [
    "from sklearn.metrics import precision_score\n",
    "precision_score(y_test,predictions, average='macro')"
   ]
  },
  {
   "cell_type": "code",
   "execution_count": 87,
   "id": "5a5ff676",
   "metadata": {},
   "outputs": [
    {
     "data": {
      "text/plain": [
       "0.48010098171304644"
      ]
     },
     "execution_count": 87,
     "metadata": {},
     "output_type": "execute_result"
    }
   ],
   "source": [
    "from sklearn.metrics import recall_score\n",
    "recall_score(y_test,predictions, average='macro')"
   ]
  },
  {
   "cell_type": "code",
   "execution_count": 88,
   "id": "e285c4d6",
   "metadata": {},
   "outputs": [
    {
     "data": {
      "text/plain": [
       "0.5051784380417846"
      ]
     },
     "execution_count": 88,
     "metadata": {},
     "output_type": "execute_result"
    }
   ],
   "source": [
    "from sklearn.metrics import f1_score\n",
    "f1_score(y_test,predictions, average='macro')"
   ]
  },
  {
   "cell_type": "code",
   "execution_count": 20,
   "id": "b638c813",
   "metadata": {},
   "outputs": [],
   "source": [
    "# save the model to disk\n",
    "filename = 'rfc_model_intersection.sav'\n",
    "pickle.dump(clf, open(filename, 'wb')) "
   ]
  },
  {
   "cell_type": "markdown",
   "id": "a98ecc7b",
   "metadata": {},
   "source": [
    "# Redes Neuronales - Todos los predictores"
   ]
  },
  {
   "cell_type": "code",
   "execution_count": 21,
   "id": "05a611fa",
   "metadata": {
    "scrolled": true
   },
   "outputs": [],
   "source": [
    "X = df3.drop('Ground_Truth',axis='columns')\n",
    "y = df3.Ground_Truth"
   ]
  },
  {
   "cell_type": "code",
   "execution_count": 22,
   "id": "e6473e29",
   "metadata": {
    "scrolled": true
   },
   "outputs": [
    {
     "name": "stdout",
     "output_type": "stream",
     "text": [
      "<class 'pandas.core.frame.DataFrame'>\n",
      "RangeIndex: 18502 entries, 0 to 18501\n",
      "Data columns (total 28 columns):\n",
      " #   Column                        Non-Null Count  Dtype  \n",
      "---  ------                        --------------  -----  \n",
      " 0   Frame                         18502 non-null  int64  \n",
      " 1   N_Person                      18502 non-null  int64  \n",
      " 2   Xcenter                       18502 non-null  float64\n",
      " 3   Ycenter                       18502 non-null  float64\n",
      " 4   PerXmin                       18502 non-null  float64\n",
      " 5   PerYmin                       18502 non-null  float64\n",
      " 6   PerXmax                       18502 non-null  float64\n",
      " 7   PerYmax                       18502 non-null  float64\n",
      " 8   N_Handgun                     18502 non-null  int64  \n",
      " 9   HgXcenter                     18502 non-null  float64\n",
      " 10  HgYcenter                     18502 non-null  float64\n",
      " 11  HgXmin                        18502 non-null  float64\n",
      " 12  HgYmin                        18502 non-null  float64\n",
      " 13  HgXmax                        18502 non-null  float64\n",
      " 14  HgYmax                        18502 non-null  float64\n",
      " 15  Included_Center               18502 non-null  int64  \n",
      " 16  Intersection_Area             18502 non-null  float64\n",
      " 17  Hg_Area                       18502 non-null  float64\n",
      " 18  Distance                      18502 non-null  float64\n",
      " 19  Intersection_Center_left      18502 non-null  uint8  \n",
      " 20  Intersection_Center_right     18502 non-null  uint8  \n",
      " 21  Intersection_Down_center      18502 non-null  uint8  \n",
      " 22  Intersection_Down_left        18502 non-null  uint8  \n",
      " 23  Intersection_Inside           18502 non-null  uint8  \n",
      " 24  Intersection_No_intersection  18502 non-null  uint8  \n",
      " 25  Intersection_Up_center        18502 non-null  uint8  \n",
      " 26  Intersection_Up_left          18502 non-null  uint8  \n",
      " 27  Intersection_Up_right         18502 non-null  uint8  \n",
      "dtypes: float64(15), int64(4), uint8(9)\n",
      "memory usage: 2.8 MB\n"
     ]
    }
   ],
   "source": [
    "X.info()"
   ]
  },
  {
   "cell_type": "code",
   "execution_count": 23,
   "id": "69009579",
   "metadata": {
    "scrolled": true
   },
   "outputs": [
    {
     "data": {
      "text/plain": [
       "array([[-1.86287246, -1.00658199,  0.38706261, -1.05768944,  0.40800638,\n",
       "        -0.80168342,  0.35049427, -1.42445412, -0.49678154,  0.64920141,\n",
       "        -1.25742491,  0.70172539, -1.17650671,  0.59525976, -1.33367325,\n",
       "         1.17786028, -0.049153  , -0.63124782, -0.69620282,  2.66671233,\n",
       "        -0.28378681, -0.01644123, -0.0103975 , -0.53856956, -1.0840528 ,\n",
       "        -0.11985005, -0.06162583, -0.13825047],\n",
       "       [-1.8607042 , -1.00658199,  0.38677696, -1.05709931,  0.40702436,\n",
       "        -0.79999411,  0.35093971, -1.42719866, -0.49678154,  0.64760513,\n",
       "        -1.25827866,  0.69872182, -1.17715774,  0.59505862, -1.33473163,\n",
       "         1.17786028, -0.0467285 , -0.62533114, -0.69477461,  2.66671233,\n",
       "        -0.28378681, -0.01644123, -0.0103975 , -0.53856956, -1.0840528 ,\n",
       "        -0.11985005, -0.06162583, -0.13825047],\n",
       "       [-1.85853595, -1.00658199,  0.3873973 , -1.05925233,  0.40849316,\n",
       "        -0.80404914,  0.3506588 , -1.42319321, -0.49678154,  0.64742642,\n",
       "        -1.25969217,  0.69863236, -1.17835683,  0.5947923 , -1.33635854,\n",
       "         1.17786028, -0.05349877, -0.62641114, -0.69428862,  2.66671233,\n",
       "        -0.28378681, -0.01644123, -0.0103975 , -0.53856956, -1.0840528 ,\n",
       "        -0.11985005, -0.06162583, -0.13825047]])"
      ]
     },
     "execution_count": 23,
     "metadata": {},
     "output_type": "execute_result"
    }
   ],
   "source": [
    "from sklearn.preprocessing import StandardScaler\n",
    "scaler = StandardScaler()\n",
    "X_scaled = scaler.fit_transform(X)\n",
    "X_scaled[:3]\n",
    "#X_scaled.shape"
   ]
  },
  {
   "cell_type": "code",
   "execution_count": 24,
   "id": "452d05da",
   "metadata": {
    "scrolled": false
   },
   "outputs": [
    {
     "name": "stdout",
     "output_type": "stream",
     "text": [
      "[8.59156794e+02 8.79580586e-01 3.92872480e+02 3.82384260e+02\n",
      " 3.05658233e+02 2.46085701e+02 4.80086727e+02 5.18682818e+02\n",
      " 2.98400173e-01 3.10665370e+02 3.12348658e+02 2.87309904e+02\n",
      " 2.92817722e+02 3.34020837e+02 3.31879595e+02 4.18873635e-01\n",
      " 9.26579969e+02 2.02154523e+03 2.31828991e+02 1.23283969e-01\n",
      " 7.45324830e-02 2.70241055e-04 1.08096422e-04 2.24840558e-01\n",
      " 5.40265917e-01 1.41606313e-02 3.78337477e-03 1.87547292e-02]\n"
     ]
    }
   ],
   "source": [
    "print(scaler.mean_)"
   ]
  },
  {
   "cell_type": "code",
   "execution_count": 25,
   "id": "792e3581",
   "metadata": {
    "scrolled": true
   },
   "outputs": [
    {
     "name": "stdout",
     "output_type": "stream",
     "text": [
      "[4.61200009e+02 8.73829051e-01 2.12180070e+02 6.88305187e+01\n",
      " 2.19896115e+02 1.11868318e+02 2.12656612e+02 3.92568978e+01\n",
      " 6.00666794e-01 1.52828715e+02 9.72628259e+01 1.52131404e+02\n",
      " 9.91937777e+01 1.54014725e+02 9.58999926e+01 4.93374617e-01\n",
      " 1.66123687e+03 1.80600545e+03 1.37471575e+02 3.28762881e-01\n",
      " 2.62635474e-01 1.64367888e-02 1.03963810e-02 4.17477282e-01\n",
      " 4.98376019e-01 1.18152900e-01 6.13926775e-02 1.35657618e-01]\n"
     ]
    }
   ],
   "source": [
    "print(scaler.scale_)"
   ]
  },
  {
   "cell_type": "code",
   "execution_count": 26,
   "id": "0f8c7a7e",
   "metadata": {},
   "outputs": [],
   "source": [
    "from sklearn.model_selection import  train_test_split\n",
    "X_train, X_test, y_train, y_test = train_test_split(X_scaled, y, stratify=y, random_state=10) #stratify hace que el ratio entre 0 y 1 se mantenga en la distri. entre el test(y). "
   ]
  },
  {
   "cell_type": "code",
   "execution_count": 27,
   "id": "89c11ff0",
   "metadata": {},
   "outputs": [
    {
     "data": {
      "text/plain": [
       "(13876, 28)"
      ]
     },
     "execution_count": 27,
     "metadata": {},
     "output_type": "execute_result"
    }
   ],
   "source": [
    "X_train.shape"
   ]
  },
  {
   "cell_type": "code",
   "execution_count": 28,
   "id": "809f7a45",
   "metadata": {
    "scrolled": true
   },
   "outputs": [
    {
     "data": {
      "text/plain": [
       "0    11331\n",
       "1     2000\n",
       "2      545\n",
       "Name: Ground_Truth, dtype: int64"
      ]
     },
     "execution_count": 28,
     "metadata": {},
     "output_type": "execute_result"
    }
   ],
   "source": [
    "y_train.value_counts()"
   ]
  },
  {
   "cell_type": "code",
   "execution_count": 29,
   "id": "87692498",
   "metadata": {},
   "outputs": [
    {
     "data": {
      "text/plain": [
       "(4626, 28)"
      ]
     },
     "execution_count": 29,
     "metadata": {},
     "output_type": "execute_result"
    }
   ],
   "source": [
    "X_test.shape"
   ]
  },
  {
   "cell_type": "code",
   "execution_count": 30,
   "id": "37e3175e",
   "metadata": {
    "scrolled": false
   },
   "outputs": [
    {
     "data": {
      "text/plain": [
       "0    3778\n",
       "1     666\n",
       "2     182\n",
       "Name: Ground_Truth, dtype: int64"
      ]
     },
     "execution_count": 30,
     "metadata": {},
     "output_type": "execute_result"
    }
   ],
   "source": [
    "y_test.value_counts()"
   ]
  },
  {
   "cell_type": "code",
   "execution_count": 31,
   "id": "8b1cbdef",
   "metadata": {
    "scrolled": true
   },
   "outputs": [
    {
     "data": {
      "text/plain": [
       "array([[1.00000000e+00, 1.01515261e-18, 1.76427320e-30],\n",
       "       [1.00000000e+00, 1.50404836e-40, 7.59121328e-64],\n",
       "       [1.27121678e-07, 9.99999873e-01, 4.95946197e-13],\n",
       "       ...,\n",
       "       [1.00000000e+00, 7.80035046e-14, 2.02517707e-23],\n",
       "       [5.22449379e-06, 9.99980322e-01, 1.44533061e-05],\n",
       "       [9.35482672e-01, 6.44957475e-02, 2.15810146e-05]])"
      ]
     },
     "execution_count": 31,
     "metadata": {},
     "output_type": "execute_result"
    }
   ],
   "source": [
    "from sklearn.neural_network import MLPClassifier\n",
    "clf=MLPClassifier(hidden_layer_sizes=(25,25,25,25), max_iter=500, alpha=0.0001, solver='adam',\n",
    "                 random_state=0, tol=0.000000001)\n",
    "y_pred = clf.fit(X_train, y_train).predict(X_test)\n",
    "predictions_mlp=clf.predict_proba(X_test)\n",
    "predictions_mlp"
   ]
  },
  {
   "cell_type": "code",
   "execution_count": 32,
   "id": "1e2e8226",
   "metadata": {},
   "outputs": [
    {
     "data": {
      "text/plain": [
       "array([0, 0, 1, ..., 0, 1, 0], dtype=int64)"
      ]
     },
     "execution_count": 32,
     "metadata": {},
     "output_type": "execute_result"
    }
   ],
   "source": [
    "predictions_mlp=clf.predict(X_test)\n",
    "predictions_mlp"
   ]
  },
  {
   "cell_type": "code",
   "execution_count": 34,
   "id": "f87e6606",
   "metadata": {
    "scrolled": true
   },
   "outputs": [
    {
     "name": "stdout",
     "output_type": "stream",
     "text": [
      "              precision    recall  f1-score   support\n",
      "\n",
      "           0       0.99      1.00      0.99      3778\n",
      "           1       0.97      0.94      0.96       666\n",
      "           2       0.97      0.91      0.94       182\n",
      "\n",
      "    accuracy                           0.99      4626\n",
      "   macro avg       0.98      0.95      0.96      4626\n",
      "weighted avg       0.99      0.99      0.99      4626\n",
      "\n"
     ]
    }
   ],
   "source": [
    "from sklearn.metrics import classification_report\n",
    "print(classification_report(y_test,predictions_mlp))"
   ]
  },
  {
   "cell_type": "code",
   "execution_count": 35,
   "id": "88b8b418",
   "metadata": {
    "scrolled": true
   },
   "outputs": [
    {
     "name": "stdout",
     "output_type": "stream",
     "text": [
      "Score train =  0.9920726434130873\n",
      "Score test =  0.9859489840034588\n"
     ]
    }
   ],
   "source": [
    "print(\"Score train = \",clf.score(X_train, y_train))\n",
    "print(\"Score test = \",clf.score(X_test, y_test))"
   ]
  },
  {
   "cell_type": "code",
   "execution_count": 42,
   "id": "f391c1eb",
   "metadata": {},
   "outputs": [
    {
     "name": "stdout",
     "output_type": "stream",
     "text": [
      "Score train =  0.9859489840034588\n"
     ]
    }
   ],
   "source": [
    "from sklearn.metrics import accuracy_score\n",
    "print(\"Score train = \", accuracy_score(y_test,predictions_mlp))"
   ]
  },
  {
   "cell_type": "code",
   "execution_count": 43,
   "id": "aad01dc0",
   "metadata": {},
   "outputs": [
    {
     "data": {
      "text/plain": [
       "0.9764066120275271"
      ]
     },
     "execution_count": 43,
     "metadata": {},
     "output_type": "execute_result"
    }
   ],
   "source": [
    "from sklearn.metrics import precision_score\n",
    "precision_score(y_test,predictions_mlp, average='macro')"
   ]
  },
  {
   "cell_type": "code",
   "execution_count": 44,
   "id": "4647eff9",
   "metadata": {},
   "outputs": [
    {
     "data": {
      "text/plain": [
       "0.9489631488043346"
      ]
     },
     "execution_count": 44,
     "metadata": {},
     "output_type": "execute_result"
    }
   ],
   "source": [
    "from sklearn.metrics import recall_score\n",
    "recall_score(y_test,predictions_mlp, average='macro')"
   ]
  },
  {
   "cell_type": "code",
   "execution_count": 45,
   "id": "60bcb596",
   "metadata": {},
   "outputs": [
    {
     "data": {
      "text/plain": [
       "0.9622562935702407"
      ]
     },
     "execution_count": 45,
     "metadata": {},
     "output_type": "execute_result"
    }
   ],
   "source": [
    "from sklearn.metrics import f1_score\n",
    "f1_score(y_test,predictions_mlp, average='macro')"
   ]
  },
  {
   "cell_type": "code",
   "execution_count": 36,
   "id": "9e560452",
   "metadata": {},
   "outputs": [],
   "source": [
    "# save the model to disk\n",
    "filename = 'mlp_model_intersection.sav'\n",
    "pickle.dump(clf, open(filename, 'wb')) "
   ]
  }
 ],
 "metadata": {
  "kernelspec": {
   "display_name": "Python 3 (ipykernel)",
   "language": "python",
   "name": "python3"
  },
  "language_info": {
   "codemirror_mode": {
    "name": "ipython",
    "version": 3
   },
   "file_extension": ".py",
   "mimetype": "text/x-python",
   "name": "python",
   "nbconvert_exporter": "python",
   "pygments_lexer": "ipython3",
   "version": "3.8.11"
  }
 },
 "nbformat": 4,
 "nbformat_minor": 5
}
