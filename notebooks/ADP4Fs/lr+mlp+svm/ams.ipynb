{
 "cells": [
  {
   "cell_type": "code",
   "execution_count": 47,
   "id": "5d87e640",
   "metadata": {},
   "outputs": [],
   "source": [
    "import pickle\n",
    "import numpy as np\n",
    "import pandas as pd\n",
    "import matplotlib.pyplot as plt\n",
    "%matplotlib inline"
   ]
  },
  {
   "cell_type": "code",
   "execution_count": 48,
   "id": "95600074",
   "metadata": {
    "scrolled": true
   },
   "outputs": [
    {
     "data": {
      "text/html": [
       "<div>\n",
       "<style scoped>\n",
       "    .dataframe tbody tr th:only-of-type {\n",
       "        vertical-align: middle;\n",
       "    }\n",
       "\n",
       "    .dataframe tbody tr th {\n",
       "        vertical-align: top;\n",
       "    }\n",
       "\n",
       "    .dataframe thead th {\n",
       "        text-align: right;\n",
       "    }\n",
       "</style>\n",
       "<table border=\"1\" class=\"dataframe\">\n",
       "  <thead>\n",
       "    <tr style=\"text-align: right;\">\n",
       "      <th></th>\n",
       "      <th>Frame</th>\n",
       "      <th>N_Person</th>\n",
       "      <th>Xcenter</th>\n",
       "      <th>Ycenter</th>\n",
       "      <th>PerXmin</th>\n",
       "      <th>PerYmin</th>\n",
       "      <th>PerXmax</th>\n",
       "      <th>PerYmax</th>\n",
       "      <th>N_Handgun</th>\n",
       "      <th>HgXcenter</th>\n",
       "      <th>...</th>\n",
       "      <th>HgYmin</th>\n",
       "      <th>HgXmax</th>\n",
       "      <th>HgYmax</th>\n",
       "      <th>Intersection</th>\n",
       "      <th>Included_Center</th>\n",
       "      <th>Intersection_Area</th>\n",
       "      <th>Hg_Area</th>\n",
       "      <th>Distance</th>\n",
       "      <th>Ground_Truth</th>\n",
       "      <th>GT</th>\n",
       "    </tr>\n",
       "  </thead>\n",
       "  <tbody>\n",
       "    <tr>\n",
       "      <th>0</th>\n",
       "      <td>0</td>\n",
       "      <td>0</td>\n",
       "      <td>474.999451</td>\n",
       "      <td>309.582947</td>\n",
       "      <td>395.377251</td>\n",
       "      <td>156.402725</td>\n",
       "      <td>554.621651</td>\n",
       "      <td>462.763168</td>\n",
       "      <td>0</td>\n",
       "      <td>409.881988</td>\n",
       "      <td>...</td>\n",
       "      <td>176.115577</td>\n",
       "      <td>425.699604</td>\n",
       "      <td>203.980340</td>\n",
       "      <td>Center_left</td>\n",
       "      <td>1</td>\n",
       "      <td>844.925198</td>\n",
       "      <td>881.508223</td>\n",
       "      <td>136.120892</td>\n",
       "      <td>0</td>\n",
       "      <td>MLP</td>\n",
       "    </tr>\n",
       "    <tr>\n",
       "      <th>1</th>\n",
       "      <td>1</td>\n",
       "      <td>0</td>\n",
       "      <td>474.938843</td>\n",
       "      <td>309.623566</td>\n",
       "      <td>395.161308</td>\n",
       "      <td>156.591705</td>\n",
       "      <td>554.716377</td>\n",
       "      <td>462.655426</td>\n",
       "      <td>0</td>\n",
       "      <td>409.638031</td>\n",
       "      <td>...</td>\n",
       "      <td>176.050999</td>\n",
       "      <td>425.668627</td>\n",
       "      <td>203.878841</td>\n",
       "      <td>Center_left</td>\n",
       "      <td>1</td>\n",
       "      <td>848.952861</td>\n",
       "      <td>892.193796</td>\n",
       "      <td>136.317231</td>\n",
       "      <td>0</td>\n",
       "      <td>MLP</td>\n",
       "    </tr>\n",
       "    <tr>\n",
       "      <th>2</th>\n",
       "      <td>2</td>\n",
       "      <td>0</td>\n",
       "      <td>475.070465</td>\n",
       "      <td>309.475372</td>\n",
       "      <td>395.484291</td>\n",
       "      <td>156.138077</td>\n",
       "      <td>554.656639</td>\n",
       "      <td>462.812668</td>\n",
       "      <td>0</td>\n",
       "      <td>409.610718</td>\n",
       "      <td>...</td>\n",
       "      <td>175.932056</td>\n",
       "      <td>425.627609</td>\n",
       "      <td>203.722820</td>\n",
       "      <td>Center_left</td>\n",
       "      <td>1</td>\n",
       "      <td>837.705837</td>\n",
       "      <td>890.243298</td>\n",
       "      <td>136.384041</td>\n",
       "      <td>0</td>\n",
       "      <td>MLP</td>\n",
       "    </tr>\n",
       "    <tr>\n",
       "      <th>3</th>\n",
       "      <td>3</td>\n",
       "      <td>0</td>\n",
       "      <td>476.837311</td>\n",
       "      <td>308.901245</td>\n",
       "      <td>399.288238</td>\n",
       "      <td>154.448364</td>\n",
       "      <td>554.386383</td>\n",
       "      <td>463.354126</td>\n",
       "      <td>0</td>\n",
       "      <td>408.519043</td>\n",
       "      <td>...</td>\n",
       "      <td>177.653896</td>\n",
       "      <td>423.709709</td>\n",
       "      <td>202.787083</td>\n",
       "      <td>Center_left</td>\n",
       "      <td>1</td>\n",
       "      <td>613.789372</td>\n",
       "      <td>763.579688</td>\n",
       "      <td>136.939795</td>\n",
       "      <td>0</td>\n",
       "      <td>MLP</td>\n",
       "    </tr>\n",
       "    <tr>\n",
       "      <th>4</th>\n",
       "      <td>4</td>\n",
       "      <td>0</td>\n",
       "      <td>476.918640</td>\n",
       "      <td>308.815064</td>\n",
       "      <td>399.598404</td>\n",
       "      <td>154.249756</td>\n",
       "      <td>554.238876</td>\n",
       "      <td>463.380371</td>\n",
       "      <td>0</td>\n",
       "      <td>408.613525</td>\n",
       "      <td>...</td>\n",
       "      <td>177.582060</td>\n",
       "      <td>423.771116</td>\n",
       "      <td>202.885134</td>\n",
       "      <td>Center_left</td>\n",
       "      <td>1</td>\n",
       "      <td>611.643926</td>\n",
       "      <td>767.067283</td>\n",
       "      <td>136.847188</td>\n",
       "      <td>0</td>\n",
       "      <td>MLP</td>\n",
       "    </tr>\n",
       "  </tbody>\n",
       "</table>\n",
       "<p>5 rows × 22 columns</p>\n",
       "</div>"
      ],
      "text/plain": [
       "   Frame  N_Person     Xcenter     Ycenter     PerXmin     PerYmin  \\\n",
       "0      0         0  474.999451  309.582947  395.377251  156.402725   \n",
       "1      1         0  474.938843  309.623566  395.161308  156.591705   \n",
       "2      2         0  475.070465  309.475372  395.484291  156.138077   \n",
       "3      3         0  476.837311  308.901245  399.288238  154.448364   \n",
       "4      4         0  476.918640  308.815064  399.598404  154.249756   \n",
       "\n",
       "      PerXmax     PerYmax  N_Handgun   HgXcenter  ...      HgYmin      HgXmax  \\\n",
       "0  554.621651  462.763168          0  409.881988  ...  176.115577  425.699604   \n",
       "1  554.716377  462.655426          0  409.638031  ...  176.050999  425.668627   \n",
       "2  554.656639  462.812668          0  409.610718  ...  175.932056  425.627609   \n",
       "3  554.386383  463.354126          0  408.519043  ...  177.653896  423.709709   \n",
       "4  554.238876  463.380371          0  408.613525  ...  177.582060  423.771116   \n",
       "\n",
       "       HgYmax  Intersection  Included_Center Intersection_Area     Hg_Area  \\\n",
       "0  203.980340   Center_left                1        844.925198  881.508223   \n",
       "1  203.878841   Center_left                1        848.952861  892.193796   \n",
       "2  203.722820   Center_left                1        837.705837  890.243298   \n",
       "3  202.787083   Center_left                1        613.789372  763.579688   \n",
       "4  202.885134   Center_left                1        611.643926  767.067283   \n",
       "\n",
       "     Distance  Ground_Truth   GT  \n",
       "0  136.120892             0  MLP  \n",
       "1  136.317231             0  MLP  \n",
       "2  136.384041             0  MLP  \n",
       "3  136.939795             0  MLP  \n",
       "4  136.847188             0  MLP  \n",
       "\n",
       "[5 rows x 22 columns]"
      ]
     },
     "execution_count": 48,
     "metadata": {},
     "output_type": "execute_result"
    }
   ],
   "source": [
    "df = pd.read_csv('ams23.csv')\n",
    "df.head()"
   ]
  },
  {
   "cell_type": "code",
   "execution_count": 49,
   "id": "8ae1ff95",
   "metadata": {},
   "outputs": [
    {
     "data": {
      "text/plain": [
       "18497"
      ]
     },
     "execution_count": 49,
     "metadata": {},
     "output_type": "execute_result"
    }
   ],
   "source": [
    "len(df)"
   ]
  },
  {
   "cell_type": "code",
   "execution_count": 50,
   "id": "9ac6c889",
   "metadata": {
    "scrolled": true
   },
   "outputs": [
    {
     "name": "stdout",
     "output_type": "stream",
     "text": [
      "<class 'pandas.core.frame.DataFrame'>\n",
      "RangeIndex: 18497 entries, 0 to 18496\n",
      "Data columns (total 22 columns):\n",
      " #   Column             Non-Null Count  Dtype  \n",
      "---  ------             --------------  -----  \n",
      " 0   Frame              18497 non-null  int64  \n",
      " 1   N_Person           18497 non-null  int64  \n",
      " 2   Xcenter            18497 non-null  float64\n",
      " 3   Ycenter            18497 non-null  float64\n",
      " 4   PerXmin            18497 non-null  float64\n",
      " 5   PerYmin            18497 non-null  float64\n",
      " 6   PerXmax            18497 non-null  float64\n",
      " 7   PerYmax            18497 non-null  float64\n",
      " 8   N_Handgun          18497 non-null  int64  \n",
      " 9   HgXcenter          18497 non-null  float64\n",
      " 10  HgYcenter          18497 non-null  float64\n",
      " 11  HgXmin             18497 non-null  float64\n",
      " 12  HgYmin             18497 non-null  float64\n",
      " 13  HgXmax             18497 non-null  float64\n",
      " 14  HgYmax             18497 non-null  float64\n",
      " 15  Intersection       18497 non-null  object \n",
      " 16  Included_Center    18497 non-null  int64  \n",
      " 17  Intersection_Area  18497 non-null  float64\n",
      " 18  Hg_Area            18497 non-null  float64\n",
      " 19  Distance           18497 non-null  float64\n",
      " 20  Ground_Truth       18497 non-null  int64  \n",
      " 21  GT                 18497 non-null  object \n",
      "dtypes: float64(15), int64(5), object(2)\n",
      "memory usage: 3.1+ MB\n"
     ]
    }
   ],
   "source": [
    "df.info()"
   ]
  },
  {
   "cell_type": "code",
   "execution_count": 51,
   "id": "048f07b5",
   "metadata": {},
   "outputs": [
    {
     "data": {
      "text/plain": [
       "Frame                 1933\n",
       "N_Person                 5\n",
       "Xcenter              14250\n",
       "Ycenter              14231\n",
       "PerXmin              14258\n",
       "PerYmin              14255\n",
       "PerXmax              14258\n",
       "PerYmax              14235\n",
       "N_Handgun                5\n",
       "HgXcenter             7301\n",
       "HgYcenter             7299\n",
       "HgXmin                7303\n",
       "HgYmin                7303\n",
       "HgXmax                7303\n",
       "HgYmax                7302\n",
       "Intersection             9\n",
       "Included_Center          2\n",
       "Intersection_Area     8467\n",
       "Hg_Area               7303\n",
       "Distance             18497\n",
       "Ground_Truth             3\n",
       "GT                       3\n",
       "dtype: int64"
      ]
     },
     "execution_count": 51,
     "metadata": {},
     "output_type": "execute_result"
    }
   ],
   "source": [
    "df.nunique()"
   ]
  },
  {
   "cell_type": "code",
   "execution_count": 52,
   "id": "86b0f52d",
   "metadata": {
    "scrolled": false
   },
   "outputs": [
    {
     "data": {
      "text/plain": [
       "0    15960\n",
       "1     2307\n",
       "2      230\n",
       "Name: Ground_Truth, dtype: int64"
      ]
     },
     "execution_count": 52,
     "metadata": {},
     "output_type": "execute_result"
    }
   ],
   "source": [
    "df['Ground_Truth'].value_counts()"
   ]
  },
  {
   "cell_type": "code",
   "execution_count": 53,
   "id": "732110e8",
   "metadata": {
    "scrolled": false
   },
   "outputs": [
    {
     "data": {
      "text/html": [
       "<div>\n",
       "<style scoped>\n",
       "    .dataframe tbody tr th:only-of-type {\n",
       "        vertical-align: middle;\n",
       "    }\n",
       "\n",
       "    .dataframe tbody tr th {\n",
       "        vertical-align: top;\n",
       "    }\n",
       "\n",
       "    .dataframe thead th {\n",
       "        text-align: right;\n",
       "    }\n",
       "</style>\n",
       "<table border=\"1\" class=\"dataframe\">\n",
       "  <thead>\n",
       "    <tr style=\"text-align: right;\">\n",
       "      <th></th>\n",
       "      <th>Frame</th>\n",
       "      <th>N_Person</th>\n",
       "      <th>Xcenter</th>\n",
       "      <th>Ycenter</th>\n",
       "      <th>PerXmin</th>\n",
       "      <th>PerYmin</th>\n",
       "      <th>PerXmax</th>\n",
       "      <th>PerYmax</th>\n",
       "      <th>N_Handgun</th>\n",
       "      <th>HgXcenter</th>\n",
       "      <th>...</th>\n",
       "      <th>GT</th>\n",
       "      <th>Intersection_Center_left</th>\n",
       "      <th>Intersection_Center_right</th>\n",
       "      <th>Intersection_Down_center</th>\n",
       "      <th>Intersection_Down_left</th>\n",
       "      <th>Intersection_Inside</th>\n",
       "      <th>Intersection_No_intersection</th>\n",
       "      <th>Intersection_Up_center</th>\n",
       "      <th>Intersection_Up_left</th>\n",
       "      <th>Intersection_Up_right</th>\n",
       "    </tr>\n",
       "  </thead>\n",
       "  <tbody>\n",
       "    <tr>\n",
       "      <th>0</th>\n",
       "      <td>0</td>\n",
       "      <td>0</td>\n",
       "      <td>474.999451</td>\n",
       "      <td>309.582947</td>\n",
       "      <td>395.377251</td>\n",
       "      <td>156.402725</td>\n",
       "      <td>554.621651</td>\n",
       "      <td>462.763168</td>\n",
       "      <td>0</td>\n",
       "      <td>409.881988</td>\n",
       "      <td>...</td>\n",
       "      <td>MLP</td>\n",
       "      <td>1</td>\n",
       "      <td>0</td>\n",
       "      <td>0</td>\n",
       "      <td>0</td>\n",
       "      <td>0</td>\n",
       "      <td>0</td>\n",
       "      <td>0</td>\n",
       "      <td>0</td>\n",
       "      <td>0</td>\n",
       "    </tr>\n",
       "    <tr>\n",
       "      <th>1</th>\n",
       "      <td>1</td>\n",
       "      <td>0</td>\n",
       "      <td>474.938843</td>\n",
       "      <td>309.623566</td>\n",
       "      <td>395.161308</td>\n",
       "      <td>156.591705</td>\n",
       "      <td>554.716377</td>\n",
       "      <td>462.655426</td>\n",
       "      <td>0</td>\n",
       "      <td>409.638031</td>\n",
       "      <td>...</td>\n",
       "      <td>MLP</td>\n",
       "      <td>1</td>\n",
       "      <td>0</td>\n",
       "      <td>0</td>\n",
       "      <td>0</td>\n",
       "      <td>0</td>\n",
       "      <td>0</td>\n",
       "      <td>0</td>\n",
       "      <td>0</td>\n",
       "      <td>0</td>\n",
       "    </tr>\n",
       "    <tr>\n",
       "      <th>2</th>\n",
       "      <td>2</td>\n",
       "      <td>0</td>\n",
       "      <td>475.070465</td>\n",
       "      <td>309.475372</td>\n",
       "      <td>395.484291</td>\n",
       "      <td>156.138077</td>\n",
       "      <td>554.656639</td>\n",
       "      <td>462.812668</td>\n",
       "      <td>0</td>\n",
       "      <td>409.610718</td>\n",
       "      <td>...</td>\n",
       "      <td>MLP</td>\n",
       "      <td>1</td>\n",
       "      <td>0</td>\n",
       "      <td>0</td>\n",
       "      <td>0</td>\n",
       "      <td>0</td>\n",
       "      <td>0</td>\n",
       "      <td>0</td>\n",
       "      <td>0</td>\n",
       "      <td>0</td>\n",
       "    </tr>\n",
       "    <tr>\n",
       "      <th>3</th>\n",
       "      <td>3</td>\n",
       "      <td>0</td>\n",
       "      <td>476.837311</td>\n",
       "      <td>308.901245</td>\n",
       "      <td>399.288238</td>\n",
       "      <td>154.448364</td>\n",
       "      <td>554.386383</td>\n",
       "      <td>463.354126</td>\n",
       "      <td>0</td>\n",
       "      <td>408.519043</td>\n",
       "      <td>...</td>\n",
       "      <td>MLP</td>\n",
       "      <td>1</td>\n",
       "      <td>0</td>\n",
       "      <td>0</td>\n",
       "      <td>0</td>\n",
       "      <td>0</td>\n",
       "      <td>0</td>\n",
       "      <td>0</td>\n",
       "      <td>0</td>\n",
       "      <td>0</td>\n",
       "    </tr>\n",
       "    <tr>\n",
       "      <th>4</th>\n",
       "      <td>4</td>\n",
       "      <td>0</td>\n",
       "      <td>476.918640</td>\n",
       "      <td>308.815064</td>\n",
       "      <td>399.598404</td>\n",
       "      <td>154.249756</td>\n",
       "      <td>554.238876</td>\n",
       "      <td>463.380371</td>\n",
       "      <td>0</td>\n",
       "      <td>408.613525</td>\n",
       "      <td>...</td>\n",
       "      <td>MLP</td>\n",
       "      <td>1</td>\n",
       "      <td>0</td>\n",
       "      <td>0</td>\n",
       "      <td>0</td>\n",
       "      <td>0</td>\n",
       "      <td>0</td>\n",
       "      <td>0</td>\n",
       "      <td>0</td>\n",
       "      <td>0</td>\n",
       "    </tr>\n",
       "  </tbody>\n",
       "</table>\n",
       "<p>5 rows × 30 columns</p>\n",
       "</div>"
      ],
      "text/plain": [
       "   Frame  N_Person     Xcenter     Ycenter     PerXmin     PerYmin  \\\n",
       "0      0         0  474.999451  309.582947  395.377251  156.402725   \n",
       "1      1         0  474.938843  309.623566  395.161308  156.591705   \n",
       "2      2         0  475.070465  309.475372  395.484291  156.138077   \n",
       "3      3         0  476.837311  308.901245  399.288238  154.448364   \n",
       "4      4         0  476.918640  308.815064  399.598404  154.249756   \n",
       "\n",
       "      PerXmax     PerYmax  N_Handgun   HgXcenter  ...   GT  \\\n",
       "0  554.621651  462.763168          0  409.881988  ...  MLP   \n",
       "1  554.716377  462.655426          0  409.638031  ...  MLP   \n",
       "2  554.656639  462.812668          0  409.610718  ...  MLP   \n",
       "3  554.386383  463.354126          0  408.519043  ...  MLP   \n",
       "4  554.238876  463.380371          0  408.613525  ...  MLP   \n",
       "\n",
       "   Intersection_Center_left  Intersection_Center_right  \\\n",
       "0                         1                          0   \n",
       "1                         1                          0   \n",
       "2                         1                          0   \n",
       "3                         1                          0   \n",
       "4                         1                          0   \n",
       "\n",
       "   Intersection_Down_center  Intersection_Down_left  Intersection_Inside  \\\n",
       "0                         0                       0                    0   \n",
       "1                         0                       0                    0   \n",
       "2                         0                       0                    0   \n",
       "3                         0                       0                    0   \n",
       "4                         0                       0                    0   \n",
       "\n",
       "   Intersection_No_intersection  Intersection_Up_center  Intersection_Up_left  \\\n",
       "0                             0                       0                     0   \n",
       "1                             0                       0                     0   \n",
       "2                             0                       0                     0   \n",
       "3                             0                       0                     0   \n",
       "4                             0                       0                     0   \n",
       "\n",
       "   Intersection_Up_right  \n",
       "0                      0  \n",
       "1                      0  \n",
       "2                      0  \n",
       "3                      0  \n",
       "4                      0  \n",
       "\n",
       "[5 rows x 30 columns]"
      ]
     },
     "execution_count": 53,
     "metadata": {},
     "output_type": "execute_result"
    }
   ],
   "source": [
    "df2 = pd.get_dummies(df,columns=['Intersection'])\n",
    "df2.head()"
   ]
  },
  {
   "cell_type": "code",
   "execution_count": 54,
   "id": "a246c9a2",
   "metadata": {
    "scrolled": true
   },
   "outputs": [
    {
     "name": "stdout",
     "output_type": "stream",
     "text": [
      "<class 'pandas.core.frame.DataFrame'>\n",
      "RangeIndex: 18497 entries, 0 to 18496\n",
      "Data columns (total 30 columns):\n",
      " #   Column                        Non-Null Count  Dtype  \n",
      "---  ------                        --------------  -----  \n",
      " 0   Frame                         18497 non-null  int64  \n",
      " 1   N_Person                      18497 non-null  int64  \n",
      " 2   Xcenter                       18497 non-null  float64\n",
      " 3   Ycenter                       18497 non-null  float64\n",
      " 4   PerXmin                       18497 non-null  float64\n",
      " 5   PerYmin                       18497 non-null  float64\n",
      " 6   PerXmax                       18497 non-null  float64\n",
      " 7   PerYmax                       18497 non-null  float64\n",
      " 8   N_Handgun                     18497 non-null  int64  \n",
      " 9   HgXcenter                     18497 non-null  float64\n",
      " 10  HgYcenter                     18497 non-null  float64\n",
      " 11  HgXmin                        18497 non-null  float64\n",
      " 12  HgYmin                        18497 non-null  float64\n",
      " 13  HgXmax                        18497 non-null  float64\n",
      " 14  HgYmax                        18497 non-null  float64\n",
      " 15  Included_Center               18497 non-null  int64  \n",
      " 16  Intersection_Area             18497 non-null  float64\n",
      " 17  Hg_Area                       18497 non-null  float64\n",
      " 18  Distance                      18497 non-null  float64\n",
      " 19  Ground_Truth                  18497 non-null  int64  \n",
      " 20  GT                            18497 non-null  object \n",
      " 21  Intersection_Center_left      18497 non-null  uint8  \n",
      " 22  Intersection_Center_right     18497 non-null  uint8  \n",
      " 23  Intersection_Down_center      18497 non-null  uint8  \n",
      " 24  Intersection_Down_left        18497 non-null  uint8  \n",
      " 25  Intersection_Inside           18497 non-null  uint8  \n",
      " 26  Intersection_No_intersection  18497 non-null  uint8  \n",
      " 27  Intersection_Up_center        18497 non-null  uint8  \n",
      " 28  Intersection_Up_left          18497 non-null  uint8  \n",
      " 29  Intersection_Up_right         18497 non-null  uint8  \n",
      "dtypes: float64(15), int64(5), object(1), uint8(9)\n",
      "memory usage: 3.1+ MB\n"
     ]
    }
   ],
   "source": [
    "df2.info()"
   ]
  },
  {
   "cell_type": "markdown",
   "id": "49376aaf",
   "metadata": {},
   "source": [
    "# Random Forest \n",
    "## Todos los predictores"
   ]
  },
  {
   "cell_type": "code",
   "execution_count": 55,
   "id": "a8376980",
   "metadata": {
    "scrolled": true
   },
   "outputs": [
    {
     "name": "stdout",
     "output_type": "stream",
     "text": [
      "{0: 'MLP', 2: 'SVM', 1: 'LR'}\n"
     ]
    }
   ],
   "source": [
    "pred = dict(zip(df2.Ground_Truth.unique(),df2.GT.unique()))\n",
    "print(pred)"
   ]
  },
  {
   "cell_type": "code",
   "execution_count": 56,
   "id": "7e893d55",
   "metadata": {
    "scrolled": false
   },
   "outputs": [
    {
     "name": "stdout",
     "output_type": "stream",
     "text": [
      "0    15960\n",
      "1     2307\n",
      "2      230\n",
      "Name: Ground_Truth, dtype: int64\n"
     ]
    }
   ],
   "source": [
    "print(df2['Ground_Truth'].value_counts())"
   ]
  },
  {
   "cell_type": "code",
   "execution_count": 57,
   "id": "e0a1da1a",
   "metadata": {
    "scrolled": true
   },
   "outputs": [],
   "source": [
    "df3 = df2.drop(columns=[\"GT\"])"
   ]
  },
  {
   "cell_type": "code",
   "execution_count": 58,
   "id": "b88b8d0f",
   "metadata": {
    "scrolled": false
   },
   "outputs": [
    {
     "name": "stdout",
     "output_type": "stream",
     "text": [
      "<class 'pandas.core.frame.DataFrame'>\n",
      "RangeIndex: 18497 entries, 0 to 18496\n",
      "Data columns (total 29 columns):\n",
      " #   Column                        Non-Null Count  Dtype  \n",
      "---  ------                        --------------  -----  \n",
      " 0   Frame                         18497 non-null  int64  \n",
      " 1   N_Person                      18497 non-null  int64  \n",
      " 2   Xcenter                       18497 non-null  float64\n",
      " 3   Ycenter                       18497 non-null  float64\n",
      " 4   PerXmin                       18497 non-null  float64\n",
      " 5   PerYmin                       18497 non-null  float64\n",
      " 6   PerXmax                       18497 non-null  float64\n",
      " 7   PerYmax                       18497 non-null  float64\n",
      " 8   N_Handgun                     18497 non-null  int64  \n",
      " 9   HgXcenter                     18497 non-null  float64\n",
      " 10  HgYcenter                     18497 non-null  float64\n",
      " 11  HgXmin                        18497 non-null  float64\n",
      " 12  HgYmin                        18497 non-null  float64\n",
      " 13  HgXmax                        18497 non-null  float64\n",
      " 14  HgYmax                        18497 non-null  float64\n",
      " 15  Included_Center               18497 non-null  int64  \n",
      " 16  Intersection_Area             18497 non-null  float64\n",
      " 17  Hg_Area                       18497 non-null  float64\n",
      " 18  Distance                      18497 non-null  float64\n",
      " 19  Ground_Truth                  18497 non-null  int64  \n",
      " 20  Intersection_Center_left      18497 non-null  uint8  \n",
      " 21  Intersection_Center_right     18497 non-null  uint8  \n",
      " 22  Intersection_Down_center      18497 non-null  uint8  \n",
      " 23  Intersection_Down_left        18497 non-null  uint8  \n",
      " 24  Intersection_Inside           18497 non-null  uint8  \n",
      " 25  Intersection_No_intersection  18497 non-null  uint8  \n",
      " 26  Intersection_Up_center        18497 non-null  uint8  \n",
      " 27  Intersection_Up_left          18497 non-null  uint8  \n",
      " 28  Intersection_Up_right         18497 non-null  uint8  \n",
      "dtypes: float64(15), int64(5), uint8(9)\n",
      "memory usage: 3.0 MB\n"
     ]
    }
   ],
   "source": [
    "df3.info()"
   ]
  },
  {
   "cell_type": "code",
   "execution_count": 59,
   "id": "c1daddd3",
   "metadata": {},
   "outputs": [
    {
     "name": "stdout",
     "output_type": "stream",
     "text": [
      "(14797, 28) (14797,)\n",
      "(3700, 28) (3700,)\n"
     ]
    }
   ],
   "source": [
    "from sklearn.model_selection import train_test_split\n",
    "\n",
    "train_df, test_df = train_test_split(df3, test_size=0.2, random_state=123)\n",
    "X_train, y_train = train_df.drop(columns=[\"Ground_Truth\"], axis=1), train_df[\"Ground_Truth\"]\n",
    "X_test, y_test = test_df.drop(columns=[\"Ground_Truth\"], axis=1), test_df[\"Ground_Truth\"]\n",
    "\n",
    "print(X_train.shape, y_train.shape)\n",
    "print(X_test.shape, y_test.shape)"
   ]
  },
  {
   "cell_type": "code",
   "execution_count": 62,
   "id": "81e31bc9",
   "metadata": {
    "scrolled": false
   },
   "outputs": [
    {
     "name": "stdout",
     "output_type": "stream",
     "text": [
      "mean_train =  0.9397099630332937\n",
      "mean_test =  0.9379600442227216\n"
     ]
    },
    {
     "data": {
      "text/html": [
       "<div>\n",
       "<style scoped>\n",
       "    .dataframe tbody tr th:only-of-type {\n",
       "        vertical-align: middle;\n",
       "    }\n",
       "\n",
       "    .dataframe tbody tr th {\n",
       "        vertical-align: top;\n",
       "    }\n",
       "\n",
       "    .dataframe thead th {\n",
       "        text-align: right;\n",
       "    }\n",
       "</style>\n",
       "<table border=\"1\" class=\"dataframe\">\n",
       "  <thead>\n",
       "    <tr style=\"text-align: right;\">\n",
       "      <th></th>\n",
       "      <th>fit_time</th>\n",
       "      <th>score_time</th>\n",
       "      <th>test_score</th>\n",
       "      <th>train_score</th>\n",
       "    </tr>\n",
       "  </thead>\n",
       "  <tbody>\n",
       "    <tr>\n",
       "      <th>0</th>\n",
       "      <td>0.158589</td>\n",
       "      <td>0.003948</td>\n",
       "      <td>0.943243</td>\n",
       "      <td>0.939326</td>\n",
       "    </tr>\n",
       "    <tr>\n",
       "      <th>1</th>\n",
       "      <td>0.152548</td>\n",
       "      <td>0.006031</td>\n",
       "      <td>0.941216</td>\n",
       "      <td>0.941428</td>\n",
       "    </tr>\n",
       "    <tr>\n",
       "      <th>2</th>\n",
       "      <td>0.146643</td>\n",
       "      <td>0.006996</td>\n",
       "      <td>0.935811</td>\n",
       "      <td>0.934144</td>\n",
       "    </tr>\n",
       "    <tr>\n",
       "      <th>3</th>\n",
       "      <td>0.165954</td>\n",
       "      <td>0.003981</td>\n",
       "      <td>0.943919</td>\n",
       "      <td>0.946610</td>\n",
       "    </tr>\n",
       "    <tr>\n",
       "      <th>4</th>\n",
       "      <td>0.163159</td>\n",
       "      <td>0.004062</td>\n",
       "      <td>0.932432</td>\n",
       "      <td>0.936097</td>\n",
       "    </tr>\n",
       "    <tr>\n",
       "      <th>5</th>\n",
       "      <td>0.138603</td>\n",
       "      <td>0.006981</td>\n",
       "      <td>0.940541</td>\n",
       "      <td>0.939776</td>\n",
       "    </tr>\n",
       "    <tr>\n",
       "      <th>6</th>\n",
       "      <td>0.153189</td>\n",
       "      <td>0.002960</td>\n",
       "      <td>0.933784</td>\n",
       "      <td>0.935496</td>\n",
       "    </tr>\n",
       "    <tr>\n",
       "      <th>7</th>\n",
       "      <td>0.152562</td>\n",
       "      <td>0.005997</td>\n",
       "      <td>0.932387</td>\n",
       "      <td>0.939405</td>\n",
       "    </tr>\n",
       "    <tr>\n",
       "      <th>8</th>\n",
       "      <td>0.134718</td>\n",
       "      <td>0.003978</td>\n",
       "      <td>0.939824</td>\n",
       "      <td>0.943385</td>\n",
       "    </tr>\n",
       "    <tr>\n",
       "      <th>9</th>\n",
       "      <td>0.147632</td>\n",
       "      <td>0.002995</td>\n",
       "      <td>0.936444</td>\n",
       "      <td>0.941433</td>\n",
       "    </tr>\n",
       "  </tbody>\n",
       "</table>\n",
       "</div>"
      ],
      "text/plain": [
       "   fit_time  score_time  test_score  train_score\n",
       "0  0.158589    0.003948    0.943243     0.939326\n",
       "1  0.152548    0.006031    0.941216     0.941428\n",
       "2  0.146643    0.006996    0.935811     0.934144\n",
       "3  0.165954    0.003981    0.943919     0.946610\n",
       "4  0.163159    0.004062    0.932432     0.936097\n",
       "5  0.138603    0.006981    0.940541     0.939776\n",
       "6  0.153189    0.002960    0.933784     0.935496\n",
       "7  0.152562    0.005997    0.932387     0.939405\n",
       "8  0.134718    0.003978    0.939824     0.943385\n",
       "9  0.147632    0.002995    0.936444     0.941433"
      ]
     },
     "execution_count": 62,
     "metadata": {},
     "output_type": "execute_result"
    }
   ],
   "source": [
    "from sklearn.ensemble import RandomForestClassifier\n",
    "from sklearn.model_selection import cross_validate\n",
    "\n",
    "clf = RandomForestClassifier(n_estimators=10, max_depth=4, random_state=0)\n",
    "y_pred = clf.fit(X_train, y_train).predict(X_test)\n",
    "scores = pd.DataFrame(cross_validate(clf, X_train, y_train, cv=10, return_train_score=True))\n",
    "print(\"mean_train = \", scores['train_score'].mean())\n",
    "print(\"mean_test = \", scores['test_score'].mean())\n",
    "scores"
   ]
  },
  {
   "cell_type": "code",
   "execution_count": 64,
   "id": "803a6a17",
   "metadata": {
    "scrolled": true
   },
   "outputs": [
    {
     "name": "stdout",
     "output_type": "stream",
     "text": [
      "                         feature  importance       std\n",
      "26          Intersection_Up_left    0.000000  0.000000\n",
      "25        Intersection_Up_center    0.000000  0.000000\n",
      "21      Intersection_Down_center    0.000000  0.000000\n",
      "22        Intersection_Down_left    0.000000  0.000000\n",
      "27         Intersection_Up_right    0.000043  0.000128\n",
      "8                      N_Handgun    0.000073  0.000220\n",
      "19      Intersection_Center_left    0.000548  0.001152\n",
      "1                       N_Person    0.003451  0.007174\n",
      "15               Included_Center    0.003533  0.007208\n",
      "23           Intersection_Inside    0.003745  0.006079\n",
      "24  Intersection_No_intersection    0.009663  0.028989\n",
      "20     Intersection_Center_right    0.023213  0.043612\n",
      "6                        PerXmax    0.024834  0.049532\n",
      "11                        HgXmin    0.025268  0.034700\n",
      "17                       Hg_Area    0.026490  0.065587\n",
      "9                      HgXcenter    0.027161  0.046235\n",
      "4                        PerXmin    0.029608  0.063107\n",
      "13                        HgXmax    0.033668  0.037909\n",
      "14                        HgYmax    0.035735  0.027995\n",
      "16             Intersection_Area    0.039473  0.059503\n",
      "0                          Frame    0.044851  0.051642\n",
      "2                        Xcenter    0.050137  0.083552\n",
      "18                      Distance    0.050695  0.036150\n",
      "12                        HgYmin    0.054939  0.077926\n",
      "10                     HgYcenter    0.056802  0.086174\n",
      "5                        PerYmin    0.089534  0.108155\n",
      "3                        Ycenter    0.110250  0.157056\n",
      "7                        PerYmax    0.256287  0.219676\n"
     ]
    },
    {
     "data": {
      "image/png": "[encoded data removed]",
      "text/plain": [
       "<Figure size 800x600 with 1 Axes>"
      ]
     },
     "metadata": {},
     "output_type": "display_data"
    }
   ],
   "source": [
    "clf.fit(X_train.values, y_train.values)\n",
    "predictions=clf.predict(X_test.values)\n",
    "#Le agrego .values para solucionar el problema:\n",
    "#C:\\ProgramData\\Anaconda3\\lib\\site-packages\\sklearn\\base.py:450: UserWarning: X does not have valid feature names, but RandomForestClassifier was fitted with feature names\n",
    "#https://stackoverflow.com/questions/69326639/sklearn-warning-valid-feature-names-in-version-1-0\n",
    "\n",
    "importances = clf.feature_importances_\n",
    "std = np.std([tree.feature_importances_ for tree in clf.estimators_], axis=0)\n",
    "\n",
    "df = pd.DataFrame({'feature': X_train.columns, 'importance': importances, 'std': std})\n",
    "df = df.sort_values('importance')\n",
    "print(df)\n",
    "\n",
    "ax = df.plot(figsize=(8,6),kind='barh', xerr='std', x='feature', legend=False)\n",
    "ax.set_ylabel('')\n",
    "\n",
    "plt.tight_layout()\n",
    "plt.show()"
   ]
  },
  {
   "cell_type": "code",
   "execution_count": 65,
   "id": "4cd43a0d",
   "metadata": {
    "scrolled": false
   },
   "outputs": [
    {
     "name": "stdout",
     "output_type": "stream",
     "text": [
      "              precision    recall  f1-score   support\n",
      "\n",
      "           0       0.94      1.00      0.96      3190\n",
      "           1       0.95      0.57      0.71       461\n",
      "           2       1.00      0.61      0.76        49\n",
      "\n",
      "    accuracy                           0.94      3700\n",
      "   macro avg       0.96      0.72      0.81      3700\n",
      "weighted avg       0.94      0.94      0.93      3700\n",
      "\n"
     ]
    }
   ],
   "source": [
    "from sklearn.metrics import classification_report\n",
    "print(classification_report(y_test,predictions))"
   ]
  },
  {
   "cell_type": "code",
   "execution_count": 66,
   "id": "74c41eb6",
   "metadata": {},
   "outputs": [
    {
     "name": "stdout",
     "output_type": "stream",
     "text": [
      "Score train =  0.9372972972972973\n"
     ]
    }
   ],
   "source": [
    "from sklearn.metrics import accuracy_score\n",
    "print(\"Score train = \", accuracy_score(y_test,predictions))"
   ]
  },
  {
   "cell_type": "code",
   "execution_count": 67,
   "id": "dfcdaa02",
   "metadata": {},
   "outputs": [
    {
     "data": {
      "text/plain": [
       "0.9626890373389045"
      ]
     },
     "execution_count": 67,
     "metadata": {},
     "output_type": "execute_result"
    }
   ],
   "source": [
    "from sklearn.metrics import precision_score\n",
    "precision_score(y_test,predictions, average='macro')"
   ]
  },
  {
   "cell_type": "code",
   "execution_count": 68,
   "id": "4138167b",
   "metadata": {},
   "outputs": [
    {
     "data": {
      "text/plain": [
       "0.7247767278189471"
      ]
     },
     "execution_count": 68,
     "metadata": {},
     "output_type": "execute_result"
    }
   ],
   "source": [
    "from sklearn.metrics import recall_score\n",
    "recall_score(y_test,predictions, average='macro')"
   ]
  },
  {
   "cell_type": "code",
   "execution_count": 69,
   "id": "b6ea3906",
   "metadata": {},
   "outputs": [
    {
     "data": {
      "text/plain": [
       "0.8114905050151001"
      ]
     },
     "execution_count": 69,
     "metadata": {},
     "output_type": "execute_result"
    }
   ],
   "source": [
    "from sklearn.metrics import f1_score\n",
    "f1_score(y_test,predictions, average='macro')"
   ]
  },
  {
   "cell_type": "code",
   "execution_count": 70,
   "id": "b638c813",
   "metadata": {},
   "outputs": [],
   "source": [
    "# save the model to disk\n",
    "filename = 'rfc_model_intersection.sav'\n",
    "pickle.dump(clf, open(filename, 'wb')) "
   ]
  },
  {
   "cell_type": "markdown",
   "id": "a98ecc7b",
   "metadata": {},
   "source": [
    "# Redes Neuronales - Todos los predictores"
   ]
  },
  {
   "cell_type": "code",
   "execution_count": 21,
   "id": "05a611fa",
   "metadata": {
    "scrolled": true
   },
   "outputs": [],
   "source": [
    "X = df3.drop('Ground_Truth',axis='columns')\n",
    "y = df3.Ground_Truth"
   ]
  },
  {
   "cell_type": "code",
   "execution_count": 22,
   "id": "e6473e29",
   "metadata": {
    "scrolled": true
   },
   "outputs": [
    {
     "name": "stdout",
     "output_type": "stream",
     "text": [
      "<class 'pandas.core.frame.DataFrame'>\n",
      "RangeIndex: 18497 entries, 0 to 18496\n",
      "Data columns (total 28 columns):\n",
      " #   Column                        Non-Null Count  Dtype  \n",
      "---  ------                        --------------  -----  \n",
      " 0   Frame                         18497 non-null  int64  \n",
      " 1   N_Person                      18497 non-null  int64  \n",
      " 2   Xcenter                       18497 non-null  float64\n",
      " 3   Ycenter                       18497 non-null  float64\n",
      " 4   PerXmin                       18497 non-null  float64\n",
      " 5   PerYmin                       18497 non-null  float64\n",
      " 6   PerXmax                       18497 non-null  float64\n",
      " 7   PerYmax                       18497 non-null  float64\n",
      " 8   N_Handgun                     18497 non-null  int64  \n",
      " 9   HgXcenter                     18497 non-null  float64\n",
      " 10  HgYcenter                     18497 non-null  float64\n",
      " 11  HgXmin                        18497 non-null  float64\n",
      " 12  HgYmin                        18497 non-null  float64\n",
      " 13  HgXmax                        18497 non-null  float64\n",
      " 14  HgYmax                        18497 non-null  float64\n",
      " 15  Included_Center               18497 non-null  int64  \n",
      " 16  Intersection_Area             18497 non-null  float64\n",
      " 17  Hg_Area                       18497 non-null  float64\n",
      " 18  Distance                      18497 non-null  float64\n",
      " 19  Intersection_Center_left      18497 non-null  uint8  \n",
      " 20  Intersection_Center_right     18497 non-null  uint8  \n",
      " 21  Intersection_Down_center      18497 non-null  uint8  \n",
      " 22  Intersection_Down_left        18497 non-null  uint8  \n",
      " 23  Intersection_Inside           18497 non-null  uint8  \n",
      " 24  Intersection_No_intersection  18497 non-null  uint8  \n",
      " 25  Intersection_Up_center        18497 non-null  uint8  \n",
      " 26  Intersection_Up_left          18497 non-null  uint8  \n",
      " 27  Intersection_Up_right         18497 non-null  uint8  \n",
      "dtypes: float64(15), int64(4), uint8(9)\n",
      "memory usage: 2.8 MB\n"
     ]
    }
   ],
   "source": [
    "X.info()"
   ]
  },
  {
   "cell_type": "code",
   "execution_count": 23,
   "id": "69009579",
   "metadata": {
    "scrolled": true
   },
   "outputs": [
    {
     "data": {
      "text/plain": [
       "array([[-1.86318429, -1.00623353,  0.38689315, -1.05795359,  0.40796004,\n",
       "        -0.80148152,  0.35018454, -1.42606094, -0.49686525,  0.64862085,\n",
       "        -1.25770626,  0.70126249, -1.1765673 ,  0.59456882, -1.33417994,\n",
       "         1.17667153, -0.05021897, -0.63093209, -0.69650124,  2.66897134,\n",
       "        -0.28327186, -0.01644345, -0.01039891, -0.53883052, -1.08437155,\n",
       "        -0.11963423, -0.06163419, -0.13887741],\n",
       "       [-1.86101506, -1.00623353,  0.3866075 , -1.05736343,  0.40697805,\n",
       "        -0.79979265,  0.35063001, -1.42880718, -0.49686525,  0.64702523,\n",
       "        -1.25856002,  0.69825989, -1.17721827,  0.59436779, -1.33523843,\n",
       "         1.17667153, -0.04779851, -0.62503219, -0.69507303,  2.66897134,\n",
       "        -0.28327186, -0.01644345, -0.01039891, -0.53883052, -1.08437155,\n",
       "        -0.11963423, -0.06163419, -0.13887741],\n",
       "       [-1.85884582, -1.00623353,  0.38722785, -1.05951656,  0.4084468 ,\n",
       "        -0.80384661,  0.35034908, -1.42479924, -0.49686525,  0.64684659,\n",
       "        -1.25997355,  0.69817047, -1.17841724,  0.59410161, -1.33686553,\n",
       "         1.17667153, -0.05455749, -0.62610913, -0.69458705,  2.66897134,\n",
       "        -0.28327186, -0.01644345, -0.01039891, -0.53883052, -1.08437155,\n",
       "        -0.11963423, -0.06163419, -0.13887741]])"
      ]
     },
     "execution_count": 23,
     "metadata": {},
     "output_type": "execute_result"
    }
   ],
   "source": [
    "from sklearn.preprocessing import StandardScaler\n",
    "scaler = StandardScaler()\n",
    "X_scaled = scaler.fit_transform(X)\n",
    "X_scaled[:3]\n",
    "#X_scaled.shape"
   ]
  },
  {
   "cell_type": "code",
   "execution_count": 24,
   "id": "452d05da",
   "metadata": {
    "scrolled": false
   },
   "outputs": [
    {
     "name": "stdout",
     "output_type": "stream",
     "text": [
      "[8.58912743e+02 8.79439909e-01 3.92910451e+02 3.82398852e+02\n",
      " 3.05665487e+02 2.46086410e+02 4.80155414e+02 5.18711294e+02\n",
      " 2.98480835e-01 3.10712804e+02 3.12374381e+02 2.87345702e+02\n",
      " 2.92834884e+02 3.34079906e+02 3.31913878e+02 4.19365302e-01\n",
      " 9.28490131e+02 2.02421631e+03 2.31870596e+02 1.23101043e-01\n",
      " 7.42823161e-02 2.70314105e-04 1.08125642e-04 2.25009461e-01\n",
      " 5.40411959e-01 1.41103963e-02 3.78439747e-03 1.89219873e-02]\n"
     ]
    }
   ],
   "source": [
    "print(scaler.mean_)"
   ]
  },
  {
   "cell_type": "code",
   "execution_count": 25,
   "id": "792e3581",
   "metadata": {
    "scrolled": true
   },
   "outputs": [
    {
     "name": "stdout",
     "output_type": "stream",
     "text": [
      "[4.60991833e+02 8.73991854e-01 2.12174858e+02 6.88271261e+01\n",
      " 2.19903311e+02 1.11897384e+02 2.12648552e+02 3.92326331e+01\n",
      " 6.00727934e-01 1.52892379e+02 9.72615204e+01 1.52180777e+02\n",
      " 9.92032562e+01 1.54094354e+02 9.58892688e+01 4.93455211e-01\n",
      " 1.66401144e+03 1.81114275e+03 1.37472411e+02 3.28553156e-01\n",
      " 2.62229772e-01 1.64390096e-02 1.03977859e-02 4.17588558e-01\n",
      " 4.98364198e-01 1.17946144e-01 6.14009430e-02 1.36249572e-01]\n"
     ]
    }
   ],
   "source": [
    "print(scaler.scale_)"
   ]
  },
  {
   "cell_type": "code",
   "execution_count": 26,
   "id": "0f8c7a7e",
   "metadata": {},
   "outputs": [],
   "source": [
    "from sklearn.model_selection import  train_test_split\n",
    "X_train, X_test, y_train, y_test = train_test_split(X_scaled, y, stratify=y, random_state=10) #stratify hace que el ratio entre 0 y 1 se mantenga en la distri. entre el test(y). "
   ]
  },
  {
   "cell_type": "code",
   "execution_count": 27,
   "id": "89c11ff0",
   "metadata": {},
   "outputs": [
    {
     "data": {
      "text/plain": [
       "(13872, 28)"
      ]
     },
     "execution_count": 27,
     "metadata": {},
     "output_type": "execute_result"
    }
   ],
   "source": [
    "X_train.shape"
   ]
  },
  {
   "cell_type": "code",
   "execution_count": 28,
   "id": "809f7a45",
   "metadata": {
    "scrolled": true
   },
   "outputs": [
    {
     "data": {
      "text/plain": [
       "0    11969\n",
       "1     1730\n",
       "2      173\n",
       "Name: Ground_Truth, dtype: int64"
      ]
     },
     "execution_count": 28,
     "metadata": {},
     "output_type": "execute_result"
    }
   ],
   "source": [
    "y_train.value_counts()"
   ]
  },
  {
   "cell_type": "code",
   "execution_count": 29,
   "id": "87692498",
   "metadata": {},
   "outputs": [
    {
     "data": {
      "text/plain": [
       "(4625, 28)"
      ]
     },
     "execution_count": 29,
     "metadata": {},
     "output_type": "execute_result"
    }
   ],
   "source": [
    "X_test.shape"
   ]
  },
  {
   "cell_type": "code",
   "execution_count": 30,
   "id": "37e3175e",
   "metadata": {
    "scrolled": false
   },
   "outputs": [
    {
     "data": {
      "text/plain": [
       "0    3991\n",
       "1     577\n",
       "2      57\n",
       "Name: Ground_Truth, dtype: int64"
      ]
     },
     "execution_count": 30,
     "metadata": {},
     "output_type": "execute_result"
    }
   ],
   "source": [
    "y_test.value_counts()"
   ]
  },
  {
   "cell_type": "code",
   "execution_count": 31,
   "id": "8b1cbdef",
   "metadata": {
    "scrolled": true
   },
   "outputs": [
    {
     "data": {
      "text/plain": [
       "array([[1.00000000e+00, 1.21623969e-10, 2.75760914e-10],\n",
       "       [1.00000000e+00, 3.37634054e-11, 1.29576109e-11],\n",
       "       [9.98954915e-01, 1.04329384e-03, 1.79115237e-06],\n",
       "       ...,\n",
       "       [1.00000000e+00, 1.85734776e-11, 1.11921722e-11],\n",
       "       [1.00000000e+00, 1.85385437e-15, 3.32457905e-16],\n",
       "       [2.41300242e-06, 9.99982252e-01, 1.53350576e-05]])"
      ]
     },
     "execution_count": 31,
     "metadata": {},
     "output_type": "execute_result"
    }
   ],
   "source": [
    "from sklearn.neural_network import MLPClassifier\n",
    "clf=MLPClassifier(hidden_layer_sizes=(25,25,25,25), max_iter=500, alpha=0.0001, solver='adam',\n",
    "                 random_state=0, tol=0.000000001)\n",
    "y_pred = clf.fit(X_train, y_train).predict(X_test)\n",
    "predictions_mlp=clf.predict_proba(X_test)\n",
    "predictions_mlp"
   ]
  },
  {
   "cell_type": "code",
   "execution_count": 32,
   "id": "1e2e8226",
   "metadata": {},
   "outputs": [
    {
     "data": {
      "text/plain": [
       "array([0, 0, 0, ..., 0, 0, 1], dtype=int64)"
      ]
     },
     "execution_count": 32,
     "metadata": {},
     "output_type": "execute_result"
    }
   ],
   "source": [
    "predictions_mlp=clf.predict(X_test)\n",
    "predictions_mlp"
   ]
  },
  {
   "cell_type": "code",
   "execution_count": 34,
   "id": "f87e6606",
   "metadata": {
    "scrolled": true
   },
   "outputs": [
    {
     "name": "stdout",
     "output_type": "stream",
     "text": [
      "              precision    recall  f1-score   support\n",
      "\n",
      "           0       0.99      0.99      0.99      3991\n",
      "           1       0.95      0.91      0.93       577\n",
      "           2       0.90      0.82      0.86        57\n",
      "\n",
      "    accuracy                           0.98      4625\n",
      "   macro avg       0.95      0.91      0.93      4625\n",
      "weighted avg       0.98      0.98      0.98      4625\n",
      "\n"
     ]
    }
   ],
   "source": [
    "from sklearn.metrics import classification_report\n",
    "print(classification_report(y_test,predictions_mlp))"
   ]
  },
  {
   "cell_type": "code",
   "execution_count": 35,
   "id": "88b8b418",
   "metadata": {
    "scrolled": false
   },
   "outputs": [
    {
     "name": "stdout",
     "output_type": "stream",
     "text": [
      "Score train =  0.989042675893887\n",
      "Score test =  0.9814054054054054\n"
     ]
    }
   ],
   "source": [
    "print(\"Score train = \",clf.score(X_train, y_train))\n",
    "print(\"Score test = \",clf.score(X_test, y_test))"
   ]
  },
  {
   "cell_type": "code",
   "execution_count": 42,
   "id": "16d79fbb",
   "metadata": {},
   "outputs": [
    {
     "name": "stdout",
     "output_type": "stream",
     "text": [
      "Score train =  0.9814054054054054\n"
     ]
    }
   ],
   "source": [
    "from sklearn.metrics import accuracy_score\n",
    "print(\"Score train = \", accuracy_score(y_test,predictions_mlp))"
   ]
  },
  {
   "cell_type": "code",
   "execution_count": 43,
   "id": "948106c8",
   "metadata": {},
   "outputs": [
    {
     "data": {
      "text/plain": [
       "0.9457623288551819"
      ]
     },
     "execution_count": 43,
     "metadata": {},
     "output_type": "execute_result"
    }
   ],
   "source": [
    "from sklearn.metrics import precision_score\n",
    "precision_score(y_test,predictions_mlp, average='macro')"
   ]
  },
  {
   "cell_type": "code",
   "execution_count": 44,
   "id": "9fc10a61",
   "metadata": {},
   "outputs": [
    {
     "data": {
      "text/plain": [
       "0.9104638776255564"
      ]
     },
     "execution_count": 44,
     "metadata": {},
     "output_type": "execute_result"
    }
   ],
   "source": [
    "from sklearn.metrics import recall_score\n",
    "recall_score(y_test,predictions_mlp, average='macro')"
   ]
  },
  {
   "cell_type": "code",
   "execution_count": 45,
   "id": "424ff0a5",
   "metadata": {},
   "outputs": [
    {
     "data": {
      "text/plain": [
       "0.9274073327999385"
      ]
     },
     "execution_count": 45,
     "metadata": {},
     "output_type": "execute_result"
    }
   ],
   "source": [
    "from sklearn.metrics import f1_score\n",
    "f1_score(y_test,predictions_mlp, average='macro')"
   ]
  },
  {
   "cell_type": "code",
   "execution_count": 36,
   "id": "9e560452",
   "metadata": {},
   "outputs": [],
   "source": [
    "# save the model to disk\n",
    "filename = 'mlp_model_intersection.sav'\n",
    "pickle.dump(clf, open(filename, 'wb')) "
   ]
  }
 ],
 "metadata": {
  "kernelspec": {
   "display_name": "Python 3 (ipykernel)",
   "language": "python",
   "name": "python3"
  },
  "language_info": {
   "codemirror_mode": {
    "name": "ipython",
    "version": 3
   },
   "file_extension": ".py",
   "mimetype": "text/x-python",
   "name": "python",
   "nbconvert_exporter": "python",
   "pygments_lexer": "ipython3",
   "version": "3.8.11"
  }
 },
 "nbformat": 4,
 "nbformat_minor": 5
}
