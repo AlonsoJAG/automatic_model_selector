{
 "cells": [
  {
   "cell_type": "code",
   "execution_count": 44,
   "id": "5d87e640",
   "metadata": {},
   "outputs": [],
   "source": [
    "import pickle\n",
    "import numpy as np\n",
    "import pandas as pd\n",
    "import matplotlib.pyplot as plt\n",
    "%matplotlib inline"
   ]
  },
  {
   "cell_type": "code",
   "execution_count": 45,
   "id": "95600074",
   "metadata": {
    "scrolled": false
   },
   "outputs": [
    {
     "data": {
      "text/html": [
       "<div>\n",
       "<style scoped>\n",
       "    .dataframe tbody tr th:only-of-type {\n",
       "        vertical-align: middle;\n",
       "    }\n",
       "\n",
       "    .dataframe tbody tr th {\n",
       "        vertical-align: top;\n",
       "    }\n",
       "\n",
       "    .dataframe thead th {\n",
       "        text-align: right;\n",
       "    }\n",
       "</style>\n",
       "<table border=\"1\" class=\"dataframe\">\n",
       "  <thead>\n",
       "    <tr style=\"text-align: right;\">\n",
       "      <th></th>\n",
       "      <th>Frame</th>\n",
       "      <th>N_Person</th>\n",
       "      <th>Xcenter</th>\n",
       "      <th>Ycenter</th>\n",
       "      <th>PerXmin</th>\n",
       "      <th>PerYmin</th>\n",
       "      <th>PerXmax</th>\n",
       "      <th>PerYmax</th>\n",
       "      <th>N_Handgun</th>\n",
       "      <th>HgXcenter</th>\n",
       "      <th>...</th>\n",
       "      <th>HgYmin</th>\n",
       "      <th>HgXmax</th>\n",
       "      <th>HgYmax</th>\n",
       "      <th>Intersection</th>\n",
       "      <th>Included_Center</th>\n",
       "      <th>Intersection_Area</th>\n",
       "      <th>Hg_Area</th>\n",
       "      <th>Distance</th>\n",
       "      <th>Ground_Truth</th>\n",
       "      <th>GT</th>\n",
       "    </tr>\n",
       "  </thead>\n",
       "  <tbody>\n",
       "    <tr>\n",
       "      <th>0</th>\n",
       "      <td>0</td>\n",
       "      <td>0</td>\n",
       "      <td>474.999451</td>\n",
       "      <td>309.582947</td>\n",
       "      <td>395.377251</td>\n",
       "      <td>156.402725</td>\n",
       "      <td>554.621651</td>\n",
       "      <td>462.763168</td>\n",
       "      <td>0</td>\n",
       "      <td>409.881988</td>\n",
       "      <td>...</td>\n",
       "      <td>176.115577</td>\n",
       "      <td>425.699604</td>\n",
       "      <td>203.980340</td>\n",
       "      <td>Center_left</td>\n",
       "      <td>1</td>\n",
       "      <td>844.925198</td>\n",
       "      <td>881.508223</td>\n",
       "      <td>136.120892</td>\n",
       "      <td>0</td>\n",
       "      <td>MLP</td>\n",
       "    </tr>\n",
       "    <tr>\n",
       "      <th>1</th>\n",
       "      <td>1</td>\n",
       "      <td>0</td>\n",
       "      <td>474.938843</td>\n",
       "      <td>309.623566</td>\n",
       "      <td>395.161308</td>\n",
       "      <td>156.591705</td>\n",
       "      <td>554.716377</td>\n",
       "      <td>462.655426</td>\n",
       "      <td>0</td>\n",
       "      <td>409.638031</td>\n",
       "      <td>...</td>\n",
       "      <td>176.050999</td>\n",
       "      <td>425.668627</td>\n",
       "      <td>203.878841</td>\n",
       "      <td>Center_left</td>\n",
       "      <td>1</td>\n",
       "      <td>848.952861</td>\n",
       "      <td>892.193796</td>\n",
       "      <td>136.317231</td>\n",
       "      <td>0</td>\n",
       "      <td>MLP</td>\n",
       "    </tr>\n",
       "    <tr>\n",
       "      <th>2</th>\n",
       "      <td>2</td>\n",
       "      <td>0</td>\n",
       "      <td>475.070465</td>\n",
       "      <td>309.475372</td>\n",
       "      <td>395.484291</td>\n",
       "      <td>156.138077</td>\n",
       "      <td>554.656639</td>\n",
       "      <td>462.812668</td>\n",
       "      <td>0</td>\n",
       "      <td>409.610718</td>\n",
       "      <td>...</td>\n",
       "      <td>175.932056</td>\n",
       "      <td>425.627609</td>\n",
       "      <td>203.722820</td>\n",
       "      <td>Center_left</td>\n",
       "      <td>1</td>\n",
       "      <td>837.705837</td>\n",
       "      <td>890.243298</td>\n",
       "      <td>136.384041</td>\n",
       "      <td>0</td>\n",
       "      <td>MLP</td>\n",
       "    </tr>\n",
       "    <tr>\n",
       "      <th>3</th>\n",
       "      <td>3</td>\n",
       "      <td>0</td>\n",
       "      <td>476.837311</td>\n",
       "      <td>308.901245</td>\n",
       "      <td>399.288238</td>\n",
       "      <td>154.448364</td>\n",
       "      <td>554.386383</td>\n",
       "      <td>463.354126</td>\n",
       "      <td>0</td>\n",
       "      <td>408.519043</td>\n",
       "      <td>...</td>\n",
       "      <td>177.653896</td>\n",
       "      <td>423.709709</td>\n",
       "      <td>202.787083</td>\n",
       "      <td>Center_left</td>\n",
       "      <td>1</td>\n",
       "      <td>613.789372</td>\n",
       "      <td>763.579688</td>\n",
       "      <td>136.939795</td>\n",
       "      <td>0</td>\n",
       "      <td>MLP</td>\n",
       "    </tr>\n",
       "    <tr>\n",
       "      <th>4</th>\n",
       "      <td>4</td>\n",
       "      <td>0</td>\n",
       "      <td>476.918640</td>\n",
       "      <td>308.815064</td>\n",
       "      <td>399.598404</td>\n",
       "      <td>154.249756</td>\n",
       "      <td>554.238876</td>\n",
       "      <td>463.380371</td>\n",
       "      <td>0</td>\n",
       "      <td>408.613525</td>\n",
       "      <td>...</td>\n",
       "      <td>177.582060</td>\n",
       "      <td>423.771116</td>\n",
       "      <td>202.885134</td>\n",
       "      <td>Center_left</td>\n",
       "      <td>1</td>\n",
       "      <td>611.643926</td>\n",
       "      <td>767.067283</td>\n",
       "      <td>136.847188</td>\n",
       "      <td>0</td>\n",
       "      <td>MLP</td>\n",
       "    </tr>\n",
       "  </tbody>\n",
       "</table>\n",
       "<p>5 rows × 22 columns</p>\n",
       "</div>"
      ],
      "text/plain": [
       "   Frame  N_Person     Xcenter     Ycenter     PerXmin     PerYmin  \\\n",
       "0      0         0  474.999451  309.582947  395.377251  156.402725   \n",
       "1      1         0  474.938843  309.623566  395.161308  156.591705   \n",
       "2      2         0  475.070465  309.475372  395.484291  156.138077   \n",
       "3      3         0  476.837311  308.901245  399.288238  154.448364   \n",
       "4      4         0  476.918640  308.815064  399.598404  154.249756   \n",
       "\n",
       "      PerXmax     PerYmax  N_Handgun   HgXcenter  ...      HgYmin      HgXmax  \\\n",
       "0  554.621651  462.763168          0  409.881988  ...  176.115577  425.699604   \n",
       "1  554.716377  462.655426          0  409.638031  ...  176.050999  425.668627   \n",
       "2  554.656639  462.812668          0  409.610718  ...  175.932056  425.627609   \n",
       "3  554.386383  463.354126          0  408.519043  ...  177.653896  423.709709   \n",
       "4  554.238876  463.380371          0  408.613525  ...  177.582060  423.771116   \n",
       "\n",
       "       HgYmax  Intersection  Included_Center Intersection_Area     Hg_Area  \\\n",
       "0  203.980340   Center_left                1        844.925198  881.508223   \n",
       "1  203.878841   Center_left                1        848.952861  892.193796   \n",
       "2  203.722820   Center_left                1        837.705837  890.243298   \n",
       "3  202.787083   Center_left                1        613.789372  763.579688   \n",
       "4  202.885134   Center_left                1        611.643926  767.067283   \n",
       "\n",
       "     Distance  Ground_Truth   GT  \n",
       "0  136.120892             0  MLP  \n",
       "1  136.317231             0  MLP  \n",
       "2  136.384041             0  MLP  \n",
       "3  136.939795             0  MLP  \n",
       "4  136.847188             0  MLP  \n",
       "\n",
       "[5 rows x 22 columns]"
      ]
     },
     "execution_count": 45,
     "metadata": {},
     "output_type": "execute_result"
    }
   ],
   "source": [
    "df = pd.read_csv('ams12.csv')\n",
    "df.head()"
   ]
  },
  {
   "cell_type": "code",
   "execution_count": 46,
   "id": "8ae1ff95",
   "metadata": {},
   "outputs": [
    {
     "data": {
      "text/plain": [
       "18462"
      ]
     },
     "execution_count": 46,
     "metadata": {},
     "output_type": "execute_result"
    }
   ],
   "source": [
    "len(df)"
   ]
  },
  {
   "cell_type": "code",
   "execution_count": 47,
   "id": "9ac6c889",
   "metadata": {
    "scrolled": true
   },
   "outputs": [
    {
     "name": "stdout",
     "output_type": "stream",
     "text": [
      "<class 'pandas.core.frame.DataFrame'>\n",
      "RangeIndex: 18462 entries, 0 to 18461\n",
      "Data columns (total 22 columns):\n",
      " #   Column             Non-Null Count  Dtype  \n",
      "---  ------             --------------  -----  \n",
      " 0   Frame              18462 non-null  int64  \n",
      " 1   N_Person           18462 non-null  int64  \n",
      " 2   Xcenter            18462 non-null  float64\n",
      " 3   Ycenter            18462 non-null  float64\n",
      " 4   PerXmin            18462 non-null  float64\n",
      " 5   PerYmin            18462 non-null  float64\n",
      " 6   PerXmax            18462 non-null  float64\n",
      " 7   PerYmax            18462 non-null  float64\n",
      " 8   N_Handgun          18462 non-null  int64  \n",
      " 9   HgXcenter          18462 non-null  float64\n",
      " 10  HgYcenter          18462 non-null  float64\n",
      " 11  HgXmin             18462 non-null  float64\n",
      " 12  HgYmin             18462 non-null  float64\n",
      " 13  HgXmax             18462 non-null  float64\n",
      " 14  HgYmax             18462 non-null  float64\n",
      " 15  Intersection       18462 non-null  object \n",
      " 16  Included_Center    18462 non-null  int64  \n",
      " 17  Intersection_Area  18462 non-null  float64\n",
      " 18  Hg_Area            18462 non-null  float64\n",
      " 19  Distance           18462 non-null  float64\n",
      " 20  Ground_Truth       18462 non-null  int64  \n",
      " 21  GT                 18462 non-null  object \n",
      "dtypes: float64(15), int64(5), object(2)\n",
      "memory usage: 3.1+ MB\n"
     ]
    }
   ],
   "source": [
    "df.info()"
   ]
  },
  {
   "cell_type": "code",
   "execution_count": 48,
   "id": "048f07b5",
   "metadata": {},
   "outputs": [
    {
     "data": {
      "text/plain": [
       "Frame                 1933\n",
       "N_Person                 5\n",
       "Xcenter              14218\n",
       "Ycenter              14199\n",
       "PerXmin              14226\n",
       "PerYmin              14223\n",
       "PerXmax              14226\n",
       "PerYmax              14203\n",
       "N_Handgun                5\n",
       "HgXcenter             7301\n",
       "HgYcenter             7299\n",
       "HgXmin                7303\n",
       "HgYmin                7303\n",
       "HgXmax                7303\n",
       "HgYmax                7302\n",
       "Intersection             9\n",
       "Included_Center          2\n",
       "Intersection_Area     8433\n",
       "Hg_Area               7303\n",
       "Distance             18462\n",
       "Ground_Truth             2\n",
       "GT                       2\n",
       "dtype: int64"
      ]
     },
     "execution_count": 48,
     "metadata": {},
     "output_type": "execute_result"
    }
   ],
   "source": [
    "df.nunique()"
   ]
  },
  {
   "cell_type": "code",
   "execution_count": 49,
   "id": "86b0f52d",
   "metadata": {
    "scrolled": false
   },
   "outputs": [
    {
     "data": {
      "text/plain": [
       "0    17486\n",
       "1      976\n",
       "Name: Ground_Truth, dtype: int64"
      ]
     },
     "execution_count": 49,
     "metadata": {},
     "output_type": "execute_result"
    }
   ],
   "source": [
    "df['Ground_Truth'].value_counts()"
   ]
  },
  {
   "cell_type": "code",
   "execution_count": 50,
   "id": "732110e8",
   "metadata": {
    "scrolled": true
   },
   "outputs": [
    {
     "data": {
      "text/html": [
       "<div>\n",
       "<style scoped>\n",
       "    .dataframe tbody tr th:only-of-type {\n",
       "        vertical-align: middle;\n",
       "    }\n",
       "\n",
       "    .dataframe tbody tr th {\n",
       "        vertical-align: top;\n",
       "    }\n",
       "\n",
       "    .dataframe thead th {\n",
       "        text-align: right;\n",
       "    }\n",
       "</style>\n",
       "<table border=\"1\" class=\"dataframe\">\n",
       "  <thead>\n",
       "    <tr style=\"text-align: right;\">\n",
       "      <th></th>\n",
       "      <th>Frame</th>\n",
       "      <th>N_Person</th>\n",
       "      <th>Xcenter</th>\n",
       "      <th>Ycenter</th>\n",
       "      <th>PerXmin</th>\n",
       "      <th>PerYmin</th>\n",
       "      <th>PerXmax</th>\n",
       "      <th>PerYmax</th>\n",
       "      <th>N_Handgun</th>\n",
       "      <th>HgXcenter</th>\n",
       "      <th>...</th>\n",
       "      <th>GT</th>\n",
       "      <th>Intersection_Center_left</th>\n",
       "      <th>Intersection_Center_right</th>\n",
       "      <th>Intersection_Down_center</th>\n",
       "      <th>Intersection_Down_left</th>\n",
       "      <th>Intersection_Inside</th>\n",
       "      <th>Intersection_No_intersection</th>\n",
       "      <th>Intersection_Up_center</th>\n",
       "      <th>Intersection_Up_left</th>\n",
       "      <th>Intersection_Up_right</th>\n",
       "    </tr>\n",
       "  </thead>\n",
       "  <tbody>\n",
       "    <tr>\n",
       "      <th>0</th>\n",
       "      <td>0</td>\n",
       "      <td>0</td>\n",
       "      <td>474.999451</td>\n",
       "      <td>309.582947</td>\n",
       "      <td>395.377251</td>\n",
       "      <td>156.402725</td>\n",
       "      <td>554.621651</td>\n",
       "      <td>462.763168</td>\n",
       "      <td>0</td>\n",
       "      <td>409.881988</td>\n",
       "      <td>...</td>\n",
       "      <td>MLP</td>\n",
       "      <td>1</td>\n",
       "      <td>0</td>\n",
       "      <td>0</td>\n",
       "      <td>0</td>\n",
       "      <td>0</td>\n",
       "      <td>0</td>\n",
       "      <td>0</td>\n",
       "      <td>0</td>\n",
       "      <td>0</td>\n",
       "    </tr>\n",
       "    <tr>\n",
       "      <th>1</th>\n",
       "      <td>1</td>\n",
       "      <td>0</td>\n",
       "      <td>474.938843</td>\n",
       "      <td>309.623566</td>\n",
       "      <td>395.161308</td>\n",
       "      <td>156.591705</td>\n",
       "      <td>554.716377</td>\n",
       "      <td>462.655426</td>\n",
       "      <td>0</td>\n",
       "      <td>409.638031</td>\n",
       "      <td>...</td>\n",
       "      <td>MLP</td>\n",
       "      <td>1</td>\n",
       "      <td>0</td>\n",
       "      <td>0</td>\n",
       "      <td>0</td>\n",
       "      <td>0</td>\n",
       "      <td>0</td>\n",
       "      <td>0</td>\n",
       "      <td>0</td>\n",
       "      <td>0</td>\n",
       "    </tr>\n",
       "    <tr>\n",
       "      <th>2</th>\n",
       "      <td>2</td>\n",
       "      <td>0</td>\n",
       "      <td>475.070465</td>\n",
       "      <td>309.475372</td>\n",
       "      <td>395.484291</td>\n",
       "      <td>156.138077</td>\n",
       "      <td>554.656639</td>\n",
       "      <td>462.812668</td>\n",
       "      <td>0</td>\n",
       "      <td>409.610718</td>\n",
       "      <td>...</td>\n",
       "      <td>MLP</td>\n",
       "      <td>1</td>\n",
       "      <td>0</td>\n",
       "      <td>0</td>\n",
       "      <td>0</td>\n",
       "      <td>0</td>\n",
       "      <td>0</td>\n",
       "      <td>0</td>\n",
       "      <td>0</td>\n",
       "      <td>0</td>\n",
       "    </tr>\n",
       "    <tr>\n",
       "      <th>3</th>\n",
       "      <td>3</td>\n",
       "      <td>0</td>\n",
       "      <td>476.837311</td>\n",
       "      <td>308.901245</td>\n",
       "      <td>399.288238</td>\n",
       "      <td>154.448364</td>\n",
       "      <td>554.386383</td>\n",
       "      <td>463.354126</td>\n",
       "      <td>0</td>\n",
       "      <td>408.519043</td>\n",
       "      <td>...</td>\n",
       "      <td>MLP</td>\n",
       "      <td>1</td>\n",
       "      <td>0</td>\n",
       "      <td>0</td>\n",
       "      <td>0</td>\n",
       "      <td>0</td>\n",
       "      <td>0</td>\n",
       "      <td>0</td>\n",
       "      <td>0</td>\n",
       "      <td>0</td>\n",
       "    </tr>\n",
       "    <tr>\n",
       "      <th>4</th>\n",
       "      <td>4</td>\n",
       "      <td>0</td>\n",
       "      <td>476.918640</td>\n",
       "      <td>308.815064</td>\n",
       "      <td>399.598404</td>\n",
       "      <td>154.249756</td>\n",
       "      <td>554.238876</td>\n",
       "      <td>463.380371</td>\n",
       "      <td>0</td>\n",
       "      <td>408.613525</td>\n",
       "      <td>...</td>\n",
       "      <td>MLP</td>\n",
       "      <td>1</td>\n",
       "      <td>0</td>\n",
       "      <td>0</td>\n",
       "      <td>0</td>\n",
       "      <td>0</td>\n",
       "      <td>0</td>\n",
       "      <td>0</td>\n",
       "      <td>0</td>\n",
       "      <td>0</td>\n",
       "    </tr>\n",
       "  </tbody>\n",
       "</table>\n",
       "<p>5 rows × 30 columns</p>\n",
       "</div>"
      ],
      "text/plain": [
       "   Frame  N_Person     Xcenter     Ycenter     PerXmin     PerYmin  \\\n",
       "0      0         0  474.999451  309.582947  395.377251  156.402725   \n",
       "1      1         0  474.938843  309.623566  395.161308  156.591705   \n",
       "2      2         0  475.070465  309.475372  395.484291  156.138077   \n",
       "3      3         0  476.837311  308.901245  399.288238  154.448364   \n",
       "4      4         0  476.918640  308.815064  399.598404  154.249756   \n",
       "\n",
       "      PerXmax     PerYmax  N_Handgun   HgXcenter  ...   GT  \\\n",
       "0  554.621651  462.763168          0  409.881988  ...  MLP   \n",
       "1  554.716377  462.655426          0  409.638031  ...  MLP   \n",
       "2  554.656639  462.812668          0  409.610718  ...  MLP   \n",
       "3  554.386383  463.354126          0  408.519043  ...  MLP   \n",
       "4  554.238876  463.380371          0  408.613525  ...  MLP   \n",
       "\n",
       "   Intersection_Center_left  Intersection_Center_right  \\\n",
       "0                         1                          0   \n",
       "1                         1                          0   \n",
       "2                         1                          0   \n",
       "3                         1                          0   \n",
       "4                         1                          0   \n",
       "\n",
       "   Intersection_Down_center  Intersection_Down_left  Intersection_Inside  \\\n",
       "0                         0                       0                    0   \n",
       "1                         0                       0                    0   \n",
       "2                         0                       0                    0   \n",
       "3                         0                       0                    0   \n",
       "4                         0                       0                    0   \n",
       "\n",
       "   Intersection_No_intersection  Intersection_Up_center  Intersection_Up_left  \\\n",
       "0                             0                       0                     0   \n",
       "1                             0                       0                     0   \n",
       "2                             0                       0                     0   \n",
       "3                             0                       0                     0   \n",
       "4                             0                       0                     0   \n",
       "\n",
       "   Intersection_Up_right  \n",
       "0                      0  \n",
       "1                      0  \n",
       "2                      0  \n",
       "3                      0  \n",
       "4                      0  \n",
       "\n",
       "[5 rows x 30 columns]"
      ]
     },
     "execution_count": 50,
     "metadata": {},
     "output_type": "execute_result"
    }
   ],
   "source": [
    "df2 = pd.get_dummies(df,columns=['Intersection'])\n",
    "df2.head()"
   ]
  },
  {
   "cell_type": "code",
   "execution_count": 51,
   "id": "a246c9a2",
   "metadata": {
    "scrolled": true
   },
   "outputs": [
    {
     "name": "stdout",
     "output_type": "stream",
     "text": [
      "<class 'pandas.core.frame.DataFrame'>\n",
      "RangeIndex: 18462 entries, 0 to 18461\n",
      "Data columns (total 30 columns):\n",
      " #   Column                        Non-Null Count  Dtype  \n",
      "---  ------                        --------------  -----  \n",
      " 0   Frame                         18462 non-null  int64  \n",
      " 1   N_Person                      18462 non-null  int64  \n",
      " 2   Xcenter                       18462 non-null  float64\n",
      " 3   Ycenter                       18462 non-null  float64\n",
      " 4   PerXmin                       18462 non-null  float64\n",
      " 5   PerYmin                       18462 non-null  float64\n",
      " 6   PerXmax                       18462 non-null  float64\n",
      " 7   PerYmax                       18462 non-null  float64\n",
      " 8   N_Handgun                     18462 non-null  int64  \n",
      " 9   HgXcenter                     18462 non-null  float64\n",
      " 10  HgYcenter                     18462 non-null  float64\n",
      " 11  HgXmin                        18462 non-null  float64\n",
      " 12  HgYmin                        18462 non-null  float64\n",
      " 13  HgXmax                        18462 non-null  float64\n",
      " 14  HgYmax                        18462 non-null  float64\n",
      " 15  Included_Center               18462 non-null  int64  \n",
      " 16  Intersection_Area             18462 non-null  float64\n",
      " 17  Hg_Area                       18462 non-null  float64\n",
      " 18  Distance                      18462 non-null  float64\n",
      " 19  Ground_Truth                  18462 non-null  int64  \n",
      " 20  GT                            18462 non-null  object \n",
      " 21  Intersection_Center_left      18462 non-null  uint8  \n",
      " 22  Intersection_Center_right     18462 non-null  uint8  \n",
      " 23  Intersection_Down_center      18462 non-null  uint8  \n",
      " 24  Intersection_Down_left        18462 non-null  uint8  \n",
      " 25  Intersection_Inside           18462 non-null  uint8  \n",
      " 26  Intersection_No_intersection  18462 non-null  uint8  \n",
      " 27  Intersection_Up_center        18462 non-null  uint8  \n",
      " 28  Intersection_Up_left          18462 non-null  uint8  \n",
      " 29  Intersection_Up_right         18462 non-null  uint8  \n",
      "dtypes: float64(15), int64(5), object(1), uint8(9)\n",
      "memory usage: 3.1+ MB\n"
     ]
    }
   ],
   "source": [
    "df2.info()"
   ]
  },
  {
   "cell_type": "markdown",
   "id": "49376aaf",
   "metadata": {},
   "source": [
    "# Random Forest \n",
    "## Todos los predictores"
   ]
  },
  {
   "cell_type": "code",
   "execution_count": 52,
   "id": "a8376980",
   "metadata": {
    "scrolled": false
   },
   "outputs": [
    {
     "name": "stdout",
     "output_type": "stream",
     "text": [
      "{0: 'MLP', 1: 'SVM'}\n"
     ]
    }
   ],
   "source": [
    "pred = dict(zip(df2.Ground_Truth.unique(),df2.GT.unique()))\n",
    "print(pred)"
   ]
  },
  {
   "cell_type": "code",
   "execution_count": 53,
   "id": "7e893d55",
   "metadata": {
    "scrolled": true
   },
   "outputs": [
    {
     "name": "stdout",
     "output_type": "stream",
     "text": [
      "0    17486\n",
      "1      976\n",
      "Name: Ground_Truth, dtype: int64\n"
     ]
    }
   ],
   "source": [
    "print(df2['Ground_Truth'].value_counts())"
   ]
  },
  {
   "cell_type": "code",
   "execution_count": 54,
   "id": "e0a1da1a",
   "metadata": {},
   "outputs": [],
   "source": [
    "df3 = df2.drop(columns=[\"GT\"])"
   ]
  },
  {
   "cell_type": "code",
   "execution_count": 55,
   "id": "b88b8d0f",
   "metadata": {
    "scrolled": true
   },
   "outputs": [
    {
     "name": "stdout",
     "output_type": "stream",
     "text": [
      "<class 'pandas.core.frame.DataFrame'>\n",
      "RangeIndex: 18462 entries, 0 to 18461\n",
      "Data columns (total 29 columns):\n",
      " #   Column                        Non-Null Count  Dtype  \n",
      "---  ------                        --------------  -----  \n",
      " 0   Frame                         18462 non-null  int64  \n",
      " 1   N_Person                      18462 non-null  int64  \n",
      " 2   Xcenter                       18462 non-null  float64\n",
      " 3   Ycenter                       18462 non-null  float64\n",
      " 4   PerXmin                       18462 non-null  float64\n",
      " 5   PerYmin                       18462 non-null  float64\n",
      " 6   PerXmax                       18462 non-null  float64\n",
      " 7   PerYmax                       18462 non-null  float64\n",
      " 8   N_Handgun                     18462 non-null  int64  \n",
      " 9   HgXcenter                     18462 non-null  float64\n",
      " 10  HgYcenter                     18462 non-null  float64\n",
      " 11  HgXmin                        18462 non-null  float64\n",
      " 12  HgYmin                        18462 non-null  float64\n",
      " 13  HgXmax                        18462 non-null  float64\n",
      " 14  HgYmax                        18462 non-null  float64\n",
      " 15  Included_Center               18462 non-null  int64  \n",
      " 16  Intersection_Area             18462 non-null  float64\n",
      " 17  Hg_Area                       18462 non-null  float64\n",
      " 18  Distance                      18462 non-null  float64\n",
      " 19  Ground_Truth                  18462 non-null  int64  \n",
      " 20  Intersection_Center_left      18462 non-null  uint8  \n",
      " 21  Intersection_Center_right     18462 non-null  uint8  \n",
      " 22  Intersection_Down_center      18462 non-null  uint8  \n",
      " 23  Intersection_Down_left        18462 non-null  uint8  \n",
      " 24  Intersection_Inside           18462 non-null  uint8  \n",
      " 25  Intersection_No_intersection  18462 non-null  uint8  \n",
      " 26  Intersection_Up_center        18462 non-null  uint8  \n",
      " 27  Intersection_Up_left          18462 non-null  uint8  \n",
      " 28  Intersection_Up_right         18462 non-null  uint8  \n",
      "dtypes: float64(15), int64(5), uint8(9)\n",
      "memory usage: 3.0 MB\n"
     ]
    }
   ],
   "source": [
    "df3.info()"
   ]
  },
  {
   "cell_type": "code",
   "execution_count": 56,
   "id": "c1daddd3",
   "metadata": {},
   "outputs": [
    {
     "name": "stdout",
     "output_type": "stream",
     "text": [
      "(14769, 28) (14769,)\n",
      "(3693, 28) (3693,)\n"
     ]
    }
   ],
   "source": [
    "from sklearn.model_selection import train_test_split\n",
    "\n",
    "train_df, test_df = train_test_split(df3, test_size=0.2, random_state=123)\n",
    "X_train, y_train = train_df.drop(columns=[\"Ground_Truth\"], axis=1), train_df[\"Ground_Truth\"]\n",
    "X_test, y_test = test_df.drop(columns=[\"Ground_Truth\"], axis=1), test_df[\"Ground_Truth\"]\n",
    "\n",
    "print(X_train.shape, y_train.shape)\n",
    "print(X_test.shape, y_test.shape)"
   ]
  },
  {
   "cell_type": "code",
   "execution_count": 57,
   "id": "81e31bc9",
   "metadata": {
    "scrolled": false
   },
   "outputs": [
    {
     "name": "stdout",
     "output_type": "stream",
     "text": [
      "mean_train =  0.9667246250557954\n",
      "mean_test =  0.9660097098601316\n"
     ]
    },
    {
     "data": {
      "text/html": [
       "<div>\n",
       "<style scoped>\n",
       "    .dataframe tbody tr th:only-of-type {\n",
       "        vertical-align: middle;\n",
       "    }\n",
       "\n",
       "    .dataframe tbody tr th {\n",
       "        vertical-align: top;\n",
       "    }\n",
       "\n",
       "    .dataframe thead th {\n",
       "        text-align: right;\n",
       "    }\n",
       "</style>\n",
       "<table border=\"1\" class=\"dataframe\">\n",
       "  <thead>\n",
       "    <tr style=\"text-align: right;\">\n",
       "      <th></th>\n",
       "      <th>fit_time</th>\n",
       "      <th>score_time</th>\n",
       "      <th>test_score</th>\n",
       "      <th>train_score</th>\n",
       "    </tr>\n",
       "  </thead>\n",
       "  <tbody>\n",
       "    <tr>\n",
       "      <th>0</th>\n",
       "      <td>0.149735</td>\n",
       "      <td>0.003989</td>\n",
       "      <td>0.970210</td>\n",
       "      <td>0.965017</td>\n",
       "    </tr>\n",
       "    <tr>\n",
       "      <th>1</th>\n",
       "      <td>0.116688</td>\n",
       "      <td>0.002992</td>\n",
       "      <td>0.967502</td>\n",
       "      <td>0.968101</td>\n",
       "    </tr>\n",
       "    <tr>\n",
       "      <th>2</th>\n",
       "      <td>0.115691</td>\n",
       "      <td>0.002992</td>\n",
       "      <td>0.968179</td>\n",
       "      <td>0.969230</td>\n",
       "    </tr>\n",
       "    <tr>\n",
       "      <th>3</th>\n",
       "      <td>0.119673</td>\n",
       "      <td>0.004988</td>\n",
       "      <td>0.967502</td>\n",
       "      <td>0.966822</td>\n",
       "    </tr>\n",
       "    <tr>\n",
       "      <th>4</th>\n",
       "      <td>0.123458</td>\n",
       "      <td>0.003978</td>\n",
       "      <td>0.966148</td>\n",
       "      <td>0.965995</td>\n",
       "    </tr>\n",
       "    <tr>\n",
       "      <th>5</th>\n",
       "      <td>0.124618</td>\n",
       "      <td>0.004016</td>\n",
       "      <td>0.964794</td>\n",
       "      <td>0.969907</td>\n",
       "    </tr>\n",
       "    <tr>\n",
       "      <th>6</th>\n",
       "      <td>0.134616</td>\n",
       "      <td>0.004940</td>\n",
       "      <td>0.962762</td>\n",
       "      <td>0.963738</td>\n",
       "    </tr>\n",
       "    <tr>\n",
       "      <th>7</th>\n",
       "      <td>0.122334</td>\n",
       "      <td>0.003996</td>\n",
       "      <td>0.964116</td>\n",
       "      <td>0.969531</td>\n",
       "    </tr>\n",
       "    <tr>\n",
       "      <th>8</th>\n",
       "      <td>0.124292</td>\n",
       "      <td>0.006604</td>\n",
       "      <td>0.965471</td>\n",
       "      <td>0.966070</td>\n",
       "    </tr>\n",
       "    <tr>\n",
       "      <th>9</th>\n",
       "      <td>0.131238</td>\n",
       "      <td>0.006014</td>\n",
       "      <td>0.963415</td>\n",
       "      <td>0.962838</td>\n",
       "    </tr>\n",
       "  </tbody>\n",
       "</table>\n",
       "</div>"
      ],
      "text/plain": [
       "   fit_time  score_time  test_score  train_score\n",
       "0  0.149735    0.003989    0.970210     0.965017\n",
       "1  0.116688    0.002992    0.967502     0.968101\n",
       "2  0.115691    0.002992    0.968179     0.969230\n",
       "3  0.119673    0.004988    0.967502     0.966822\n",
       "4  0.123458    0.003978    0.966148     0.965995\n",
       "5  0.124618    0.004016    0.964794     0.969907\n",
       "6  0.134616    0.004940    0.962762     0.963738\n",
       "7  0.122334    0.003996    0.964116     0.969531\n",
       "8  0.124292    0.006604    0.965471     0.966070\n",
       "9  0.131238    0.006014    0.963415     0.962838"
      ]
     },
     "execution_count": 57,
     "metadata": {},
     "output_type": "execute_result"
    }
   ],
   "source": [
    "from sklearn.ensemble import RandomForestClassifier\n",
    "from sklearn.model_selection import cross_validate\n",
    "\n",
    "clf = RandomForestClassifier(n_estimators=10, max_depth=4, random_state=0)\n",
    "y_pred = clf.fit(X_train, y_train).predict(X_test)\n",
    "scores = pd.DataFrame(cross_validate(clf, X_train, y_train, cv=10, return_train_score=True))\n",
    "print(\"mean_train = \", scores['train_score'].mean())\n",
    "print(\"mean_test = \", scores['test_score'].mean())\n",
    "scores"
   ]
  },
  {
   "cell_type": "code",
   "execution_count": 59,
   "id": "803a6a17",
   "metadata": {
    "scrolled": true
   },
   "outputs": [
    {
     "name": "stdout",
     "output_type": "stream",
     "text": [
      "                         feature  importance       std\n",
      "27         Intersection_Up_right    0.000000  0.000000\n",
      "1                       N_Person    0.000000  0.000000\n",
      "22        Intersection_Down_left    0.000000  0.000000\n",
      "21      Intersection_Down_center    0.000000  0.000000\n",
      "8                      N_Handgun    0.000000  0.000000\n",
      "26          Intersection_Up_left    0.000000  0.000000\n",
      "25        Intersection_Up_center    0.000012  0.000035\n",
      "19      Intersection_Center_left    0.000932  0.002724\n",
      "11                        HgXmin    0.001712  0.002815\n",
      "2                        Xcenter    0.003503  0.010510\n",
      "15               Included_Center    0.006083  0.014936\n",
      "16             Intersection_Area    0.018131  0.032269\n",
      "14                        HgYmax    0.025195  0.040827\n",
      "13                        HgXmax    0.025373  0.051440\n",
      "24  Intersection_No_intersection    0.025545  0.056902\n",
      "9                      HgXcenter    0.033364  0.054181\n",
      "4                        PerXmin    0.034293  0.048416\n",
      "7                        PerYmax    0.035450  0.061167\n",
      "6                        PerXmax    0.038019  0.054764\n",
      "18                      Distance    0.040441  0.070914\n",
      "23           Intersection_Inside    0.041828  0.074375\n",
      "17                       Hg_Area    0.042335  0.056042\n",
      "12                        HgYmin    0.088945  0.074192\n",
      "3                        Ycenter    0.092838  0.103901\n",
      "5                        PerYmin    0.100702  0.103435\n",
      "10                     HgYcenter    0.102359  0.124902\n",
      "0                          Frame    0.105496  0.109426\n",
      "20     Intersection_Center_right    0.137442  0.168545\n"
     ]
    },
    {
     "data": {
      "image/png": "[encoded data removed]",
      "text/plain": [
       "<Figure size 800x600 with 1 Axes>"
      ]
     },
     "metadata": {},
     "output_type": "display_data"
    }
   ],
   "source": [
    "clf.fit(X_train.values, y_train.values)\n",
    "predictions=clf.predict(X_test.values)\n",
    "#Le agrego .values para solucionar el problema:\n",
    "#C:\\ProgramData\\Anaconda3\\lib\\site-packages\\sklearn\\base.py:450: UserWarning: X does not have valid feature names, but RandomForestClassifier was fitted with feature names\n",
    "#https://stackoverflow.com/questions/69326639/sklearn-warning-valid-feature-names-in-version-1-0\n",
    "\n",
    "importances = clf.feature_importances_\n",
    "std = np.std([tree.feature_importances_ for tree in clf.estimators_], axis=0)\n",
    "\n",
    "df = pd.DataFrame({'feature': X_train.columns, 'importance': importances, 'std': std})\n",
    "df = df.sort_values('importance')\n",
    "print(df)\n",
    "\n",
    "ax = df.plot(figsize=(8,6),kind='barh', xerr='std', x='feature', legend=False)\n",
    "ax.set_ylabel('')\n",
    "\n",
    "plt.tight_layout()\n",
    "plt.show()"
   ]
  },
  {
   "cell_type": "code",
   "execution_count": 60,
   "id": "4cd43a0d",
   "metadata": {
    "scrolled": true
   },
   "outputs": [
    {
     "name": "stdout",
     "output_type": "stream",
     "text": [
      "              precision    recall  f1-score   support\n",
      "\n",
      "           0       0.96      1.00      0.98      3491\n",
      "           1       1.00      0.33      0.50       202\n",
      "\n",
      "    accuracy                           0.96      3693\n",
      "   macro avg       0.98      0.67      0.74      3693\n",
      "weighted avg       0.96      0.96      0.95      3693\n",
      "\n"
     ]
    }
   ],
   "source": [
    "from sklearn.metrics import classification_report\n",
    "print(classification_report(y_test,predictions))"
   ]
  },
  {
   "cell_type": "code",
   "execution_count": 61,
   "id": "a537b399",
   "metadata": {},
   "outputs": [
    {
     "name": "stdout",
     "output_type": "stream",
     "text": [
      "Score train =  0.9634443541835905\n"
     ]
    }
   ],
   "source": [
    "from sklearn.metrics import accuracy_score\n",
    "print(\"Score test = \", accuracy_score(y_test,predictions))"
   ]
  },
  {
   "cell_type": "code",
   "execution_count": 62,
   "id": "7ee15735",
   "metadata": {},
   "outputs": [
    {
     "data": {
      "text/plain": [
       "0.9813844456701599"
      ]
     },
     "execution_count": 62,
     "metadata": {},
     "output_type": "execute_result"
    }
   ],
   "source": [
    "from sklearn.metrics import precision_score\n",
    "precision_score(y_test,predictions, average='macro')"
   ]
  },
  {
   "cell_type": "code",
   "execution_count": 63,
   "id": "6c4fe9bc",
   "metadata": {},
   "outputs": [
    {
     "data": {
      "text/plain": [
       "0.6658415841584159"
      ]
     },
     "execution_count": 63,
     "metadata": {},
     "output_type": "execute_result"
    }
   ],
   "source": [
    "from sklearn.metrics import recall_score\n",
    "recall_score(y_test,predictions, average='macro')"
   ]
  },
  {
   "cell_type": "code",
   "execution_count": 64,
   "id": "2f52d061",
   "metadata": {},
   "outputs": [
    {
     "data": {
      "text/plain": [
       "0.7395862986837631"
      ]
     },
     "execution_count": 64,
     "metadata": {},
     "output_type": "execute_result"
    }
   ],
   "source": [
    "from sklearn.metrics import f1_score\n",
    "f1_score(y_test,predictions, average='macro')"
   ]
  },
  {
   "cell_type": "code",
   "execution_count": 18,
   "id": "b638c813",
   "metadata": {},
   "outputs": [],
   "source": [
    "# save the model to disk\n",
    "filename = 'rfc_model_intersection.sav'\n",
    "pickle.dump(clf, open(filename, 'wb')) "
   ]
  },
  {
   "cell_type": "markdown",
   "id": "a98ecc7b",
   "metadata": {},
   "source": [
    "# Redes Neuronales - Todos los predictores"
   ]
  },
  {
   "cell_type": "code",
   "execution_count": 19,
   "id": "05a611fa",
   "metadata": {
    "scrolled": true
   },
   "outputs": [],
   "source": [
    "X = df3.drop('Ground_Truth',axis='columns')\n",
    "y = df3.Ground_Truth"
   ]
  },
  {
   "cell_type": "code",
   "execution_count": 20,
   "id": "e6473e29",
   "metadata": {
    "scrolled": true
   },
   "outputs": [
    {
     "name": "stdout",
     "output_type": "stream",
     "text": [
      "<class 'pandas.core.frame.DataFrame'>\n",
      "RangeIndex: 18462 entries, 0 to 18461\n",
      "Data columns (total 28 columns):\n",
      " #   Column                        Non-Null Count  Dtype  \n",
      "---  ------                        --------------  -----  \n",
      " 0   Frame                         18462 non-null  int64  \n",
      " 1   N_Person                      18462 non-null  int64  \n",
      " 2   Xcenter                       18462 non-null  float64\n",
      " 3   Ycenter                       18462 non-null  float64\n",
      " 4   PerXmin                       18462 non-null  float64\n",
      " 5   PerYmin                       18462 non-null  float64\n",
      " 6   PerXmax                       18462 non-null  float64\n",
      " 7   PerYmax                       18462 non-null  float64\n",
      " 8   N_Handgun                     18462 non-null  int64  \n",
      " 9   HgXcenter                     18462 non-null  float64\n",
      " 10  HgYcenter                     18462 non-null  float64\n",
      " 11  HgXmin                        18462 non-null  float64\n",
      " 12  HgYmin                        18462 non-null  float64\n",
      " 13  HgXmax                        18462 non-null  float64\n",
      " 14  HgYmax                        18462 non-null  float64\n",
      " 15  Included_Center               18462 non-null  int64  \n",
      " 16  Intersection_Area             18462 non-null  float64\n",
      " 17  Hg_Area                       18462 non-null  float64\n",
      " 18  Distance                      18462 non-null  float64\n",
      " 19  Intersection_Center_left      18462 non-null  uint8  \n",
      " 20  Intersection_Center_right     18462 non-null  uint8  \n",
      " 21  Intersection_Down_center      18462 non-null  uint8  \n",
      " 22  Intersection_Down_left        18462 non-null  uint8  \n",
      " 23  Intersection_Inside           18462 non-null  uint8  \n",
      " 24  Intersection_No_intersection  18462 non-null  uint8  \n",
      " 25  Intersection_Up_center        18462 non-null  uint8  \n",
      " 26  Intersection_Up_left          18462 non-null  uint8  \n",
      " 27  Intersection_Up_right         18462 non-null  uint8  \n",
      "dtypes: float64(15), int64(4), uint8(9)\n",
      "memory usage: 2.8 MB\n"
     ]
    }
   ],
   "source": [
    "X.info()"
   ]
  },
  {
   "cell_type": "code",
   "execution_count": 21,
   "id": "69009579",
   "metadata": {
    "scrolled": true
   },
   "outputs": [
    {
     "data": {
      "text/plain": [
       "array([[-1.86663419, -1.00701402,  0.38577429, -1.0576382 ,  0.40687684,\n",
       "        -0.80172085,  0.34908455, -1.42438868, -0.49745242,  0.64909231,\n",
       "        -1.2576171 ,  0.70164169, -1.17662884,  0.59512758, -1.33394055,\n",
       "         1.17579801, -0.04954292, -0.63157767, -0.69785319,  2.6667582 ,\n",
       "        -0.28065267, -0.01645904, -0.01040876, -0.53932218, -1.08661074,\n",
       "        -0.1197492 , -0.06169281, -0.13779203],\n",
       "       [-1.86446317, -1.00701402,  0.3854888 , -1.05704832,  0.40589548,\n",
       "        -0.80003247,  0.34952983, -1.42713307, -0.49745242,  0.64749709,\n",
       "        -1.25847055,  0.69864005, -1.17727962,  0.59492659, -1.33499858,\n",
       "         1.17579801, -0.04712076, -0.62566511, -0.69642536,  2.6667582 ,\n",
       "        -0.28065267, -0.01645904, -0.01040876, -0.53932218, -1.08661074,\n",
       "        -0.1197492 , -0.06169281, -0.13779203],\n",
       "       [-1.86229216, -1.00701402,  0.3861088 , -1.05920044,  0.40736329,\n",
       "        -0.80408525,  0.34924902, -1.42312783, -0.49745242,  0.64731849,\n",
       "        -1.25988355,  0.69855066, -1.17847827,  0.59466045, -1.33662494,\n",
       "         1.17579801, -0.0538845 , -0.62674437, -0.6959395 ,  2.6667582 ,\n",
       "        -0.28065267, -0.01645904, -0.01040876, -0.53932218, -1.08661074,\n",
       "        -0.1197492 , -0.06169281, -0.13779203]])"
      ]
     },
     "execution_count": 21,
     "metadata": {},
     "output_type": "execute_result"
    }
   ],
   "source": [
    "from sklearn.preprocessing import StandardScaler\n",
    "scaler = StandardScaler()\n",
    "X_scaled = scaler.fit_transform(X)\n",
    "X_scaled[:3]\n",
    "#X_scaled.shape"
   ]
  },
  {
   "cell_type": "code",
   "execution_count": 22,
   "id": "452d05da",
   "metadata": {
    "scrolled": false
   },
   "outputs": [
    {
     "name": "stdout",
     "output_type": "stream",
     "text": [
      "[8.59798234e+02 8.80240494e-01 3.93102559e+02 3.82411389e+02\n",
      " 3.05846217e+02 2.46139494e+02 4.80358901e+02 5.18683283e+02\n",
      " 2.99046690e-01 3.10616438e+02 3.12410896e+02 2.87253787e+02\n",
      " 2.92873459e+02 3.33979089e+02 3.31948332e+02 4.19727007e-01\n",
      " 9.27307239e+02 2.02293700e+03 2.32081730e+02 1.23280251e-01\n",
      " 7.30148413e-02 2.70826563e-04 1.08330625e-04 2.25327700e-01\n",
      " 5.41436464e-01 1.41371466e-02 3.79157188e-03 1.86328675e-02]\n"
     ]
    }
   ],
   "source": [
    "print(scaler.mean_)"
   ]
  },
  {
   "cell_type": "code",
   "execution_count": 23,
   "id": "792e3581",
   "metadata": {
    "scrolled": true
   },
   "outputs": [
    {
     "name": "stdout",
     "output_type": "stream",
     "text": [
      "[4.60614212e+02 8.74109471e-01 2.12292249e+02 6.88595037e+01\n",
      " 2.20044556e+02 1.11930192e+02 2.12735709e+02 3.92590281e+01\n",
      " 6.01156363e-01 1.52929789e+02 9.72974500e+01 1.52229531e+02\n",
      " 9.92308523e+01 1.54119080e+02 9.59323050e+01 4.93514181e-01\n",
      " 1.66284199e+03 1.80726587e+03 1.37508632e+02 3.28758621e-01\n",
      " 2.60160862e-01 1.64545804e-02 1.04076361e-02 4.17797951e-01\n",
      " 4.98280061e-01 1.18056290e-01 6.14588957e-02 1.35224568e-01]\n"
     ]
    }
   ],
   "source": [
    "print(scaler.scale_)"
   ]
  },
  {
   "cell_type": "code",
   "execution_count": 24,
   "id": "0f8c7a7e",
   "metadata": {},
   "outputs": [],
   "source": [
    "from sklearn.model_selection import  train_test_split\n",
    "X_train, X_test, y_train, y_test = train_test_split(X_scaled, y, stratify=y, random_state=10) #stratify hace que el ratio entre 0 y 1 se mantenga en la distri. entre el test(y). "
   ]
  },
  {
   "cell_type": "code",
   "execution_count": 25,
   "id": "89c11ff0",
   "metadata": {},
   "outputs": [
    {
     "data": {
      "text/plain": [
       "(13846, 28)"
      ]
     },
     "execution_count": 25,
     "metadata": {},
     "output_type": "execute_result"
    }
   ],
   "source": [
    "X_train.shape"
   ]
  },
  {
   "cell_type": "code",
   "execution_count": 26,
   "id": "809f7a45",
   "metadata": {
    "scrolled": true
   },
   "outputs": [
    {
     "data": {
      "text/plain": [
       "0    13114\n",
       "1      732\n",
       "Name: Ground_Truth, dtype: int64"
      ]
     },
     "execution_count": 26,
     "metadata": {},
     "output_type": "execute_result"
    }
   ],
   "source": [
    "y_train.value_counts()"
   ]
  },
  {
   "cell_type": "code",
   "execution_count": 27,
   "id": "87692498",
   "metadata": {},
   "outputs": [
    {
     "data": {
      "text/plain": [
       "(4616, 28)"
      ]
     },
     "execution_count": 27,
     "metadata": {},
     "output_type": "execute_result"
    }
   ],
   "source": [
    "X_test.shape"
   ]
  },
  {
   "cell_type": "code",
   "execution_count": 28,
   "id": "37e3175e",
   "metadata": {
    "scrolled": false
   },
   "outputs": [
    {
     "data": {
      "text/plain": [
       "0    4372\n",
       "1     244\n",
       "Name: Ground_Truth, dtype: int64"
      ]
     },
     "execution_count": 28,
     "metadata": {},
     "output_type": "execute_result"
    }
   ],
   "source": [
    "y_test.value_counts()"
   ]
  },
  {
   "cell_type": "code",
   "execution_count": 29,
   "id": "8b1cbdef",
   "metadata": {
    "scrolled": true
   },
   "outputs": [
    {
     "data": {
      "text/plain": [
       "array([[1.00000000e+00, 1.04476645e-11],\n",
       "       [9.99999432e-01, 5.67613123e-07],\n",
       "       [9.99999884e-01, 1.15832645e-07],\n",
       "       ...,\n",
       "       [9.99947916e-01, 5.20844046e-05],\n",
       "       [7.83919887e-01, 2.16080113e-01],\n",
       "       [9.99999992e-01, 7.71975817e-09]])"
      ]
     },
     "execution_count": 29,
     "metadata": {},
     "output_type": "execute_result"
    }
   ],
   "source": [
    "from sklearn.neural_network import MLPClassifier\n",
    "clf=MLPClassifier(hidden_layer_sizes=(25,25,25,25), max_iter=500, alpha=0.0001, solver='adam',\n",
    "                 random_state=0, tol=0.000000001)\n",
    "y_pred = clf.fit(X_train, y_train).predict(X_test)\n",
    "predictions_mlp=clf.predict_proba(X_test)\n",
    "predictions_mlp"
   ]
  },
  {
   "cell_type": "code",
   "execution_count": 30,
   "id": "1e2e8226",
   "metadata": {},
   "outputs": [
    {
     "data": {
      "text/plain": [
       "array([0, 0, 0, ..., 0, 0, 0], dtype=int64)"
      ]
     },
     "execution_count": 30,
     "metadata": {},
     "output_type": "execute_result"
    }
   ],
   "source": [
    "predictions_mlp=clf.predict(X_test)\n",
    "predictions_mlp"
   ]
  },
  {
   "cell_type": "code",
   "execution_count": 32,
   "id": "f87e6606",
   "metadata": {
    "scrolled": true
   },
   "outputs": [
    {
     "name": "stdout",
     "output_type": "stream",
     "text": [
      "              precision    recall  f1-score   support\n",
      "\n",
      "           0       1.00      1.00      1.00      4372\n",
      "           1       0.92      0.92      0.92       244\n",
      "\n",
      "    accuracy                           0.99      4616\n",
      "   macro avg       0.96      0.96      0.96      4616\n",
      "weighted avg       0.99      0.99      0.99      4616\n",
      "\n"
     ]
    }
   ],
   "source": [
    "from sklearn.metrics import classification_report\n",
    "print(classification_report(y_test,predictions_mlp))"
   ]
  },
  {
   "cell_type": "code",
   "execution_count": 33,
   "id": "88b8b418",
   "metadata": {
    "scrolled": true
   },
   "outputs": [
    {
     "name": "stdout",
     "output_type": "stream",
     "text": [
      "Score train =  0.9959555106167847\n",
      "Score test =  0.9917677642980935\n"
     ]
    }
   ],
   "source": [
    "print(\"Score train = \",clf.score(X_train, y_train))\n",
    "print(\"Score test = \",clf.score(X_test, y_test))"
   ]
  },
  {
   "cell_type": "code",
   "execution_count": 40,
   "id": "d416e61f",
   "metadata": {},
   "outputs": [
    {
     "name": "stdout",
     "output_type": "stream",
     "text": [
      "Score train =  0.9917677642980935\n"
     ]
    }
   ],
   "source": [
    "from sklearn.metrics import accuracy_score\n",
    "print(\"Score test = \", accuracy_score(y_test,predictions_mlp))"
   ]
  },
  {
   "cell_type": "code",
   "execution_count": 41,
   "id": "dad575ae",
   "metadata": {},
   "outputs": [
    {
     "data": {
      "text/plain": [
       "0.9588926551977561"
      ]
     },
     "execution_count": 41,
     "metadata": {},
     "output_type": "execute_result"
    }
   ],
   "source": [
    "from sklearn.metrics import precision_score\n",
    "precision_score(y_test,predictions_mlp, average='macro')"
   ]
  },
  {
   "cell_type": "code",
   "execution_count": 42,
   "id": "8d3bb5f9",
   "metadata": {},
   "outputs": [
    {
     "data": {
      "text/plain": [
       "0.9588926551977561"
      ]
     },
     "execution_count": 42,
     "metadata": {},
     "output_type": "execute_result"
    }
   ],
   "source": [
    "from sklearn.metrics import recall_score\n",
    "recall_score(y_test,predictions_mlp, average='macro')"
   ]
  },
  {
   "cell_type": "code",
   "execution_count": 43,
   "id": "c3c50b12",
   "metadata": {},
   "outputs": [
    {
     "data": {
      "text/plain": [
       "0.9588926551977561"
      ]
     },
     "execution_count": 43,
     "metadata": {},
     "output_type": "execute_result"
    }
   ],
   "source": [
    "from sklearn.metrics import f1_score\n",
    "f1_score(y_test,predictions_mlp, average='macro')"
   ]
  },
  {
   "cell_type": "code",
   "execution_count": 34,
   "id": "9e560452",
   "metadata": {},
   "outputs": [],
   "source": [
    "# save the model to disk\n",
    "filename = 'mlp_model_intersection.sav'\n",
    "pickle.dump(clf, open(filename, 'wb')) "
   ]
  }
 ],
 "metadata": {
  "kernelspec": {
   "display_name": "Python 3 (ipykernel)",
   "language": "python",
   "name": "python3"
  },
  "language_info": {
   "codemirror_mode": {
    "name": "ipython",
    "version": 3
   },
   "file_extension": ".py",
   "mimetype": "text/x-python",
   "name": "python",
   "nbconvert_exporter": "python",
   "pygments_lexer": "ipython3",
   "version": "3.8.11"
  }
 },
 "nbformat": 4,
 "nbformat_minor": 5
}
