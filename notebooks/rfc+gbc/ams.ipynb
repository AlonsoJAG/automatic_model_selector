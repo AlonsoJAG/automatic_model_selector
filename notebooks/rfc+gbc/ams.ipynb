{
 "cells": [
  {
   "cell_type": "code",
   "execution_count": 46,
   "id": "5d87e640",
   "metadata": {},
   "outputs": [],
   "source": [
    "import pickle\n",
    "import numpy as np\n",
    "import pandas as pd\n",
    "import matplotlib.pyplot as plt\n",
    "%matplotlib inline"
   ]
  },
  {
   "cell_type": "code",
   "execution_count": 47,
   "id": "95600074",
   "metadata": {
    "scrolled": true
   },
   "outputs": [
    {
     "data": {
      "text/html": [
       "<div>\n",
       "<style scoped>\n",
       "    .dataframe tbody tr th:only-of-type {\n",
       "        vertical-align: middle;\n",
       "    }\n",
       "\n",
       "    .dataframe tbody tr th {\n",
       "        vertical-align: top;\n",
       "    }\n",
       "\n",
       "    .dataframe thead th {\n",
       "        text-align: right;\n",
       "    }\n",
       "</style>\n",
       "<table border=\"1\" class=\"dataframe\">\n",
       "  <thead>\n",
       "    <tr style=\"text-align: right;\">\n",
       "      <th></th>\n",
       "      <th>Frame</th>\n",
       "      <th>N_Person</th>\n",
       "      <th>Xcenter</th>\n",
       "      <th>Ycenter</th>\n",
       "      <th>PerXmin</th>\n",
       "      <th>PerYmin</th>\n",
       "      <th>PerXmax</th>\n",
       "      <th>PerYmax</th>\n",
       "      <th>N_Handgun</th>\n",
       "      <th>HgXcenter</th>\n",
       "      <th>...</th>\n",
       "      <th>HgYmin</th>\n",
       "      <th>HgXmax</th>\n",
       "      <th>HgYmax</th>\n",
       "      <th>Intersection</th>\n",
       "      <th>Included_Center</th>\n",
       "      <th>Intersection_Area</th>\n",
       "      <th>Hg_Area</th>\n",
       "      <th>Distance</th>\n",
       "      <th>Ground_Truth</th>\n",
       "      <th>GT</th>\n",
       "    </tr>\n",
       "  </thead>\n",
       "  <tbody>\n",
       "    <tr>\n",
       "      <th>0</th>\n",
       "      <td>0</td>\n",
       "      <td>0</td>\n",
       "      <td>474.999451</td>\n",
       "      <td>309.582947</td>\n",
       "      <td>395.377251</td>\n",
       "      <td>156.402725</td>\n",
       "      <td>554.621651</td>\n",
       "      <td>462.763168</td>\n",
       "      <td>0</td>\n",
       "      <td>409.881988</td>\n",
       "      <td>...</td>\n",
       "      <td>176.115577</td>\n",
       "      <td>425.699604</td>\n",
       "      <td>203.980340</td>\n",
       "      <td>Center_left</td>\n",
       "      <td>1</td>\n",
       "      <td>844.925198</td>\n",
       "      <td>881.508223</td>\n",
       "      <td>136.120892</td>\n",
       "      <td>1</td>\n",
       "      <td>GBC</td>\n",
       "    </tr>\n",
       "    <tr>\n",
       "      <th>1</th>\n",
       "      <td>1</td>\n",
       "      <td>0</td>\n",
       "      <td>474.938843</td>\n",
       "      <td>309.623566</td>\n",
       "      <td>395.161308</td>\n",
       "      <td>156.591705</td>\n",
       "      <td>554.716377</td>\n",
       "      <td>462.655426</td>\n",
       "      <td>0</td>\n",
       "      <td>409.638031</td>\n",
       "      <td>...</td>\n",
       "      <td>176.050999</td>\n",
       "      <td>425.668627</td>\n",
       "      <td>203.878841</td>\n",
       "      <td>Center_left</td>\n",
       "      <td>1</td>\n",
       "      <td>848.952861</td>\n",
       "      <td>892.193796</td>\n",
       "      <td>136.317231</td>\n",
       "      <td>1</td>\n",
       "      <td>GBC</td>\n",
       "    </tr>\n",
       "    <tr>\n",
       "      <th>2</th>\n",
       "      <td>2</td>\n",
       "      <td>0</td>\n",
       "      <td>475.070465</td>\n",
       "      <td>309.475372</td>\n",
       "      <td>395.484291</td>\n",
       "      <td>156.138077</td>\n",
       "      <td>554.656639</td>\n",
       "      <td>462.812668</td>\n",
       "      <td>0</td>\n",
       "      <td>409.610718</td>\n",
       "      <td>...</td>\n",
       "      <td>175.932056</td>\n",
       "      <td>425.627609</td>\n",
       "      <td>203.722820</td>\n",
       "      <td>Center_left</td>\n",
       "      <td>1</td>\n",
       "      <td>837.705837</td>\n",
       "      <td>890.243298</td>\n",
       "      <td>136.384041</td>\n",
       "      <td>1</td>\n",
       "      <td>GBC</td>\n",
       "    </tr>\n",
       "    <tr>\n",
       "      <th>3</th>\n",
       "      <td>3</td>\n",
       "      <td>0</td>\n",
       "      <td>476.837311</td>\n",
       "      <td>308.901245</td>\n",
       "      <td>399.288238</td>\n",
       "      <td>154.448364</td>\n",
       "      <td>554.386383</td>\n",
       "      <td>463.354126</td>\n",
       "      <td>0</td>\n",
       "      <td>408.519043</td>\n",
       "      <td>...</td>\n",
       "      <td>177.653896</td>\n",
       "      <td>423.709709</td>\n",
       "      <td>202.787083</td>\n",
       "      <td>Center_left</td>\n",
       "      <td>1</td>\n",
       "      <td>613.789372</td>\n",
       "      <td>763.579688</td>\n",
       "      <td>136.939795</td>\n",
       "      <td>1</td>\n",
       "      <td>GBC</td>\n",
       "    </tr>\n",
       "    <tr>\n",
       "      <th>4</th>\n",
       "      <td>4</td>\n",
       "      <td>0</td>\n",
       "      <td>476.918640</td>\n",
       "      <td>308.815064</td>\n",
       "      <td>399.598404</td>\n",
       "      <td>154.249756</td>\n",
       "      <td>554.238876</td>\n",
       "      <td>463.380371</td>\n",
       "      <td>0</td>\n",
       "      <td>408.613525</td>\n",
       "      <td>...</td>\n",
       "      <td>177.582060</td>\n",
       "      <td>423.771116</td>\n",
       "      <td>202.885134</td>\n",
       "      <td>Center_left</td>\n",
       "      <td>1</td>\n",
       "      <td>611.643926</td>\n",
       "      <td>767.067283</td>\n",
       "      <td>136.847188</td>\n",
       "      <td>1</td>\n",
       "      <td>GBC</td>\n",
       "    </tr>\n",
       "  </tbody>\n",
       "</table>\n",
       "<p>5 rows × 22 columns</p>\n",
       "</div>"
      ],
      "text/plain": [
       "   Frame  N_Person     Xcenter     Ycenter     PerXmin     PerYmin  \\\n",
       "0      0         0  474.999451  309.582947  395.377251  156.402725   \n",
       "1      1         0  474.938843  309.623566  395.161308  156.591705   \n",
       "2      2         0  475.070465  309.475372  395.484291  156.138077   \n",
       "3      3         0  476.837311  308.901245  399.288238  154.448364   \n",
       "4      4         0  476.918640  308.815064  399.598404  154.249756   \n",
       "\n",
       "      PerXmax     PerYmax  N_Handgun   HgXcenter  ...      HgYmin      HgXmax  \\\n",
       "0  554.621651  462.763168          0  409.881988  ...  176.115577  425.699604   \n",
       "1  554.716377  462.655426          0  409.638031  ...  176.050999  425.668627   \n",
       "2  554.656639  462.812668          0  409.610718  ...  175.932056  425.627609   \n",
       "3  554.386383  463.354126          0  408.519043  ...  177.653896  423.709709   \n",
       "4  554.238876  463.380371          0  408.613525  ...  177.582060  423.771116   \n",
       "\n",
       "       HgYmax  Intersection  Included_Center Intersection_Area     Hg_Area  \\\n",
       "0  203.980340   Center_left                1        844.925198  881.508223   \n",
       "1  203.878841   Center_left                1        848.952861  892.193796   \n",
       "2  203.722820   Center_left                1        837.705837  890.243298   \n",
       "3  202.787083   Center_left                1        613.789372  763.579688   \n",
       "4  202.885134   Center_left                1        611.643926  767.067283   \n",
       "\n",
       "     Distance  Ground_Truth   GT  \n",
       "0  136.120892             1  GBC  \n",
       "1  136.317231             1  GBC  \n",
       "2  136.384041             1  GBC  \n",
       "3  136.939795             1  GBC  \n",
       "4  136.847188             1  GBC  \n",
       "\n",
       "[5 rows x 22 columns]"
      ]
     },
     "execution_count": 47,
     "metadata": {},
     "output_type": "execute_result"
    }
   ],
   "source": [
    "df = pd.read_csv('ams16.csv')\n",
    "df.head()"
   ]
  },
  {
   "cell_type": "code",
   "execution_count": 48,
   "id": "8ae1ff95",
   "metadata": {},
   "outputs": [
    {
     "data": {
      "text/plain": [
       "18447"
      ]
     },
     "execution_count": 48,
     "metadata": {},
     "output_type": "execute_result"
    }
   ],
   "source": [
    "len(df)"
   ]
  },
  {
   "cell_type": "code",
   "execution_count": 49,
   "id": "9ac6c889",
   "metadata": {
    "scrolled": true
   },
   "outputs": [
    {
     "name": "stdout",
     "output_type": "stream",
     "text": [
      "<class 'pandas.core.frame.DataFrame'>\n",
      "RangeIndex: 18447 entries, 0 to 18446\n",
      "Data columns (total 22 columns):\n",
      " #   Column             Non-Null Count  Dtype  \n",
      "---  ------             --------------  -----  \n",
      " 0   Frame              18447 non-null  int64  \n",
      " 1   N_Person           18447 non-null  int64  \n",
      " 2   Xcenter            18447 non-null  float64\n",
      " 3   Ycenter            18447 non-null  float64\n",
      " 4   PerXmin            18447 non-null  float64\n",
      " 5   PerYmin            18447 non-null  float64\n",
      " 6   PerXmax            18447 non-null  float64\n",
      " 7   PerYmax            18447 non-null  float64\n",
      " 8   N_Handgun          18447 non-null  int64  \n",
      " 9   HgXcenter          18447 non-null  float64\n",
      " 10  HgYcenter          18447 non-null  float64\n",
      " 11  HgXmin             18447 non-null  float64\n",
      " 12  HgYmin             18447 non-null  float64\n",
      " 13  HgXmax             18447 non-null  float64\n",
      " 14  HgYmax             18447 non-null  float64\n",
      " 15  Intersection       18447 non-null  object \n",
      " 16  Included_Center    18447 non-null  int64  \n",
      " 17  Intersection_Area  18447 non-null  float64\n",
      " 18  Hg_Area            18447 non-null  float64\n",
      " 19  Distance           18447 non-null  float64\n",
      " 20  Ground_Truth       18447 non-null  int64  \n",
      " 21  GT                 18447 non-null  object \n",
      "dtypes: float64(15), int64(5), object(2)\n",
      "memory usage: 3.1+ MB\n"
     ]
    }
   ],
   "source": [
    "df.info()"
   ]
  },
  {
   "cell_type": "code",
   "execution_count": 50,
   "id": "048f07b5",
   "metadata": {},
   "outputs": [
    {
     "data": {
      "text/plain": [
       "Frame                 1933\n",
       "N_Person                 5\n",
       "Xcenter              14203\n",
       "Ycenter              14184\n",
       "PerXmin              14211\n",
       "PerYmin              14208\n",
       "PerXmax              14211\n",
       "PerYmax              14188\n",
       "N_Handgun                5\n",
       "HgXcenter             7302\n",
       "HgYcenter             7300\n",
       "HgXmin                7304\n",
       "HgYmin                7304\n",
       "HgXmax                7304\n",
       "HgYmax                7303\n",
       "Intersection             9\n",
       "Included_Center          2\n",
       "Intersection_Area     8413\n",
       "Hg_Area               7304\n",
       "Distance             18447\n",
       "Ground_Truth             2\n",
       "GT                       2\n",
       "dtype: int64"
      ]
     },
     "execution_count": 50,
     "metadata": {},
     "output_type": "execute_result"
    }
   ],
   "source": [
    "df.nunique()"
   ]
  },
  {
   "cell_type": "code",
   "execution_count": 51,
   "id": "86b0f52d",
   "metadata": {
    "scrolled": false
   },
   "outputs": [
    {
     "data": {
      "text/plain": [
       "1    17911\n",
       "0      536\n",
       "Name: Ground_Truth, dtype: int64"
      ]
     },
     "execution_count": 51,
     "metadata": {},
     "output_type": "execute_result"
    }
   ],
   "source": [
    "df['Ground_Truth'].value_counts()"
   ]
  },
  {
   "cell_type": "code",
   "execution_count": 52,
   "id": "732110e8",
   "metadata": {
    "scrolled": true
   },
   "outputs": [
    {
     "data": {
      "text/html": [
       "<div>\n",
       "<style scoped>\n",
       "    .dataframe tbody tr th:only-of-type {\n",
       "        vertical-align: middle;\n",
       "    }\n",
       "\n",
       "    .dataframe tbody tr th {\n",
       "        vertical-align: top;\n",
       "    }\n",
       "\n",
       "    .dataframe thead th {\n",
       "        text-align: right;\n",
       "    }\n",
       "</style>\n",
       "<table border=\"1\" class=\"dataframe\">\n",
       "  <thead>\n",
       "    <tr style=\"text-align: right;\">\n",
       "      <th></th>\n",
       "      <th>Frame</th>\n",
       "      <th>N_Person</th>\n",
       "      <th>Xcenter</th>\n",
       "      <th>Ycenter</th>\n",
       "      <th>PerXmin</th>\n",
       "      <th>PerYmin</th>\n",
       "      <th>PerXmax</th>\n",
       "      <th>PerYmax</th>\n",
       "      <th>N_Handgun</th>\n",
       "      <th>HgXcenter</th>\n",
       "      <th>...</th>\n",
       "      <th>GT</th>\n",
       "      <th>Intersection_Center_left</th>\n",
       "      <th>Intersection_Center_right</th>\n",
       "      <th>Intersection_Down_center</th>\n",
       "      <th>Intersection_Down_left</th>\n",
       "      <th>Intersection_Inside</th>\n",
       "      <th>Intersection_No_intersection</th>\n",
       "      <th>Intersection_Up_center</th>\n",
       "      <th>Intersection_Up_left</th>\n",
       "      <th>Intersection_Up_right</th>\n",
       "    </tr>\n",
       "  </thead>\n",
       "  <tbody>\n",
       "    <tr>\n",
       "      <th>0</th>\n",
       "      <td>0</td>\n",
       "      <td>0</td>\n",
       "      <td>474.999451</td>\n",
       "      <td>309.582947</td>\n",
       "      <td>395.377251</td>\n",
       "      <td>156.402725</td>\n",
       "      <td>554.621651</td>\n",
       "      <td>462.763168</td>\n",
       "      <td>0</td>\n",
       "      <td>409.881988</td>\n",
       "      <td>...</td>\n",
       "      <td>GBC</td>\n",
       "      <td>1</td>\n",
       "      <td>0</td>\n",
       "      <td>0</td>\n",
       "      <td>0</td>\n",
       "      <td>0</td>\n",
       "      <td>0</td>\n",
       "      <td>0</td>\n",
       "      <td>0</td>\n",
       "      <td>0</td>\n",
       "    </tr>\n",
       "    <tr>\n",
       "      <th>1</th>\n",
       "      <td>1</td>\n",
       "      <td>0</td>\n",
       "      <td>474.938843</td>\n",
       "      <td>309.623566</td>\n",
       "      <td>395.161308</td>\n",
       "      <td>156.591705</td>\n",
       "      <td>554.716377</td>\n",
       "      <td>462.655426</td>\n",
       "      <td>0</td>\n",
       "      <td>409.638031</td>\n",
       "      <td>...</td>\n",
       "      <td>GBC</td>\n",
       "      <td>1</td>\n",
       "      <td>0</td>\n",
       "      <td>0</td>\n",
       "      <td>0</td>\n",
       "      <td>0</td>\n",
       "      <td>0</td>\n",
       "      <td>0</td>\n",
       "      <td>0</td>\n",
       "      <td>0</td>\n",
       "    </tr>\n",
       "    <tr>\n",
       "      <th>2</th>\n",
       "      <td>2</td>\n",
       "      <td>0</td>\n",
       "      <td>475.070465</td>\n",
       "      <td>309.475372</td>\n",
       "      <td>395.484291</td>\n",
       "      <td>156.138077</td>\n",
       "      <td>554.656639</td>\n",
       "      <td>462.812668</td>\n",
       "      <td>0</td>\n",
       "      <td>409.610718</td>\n",
       "      <td>...</td>\n",
       "      <td>GBC</td>\n",
       "      <td>1</td>\n",
       "      <td>0</td>\n",
       "      <td>0</td>\n",
       "      <td>0</td>\n",
       "      <td>0</td>\n",
       "      <td>0</td>\n",
       "      <td>0</td>\n",
       "      <td>0</td>\n",
       "      <td>0</td>\n",
       "    </tr>\n",
       "    <tr>\n",
       "      <th>3</th>\n",
       "      <td>3</td>\n",
       "      <td>0</td>\n",
       "      <td>476.837311</td>\n",
       "      <td>308.901245</td>\n",
       "      <td>399.288238</td>\n",
       "      <td>154.448364</td>\n",
       "      <td>554.386383</td>\n",
       "      <td>463.354126</td>\n",
       "      <td>0</td>\n",
       "      <td>408.519043</td>\n",
       "      <td>...</td>\n",
       "      <td>GBC</td>\n",
       "      <td>1</td>\n",
       "      <td>0</td>\n",
       "      <td>0</td>\n",
       "      <td>0</td>\n",
       "      <td>0</td>\n",
       "      <td>0</td>\n",
       "      <td>0</td>\n",
       "      <td>0</td>\n",
       "      <td>0</td>\n",
       "    </tr>\n",
       "    <tr>\n",
       "      <th>4</th>\n",
       "      <td>4</td>\n",
       "      <td>0</td>\n",
       "      <td>476.918640</td>\n",
       "      <td>308.815064</td>\n",
       "      <td>399.598404</td>\n",
       "      <td>154.249756</td>\n",
       "      <td>554.238876</td>\n",
       "      <td>463.380371</td>\n",
       "      <td>0</td>\n",
       "      <td>408.613525</td>\n",
       "      <td>...</td>\n",
       "      <td>GBC</td>\n",
       "      <td>1</td>\n",
       "      <td>0</td>\n",
       "      <td>0</td>\n",
       "      <td>0</td>\n",
       "      <td>0</td>\n",
       "      <td>0</td>\n",
       "      <td>0</td>\n",
       "      <td>0</td>\n",
       "      <td>0</td>\n",
       "    </tr>\n",
       "  </tbody>\n",
       "</table>\n",
       "<p>5 rows × 30 columns</p>\n",
       "</div>"
      ],
      "text/plain": [
       "   Frame  N_Person     Xcenter     Ycenter     PerXmin     PerYmin  \\\n",
       "0      0         0  474.999451  309.582947  395.377251  156.402725   \n",
       "1      1         0  474.938843  309.623566  395.161308  156.591705   \n",
       "2      2         0  475.070465  309.475372  395.484291  156.138077   \n",
       "3      3         0  476.837311  308.901245  399.288238  154.448364   \n",
       "4      4         0  476.918640  308.815064  399.598404  154.249756   \n",
       "\n",
       "      PerXmax     PerYmax  N_Handgun   HgXcenter  ...   GT  \\\n",
       "0  554.621651  462.763168          0  409.881988  ...  GBC   \n",
       "1  554.716377  462.655426          0  409.638031  ...  GBC   \n",
       "2  554.656639  462.812668          0  409.610718  ...  GBC   \n",
       "3  554.386383  463.354126          0  408.519043  ...  GBC   \n",
       "4  554.238876  463.380371          0  408.613525  ...  GBC   \n",
       "\n",
       "   Intersection_Center_left  Intersection_Center_right  \\\n",
       "0                         1                          0   \n",
       "1                         1                          0   \n",
       "2                         1                          0   \n",
       "3                         1                          0   \n",
       "4                         1                          0   \n",
       "\n",
       "   Intersection_Down_center  Intersection_Down_left  Intersection_Inside  \\\n",
       "0                         0                       0                    0   \n",
       "1                         0                       0                    0   \n",
       "2                         0                       0                    0   \n",
       "3                         0                       0                    0   \n",
       "4                         0                       0                    0   \n",
       "\n",
       "   Intersection_No_intersection  Intersection_Up_center  Intersection_Up_left  \\\n",
       "0                             0                       0                     0   \n",
       "1                             0                       0                     0   \n",
       "2                             0                       0                     0   \n",
       "3                             0                       0                     0   \n",
       "4                             0                       0                     0   \n",
       "\n",
       "   Intersection_Up_right  \n",
       "0                      0  \n",
       "1                      0  \n",
       "2                      0  \n",
       "3                      0  \n",
       "4                      0  \n",
       "\n",
       "[5 rows x 30 columns]"
      ]
     },
     "execution_count": 52,
     "metadata": {},
     "output_type": "execute_result"
    }
   ],
   "source": [
    "df2 = pd.get_dummies(df,columns=['Intersection'])\n",
    "df2.head()"
   ]
  },
  {
   "cell_type": "code",
   "execution_count": 53,
   "id": "a246c9a2",
   "metadata": {
    "scrolled": true
   },
   "outputs": [
    {
     "name": "stdout",
     "output_type": "stream",
     "text": [
      "<class 'pandas.core.frame.DataFrame'>\n",
      "RangeIndex: 18447 entries, 0 to 18446\n",
      "Data columns (total 30 columns):\n",
      " #   Column                        Non-Null Count  Dtype  \n",
      "---  ------                        --------------  -----  \n",
      " 0   Frame                         18447 non-null  int64  \n",
      " 1   N_Person                      18447 non-null  int64  \n",
      " 2   Xcenter                       18447 non-null  float64\n",
      " 3   Ycenter                       18447 non-null  float64\n",
      " 4   PerXmin                       18447 non-null  float64\n",
      " 5   PerYmin                       18447 non-null  float64\n",
      " 6   PerXmax                       18447 non-null  float64\n",
      " 7   PerYmax                       18447 non-null  float64\n",
      " 8   N_Handgun                     18447 non-null  int64  \n",
      " 9   HgXcenter                     18447 non-null  float64\n",
      " 10  HgYcenter                     18447 non-null  float64\n",
      " 11  HgXmin                        18447 non-null  float64\n",
      " 12  HgYmin                        18447 non-null  float64\n",
      " 13  HgXmax                        18447 non-null  float64\n",
      " 14  HgYmax                        18447 non-null  float64\n",
      " 15  Included_Center               18447 non-null  int64  \n",
      " 16  Intersection_Area             18447 non-null  float64\n",
      " 17  Hg_Area                       18447 non-null  float64\n",
      " 18  Distance                      18447 non-null  float64\n",
      " 19  Ground_Truth                  18447 non-null  int64  \n",
      " 20  GT                            18447 non-null  object \n",
      " 21  Intersection_Center_left      18447 non-null  uint8  \n",
      " 22  Intersection_Center_right     18447 non-null  uint8  \n",
      " 23  Intersection_Down_center      18447 non-null  uint8  \n",
      " 24  Intersection_Down_left        18447 non-null  uint8  \n",
      " 25  Intersection_Inside           18447 non-null  uint8  \n",
      " 26  Intersection_No_intersection  18447 non-null  uint8  \n",
      " 27  Intersection_Up_center        18447 non-null  uint8  \n",
      " 28  Intersection_Up_left          18447 non-null  uint8  \n",
      " 29  Intersection_Up_right         18447 non-null  uint8  \n",
      "dtypes: float64(15), int64(5), object(1), uint8(9)\n",
      "memory usage: 3.1+ MB\n"
     ]
    }
   ],
   "source": [
    "df2.info()"
   ]
  },
  {
   "cell_type": "markdown",
   "id": "49376aaf",
   "metadata": {},
   "source": [
    "# Random Forest \n",
    "## Todos los predictores"
   ]
  },
  {
   "cell_type": "code",
   "execution_count": 54,
   "id": "a8376980",
   "metadata": {
    "scrolled": false
   },
   "outputs": [
    {
     "name": "stdout",
     "output_type": "stream",
     "text": [
      "{1: 'GBC', 0: 'RFC'}\n"
     ]
    }
   ],
   "source": [
    "pred = dict(zip(df2.Ground_Truth.unique(),df2.GT.unique()))\n",
    "print(pred)"
   ]
  },
  {
   "cell_type": "code",
   "execution_count": 55,
   "id": "7e893d55",
   "metadata": {
    "scrolled": true
   },
   "outputs": [
    {
     "name": "stdout",
     "output_type": "stream",
     "text": [
      "1    17911\n",
      "0      536\n",
      "Name: Ground_Truth, dtype: int64\n"
     ]
    }
   ],
   "source": [
    "print(df2['Ground_Truth'].value_counts())"
   ]
  },
  {
   "cell_type": "code",
   "execution_count": 56,
   "id": "e0a1da1a",
   "metadata": {},
   "outputs": [],
   "source": [
    "df3 = df2.drop(columns=[\"GT\"])"
   ]
  },
  {
   "cell_type": "code",
   "execution_count": 57,
   "id": "b88b8d0f",
   "metadata": {
    "scrolled": true
   },
   "outputs": [
    {
     "name": "stdout",
     "output_type": "stream",
     "text": [
      "<class 'pandas.core.frame.DataFrame'>\n",
      "RangeIndex: 18447 entries, 0 to 18446\n",
      "Data columns (total 29 columns):\n",
      " #   Column                        Non-Null Count  Dtype  \n",
      "---  ------                        --------------  -----  \n",
      " 0   Frame                         18447 non-null  int64  \n",
      " 1   N_Person                      18447 non-null  int64  \n",
      " 2   Xcenter                       18447 non-null  float64\n",
      " 3   Ycenter                       18447 non-null  float64\n",
      " 4   PerXmin                       18447 non-null  float64\n",
      " 5   PerYmin                       18447 non-null  float64\n",
      " 6   PerXmax                       18447 non-null  float64\n",
      " 7   PerYmax                       18447 non-null  float64\n",
      " 8   N_Handgun                     18447 non-null  int64  \n",
      " 9   HgXcenter                     18447 non-null  float64\n",
      " 10  HgYcenter                     18447 non-null  float64\n",
      " 11  HgXmin                        18447 non-null  float64\n",
      " 12  HgYmin                        18447 non-null  float64\n",
      " 13  HgXmax                        18447 non-null  float64\n",
      " 14  HgYmax                        18447 non-null  float64\n",
      " 15  Included_Center               18447 non-null  int64  \n",
      " 16  Intersection_Area             18447 non-null  float64\n",
      " 17  Hg_Area                       18447 non-null  float64\n",
      " 18  Distance                      18447 non-null  float64\n",
      " 19  Ground_Truth                  18447 non-null  int64  \n",
      " 20  Intersection_Center_left      18447 non-null  uint8  \n",
      " 21  Intersection_Center_right     18447 non-null  uint8  \n",
      " 22  Intersection_Down_center      18447 non-null  uint8  \n",
      " 23  Intersection_Down_left        18447 non-null  uint8  \n",
      " 24  Intersection_Inside           18447 non-null  uint8  \n",
      " 25  Intersection_No_intersection  18447 non-null  uint8  \n",
      " 26  Intersection_Up_center        18447 non-null  uint8  \n",
      " 27  Intersection_Up_left          18447 non-null  uint8  \n",
      " 28  Intersection_Up_right         18447 non-null  uint8  \n",
      "dtypes: float64(15), int64(5), uint8(9)\n",
      "memory usage: 3.0 MB\n"
     ]
    }
   ],
   "source": [
    "df3.info()"
   ]
  },
  {
   "cell_type": "code",
   "execution_count": 58,
   "id": "c1daddd3",
   "metadata": {},
   "outputs": [
    {
     "name": "stdout",
     "output_type": "stream",
     "text": [
      "(14757, 28) (14757,)\n",
      "(3690, 28) (3690,)\n"
     ]
    }
   ],
   "source": [
    "from sklearn.model_selection import train_test_split\n",
    "\n",
    "train_df, test_df = train_test_split(df3, test_size=0.2, random_state=123)\n",
    "X_train, y_train = train_df.drop(columns=[\"Ground_Truth\"], axis=1), train_df[\"Ground_Truth\"]\n",
    "X_test, y_test = test_df.drop(columns=[\"Ground_Truth\"], axis=1), test_df[\"Ground_Truth\"]\n",
    "\n",
    "print(X_train.shape, y_train.shape)\n",
    "print(X_test.shape, y_test.shape)"
   ]
  },
  {
   "cell_type": "code",
   "execution_count": 59,
   "id": "81e31bc9",
   "metadata": {
    "scrolled": false
   },
   "outputs": [
    {
     "name": "stdout",
     "output_type": "stream",
     "text": [
      "mean_train =  0.9874937120971987\n",
      "mean_test =  0.9863793578613752\n"
     ]
    },
    {
     "data": {
      "text/html": [
       "<div>\n",
       "<style scoped>\n",
       "    .dataframe tbody tr th:only-of-type {\n",
       "        vertical-align: middle;\n",
       "    }\n",
       "\n",
       "    .dataframe tbody tr th {\n",
       "        vertical-align: top;\n",
       "    }\n",
       "\n",
       "    .dataframe thead th {\n",
       "        text-align: right;\n",
       "    }\n",
       "</style>\n",
       "<table border=\"1\" class=\"dataframe\">\n",
       "  <thead>\n",
       "    <tr style=\"text-align: right;\">\n",
       "      <th></th>\n",
       "      <th>fit_time</th>\n",
       "      <th>score_time</th>\n",
       "      <th>test_score</th>\n",
       "      <th>train_score</th>\n",
       "    </tr>\n",
       "  </thead>\n",
       "  <tbody>\n",
       "    <tr>\n",
       "      <th>0</th>\n",
       "      <td>0.148583</td>\n",
       "      <td>0.003988</td>\n",
       "      <td>0.989160</td>\n",
       "      <td>0.988555</td>\n",
       "    </tr>\n",
       "    <tr>\n",
       "      <th>1</th>\n",
       "      <td>0.162565</td>\n",
       "      <td>0.003991</td>\n",
       "      <td>0.985095</td>\n",
       "      <td>0.987953</td>\n",
       "    </tr>\n",
       "    <tr>\n",
       "      <th>2</th>\n",
       "      <td>0.150595</td>\n",
       "      <td>0.005985</td>\n",
       "      <td>0.987805</td>\n",
       "      <td>0.987426</td>\n",
       "    </tr>\n",
       "    <tr>\n",
       "      <th>3</th>\n",
       "      <td>0.160173</td>\n",
       "      <td>0.007969</td>\n",
       "      <td>0.985772</td>\n",
       "      <td>0.987200</td>\n",
       "    </tr>\n",
       "    <tr>\n",
       "      <th>4</th>\n",
       "      <td>0.145636</td>\n",
       "      <td>0.003967</td>\n",
       "      <td>0.985772</td>\n",
       "      <td>0.987049</td>\n",
       "    </tr>\n",
       "    <tr>\n",
       "      <th>5</th>\n",
       "      <td>0.150161</td>\n",
       "      <td>0.005088</td>\n",
       "      <td>0.983740</td>\n",
       "      <td>0.988706</td>\n",
       "    </tr>\n",
       "    <tr>\n",
       "      <th>6</th>\n",
       "      <td>0.137962</td>\n",
       "      <td>0.004984</td>\n",
       "      <td>0.987127</td>\n",
       "      <td>0.987953</td>\n",
       "    </tr>\n",
       "    <tr>\n",
       "      <th>7</th>\n",
       "      <td>0.135634</td>\n",
       "      <td>0.004987</td>\n",
       "      <td>0.986441</td>\n",
       "      <td>0.987201</td>\n",
       "    </tr>\n",
       "    <tr>\n",
       "      <th>8</th>\n",
       "      <td>0.144892</td>\n",
       "      <td>0.003989</td>\n",
       "      <td>0.986441</td>\n",
       "      <td>0.986523</td>\n",
       "    </tr>\n",
       "    <tr>\n",
       "      <th>9</th>\n",
       "      <td>0.149699</td>\n",
       "      <td>0.003989</td>\n",
       "      <td>0.986441</td>\n",
       "      <td>0.986373</td>\n",
       "    </tr>\n",
       "  </tbody>\n",
       "</table>\n",
       "</div>"
      ],
      "text/plain": [
       "   fit_time  score_time  test_score  train_score\n",
       "0  0.148583    0.003988    0.989160     0.988555\n",
       "1  0.162565    0.003991    0.985095     0.987953\n",
       "2  0.150595    0.005985    0.987805     0.987426\n",
       "3  0.160173    0.007969    0.985772     0.987200\n",
       "4  0.145636    0.003967    0.985772     0.987049\n",
       "5  0.150161    0.005088    0.983740     0.988706\n",
       "6  0.137962    0.004984    0.987127     0.987953\n",
       "7  0.135634    0.004987    0.986441     0.987201\n",
       "8  0.144892    0.003989    0.986441     0.986523\n",
       "9  0.149699    0.003989    0.986441     0.986373"
      ]
     },
     "execution_count": 59,
     "metadata": {},
     "output_type": "execute_result"
    }
   ],
   "source": [
    "from sklearn.ensemble import RandomForestClassifier\n",
    "from sklearn.model_selection import cross_validate\n",
    "\n",
    "clf = RandomForestClassifier(n_estimators=10, max_depth=4, random_state=0)\n",
    "y_pred = clf.fit(X_train, y_train).predict(X_test)\n",
    "scores = pd.DataFrame(cross_validate(clf, X_train, y_train, cv=10, return_train_score=True))\n",
    "print(\"mean_train = \", scores['train_score'].mean())\n",
    "print(\"mean_test = \", scores['test_score'].mean())\n",
    "scores"
   ]
  },
  {
   "cell_type": "code",
   "execution_count": 61,
   "id": "803a6a17",
   "metadata": {
    "scrolled": true
   },
   "outputs": [
    {
     "name": "stdout",
     "output_type": "stream",
     "text": [
      "                         feature  importance       std\n",
      "27         Intersection_Up_right    0.000000  0.000000\n",
      "26          Intersection_Up_left    0.000000  0.000000\n",
      "21      Intersection_Down_center    0.000000  0.000000\n",
      "22        Intersection_Down_left    0.000000  0.000000\n",
      "15               Included_Center    0.000000  0.000000\n",
      "8                      N_Handgun    0.000000  0.000000\n",
      "25        Intersection_Up_center    0.000000  0.000000\n",
      "1                       N_Person    0.000000  0.000000\n",
      "19      Intersection_Center_left    0.011273  0.026855\n",
      "11                        HgXmin    0.011452  0.015285\n",
      "7                        PerYmax    0.014423  0.019417\n",
      "17                       Hg_Area    0.014584  0.035197\n",
      "24  Intersection_No_intersection    0.014693  0.031967\n",
      "2                        Xcenter    0.014761  0.030425\n",
      "23           Intersection_Inside    0.015687  0.042519\n",
      "4                        PerXmin    0.024067  0.042493\n",
      "6                        PerXmax    0.034503  0.083138\n",
      "13                        HgXmax    0.039135  0.079972\n",
      "9                      HgXcenter    0.041991  0.053222\n",
      "5                        PerYmin    0.047078  0.060956\n",
      "14                        HgYmax    0.049370  0.065304\n",
      "20     Intersection_Center_right    0.056398  0.059902\n",
      "16             Intersection_Area    0.056467  0.068415\n",
      "3                        Ycenter    0.058443  0.127337\n",
      "18                      Distance    0.059118  0.072411\n",
      "12                        HgYmin    0.099285  0.142652\n",
      "10                     HgYcenter    0.115757  0.130656\n",
      "0                          Frame    0.221515  0.152857\n"
     ]
    },
    {
     "data": {
      "image/png": "[encoded data removed]",
      "text/plain": [
       "<Figure size 800x600 with 1 Axes>"
      ]
     },
     "metadata": {},
     "output_type": "display_data"
    }
   ],
   "source": [
    "clf.fit(X_train.values, y_train.values)\n",
    "predictions=clf.predict(X_test.values)\n",
    "#Le agrego .values para solucionar el problema:\n",
    "#C:\\ProgramData\\Anaconda3\\lib\\site-packages\\sklearn\\base.py:450: UserWarning: X does not have valid feature names, but RandomForestClassifier was fitted with feature names\n",
    "#https://stackoverflow.com/questions/69326639/sklearn-warning-valid-feature-names-in-version-1-0\n",
    "\n",
    "importances = clf.feature_importances_\n",
    "std = np.std([tree.feature_importances_ for tree in clf.estimators_], axis=0)\n",
    "\n",
    "df = pd.DataFrame({'feature': X_train.columns, 'importance': importances, 'std': std})\n",
    "df = df.sort_values('importance')\n",
    "print(df)\n",
    "\n",
    "ax = df.plot(figsize=(8,6),kind='barh', xerr='std', x='feature', legend=False)\n",
    "ax.set_ylabel('')\n",
    "\n",
    "plt.tight_layout()\n",
    "plt.show()"
   ]
  },
  {
   "cell_type": "code",
   "execution_count": 62,
   "id": "4cd43a0d",
   "metadata": {
    "scrolled": false
   },
   "outputs": [
    {
     "name": "stdout",
     "output_type": "stream",
     "text": [
      "              precision    recall  f1-score   support\n",
      "\n",
      "           0       0.85      0.69      0.76       104\n",
      "           1       0.99      1.00      0.99      3586\n",
      "\n",
      "    accuracy                           0.99      3690\n",
      "   macro avg       0.92      0.84      0.88      3690\n",
      "weighted avg       0.99      0.99      0.99      3690\n",
      "\n"
     ]
    }
   ],
   "source": [
    "from sklearn.metrics import classification_report\n",
    "print(classification_report(y_test,predictions))"
   ]
  },
  {
   "cell_type": "code",
   "execution_count": 63,
   "id": "146f6b7a",
   "metadata": {},
   "outputs": [
    {
     "name": "stdout",
     "output_type": "stream",
     "text": [
      "Score train =  0.9878048780487805\n"
     ]
    }
   ],
   "source": [
    "from sklearn.metrics import accuracy_score\n",
    "print(\"Score test = \", accuracy_score(y_test,predictions))"
   ]
  },
  {
   "cell_type": "code",
   "execution_count": 64,
   "id": "701db7e6",
   "metadata": {},
   "outputs": [
    {
     "data": {
      "text/plain": [
       "0.9190911315982704"
      ]
     },
     "execution_count": 64,
     "metadata": {},
     "output_type": "execute_result"
    }
   ],
   "source": [
    "from sklearn.metrics import precision_score\n",
    "precision_score(y_test,predictions, average='macro')"
   ]
  },
  {
   "cell_type": "code",
   "execution_count": 65,
   "id": "f401fe3f",
   "metadata": {},
   "outputs": [
    {
     "data": {
      "text/plain": [
       "0.8443412415805054"
      ]
     },
     "execution_count": 65,
     "metadata": {},
     "output_type": "execute_result"
    }
   ],
   "source": [
    "from sklearn.metrics import recall_score\n",
    "recall_score(y_test,predictions, average='macro')"
   ]
  },
  {
   "cell_type": "code",
   "execution_count": 66,
   "id": "fb7333bd",
   "metadata": {},
   "outputs": [
    {
     "data": {
      "text/plain": [
       "0.8778234698134573"
      ]
     },
     "execution_count": 66,
     "metadata": {},
     "output_type": "execute_result"
    }
   ],
   "source": [
    "from sklearn.metrics import f1_score\n",
    "f1_score(y_test,predictions, average='macro')"
   ]
  },
  {
   "cell_type": "code",
   "execution_count": 18,
   "id": "b638c813",
   "metadata": {},
   "outputs": [],
   "source": [
    "# save the model to disk\n",
    "filename = 'rfc_model_intersection.sav'\n",
    "pickle.dump(clf, open(filename, 'wb')) "
   ]
  },
  {
   "cell_type": "markdown",
   "id": "a98ecc7b",
   "metadata": {},
   "source": [
    "# Redes Neuronales - Todos los predictores"
   ]
  },
  {
   "cell_type": "code",
   "execution_count": 19,
   "id": "05a611fa",
   "metadata": {
    "scrolled": true
   },
   "outputs": [],
   "source": [
    "X = df3.drop('Ground_Truth',axis='columns')\n",
    "y = df3.Ground_Truth"
   ]
  },
  {
   "cell_type": "code",
   "execution_count": 20,
   "id": "e6473e29",
   "metadata": {
    "scrolled": true
   },
   "outputs": [
    {
     "name": "stdout",
     "output_type": "stream",
     "text": [
      "<class 'pandas.core.frame.DataFrame'>\n",
      "RangeIndex: 18447 entries, 0 to 18446\n",
      "Data columns (total 28 columns):\n",
      " #   Column                        Non-Null Count  Dtype  \n",
      "---  ------                        --------------  -----  \n",
      " 0   Frame                         18447 non-null  int64  \n",
      " 1   N_Person                      18447 non-null  int64  \n",
      " 2   Xcenter                       18447 non-null  float64\n",
      " 3   Ycenter                       18447 non-null  float64\n",
      " 4   PerXmin                       18447 non-null  float64\n",
      " 5   PerYmin                       18447 non-null  float64\n",
      " 6   PerXmax                       18447 non-null  float64\n",
      " 7   PerYmax                       18447 non-null  float64\n",
      " 8   N_Handgun                     18447 non-null  int64  \n",
      " 9   HgXcenter                     18447 non-null  float64\n",
      " 10  HgYcenter                     18447 non-null  float64\n",
      " 11  HgXmin                        18447 non-null  float64\n",
      " 12  HgYmin                        18447 non-null  float64\n",
      " 13  HgXmax                        18447 non-null  float64\n",
      " 14  HgYmax                        18447 non-null  float64\n",
      " 15  Included_Center               18447 non-null  int64  \n",
      " 16  Intersection_Area             18447 non-null  float64\n",
      " 17  Hg_Area                       18447 non-null  float64\n",
      " 18  Distance                      18447 non-null  float64\n",
      " 19  Intersection_Center_left      18447 non-null  uint8  \n",
      " 20  Intersection_Center_right     18447 non-null  uint8  \n",
      " 21  Intersection_Down_center      18447 non-null  uint8  \n",
      " 22  Intersection_Down_left        18447 non-null  uint8  \n",
      " 23  Intersection_Inside           18447 non-null  uint8  \n",
      " 24  Intersection_No_intersection  18447 non-null  uint8  \n",
      " 25  Intersection_Up_center        18447 non-null  uint8  \n",
      " 26  Intersection_Up_left          18447 non-null  uint8  \n",
      " 27  Intersection_Up_right         18447 non-null  uint8  \n",
      "dtypes: float64(15), int64(4), uint8(9)\n",
      "memory usage: 2.8 MB\n"
     ]
    }
   ],
   "source": [
    "X.info()"
   ]
  },
  {
   "cell_type": "code",
   "execution_count": 21,
   "id": "69009579",
   "metadata": {
    "scrolled": true
   },
   "outputs": [
    {
     "data": {
      "text/plain": [
       "array([[-1.86956352, -1.00555701,  0.38531151, -1.05921327,  0.40701498,\n",
       "        -0.80142004,  0.34796155, -1.43117415, -0.49785505,  0.64741793,\n",
       "        -1.26000303,  0.70030692, -1.17819608,  0.59314201, -1.33715767,\n",
       "         1.17746191, -0.05248719, -0.63178191, -0.69913501,  2.66619043,\n",
       "        -0.28077575, -0.01803779, -0.010413  , -0.53994017, -1.08816856,\n",
       "        -0.12003116, -0.06171798, -0.13265401],\n",
       "       [-1.86739153, -1.00555701,  0.38502615, -1.05862322,  0.40603424,\n",
       "        -0.79973294,  0.34840662, -1.43392466, -0.49785505,  0.64582561,\n",
       "        -1.26085692,  0.69730991, -1.17884698,  0.59294144, -1.33821659,\n",
       "         1.17746191, -0.05007777, -0.62590981, -0.69770697,  2.66619043,\n",
       "        -0.28077575, -0.01803779, -0.010413  , -0.53994017, -1.08816856,\n",
       "        -0.12003116, -0.06171798, -0.13265401],\n",
       "       [-1.86521955, -1.00555701,  0.38564586, -1.06077595,  0.40750112,\n",
       "        -0.80378268,  0.34812594, -1.4299105 , -0.49785505,  0.64564733,\n",
       "        -1.26227066,  0.69722065, -1.18004582,  0.59267586, -1.33984434,\n",
       "         1.17746191, -0.05680594, -0.62698168, -0.69722104,  2.66619043,\n",
       "        -0.28077575, -0.01803779, -0.010413  , -0.53994017, -1.08816856,\n",
       "        -0.12003116, -0.06171798, -0.13265401]])"
      ]
     },
     "execution_count": 21,
     "metadata": {},
     "output_type": "execute_result"
    }
   ],
   "source": [
    "from sklearn.preprocessing import StandardScaler\n",
    "scaler = StandardScaler()\n",
    "X_scaled = scaler.fit_transform(X)\n",
    "X_scaled[:3]\n",
    "#X_scaled.shape"
   ]
  },
  {
   "cell_type": "code",
   "execution_count": 22,
   "id": "452d05da",
   "metadata": {
    "scrolled": false
   },
   "outputs": [
    {
     "name": "stdout",
     "output_type": "stream",
     "text": [
      "[8.60762292e+02 8.79655228e-01 3.93161312e+02 3.82498977e+02\n",
      " 3.05759356e+02 2.46173151e+02 4.80563268e+02 5.18824803e+02\n",
      " 2.99398276e-01 3.10692183e+02 3.12578882e+02 2.87292550e+02\n",
      " 2.93009305e+02 3.34091816e+02 3.32148459e+02 4.19038326e-01\n",
      " 9.32664492e+02 2.03117379e+03 2.32243763e+02 1.23326286e-01\n",
      " 7.30742126e-02 3.25256139e-04 1.08418713e-04 2.25727761e-01\n",
      " 5.42147775e-01 1.42028514e-02 3.79465496e-03 1.72927847e-02]\n"
     ]
    }
   ],
   "source": [
    "print(scaler.mean_)"
   ]
  },
  {
   "cell_type": "code",
   "execution_count": 23,
   "id": "792e3581",
   "metadata": {
    "scrolled": true
   },
   "outputs": [
    {
     "name": "stdout",
     "output_type": "stream",
     "text": [
      "[4.60408156e+02 8.74793987e-01 2.12394744e+02 6.88398006e+01\n",
      " 2.20183283e+02 1.12014201e+02 2.12834959e+02 3.91717772e+01\n",
      " 6.01376392e-01 1.53208307e+02 9.72465311e+01 1.52464326e+02\n",
      " 9.92141547e+01 1.54444948e+02 9.58511636e+01 4.93401669e-01\n",
      " 1.67163262e+03 1.81971903e+03 1.37488281e+02 3.28811364e-01\n",
      " 2.60258280e-01 1.80319258e-02 1.04118662e-02 4.18060688e-01\n",
      " 4.98220398e-01 1.18326372e-01 6.14837828e-02 1.30360057e-01]\n"
     ]
    }
   ],
   "source": [
    "print(scaler.scale_)"
   ]
  },
  {
   "cell_type": "code",
   "execution_count": 24,
   "id": "0f8c7a7e",
   "metadata": {},
   "outputs": [],
   "source": [
    "from sklearn.model_selection import  train_test_split\n",
    "X_train, X_test, y_train, y_test = train_test_split(X_scaled, y, stratify=y, random_state=10) #stratify hace que el ratio entre 0 y 1 se mantenga en la distri. entre el test(y). "
   ]
  },
  {
   "cell_type": "code",
   "execution_count": 25,
   "id": "89c11ff0",
   "metadata": {},
   "outputs": [
    {
     "data": {
      "text/plain": [
       "(13835, 28)"
      ]
     },
     "execution_count": 25,
     "metadata": {},
     "output_type": "execute_result"
    }
   ],
   "source": [
    "X_train.shape"
   ]
  },
  {
   "cell_type": "code",
   "execution_count": 26,
   "id": "809f7a45",
   "metadata": {
    "scrolled": true
   },
   "outputs": [
    {
     "data": {
      "text/plain": [
       "1    13433\n",
       "0      402\n",
       "Name: Ground_Truth, dtype: int64"
      ]
     },
     "execution_count": 26,
     "metadata": {},
     "output_type": "execute_result"
    }
   ],
   "source": [
    "y_train.value_counts()"
   ]
  },
  {
   "cell_type": "code",
   "execution_count": 27,
   "id": "87692498",
   "metadata": {},
   "outputs": [
    {
     "data": {
      "text/plain": [
       "(4612, 28)"
      ]
     },
     "execution_count": 27,
     "metadata": {},
     "output_type": "execute_result"
    }
   ],
   "source": [
    "X_test.shape"
   ]
  },
  {
   "cell_type": "code",
   "execution_count": 28,
   "id": "37e3175e",
   "metadata": {
    "scrolled": false
   },
   "outputs": [
    {
     "data": {
      "text/plain": [
       "1    4478\n",
       "0     134\n",
       "Name: Ground_Truth, dtype: int64"
      ]
     },
     "execution_count": 28,
     "metadata": {},
     "output_type": "execute_result"
    }
   ],
   "source": [
    "y_test.value_counts()"
   ]
  },
  {
   "cell_type": "code",
   "execution_count": 29,
   "id": "8b1cbdef",
   "metadata": {
    "scrolled": true
   },
   "outputs": [
    {
     "data": {
      "text/plain": [
       "array([[0.00000000e+00, 1.00000000e+00],\n",
       "       [3.62598840e-13, 1.00000000e+00],\n",
       "       [3.49720253e-13, 1.00000000e+00],\n",
       "       ...,\n",
       "       [2.22044605e-16, 1.00000000e+00],\n",
       "       [4.36250533e-04, 9.99563749e-01],\n",
       "       [2.24267830e-07, 9.99999776e-01]])"
      ]
     },
     "execution_count": 29,
     "metadata": {},
     "output_type": "execute_result"
    }
   ],
   "source": [
    "from sklearn.neural_network import MLPClassifier\n",
    "clf=MLPClassifier(hidden_layer_sizes=(25,25,25,25), max_iter=500, alpha=0.0001, solver='adam',\n",
    "                 random_state=0, tol=0.000000001)\n",
    "y_pred = clf.fit(X_train, y_train).predict(X_test)\n",
    "predictions_mlp=clf.predict_proba(X_test)\n",
    "predictions_mlp"
   ]
  },
  {
   "cell_type": "code",
   "execution_count": 30,
   "id": "1e2e8226",
   "metadata": {},
   "outputs": [
    {
     "data": {
      "text/plain": [
       "array([1, 1, 1, ..., 1, 1, 1], dtype=int64)"
      ]
     },
     "execution_count": 30,
     "metadata": {},
     "output_type": "execute_result"
    }
   ],
   "source": [
    "predictions_mlp=clf.predict(X_test)\n",
    "predictions_mlp"
   ]
  },
  {
   "cell_type": "code",
   "execution_count": 32,
   "id": "f87e6606",
   "metadata": {
    "scrolled": true
   },
   "outputs": [
    {
     "name": "stdout",
     "output_type": "stream",
     "text": [
      "              precision    recall  f1-score   support\n",
      "\n",
      "           0       0.86      0.80      0.83       134\n",
      "           1       0.99      1.00      1.00      4478\n",
      "\n",
      "    accuracy                           0.99      4612\n",
      "   macro avg       0.93      0.90      0.91      4612\n",
      "weighted avg       0.99      0.99      0.99      4612\n",
      "\n"
     ]
    }
   ],
   "source": [
    "from sklearn.metrics import classification_report\n",
    "print(classification_report(y_test,predictions_mlp))"
   ]
  },
  {
   "cell_type": "code",
   "execution_count": 33,
   "id": "88b8b418",
   "metadata": {
    "scrolled": false
   },
   "outputs": [
    {
     "name": "stdout",
     "output_type": "stream",
     "text": [
      "Score train =  0.9927719551861222\n",
      "Score test =  0.9904596704249783\n"
     ]
    }
   ],
   "source": [
    "print(\"Score train = \",clf.score(X_train, y_train))\n",
    "print(\"Score test = \",clf.score(X_test, y_test))"
   ]
  },
  {
   "cell_type": "code",
   "execution_count": 40,
   "id": "1cf7c88e",
   "metadata": {},
   "outputs": [
    {
     "name": "stdout",
     "output_type": "stream",
     "text": [
      "Score train =  0.9904596704249783\n"
     ]
    }
   ],
   "source": [
    "from sklearn.metrics import accuracy_score\n",
    "print(\"Score test = \", accuracy_score(y_test,predictions_mlp))"
   ]
  },
  {
   "cell_type": "code",
   "execution_count": 41,
   "id": "b5d61015",
   "metadata": {},
   "outputs": [
    {
     "data": {
      "text/plain": [
       "0.9284435915128515"
      ]
     },
     "execution_count": 41,
     "metadata": {},
     "output_type": "execute_result"
    }
   ],
   "source": [
    "from sklearn.metrics import precision_score\n",
    "precision_score(y_test,predictions_mlp, average='macro')"
   ]
  },
  {
   "cell_type": "code",
   "execution_count": 42,
   "id": "68c8dbae",
   "metadata": {},
   "outputs": [
    {
     "data": {
      "text/plain": [
       "0.897355562517915"
      ]
     },
     "execution_count": 42,
     "metadata": {},
     "output_type": "execute_result"
    }
   ],
   "source": [
    "from sklearn.metrics import recall_score\n",
    "recall_score(y_test,predictions_mlp, average='macro')"
   ]
  },
  {
   "cell_type": "code",
   "execution_count": 43,
   "id": "a7d72d52",
   "metadata": {},
   "outputs": [
    {
     "data": {
      "text/plain": [
       "0.9122749681397597"
      ]
     },
     "execution_count": 43,
     "metadata": {},
     "output_type": "execute_result"
    }
   ],
   "source": [
    "from sklearn.metrics import f1_score\n",
    "f1_score(y_test,predictions_mlp, average='macro')"
   ]
  },
  {
   "cell_type": "code",
   "execution_count": 34,
   "id": "9e560452",
   "metadata": {},
   "outputs": [],
   "source": [
    "# save the model to disk\n",
    "filename = 'mlp_model_intersection.sav'\n",
    "pickle.dump(clf, open(filename, 'wb')) "
   ]
  }
 ],
 "metadata": {
  "kernelspec": {
   "display_name": "Python 3 (ipykernel)",
   "language": "python",
   "name": "python3"
  },
  "language_info": {
   "codemirror_mode": {
    "name": "ipython",
    "version": 3
   },
   "file_extension": ".py",
   "mimetype": "text/x-python",
   "name": "python",
   "nbconvert_exporter": "python",
   "pygments_lexer": "ipython3",
   "version": "3.8.11"
  }
 },
 "nbformat": 4,
 "nbformat_minor": 5
}
