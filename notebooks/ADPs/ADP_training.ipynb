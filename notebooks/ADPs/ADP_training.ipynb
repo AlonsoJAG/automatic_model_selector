{
 "cells": [
  {
   "cell_type": "code",
   "execution_count": 1,
   "id": "f1f1a000",
   "metadata": {
    "scrolled": true
   },
   "outputs": [
    {
     "name": "stdout",
     "output_type": "stream",
     "text": [
      "Version de tensorflow:2.3.0\n",
      "GPU:\n"
     ]
    }
   ],
   "source": [
    "import tensorflow as tf\n",
    "print(\"Version de tensorflow:{}\".format(tf.__version__))\n",
    "print(\"GPU:{}\".format(tf.test.gpu_device_name()))"
   ]
  },
  {
   "cell_type": "code",
   "execution_count": 2,
   "id": "5d87e640",
   "metadata": {},
   "outputs": [],
   "source": [
    "import pickle\n",
    "import numpy as np\n",
    "import pandas as pd\n",
    "import matplotlib.pyplot as plt\n",
    "%matplotlib inline"
   ]
  },
  {
   "cell_type": "code",
   "execution_count": 3,
   "id": "95600074",
   "metadata": {
    "scrolled": false
   },
   "outputs": [
    {
     "data": {
      "text/html": [
       "<div>\n",
       "<style scoped>\n",
       "    .dataframe tbody tr th:only-of-type {\n",
       "        vertical-align: middle;\n",
       "    }\n",
       "\n",
       "    .dataframe tbody tr th {\n",
       "        vertical-align: top;\n",
       "    }\n",
       "\n",
       "    .dataframe thead th {\n",
       "        text-align: right;\n",
       "    }\n",
       "</style>\n",
       "<table border=\"1\" class=\"dataframe\">\n",
       "  <thead>\n",
       "    <tr style=\"text-align: right;\">\n",
       "      <th></th>\n",
       "      <th>Frame</th>\n",
       "      <th>N_Person</th>\n",
       "      <th>Xcenter</th>\n",
       "      <th>Ycenter</th>\n",
       "      <th>PerXmin</th>\n",
       "      <th>PerYmin</th>\n",
       "      <th>PerXmax</th>\n",
       "      <th>PerYmax</th>\n",
       "      <th>N_Handgun</th>\n",
       "      <th>HgXcenter</th>\n",
       "      <th>...</th>\n",
       "      <th>HgXmin</th>\n",
       "      <th>HgYmin</th>\n",
       "      <th>HgXmax</th>\n",
       "      <th>HgYmax</th>\n",
       "      <th>Intersection</th>\n",
       "      <th>Included_Center</th>\n",
       "      <th>Intersection_Area</th>\n",
       "      <th>Hg_Area</th>\n",
       "      <th>Distance</th>\n",
       "      <th>Ground_Truth</th>\n",
       "    </tr>\n",
       "  </thead>\n",
       "  <tbody>\n",
       "    <tr>\n",
       "      <th>0</th>\n",
       "      <td>0</td>\n",
       "      <td>0</td>\n",
       "      <td>474.999451</td>\n",
       "      <td>309.582947</td>\n",
       "      <td>395.377251</td>\n",
       "      <td>156.402725</td>\n",
       "      <td>554.621651</td>\n",
       "      <td>462.763168</td>\n",
       "      <td>0</td>\n",
       "      <td>409.881988</td>\n",
       "      <td>...</td>\n",
       "      <td>394.064373</td>\n",
       "      <td>176.115577</td>\n",
       "      <td>425.699604</td>\n",
       "      <td>203.980340</td>\n",
       "      <td>Center_left</td>\n",
       "      <td>1</td>\n",
       "      <td>844.925198</td>\n",
       "      <td>881.508223</td>\n",
       "      <td>136.120892</td>\n",
       "      <td>1</td>\n",
       "    </tr>\n",
       "    <tr>\n",
       "      <th>1</th>\n",
       "      <td>0</td>\n",
       "      <td>1</td>\n",
       "      <td>338.124817</td>\n",
       "      <td>308.649231</td>\n",
       "      <td>279.351261</td>\n",
       "      <td>157.656418</td>\n",
       "      <td>396.898373</td>\n",
       "      <td>459.642044</td>\n",
       "      <td>0</td>\n",
       "      <td>409.881988</td>\n",
       "      <td>...</td>\n",
       "      <td>394.064373</td>\n",
       "      <td>176.115577</td>\n",
       "      <td>425.699604</td>\n",
       "      <td>203.980340</td>\n",
       "      <td>Up_right</td>\n",
       "      <td>0</td>\n",
       "      <td>78.968729</td>\n",
       "      <td>881.508223</td>\n",
       "      <td>138.619456</td>\n",
       "      <td>0</td>\n",
       "    </tr>\n",
       "    <tr>\n",
       "      <th>2</th>\n",
       "      <td>1</td>\n",
       "      <td>0</td>\n",
       "      <td>474.938843</td>\n",
       "      <td>309.623566</td>\n",
       "      <td>395.161308</td>\n",
       "      <td>156.591705</td>\n",
       "      <td>554.716377</td>\n",
       "      <td>462.655426</td>\n",
       "      <td>0</td>\n",
       "      <td>409.638031</td>\n",
       "      <td>...</td>\n",
       "      <td>393.607435</td>\n",
       "      <td>176.050999</td>\n",
       "      <td>425.668627</td>\n",
       "      <td>203.878841</td>\n",
       "      <td>Center_left</td>\n",
       "      <td>1</td>\n",
       "      <td>848.952861</td>\n",
       "      <td>892.193796</td>\n",
       "      <td>136.317231</td>\n",
       "      <td>1</td>\n",
       "    </tr>\n",
       "    <tr>\n",
       "      <th>3</th>\n",
       "      <td>1</td>\n",
       "      <td>1</td>\n",
       "      <td>338.274475</td>\n",
       "      <td>308.534027</td>\n",
       "      <td>279.539314</td>\n",
       "      <td>157.674393</td>\n",
       "      <td>397.009636</td>\n",
       "      <td>459.393662</td>\n",
       "      <td>0</td>\n",
       "      <td>409.638031</td>\n",
       "      <td>...</td>\n",
       "      <td>393.607435</td>\n",
       "      <td>176.050999</td>\n",
       "      <td>425.668627</td>\n",
       "      <td>203.878841</td>\n",
       "      <td>Up_right</td>\n",
       "      <td>0</td>\n",
       "      <td>94.675906</td>\n",
       "      <td>892.193796</td>\n",
       "      <td>138.388548</td>\n",
       "      <td>0</td>\n",
       "    </tr>\n",
       "    <tr>\n",
       "      <th>4</th>\n",
       "      <td>2</td>\n",
       "      <td>0</td>\n",
       "      <td>475.070465</td>\n",
       "      <td>309.475372</td>\n",
       "      <td>395.484291</td>\n",
       "      <td>156.138077</td>\n",
       "      <td>554.656639</td>\n",
       "      <td>462.812668</td>\n",
       "      <td>0</td>\n",
       "      <td>409.610718</td>\n",
       "      <td>...</td>\n",
       "      <td>393.593826</td>\n",
       "      <td>175.932056</td>\n",
       "      <td>425.627609</td>\n",
       "      <td>203.722820</td>\n",
       "      <td>Center_left</td>\n",
       "      <td>1</td>\n",
       "      <td>837.705837</td>\n",
       "      <td>890.243298</td>\n",
       "      <td>136.384041</td>\n",
       "      <td>1</td>\n",
       "    </tr>\n",
       "  </tbody>\n",
       "</table>\n",
       "<p>5 rows × 21 columns</p>\n",
       "</div>"
      ],
      "text/plain": [
       "   Frame  N_Person     Xcenter     Ycenter     PerXmin     PerYmin  \\\n",
       "0      0         0  474.999451  309.582947  395.377251  156.402725   \n",
       "1      0         1  338.124817  308.649231  279.351261  157.656418   \n",
       "2      1         0  474.938843  309.623566  395.161308  156.591705   \n",
       "3      1         1  338.274475  308.534027  279.539314  157.674393   \n",
       "4      2         0  475.070465  309.475372  395.484291  156.138077   \n",
       "\n",
       "      PerXmax     PerYmax  N_Handgun   HgXcenter  ...      HgXmin      HgYmin  \\\n",
       "0  554.621651  462.763168          0  409.881988  ...  394.064373  176.115577   \n",
       "1  396.898373  459.642044          0  409.881988  ...  394.064373  176.115577   \n",
       "2  554.716377  462.655426          0  409.638031  ...  393.607435  176.050999   \n",
       "3  397.009636  459.393662          0  409.638031  ...  393.607435  176.050999   \n",
       "4  554.656639  462.812668          0  409.610718  ...  393.593826  175.932056   \n",
       "\n",
       "       HgXmax      HgYmax  Intersection Included_Center  Intersection_Area  \\\n",
       "0  425.699604  203.980340   Center_left               1         844.925198   \n",
       "1  425.699604  203.980340      Up_right               0          78.968729   \n",
       "2  425.668627  203.878841   Center_left               1         848.952861   \n",
       "3  425.668627  203.878841      Up_right               0          94.675906   \n",
       "4  425.627609  203.722820   Center_left               1         837.705837   \n",
       "\n",
       "      Hg_Area    Distance  Ground_Truth  \n",
       "0  881.508223  136.120892             1  \n",
       "1  881.508223  138.619456             0  \n",
       "2  892.193796  136.317231             1  \n",
       "3  892.193796  138.388548             0  \n",
       "4  890.243298  136.384041             1  \n",
       "\n",
       "[5 rows x 21 columns]"
      ]
     },
     "execution_count": 3,
     "metadata": {},
     "output_type": "execute_result"
    }
   ],
   "source": [
    "df = pd.read_csv('Videos1_2_3.csv')\n",
    "df.head()"
   ]
  },
  {
   "cell_type": "code",
   "execution_count": 4,
   "id": "8ae1ff95",
   "metadata": {},
   "outputs": [
    {
     "data": {
      "text/plain": [
       "12652"
      ]
     },
     "execution_count": 4,
     "metadata": {},
     "output_type": "execute_result"
    }
   ],
   "source": [
    "len(df)"
   ]
  },
  {
   "cell_type": "code",
   "execution_count": 5,
   "id": "9ac6c889",
   "metadata": {
    "scrolled": true
   },
   "outputs": [
    {
     "name": "stdout",
     "output_type": "stream",
     "text": [
      "<class 'pandas.core.frame.DataFrame'>\n",
      "RangeIndex: 12652 entries, 0 to 12651\n",
      "Data columns (total 21 columns):\n",
      " #   Column             Non-Null Count  Dtype  \n",
      "---  ------             --------------  -----  \n",
      " 0   Frame              12652 non-null  int64  \n",
      " 1   N_Person           12652 non-null  int64  \n",
      " 2   Xcenter            12652 non-null  float64\n",
      " 3   Ycenter            12652 non-null  float64\n",
      " 4   PerXmin            12652 non-null  float64\n",
      " 5   PerYmin            12652 non-null  float64\n",
      " 6   PerXmax            12652 non-null  float64\n",
      " 7   PerYmax            12652 non-null  float64\n",
      " 8   N_Handgun          12652 non-null  int64  \n",
      " 9   HgXcenter          12652 non-null  float64\n",
      " 10  HgYcenter          12652 non-null  float64\n",
      " 11  HgXmin             12652 non-null  float64\n",
      " 12  HgYmin             12652 non-null  float64\n",
      " 13  HgXmax             12652 non-null  float64\n",
      " 14  HgYmax             12652 non-null  float64\n",
      " 15  Intersection       12652 non-null  object \n",
      " 16  Included_Center    12652 non-null  int64  \n",
      " 17  Intersection_Area  12652 non-null  float64\n",
      " 18  Hg_Area            12652 non-null  float64\n",
      " 19  Distance           12652 non-null  float64\n",
      " 20  Ground_Truth       12652 non-null  int64  \n",
      "dtypes: float64(15), int64(5), object(1)\n",
      "memory usage: 2.0+ MB\n"
     ]
    }
   ],
   "source": [
    "df.info()"
   ]
  },
  {
   "cell_type": "code",
   "execution_count": 6,
   "id": "048f07b5",
   "metadata": {},
   "outputs": [
    {
     "data": {
      "text/plain": [
       "Frame                 1689\n",
       "N_Person                 5\n",
       "Xcenter               8978\n",
       "Ycenter               8962\n",
       "PerXmin               8983\n",
       "PerYmin               8979\n",
       "PerXmax               8982\n",
       "PerYmax               8970\n",
       "N_Handgun                5\n",
       "HgXcenter             4329\n",
       "HgYcenter             4327\n",
       "HgXmin                4331\n",
       "HgYmin                4331\n",
       "HgXmax                4331\n",
       "HgYmax                4330\n",
       "Intersection             9\n",
       "Included_Center          2\n",
       "Intersection_Area     5511\n",
       "Hg_Area               4331\n",
       "Distance             12652\n",
       "Ground_Truth             2\n",
       "dtype: int64"
      ]
     },
     "execution_count": 6,
     "metadata": {},
     "output_type": "execute_result"
    }
   ],
   "source": [
    "df.nunique()"
   ]
  },
  {
   "cell_type": "code",
   "execution_count": 7,
   "id": "86b0f52d",
   "metadata": {},
   "outputs": [
    {
     "data": {
      "text/plain": [
       "0    8424\n",
       "1    4228\n",
       "Name: Ground_Truth, dtype: int64"
      ]
     },
     "execution_count": 7,
     "metadata": {},
     "output_type": "execute_result"
    }
   ],
   "source": [
    "df['Ground_Truth'].value_counts()"
   ]
  },
  {
   "cell_type": "code",
   "execution_count": 8,
   "id": "732110e8",
   "metadata": {
    "scrolled": false
   },
   "outputs": [
    {
     "data": {
      "text/html": [
       "<div>\n",
       "<style scoped>\n",
       "    .dataframe tbody tr th:only-of-type {\n",
       "        vertical-align: middle;\n",
       "    }\n",
       "\n",
       "    .dataframe tbody tr th {\n",
       "        vertical-align: top;\n",
       "    }\n",
       "\n",
       "    .dataframe thead th {\n",
       "        text-align: right;\n",
       "    }\n",
       "</style>\n",
       "<table border=\"1\" class=\"dataframe\">\n",
       "  <thead>\n",
       "    <tr style=\"text-align: right;\">\n",
       "      <th></th>\n",
       "      <th>Frame</th>\n",
       "      <th>N_Person</th>\n",
       "      <th>Xcenter</th>\n",
       "      <th>Ycenter</th>\n",
       "      <th>PerXmin</th>\n",
       "      <th>PerYmin</th>\n",
       "      <th>PerXmax</th>\n",
       "      <th>PerYmax</th>\n",
       "      <th>N_Handgun</th>\n",
       "      <th>HgXcenter</th>\n",
       "      <th>...</th>\n",
       "      <th>Ground_Truth</th>\n",
       "      <th>Intersection_Center_left</th>\n",
       "      <th>Intersection_Center_right</th>\n",
       "      <th>Intersection_Down_center</th>\n",
       "      <th>Intersection_Down_left</th>\n",
       "      <th>Intersection_Inside</th>\n",
       "      <th>Intersection_No_intersection</th>\n",
       "      <th>Intersection_Up_center</th>\n",
       "      <th>Intersection_Up_left</th>\n",
       "      <th>Intersection_Up_right</th>\n",
       "    </tr>\n",
       "  </thead>\n",
       "  <tbody>\n",
       "    <tr>\n",
       "      <th>0</th>\n",
       "      <td>0</td>\n",
       "      <td>0</td>\n",
       "      <td>474.999451</td>\n",
       "      <td>309.582947</td>\n",
       "      <td>395.377251</td>\n",
       "      <td>156.402725</td>\n",
       "      <td>554.621651</td>\n",
       "      <td>462.763168</td>\n",
       "      <td>0</td>\n",
       "      <td>409.881988</td>\n",
       "      <td>...</td>\n",
       "      <td>1</td>\n",
       "      <td>1</td>\n",
       "      <td>0</td>\n",
       "      <td>0</td>\n",
       "      <td>0</td>\n",
       "      <td>0</td>\n",
       "      <td>0</td>\n",
       "      <td>0</td>\n",
       "      <td>0</td>\n",
       "      <td>0</td>\n",
       "    </tr>\n",
       "    <tr>\n",
       "      <th>1</th>\n",
       "      <td>0</td>\n",
       "      <td>1</td>\n",
       "      <td>338.124817</td>\n",
       "      <td>308.649231</td>\n",
       "      <td>279.351261</td>\n",
       "      <td>157.656418</td>\n",
       "      <td>396.898373</td>\n",
       "      <td>459.642044</td>\n",
       "      <td>0</td>\n",
       "      <td>409.881988</td>\n",
       "      <td>...</td>\n",
       "      <td>0</td>\n",
       "      <td>0</td>\n",
       "      <td>0</td>\n",
       "      <td>0</td>\n",
       "      <td>0</td>\n",
       "      <td>0</td>\n",
       "      <td>0</td>\n",
       "      <td>0</td>\n",
       "      <td>0</td>\n",
       "      <td>1</td>\n",
       "    </tr>\n",
       "    <tr>\n",
       "      <th>2</th>\n",
       "      <td>1</td>\n",
       "      <td>0</td>\n",
       "      <td>474.938843</td>\n",
       "      <td>309.623566</td>\n",
       "      <td>395.161308</td>\n",
       "      <td>156.591705</td>\n",
       "      <td>554.716377</td>\n",
       "      <td>462.655426</td>\n",
       "      <td>0</td>\n",
       "      <td>409.638031</td>\n",
       "      <td>...</td>\n",
       "      <td>1</td>\n",
       "      <td>1</td>\n",
       "      <td>0</td>\n",
       "      <td>0</td>\n",
       "      <td>0</td>\n",
       "      <td>0</td>\n",
       "      <td>0</td>\n",
       "      <td>0</td>\n",
       "      <td>0</td>\n",
       "      <td>0</td>\n",
       "    </tr>\n",
       "    <tr>\n",
       "      <th>3</th>\n",
       "      <td>1</td>\n",
       "      <td>1</td>\n",
       "      <td>338.274475</td>\n",
       "      <td>308.534027</td>\n",
       "      <td>279.539314</td>\n",
       "      <td>157.674393</td>\n",
       "      <td>397.009636</td>\n",
       "      <td>459.393662</td>\n",
       "      <td>0</td>\n",
       "      <td>409.638031</td>\n",
       "      <td>...</td>\n",
       "      <td>0</td>\n",
       "      <td>0</td>\n",
       "      <td>0</td>\n",
       "      <td>0</td>\n",
       "      <td>0</td>\n",
       "      <td>0</td>\n",
       "      <td>0</td>\n",
       "      <td>0</td>\n",
       "      <td>0</td>\n",
       "      <td>1</td>\n",
       "    </tr>\n",
       "    <tr>\n",
       "      <th>4</th>\n",
       "      <td>2</td>\n",
       "      <td>0</td>\n",
       "      <td>475.070465</td>\n",
       "      <td>309.475372</td>\n",
       "      <td>395.484291</td>\n",
       "      <td>156.138077</td>\n",
       "      <td>554.656639</td>\n",
       "      <td>462.812668</td>\n",
       "      <td>0</td>\n",
       "      <td>409.610718</td>\n",
       "      <td>...</td>\n",
       "      <td>1</td>\n",
       "      <td>1</td>\n",
       "      <td>0</td>\n",
       "      <td>0</td>\n",
       "      <td>0</td>\n",
       "      <td>0</td>\n",
       "      <td>0</td>\n",
       "      <td>0</td>\n",
       "      <td>0</td>\n",
       "      <td>0</td>\n",
       "    </tr>\n",
       "  </tbody>\n",
       "</table>\n",
       "<p>5 rows × 29 columns</p>\n",
       "</div>"
      ],
      "text/plain": [
       "   Frame  N_Person     Xcenter     Ycenter     PerXmin     PerYmin  \\\n",
       "0      0         0  474.999451  309.582947  395.377251  156.402725   \n",
       "1      0         1  338.124817  308.649231  279.351261  157.656418   \n",
       "2      1         0  474.938843  309.623566  395.161308  156.591705   \n",
       "3      1         1  338.274475  308.534027  279.539314  157.674393   \n",
       "4      2         0  475.070465  309.475372  395.484291  156.138077   \n",
       "\n",
       "      PerXmax     PerYmax  N_Handgun   HgXcenter  ...  Ground_Truth  \\\n",
       "0  554.621651  462.763168          0  409.881988  ...             1   \n",
       "1  396.898373  459.642044          0  409.881988  ...             0   \n",
       "2  554.716377  462.655426          0  409.638031  ...             1   \n",
       "3  397.009636  459.393662          0  409.638031  ...             0   \n",
       "4  554.656639  462.812668          0  409.610718  ...             1   \n",
       "\n",
       "   Intersection_Center_left  Intersection_Center_right  \\\n",
       "0                         1                          0   \n",
       "1                         0                          0   \n",
       "2                         1                          0   \n",
       "3                         0                          0   \n",
       "4                         1                          0   \n",
       "\n",
       "   Intersection_Down_center  Intersection_Down_left  Intersection_Inside  \\\n",
       "0                         0                       0                    0   \n",
       "1                         0                       0                    0   \n",
       "2                         0                       0                    0   \n",
       "3                         0                       0                    0   \n",
       "4                         0                       0                    0   \n",
       "\n",
       "   Intersection_No_intersection  Intersection_Up_center  Intersection_Up_left  \\\n",
       "0                             0                       0                     0   \n",
       "1                             0                       0                     0   \n",
       "2                             0                       0                     0   \n",
       "3                             0                       0                     0   \n",
       "4                             0                       0                     0   \n",
       "\n",
       "   Intersection_Up_right  \n",
       "0                      0  \n",
       "1                      1  \n",
       "2                      0  \n",
       "3                      1  \n",
       "4                      0  \n",
       "\n",
       "[5 rows x 29 columns]"
      ]
     },
     "execution_count": 8,
     "metadata": {},
     "output_type": "execute_result"
    }
   ],
   "source": [
    "df2 = pd.get_dummies(df,columns=['Intersection'])\n",
    "df2.head()"
   ]
  },
  {
   "cell_type": "code",
   "execution_count": 9,
   "id": "a246c9a2",
   "metadata": {
    "scrolled": true
   },
   "outputs": [
    {
     "name": "stdout",
     "output_type": "stream",
     "text": [
      "<class 'pandas.core.frame.DataFrame'>\n",
      "RangeIndex: 12652 entries, 0 to 12651\n",
      "Data columns (total 29 columns):\n",
      " #   Column                        Non-Null Count  Dtype  \n",
      "---  ------                        --------------  -----  \n",
      " 0   Frame                         12652 non-null  int64  \n",
      " 1   N_Person                      12652 non-null  int64  \n",
      " 2   Xcenter                       12652 non-null  float64\n",
      " 3   Ycenter                       12652 non-null  float64\n",
      " 4   PerXmin                       12652 non-null  float64\n",
      " 5   PerYmin                       12652 non-null  float64\n",
      " 6   PerXmax                       12652 non-null  float64\n",
      " 7   PerYmax                       12652 non-null  float64\n",
      " 8   N_Handgun                     12652 non-null  int64  \n",
      " 9   HgXcenter                     12652 non-null  float64\n",
      " 10  HgYcenter                     12652 non-null  float64\n",
      " 11  HgXmin                        12652 non-null  float64\n",
      " 12  HgYmin                        12652 non-null  float64\n",
      " 13  HgXmax                        12652 non-null  float64\n",
      " 14  HgYmax                        12652 non-null  float64\n",
      " 15  Included_Center               12652 non-null  int64  \n",
      " 16  Intersection_Area             12652 non-null  float64\n",
      " 17  Hg_Area                       12652 non-null  float64\n",
      " 18  Distance                      12652 non-null  float64\n",
      " 19  Ground_Truth                  12652 non-null  int64  \n",
      " 20  Intersection_Center_left      12652 non-null  uint8  \n",
      " 21  Intersection_Center_right     12652 non-null  uint8  \n",
      " 22  Intersection_Down_center      12652 non-null  uint8  \n",
      " 23  Intersection_Down_left        12652 non-null  uint8  \n",
      " 24  Intersection_Inside           12652 non-null  uint8  \n",
      " 25  Intersection_No_intersection  12652 non-null  uint8  \n",
      " 26  Intersection_Up_center        12652 non-null  uint8  \n",
      " 27  Intersection_Up_left          12652 non-null  uint8  \n",
      " 28  Intersection_Up_right         12652 non-null  uint8  \n",
      "dtypes: float64(15), int64(5), uint8(9)\n",
      "memory usage: 2.0 MB\n"
     ]
    }
   ],
   "source": [
    "df2.info()"
   ]
  },
  {
   "cell_type": "code",
   "execution_count": 10,
   "id": "7ceedc72",
   "metadata": {},
   "outputs": [],
   "source": [
    "X = df2.drop('Ground_Truth',axis='columns')\n",
    "y = df2.Ground_Truth"
   ]
  },
  {
   "cell_type": "code",
   "execution_count": 11,
   "id": "2b3e1bf2",
   "metadata": {},
   "outputs": [
    {
     "name": "stdout",
     "output_type": "stream",
     "text": [
      "<class 'pandas.core.frame.DataFrame'>\n",
      "RangeIndex: 12652 entries, 0 to 12651\n",
      "Data columns (total 28 columns):\n",
      " #   Column                        Non-Null Count  Dtype  \n",
      "---  ------                        --------------  -----  \n",
      " 0   Frame                         12652 non-null  int64  \n",
      " 1   N_Person                      12652 non-null  int64  \n",
      " 2   Xcenter                       12652 non-null  float64\n",
      " 3   Ycenter                       12652 non-null  float64\n",
      " 4   PerXmin                       12652 non-null  float64\n",
      " 5   PerYmin                       12652 non-null  float64\n",
      " 6   PerXmax                       12652 non-null  float64\n",
      " 7   PerYmax                       12652 non-null  float64\n",
      " 8   N_Handgun                     12652 non-null  int64  \n",
      " 9   HgXcenter                     12652 non-null  float64\n",
      " 10  HgYcenter                     12652 non-null  float64\n",
      " 11  HgXmin                        12652 non-null  float64\n",
      " 12  HgYmin                        12652 non-null  float64\n",
      " 13  HgXmax                        12652 non-null  float64\n",
      " 14  HgYmax                        12652 non-null  float64\n",
      " 15  Included_Center               12652 non-null  int64  \n",
      " 16  Intersection_Area             12652 non-null  float64\n",
      " 17  Hg_Area                       12652 non-null  float64\n",
      " 18  Distance                      12652 non-null  float64\n",
      " 19  Intersection_Center_left      12652 non-null  uint8  \n",
      " 20  Intersection_Center_right     12652 non-null  uint8  \n",
      " 21  Intersection_Down_center      12652 non-null  uint8  \n",
      " 22  Intersection_Down_left        12652 non-null  uint8  \n",
      " 23  Intersection_Inside           12652 non-null  uint8  \n",
      " 24  Intersection_No_intersection  12652 non-null  uint8  \n",
      " 25  Intersection_Up_center        12652 non-null  uint8  \n",
      " 26  Intersection_Up_left          12652 non-null  uint8  \n",
      " 27  Intersection_Up_right         12652 non-null  uint8  \n",
      "dtypes: float64(15), int64(4), uint8(9)\n",
      "memory usage: 1.9 MB\n"
     ]
    }
   ],
   "source": [
    "X.info()"
   ]
  },
  {
   "cell_type": "code",
   "execution_count": 11,
   "id": "bc072714",
   "metadata": {},
   "outputs": [],
   "source": [
    "from sklearn.model_selection import train_test_split\n",
    "X_train, X_test, y_train, y_test = train_test_split(X, y, test_size=0.3, random_state=0)"
   ]
  },
  {
   "cell_type": "code",
   "execution_count": 41,
   "id": "71feefb6",
   "metadata": {},
   "outputs": [
    {
     "name": "stdout",
     "output_type": "stream",
     "text": [
      "Score train =  1.0\n",
      "Score test =  0.9931506849315068\n"
     ]
    }
   ],
   "source": [
    "from sklearn.ensemble import GradientBoostingClassifier\n",
    "clf = GradientBoostingClassifier(n_estimators=100, learning_rate=0.1, max_depth=6, random_state=0).fit(X_train, y_train)\n",
    "print(\"Score train = \",clf.score(X_train, y_train))\n",
    "print(\"Score test = \",clf.score(X_test, y_test))"
   ]
  },
  {
   "cell_type": "code",
   "execution_count": 42,
   "id": "040e34d3",
   "metadata": {},
   "outputs": [
    {
     "data": {
      "text/plain": [
       "(2485, 15, 11, 1285)"
      ]
     },
     "execution_count": 42,
     "metadata": {},
     "output_type": "execute_result"
    }
   ],
   "source": [
    "from sklearn.metrics import confusion_matrix\n",
    "#rfc_o.fit(X_train.values, y_train.values)\n",
    "predictions_clf=clf.predict(X_test)\n",
    "tn, fp, fn, tp = confusion_matrix(y_test, predictions_clf).ravel()\n",
    "tn, fp, fn, tp  "
   ]
  },
  {
   "cell_type": "code",
   "execution_count": 10,
   "id": "77879193",
   "metadata": {},
   "outputs": [],
   "source": [
    "# save the model to disk\n",
    "filename = 'gradboost12.sav'\n",
    "pickle.dump(clf, open(filename, 'wb'))"
   ]
  },
  {
   "cell_type": "code",
   "execution_count": null,
   "id": "78ec1059",
   "metadata": {},
   "outputs": [],
   "source": []
  },
  {
   "cell_type": "code",
   "execution_count": 34,
   "id": "17a986d1",
   "metadata": {},
   "outputs": [
    {
     "name": "stdout",
     "output_type": "stream",
     "text": [
      "Score train =  0.928635953026197\n",
      "Score test =  0.9278187565858799\n"
     ]
    }
   ],
   "source": [
    "from sklearn.model_selection import train_test_split\n",
    "from sklearn.linear_model import LogisticRegression\n",
    "X_train, X_test, y_train, y_test = train_test_split(X, y, test_size=0.3, random_state=0)\n",
    "clf = LogisticRegression(multi_class= \"ovr\",C=100,random_state=0,max_iter=10000).fit(X, y)\n",
    "y_pred = clf.fit(X_train, y_train).predict(X_test)\n",
    "print(\"Score train = \",clf.score(X_train, y_train))\n",
    "print(\"Score test = \",clf.score(X_test, y_test))"
   ]
  },
  {
   "cell_type": "code",
   "execution_count": 35,
   "id": "32421a62",
   "metadata": {},
   "outputs": [
    {
     "data": {
      "text/plain": [
       "(2290, 210, 64, 1232)"
      ]
     },
     "execution_count": 35,
     "metadata": {},
     "output_type": "execute_result"
    }
   ],
   "source": [
    "from sklearn.metrics import confusion_matrix\n",
    "#rfc_o.fit(X_train.values, y_train.values)\n",
    "predictions_clf=clf.predict(X_test)\n",
    "tn, fp, fn, tp = confusion_matrix(y_test, predictions_clf).ravel()\n",
    "tn, fp, fn, tp "
   ]
  },
  {
   "cell_type": "code",
   "execution_count": 64,
   "id": "ad335c03",
   "metadata": {},
   "outputs": [],
   "source": [
    "# save the model to disk\n",
    "filename = 'logreg1.sav'\n",
    "pickle.dump(clf, open(filename, 'wb'))"
   ]
  },
  {
   "cell_type": "code",
   "execution_count": null,
   "id": "f48ff826",
   "metadata": {},
   "outputs": [],
   "source": []
  },
  {
   "cell_type": "code",
   "execution_count": 15,
   "id": "5f8b4241",
   "metadata": {},
   "outputs": [
    {
     "name": "stdout",
     "output_type": "stream",
     "text": [
      "Score train =  0.9023261065943993\n",
      "Score test =  0.9083245521601686\n"
     ]
    }
   ],
   "source": [
    "from sklearn.model_selection import train_test_split\n",
    "from sklearn.naive_bayes import BernoulliNB\n",
    "X_train, X_test, y_train, y_test = train_test_split(X, y, test_size=0.3, random_state=0)\n",
    "gnb = BernoulliNB()\n",
    "y_pred = gnb.fit(X_train, y_train).predict(X_test)\n",
    "print(\"Score train = \",gnb.score(X_train, y_train))\n",
    "print(\"Score test = \",gnb.score(X_test, y_test))"
   ]
  },
  {
   "cell_type": "code",
   "execution_count": 16,
   "id": "b923a963",
   "metadata": {
    "scrolled": true
   },
   "outputs": [
    {
     "data": {
      "text/plain": [
       "(2173, 327, 21, 1275)"
      ]
     },
     "execution_count": 16,
     "metadata": {},
     "output_type": "execute_result"
    }
   ],
   "source": [
    "from sklearn.metrics import confusion_matrix\n",
    "#rfc_o.fit(X_train.values, y_train.values)\n",
    "predictions_gnb=gnb.predict(X_test)\n",
    "tn, fp, fn, tp = confusion_matrix(y_test, predictions_gnb).ravel()\n",
    "tn, fp, fn, tp "
   ]
  },
  {
   "cell_type": "code",
   "execution_count": 18,
   "id": "f79432df",
   "metadata": {},
   "outputs": [],
   "source": [
    "# save the model to disk\n",
    "filename = 'gnb2.sav'\n",
    "pickle.dump(gnb, open(filename, 'wb'))"
   ]
  },
  {
   "cell_type": "code",
   "execution_count": null,
   "id": "a6884626",
   "metadata": {},
   "outputs": [],
   "source": []
  },
  {
   "cell_type": "code",
   "execution_count": 12,
   "id": "069c960d",
   "metadata": {},
   "outputs": [
    {
     "data": {
      "text/plain": [
       "array([[-2.0489514 , -1.11274597,  0.33989488, -2.1566782 ,  0.3701992 ,\n",
       "        -1.65103893,  0.29602604, -3.20232235, -0.57607603,  0.56213314,\n",
       "        -2.34052204,  0.61447809, -2.12081703,  0.50958857, -2.5573473 ,\n",
       "         1.26811752, -0.06463069, -0.5915216 , -0.64579167,  2.32439971,\n",
       "        -0.27056207, -0.02352825, -0.01257389, -0.43421103, -1.13193808,\n",
       "        -0.1451333 , -0.07296436, -0.17186801],\n",
       "       [-2.0489514 , -0.06038672, -0.29356253, -2.17562215, -0.16515593,\n",
       "        -1.63665292, -0.40446314, -3.34777465, -0.57607603,  0.56213314,\n",
       "        -2.34052204,  0.61447809, -2.12081703,  0.50958857, -2.5573473 ,\n",
       "        -0.78857045, -0.46587968, -0.5915216 , -0.62883701, -0.4302186 ,\n",
       "        -0.27056207, -0.02352825, -0.01257389, -0.43421103, -1.13193808,\n",
       "        -0.1451333 , -0.07296436,  5.81841856],\n",
       "       [-2.04669759, -1.11274597,  0.33961438, -2.15585409,  0.36920283,\n",
       "        -1.6488704 ,  0.29644675, -3.20734341, -0.57607603,  0.56068317,\n",
       "        -2.3416668 ,  0.61172475, -2.12165453,  0.5094075 , -2.55882192,\n",
       "         1.26811752, -0.06252078, -0.58654974, -0.64445936,  2.32439971,\n",
       "        -0.27056207, -0.02352825, -0.01257389, -0.43421103, -1.13193808,\n",
       "        -0.1451333 , -0.07296436, -0.17186801]])"
      ]
     },
     "execution_count": 12,
     "metadata": {},
     "output_type": "execute_result"
    }
   ],
   "source": [
    "from sklearn.preprocessing import StandardScaler\n",
    "scaler = StandardScaler()\n",
    "X_scaled = scaler.fit_transform(X)\n",
    "X_scaled[:3]\n",
    "#X_scaled.shape"
   ]
  },
  {
   "cell_type": "code",
   "execution_count": 13,
   "id": "03a00d34",
   "metadata": {
    "scrolled": false
   },
   "outputs": [
    {
     "name": "stdout",
     "output_type": "stream",
     "text": [
      "[9.09106623e+02 1.05738223e+00 4.01556492e+02 4.15881999e+02\n",
      " 3.15145035e+02 3.00285205e+02 4.87967948e+02 5.31478794e+02\n",
      " 3.87211508e-01 3.15303209e+02 3.59825385e+02 2.92086914e+02\n",
      " 3.39647453e+02 3.38519504e+02 3.80003317e+02 3.83417641e-01\n",
      " 9.68300700e+02 2.15281262e+03 2.31289485e+02 1.56180841e-01\n",
      " 6.82105596e-02 5.53272210e-04 1.58077774e-04 1.58631046e-01\n",
      " 5.61650332e-01 2.06291495e-02 5.29560544e-03 2.86911160e-02]\n"
     ]
    }
   ],
   "source": [
    "print(scaler.mean_)"
   ]
  },
  {
   "cell_type": "code",
   "execution_count": 14,
   "id": "068eb759",
   "metadata": {},
   "outputs": [
    {
     "name": "stdout",
     "output_type": "stream",
     "text": [
      "[4.43693600e+02 9.50245842e-01 2.16075512e+02 4.92883235e+01\n",
      " 2.16727143e+02 8.71466305e+01 2.25161619e+02 2.14580602e+01\n",
      " 6.72153476e-01 1.68249783e+02 7.25382729e+01 1.65957845e+02\n",
      " 7.71079606e+01 1.71079386e+02 6.88302982e+01 4.86218627e-01\n",
      " 1.90893059e+03 2.14921043e+03 1.47367328e+02 3.63026701e-01\n",
      " 2.52106880e-01 2.35152312e-02 1.25719046e-02 3.65331682e-01\n",
      " 4.96184680e-01 1.42139325e-01 7.25779719e-02 1.66936922e-01]\n"
     ]
    }
   ],
   "source": [
    "print(scaler.scale_)"
   ]
  },
  {
   "cell_type": "code",
   "execution_count": 15,
   "id": "e1aff0ec",
   "metadata": {},
   "outputs": [],
   "source": [
    "from sklearn.model_selection import  train_test_split\n",
    "X_train, X_test, y_train, y_test = train_test_split(X_scaled, y, stratify=y, random_state=10) #stratify hace que el ratio entre 0 y 1 se mantenga en la distri. entre el test(y). "
   ]
  },
  {
   "cell_type": "code",
   "execution_count": 16,
   "id": "7bf4e35f",
   "metadata": {},
   "outputs": [
    {
     "data": {
      "text/plain": [
       "(9489, 28)"
      ]
     },
     "execution_count": 16,
     "metadata": {},
     "output_type": "execute_result"
    }
   ],
   "source": [
    "X_train.shape"
   ]
  },
  {
   "cell_type": "code",
   "execution_count": 17,
   "id": "4a5d365e",
   "metadata": {},
   "outputs": [
    {
     "data": {
      "text/plain": [
       "0    6318\n",
       "1    3171\n",
       "Name: Ground_Truth, dtype: int64"
      ]
     },
     "execution_count": 17,
     "metadata": {},
     "output_type": "execute_result"
    }
   ],
   "source": [
    "y_train.value_counts()"
   ]
  },
  {
   "cell_type": "code",
   "execution_count": 17,
   "id": "c2abe820",
   "metadata": {},
   "outputs": [
    {
     "data": {
      "text/plain": [
       "0.5018993352326686"
      ]
     },
     "execution_count": 17,
     "metadata": {},
     "output_type": "execute_result"
    }
   ],
   "source": [
    "3171/6318"
   ]
  },
  {
   "cell_type": "code",
   "execution_count": 15,
   "id": "ce066839",
   "metadata": {},
   "outputs": [
    {
     "data": {
      "text/plain": [
       "(3163, 28)"
      ]
     },
     "execution_count": 15,
     "metadata": {},
     "output_type": "execute_result"
    }
   ],
   "source": [
    "X_test.shape"
   ]
  },
  {
   "cell_type": "code",
   "execution_count": 16,
   "id": "d93cdfdf",
   "metadata": {
    "scrolled": true
   },
   "outputs": [
    {
     "data": {
      "text/plain": [
       "0    2106\n",
       "1    1057\n",
       "Name: Ground_Truth, dtype: int64"
      ]
     },
     "execution_count": 16,
     "metadata": {},
     "output_type": "execute_result"
    }
   ],
   "source": [
    "y_test.value_counts()"
   ]
  },
  {
   "cell_type": "code",
   "execution_count": 20,
   "id": "312216ce",
   "metadata": {},
   "outputs": [
    {
     "data": {
      "text/plain": [
       "0.5018993352326686"
      ]
     },
     "execution_count": 20,
     "metadata": {},
     "output_type": "execute_result"
    }
   ],
   "source": [
    "1057/2106"
   ]
  },
  {
   "cell_type": "code",
   "execution_count": null,
   "id": "92c0a50d",
   "metadata": {},
   "outputs": [],
   "source": []
  },
  {
   "cell_type": "code",
   "execution_count": 24,
   "id": "c40bcf55",
   "metadata": {},
   "outputs": [
    {
     "name": "stdout",
     "output_type": "stream",
     "text": [
      "Score train =  0.9940984297607757\n",
      "Score test =  0.9889345558014543\n"
     ]
    }
   ],
   "source": [
    "from sklearn.neighbors import KNeighborsClassifier\n",
    "neigh = KNeighborsClassifier(n_neighbors=3)\n",
    "neigh.fit(X_train,y_train)\n",
    "print(\"Score train = \",neigh.score(X_train, y_train))\n",
    "print(\"Score test = \",neigh.score(X_test, y_test))"
   ]
  },
  {
   "cell_type": "code",
   "execution_count": 27,
   "id": "0ef5e1f6",
   "metadata": {},
   "outputs": [
    {
     "data": {
      "text/plain": [
       "(2089, 17, 18, 1039)"
      ]
     },
     "execution_count": 27,
     "metadata": {},
     "output_type": "execute_result"
    }
   ],
   "source": [
    "from sklearn.metrics import confusion_matrix\n",
    "#rfc_o.fit(X_train.values, y_train.values)\n",
    "predictions_knn=neigh.predict(X_test)\n",
    "tn, fp, fn, tp = confusion_matrix(y_test, predictions_knn).ravel()\n",
    "tn, fp, fn, tp "
   ]
  },
  {
   "cell_type": "code",
   "execution_count": 26,
   "id": "00d0e2dc",
   "metadata": {},
   "outputs": [],
   "source": [
    "# save the model to disk\n",
    "filename = 'knn3.sav'\n",
    "pickle.dump(neigh, open(filename, 'wb'))"
   ]
  },
  {
   "cell_type": "code",
   "execution_count": null,
   "id": "c9eabf83",
   "metadata": {},
   "outputs": [],
   "source": []
  },
  {
   "cell_type": "code",
   "execution_count": 32,
   "id": "7347483f",
   "metadata": {
    "scrolled": true
   },
   "outputs": [
    {
     "name": "stdout",
     "output_type": "stream",
     "text": [
      "Score train =  0.9140056907998735\n",
      "Score test =  0.9165349351881126\n"
     ]
    }
   ],
   "source": [
    "from sklearn.svm import SVC\n",
    "clf=SVC(kernel=\"linear\",probability=True).fit(X_train,y_train)\n",
    "print(\"Score train = \",clf.score(X_train, y_train))\n",
    "print(\"Score test = \",clf.score(X_test, y_test))"
   ]
  },
  {
   "cell_type": "code",
   "execution_count": 33,
   "id": "095e8c56",
   "metadata": {},
   "outputs": [
    {
     "data": {
      "text/plain": [
       "(1935, 171, 93, 964)"
      ]
     },
     "execution_count": 33,
     "metadata": {},
     "output_type": "execute_result"
    }
   ],
   "source": [
    "from sklearn.metrics import confusion_matrix\n",
    "#rfc_o.fit(X_train.values, y_train.values)\n",
    "predictions_clf=clf.predict(X_test)\n",
    "tn, fp, fn, tp = confusion_matrix(y_test, predictions_clf).ravel()\n",
    "tn, fp, fn, tp "
   ]
  },
  {
   "cell_type": "code",
   "execution_count": 22,
   "id": "ffc359b6",
   "metadata": {},
   "outputs": [],
   "source": [
    "# save the model to disk\n",
    "filename = 'svm7.sav'\n",
    "pickle.dump(clf, open(filename, 'wb'))"
   ]
  },
  {
   "cell_type": "code",
   "execution_count": null,
   "id": "9bfccad7",
   "metadata": {},
   "outputs": [],
   "source": []
  },
  {
   "cell_type": "code",
   "execution_count": 28,
   "id": "1a48745d",
   "metadata": {
    "scrolled": true
   },
   "outputs": [
    {
     "data": {
      "text/plain": [
       "array([[9.99997050e-01, 2.94954782e-06],\n",
       "       [2.56194067e-05, 9.99974381e-01],\n",
       "       [9.99999881e-01, 1.19406899e-07],\n",
       "       ...,\n",
       "       [1.00000000e+00, 1.34362395e-20],\n",
       "       [1.05824315e-08, 9.99999989e-01],\n",
       "       [9.99999724e-01, 2.75846796e-07]])"
      ]
     },
     "execution_count": 28,
     "metadata": {},
     "output_type": "execute_result"
    }
   ],
   "source": [
    "from sklearn.neural_network import MLPClassifier\n",
    "mlp=MLPClassifier(hidden_layer_sizes=(25,25,25,25), max_iter=500, alpha=0.0001, solver='adam',\n",
    "                 random_state=123, tol=0.000000001)\n",
    "mlp.fit(X_train,y_train)\n",
    "predictions_mlp=mlp.predict_proba(X_test)\n",
    "predictions_mlp"
   ]
  },
  {
   "cell_type": "code",
   "execution_count": 22,
   "id": "41597b7a",
   "metadata": {},
   "outputs": [
    {
     "data": {
      "text/plain": [
       "array([0, 1, 0, ..., 0, 1, 0], dtype=int64)"
      ]
     },
     "execution_count": 22,
     "metadata": {},
     "output_type": "execute_result"
    }
   ],
   "source": [
    "predictions_mlp=mlp.predict(X_test)\n",
    "predictions_mlp"
   ]
  },
  {
   "cell_type": "code",
   "execution_count": 30,
   "id": "b4de1d6b",
   "metadata": {},
   "outputs": [
    {
     "data": {
      "text/plain": [
       "(2096, 10, 21, 1036)"
      ]
     },
     "execution_count": 30,
     "metadata": {},
     "output_type": "execute_result"
    }
   ],
   "source": [
    "from sklearn.metrics import confusion_matrix\n",
    "#rfc_o.fit(X_train.values, y_train.values)\n",
    "predictions_mlp=mlp.predict(X_test)\n",
    "tn, fp, fn, tp = confusion_matrix(y_test, predictions_mlp).ravel()\n",
    "tn, fp, fn, tp "
   ]
  },
  {
   "cell_type": "code",
   "execution_count": 23,
   "id": "de158b46",
   "metadata": {
    "scrolled": false
   },
   "outputs": [
    {
     "name": "stdout",
     "output_type": "stream",
     "text": [
      "              precision    recall  f1-score   support\n",
      "\n",
      "           0       0.99      1.00      0.99      2106\n",
      "           1       0.99      0.98      0.99      1057\n",
      "\n",
      "    accuracy                           0.99      3163\n",
      "   macro avg       0.99      0.99      0.99      3163\n",
      "weighted avg       0.99      0.99      0.99      3163\n",
      "\n"
     ]
    }
   ],
   "source": [
    "from sklearn.metrics import classification_report\n",
    "print(classification_report(y_test,predictions_mlp))"
   ]
  },
  {
   "cell_type": "code",
   "execution_count": 29,
   "id": "789db905",
   "metadata": {
    "scrolled": true
   },
   "outputs": [
    {
     "name": "stdout",
     "output_type": "stream",
     "text": [
      "Score train =  0.996733059331858\n",
      "Score test =  0.9901991779955738\n"
     ]
    }
   ],
   "source": [
    "print(\"Score train = \",mlp.score(X_train, y_train))\n",
    "print(\"Score test = \",mlp.score(X_test, y_test))"
   ]
  },
  {
   "cell_type": "code",
   "execution_count": 58,
   "id": "b4f48a20",
   "metadata": {},
   "outputs": [],
   "source": [
    "# save the model to disk\n",
    "filename = 'mlp1.sav'\n",
    "pickle.dump(mlp, open(filename, 'wb'))"
   ]
  },
  {
   "cell_type": "markdown",
   "id": "a98ecc7b",
   "metadata": {},
   "source": [
    "# Random Forest "
   ]
  },
  {
   "cell_type": "code",
   "execution_count": 18,
   "id": "4e7c0d54",
   "metadata": {},
   "outputs": [
    {
     "name": "stdout",
     "output_type": "stream",
     "text": [
      "(10121, 28) (10121,)\n",
      "(2531, 28) (2531,)\n"
     ]
    }
   ],
   "source": [
    "from sklearn.model_selection import train_test_split\n",
    "\n",
    "train_df, test_df = train_test_split(df2, test_size=0.2, random_state=123)\n",
    "X_train_rfc, y_train_rfc = train_df.drop(columns=[\"Ground_Truth\"], axis=1), train_df[\"Ground_Truth\"]\n",
    "X_test_rfc, y_test_rfc = test_df.drop(columns=[\"Ground_Truth\"], axis=1), test_df[\"Ground_Truth\"]\n",
    "\n",
    "print(X_train_rfc.shape, y_train_rfc.shape)\n",
    "print(X_test_rfc.shape, y_test_rfc.shape)"
   ]
  },
  {
   "cell_type": "code",
   "execution_count": 19,
   "id": "60a84fc3",
   "metadata": {
    "scrolled": true
   },
   "outputs": [
    {
     "name": "stdout",
     "output_type": "stream",
     "text": [
      "mean_train =  0.9109879937957281\n",
      "mean_test =  0.909792948585386\n"
     ]
    },
    {
     "data": {
      "text/html": [
       "<div>\n",
       "<style scoped>\n",
       "    .dataframe tbody tr th:only-of-type {\n",
       "        vertical-align: middle;\n",
       "    }\n",
       "\n",
       "    .dataframe tbody tr th {\n",
       "        vertical-align: top;\n",
       "    }\n",
       "\n",
       "    .dataframe thead th {\n",
       "        text-align: right;\n",
       "    }\n",
       "</style>\n",
       "<table border=\"1\" class=\"dataframe\">\n",
       "  <thead>\n",
       "    <tr style=\"text-align: right;\">\n",
       "      <th></th>\n",
       "      <th>fit_time</th>\n",
       "      <th>score_time</th>\n",
       "      <th>test_score</th>\n",
       "      <th>train_score</th>\n",
       "    </tr>\n",
       "  </thead>\n",
       "  <tbody>\n",
       "    <tr>\n",
       "      <th>0</th>\n",
       "      <td>0.070886</td>\n",
       "      <td>0.002989</td>\n",
       "      <td>0.895360</td>\n",
       "      <td>0.896355</td>\n",
       "    </tr>\n",
       "    <tr>\n",
       "      <th>1</th>\n",
       "      <td>0.067900</td>\n",
       "      <td>0.002994</td>\n",
       "      <td>0.923913</td>\n",
       "      <td>0.909211</td>\n",
       "    </tr>\n",
       "    <tr>\n",
       "      <th>2</th>\n",
       "      <td>0.066853</td>\n",
       "      <td>0.002990</td>\n",
       "      <td>0.898221</td>\n",
       "      <td>0.915358</td>\n",
       "    </tr>\n",
       "    <tr>\n",
       "      <th>3</th>\n",
       "      <td>0.060764</td>\n",
       "      <td>0.002034</td>\n",
       "      <td>0.910079</td>\n",
       "      <td>0.914700</td>\n",
       "    </tr>\n",
       "    <tr>\n",
       "      <th>4</th>\n",
       "      <td>0.068816</td>\n",
       "      <td>0.003068</td>\n",
       "      <td>0.909091</td>\n",
       "      <td>0.916237</td>\n",
       "    </tr>\n",
       "    <tr>\n",
       "      <th>5</th>\n",
       "      <td>0.061777</td>\n",
       "      <td>0.003037</td>\n",
       "      <td>0.913043</td>\n",
       "      <td>0.911187</td>\n",
       "    </tr>\n",
       "    <tr>\n",
       "      <th>6</th>\n",
       "      <td>0.062832</td>\n",
       "      <td>0.003987</td>\n",
       "      <td>0.915020</td>\n",
       "      <td>0.912614</td>\n",
       "    </tr>\n",
       "    <tr>\n",
       "      <th>7</th>\n",
       "      <td>0.066637</td>\n",
       "      <td>0.002989</td>\n",
       "      <td>0.906126</td>\n",
       "      <td>0.904380</td>\n",
       "    </tr>\n",
       "    <tr>\n",
       "      <th>8</th>\n",
       "      <td>0.067749</td>\n",
       "      <td>0.003066</td>\n",
       "      <td>0.913043</td>\n",
       "      <td>0.917005</td>\n",
       "    </tr>\n",
       "    <tr>\n",
       "      <th>9</th>\n",
       "      <td>0.062906</td>\n",
       "      <td>0.002944</td>\n",
       "      <td>0.914032</td>\n",
       "      <td>0.912833</td>\n",
       "    </tr>\n",
       "  </tbody>\n",
       "</table>\n",
       "</div>"
      ],
      "text/plain": [
       "   fit_time  score_time  test_score  train_score\n",
       "0  0.070886    0.002989    0.895360     0.896355\n",
       "1  0.067900    0.002994    0.923913     0.909211\n",
       "2  0.066853    0.002990    0.898221     0.915358\n",
       "3  0.060764    0.002034    0.910079     0.914700\n",
       "4  0.068816    0.003068    0.909091     0.916237\n",
       "5  0.061777    0.003037    0.913043     0.911187\n",
       "6  0.062832    0.003987    0.915020     0.912614\n",
       "7  0.066637    0.002989    0.906126     0.904380\n",
       "8  0.067749    0.003066    0.913043     0.917005\n",
       "9  0.062906    0.002944    0.914032     0.912833"
      ]
     },
     "execution_count": 19,
     "metadata": {},
     "output_type": "execute_result"
    }
   ],
   "source": [
    "from sklearn.ensemble import RandomForestClassifier\n",
    "from sklearn.model_selection import cross_validate\n",
    "\n",
    "rfc_o = RandomForestClassifier(n_estimators=10, max_depth=2,criterion='entropy')\n",
    "scores = pd.DataFrame(cross_validate(rfc_o, X_train_rfc, y_train_rfc, cv=10, return_train_score=True))\n",
    "print(\"mean_train = \", scores['train_score'].mean())\n",
    "print(\"mean_test = \", scores['test_score'].mean())\n",
    "scores"
   ]
  },
  {
   "cell_type": "code",
   "execution_count": 20,
   "id": "24dbc776",
   "metadata": {},
   "outputs": [
    {
     "data": {
      "text/plain": [
       "(1493, 217, 16, 805)"
      ]
     },
     "execution_count": 20,
     "metadata": {},
     "output_type": "execute_result"
    }
   ],
   "source": [
    "from sklearn.metrics import confusion_matrix\n",
    "rfc_o.fit(X_train_rfc.values, y_train_rfc.values)\n",
    "predictions_rfc_o=rfc_o.predict(X_test_rfc.values)\n",
    "tn, fp, fn, tp = confusion_matrix(y_test_rfc, predictions_rfc_o).ravel()\n",
    "tn, fp, fn, tp \n"
   ]
  },
  {
   "cell_type": "code",
   "execution_count": 12,
   "id": "28f12ce9",
   "metadata": {},
   "outputs": [],
   "source": [
    "# save the model to disk\n",
    "filename = 'rfc3.sav'\n",
    "pickle.dump(rfc_o, open(filename, 'wb'))"
   ]
  }
 ],
 "metadata": {
  "kernelspec": {
   "display_name": "Python 3 (ipykernel)",
   "language": "python",
   "name": "python3"
  },
  "language_info": {
   "codemirror_mode": {
    "name": "ipython",
    "version": 3
   },
   "file_extension": ".py",
   "mimetype": "text/x-python",
   "name": "python",
   "nbconvert_exporter": "python",
   "pygments_lexer": "ipython3",
   "version": "3.8.11"
  }
 },
 "nbformat": 4,
 "nbformat_minor": 5
}
