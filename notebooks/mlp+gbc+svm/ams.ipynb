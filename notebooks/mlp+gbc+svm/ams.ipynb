{
 "cells": [
  {
   "cell_type": "code",
   "execution_count": 46,
   "id": "5d87e640",
   "metadata": {},
   "outputs": [],
   "source": [
    "import pickle\n",
    "import numpy as np\n",
    "import pandas as pd\n",
    "import matplotlib.pyplot as plt\n",
    "%matplotlib inline"
   ]
  },
  {
   "cell_type": "code",
   "execution_count": 47,
   "id": "95600074",
   "metadata": {
    "scrolled": true
   },
   "outputs": [
    {
     "data": {
      "text/html": [
       "<div>\n",
       "<style scoped>\n",
       "    .dataframe tbody tr th:only-of-type {\n",
       "        vertical-align: middle;\n",
       "    }\n",
       "\n",
       "    .dataframe tbody tr th {\n",
       "        vertical-align: top;\n",
       "    }\n",
       "\n",
       "    .dataframe thead th {\n",
       "        text-align: right;\n",
       "    }\n",
       "</style>\n",
       "<table border=\"1\" class=\"dataframe\">\n",
       "  <thead>\n",
       "    <tr style=\"text-align: right;\">\n",
       "      <th></th>\n",
       "      <th>Frame</th>\n",
       "      <th>N_Person</th>\n",
       "      <th>Xcenter</th>\n",
       "      <th>Ycenter</th>\n",
       "      <th>PerXmin</th>\n",
       "      <th>PerYmin</th>\n",
       "      <th>PerXmax</th>\n",
       "      <th>PerYmax</th>\n",
       "      <th>N_Handgun</th>\n",
       "      <th>HgXcenter</th>\n",
       "      <th>...</th>\n",
       "      <th>HgYmin</th>\n",
       "      <th>HgXmax</th>\n",
       "      <th>HgYmax</th>\n",
       "      <th>Intersection</th>\n",
       "      <th>Included_Center</th>\n",
       "      <th>Intersection_Area</th>\n",
       "      <th>Hg_Area</th>\n",
       "      <th>Distance</th>\n",
       "      <th>Ground_Truth</th>\n",
       "      <th>GT</th>\n",
       "    </tr>\n",
       "  </thead>\n",
       "  <tbody>\n",
       "    <tr>\n",
       "      <th>0</th>\n",
       "      <td>0</td>\n",
       "      <td>0</td>\n",
       "      <td>474.999451</td>\n",
       "      <td>309.582947</td>\n",
       "      <td>395.377251</td>\n",
       "      <td>156.402725</td>\n",
       "      <td>554.621651</td>\n",
       "      <td>462.763168</td>\n",
       "      <td>0</td>\n",
       "      <td>409.881988</td>\n",
       "      <td>...</td>\n",
       "      <td>176.115577</td>\n",
       "      <td>425.699604</td>\n",
       "      <td>203.980340</td>\n",
       "      <td>Center_left</td>\n",
       "      <td>1</td>\n",
       "      <td>844.925198</td>\n",
       "      <td>881.508223</td>\n",
       "      <td>136.120892</td>\n",
       "      <td>1</td>\n",
       "      <td>GBC</td>\n",
       "    </tr>\n",
       "    <tr>\n",
       "      <th>1</th>\n",
       "      <td>1</td>\n",
       "      <td>0</td>\n",
       "      <td>474.938843</td>\n",
       "      <td>309.623566</td>\n",
       "      <td>395.161308</td>\n",
       "      <td>156.591705</td>\n",
       "      <td>554.716377</td>\n",
       "      <td>462.655426</td>\n",
       "      <td>0</td>\n",
       "      <td>409.638031</td>\n",
       "      <td>...</td>\n",
       "      <td>176.050999</td>\n",
       "      <td>425.668627</td>\n",
       "      <td>203.878841</td>\n",
       "      <td>Center_left</td>\n",
       "      <td>1</td>\n",
       "      <td>848.952861</td>\n",
       "      <td>892.193796</td>\n",
       "      <td>136.317231</td>\n",
       "      <td>1</td>\n",
       "      <td>GBC</td>\n",
       "    </tr>\n",
       "    <tr>\n",
       "      <th>2</th>\n",
       "      <td>2</td>\n",
       "      <td>0</td>\n",
       "      <td>475.070465</td>\n",
       "      <td>309.475372</td>\n",
       "      <td>395.484291</td>\n",
       "      <td>156.138077</td>\n",
       "      <td>554.656639</td>\n",
       "      <td>462.812668</td>\n",
       "      <td>0</td>\n",
       "      <td>409.610718</td>\n",
       "      <td>...</td>\n",
       "      <td>175.932056</td>\n",
       "      <td>425.627609</td>\n",
       "      <td>203.722820</td>\n",
       "      <td>Center_left</td>\n",
       "      <td>1</td>\n",
       "      <td>837.705837</td>\n",
       "      <td>890.243298</td>\n",
       "      <td>136.384041</td>\n",
       "      <td>1</td>\n",
       "      <td>GBC</td>\n",
       "    </tr>\n",
       "    <tr>\n",
       "      <th>3</th>\n",
       "      <td>3</td>\n",
       "      <td>0</td>\n",
       "      <td>476.837311</td>\n",
       "      <td>308.901245</td>\n",
       "      <td>399.288238</td>\n",
       "      <td>154.448364</td>\n",
       "      <td>554.386383</td>\n",
       "      <td>463.354126</td>\n",
       "      <td>0</td>\n",
       "      <td>408.519043</td>\n",
       "      <td>...</td>\n",
       "      <td>177.653896</td>\n",
       "      <td>423.709709</td>\n",
       "      <td>202.787083</td>\n",
       "      <td>Center_left</td>\n",
       "      <td>1</td>\n",
       "      <td>613.789372</td>\n",
       "      <td>763.579688</td>\n",
       "      <td>136.939795</td>\n",
       "      <td>1</td>\n",
       "      <td>GBC</td>\n",
       "    </tr>\n",
       "    <tr>\n",
       "      <th>4</th>\n",
       "      <td>4</td>\n",
       "      <td>0</td>\n",
       "      <td>476.918640</td>\n",
       "      <td>308.815064</td>\n",
       "      <td>399.598404</td>\n",
       "      <td>154.249756</td>\n",
       "      <td>554.238876</td>\n",
       "      <td>463.380371</td>\n",
       "      <td>0</td>\n",
       "      <td>408.613525</td>\n",
       "      <td>...</td>\n",
       "      <td>177.582060</td>\n",
       "      <td>423.771116</td>\n",
       "      <td>202.885134</td>\n",
       "      <td>Center_left</td>\n",
       "      <td>1</td>\n",
       "      <td>611.643926</td>\n",
       "      <td>767.067283</td>\n",
       "      <td>136.847188</td>\n",
       "      <td>1</td>\n",
       "      <td>GBC</td>\n",
       "    </tr>\n",
       "  </tbody>\n",
       "</table>\n",
       "<p>5 rows × 22 columns</p>\n",
       "</div>"
      ],
      "text/plain": [
       "   Frame  N_Person     Xcenter     Ycenter     PerXmin     PerYmin  \\\n",
       "0      0         0  474.999451  309.582947  395.377251  156.402725   \n",
       "1      1         0  474.938843  309.623566  395.161308  156.591705   \n",
       "2      2         0  475.070465  309.475372  395.484291  156.138077   \n",
       "3      3         0  476.837311  308.901245  399.288238  154.448364   \n",
       "4      4         0  476.918640  308.815064  399.598404  154.249756   \n",
       "\n",
       "      PerXmax     PerYmax  N_Handgun   HgXcenter  ...      HgYmin      HgXmax  \\\n",
       "0  554.621651  462.763168          0  409.881988  ...  176.115577  425.699604   \n",
       "1  554.716377  462.655426          0  409.638031  ...  176.050999  425.668627   \n",
       "2  554.656639  462.812668          0  409.610718  ...  175.932056  425.627609   \n",
       "3  554.386383  463.354126          0  408.519043  ...  177.653896  423.709709   \n",
       "4  554.238876  463.380371          0  408.613525  ...  177.582060  423.771116   \n",
       "\n",
       "       HgYmax  Intersection  Included_Center Intersection_Area     Hg_Area  \\\n",
       "0  203.980340   Center_left                1        844.925198  881.508223   \n",
       "1  203.878841   Center_left                1        848.952861  892.193796   \n",
       "2  203.722820   Center_left                1        837.705837  890.243298   \n",
       "3  202.787083   Center_left                1        613.789372  763.579688   \n",
       "4  202.885134   Center_left                1        611.643926  767.067283   \n",
       "\n",
       "     Distance  Ground_Truth   GT  \n",
       "0  136.120892             1  GBC  \n",
       "1  136.317231             1  GBC  \n",
       "2  136.384041             1  GBC  \n",
       "3  136.939795             1  GBC  \n",
       "4  136.847188             1  GBC  \n",
       "\n",
       "[5 rows x 22 columns]"
      ]
     },
     "execution_count": 47,
     "metadata": {},
     "output_type": "execute_result"
    }
   ],
   "source": [
    "df = pd.read_csv('ams25.csv')\n",
    "df.head()"
   ]
  },
  {
   "cell_type": "code",
   "execution_count": 48,
   "id": "8ae1ff95",
   "metadata": {},
   "outputs": [
    {
     "data": {
      "text/plain": [
       "18512"
      ]
     },
     "execution_count": 48,
     "metadata": {},
     "output_type": "execute_result"
    }
   ],
   "source": [
    "len(df)"
   ]
  },
  {
   "cell_type": "code",
   "execution_count": 49,
   "id": "9ac6c889",
   "metadata": {
    "scrolled": true
   },
   "outputs": [
    {
     "name": "stdout",
     "output_type": "stream",
     "text": [
      "<class 'pandas.core.frame.DataFrame'>\n",
      "RangeIndex: 18512 entries, 0 to 18511\n",
      "Data columns (total 22 columns):\n",
      " #   Column             Non-Null Count  Dtype  \n",
      "---  ------             --------------  -----  \n",
      " 0   Frame              18512 non-null  int64  \n",
      " 1   N_Person           18512 non-null  int64  \n",
      " 2   Xcenter            18512 non-null  float64\n",
      " 3   Ycenter            18512 non-null  float64\n",
      " 4   PerXmin            18512 non-null  float64\n",
      " 5   PerYmin            18512 non-null  float64\n",
      " 6   PerXmax            18512 non-null  float64\n",
      " 7   PerYmax            18512 non-null  float64\n",
      " 8   N_Handgun          18512 non-null  int64  \n",
      " 9   HgXcenter          18512 non-null  float64\n",
      " 10  HgYcenter          18512 non-null  float64\n",
      " 11  HgXmin             18512 non-null  float64\n",
      " 12  HgYmin             18512 non-null  float64\n",
      " 13  HgXmax             18512 non-null  float64\n",
      " 14  HgYmax             18512 non-null  float64\n",
      " 15  Intersection       18512 non-null  object \n",
      " 16  Included_Center    18512 non-null  int64  \n",
      " 17  Intersection_Area  18512 non-null  float64\n",
      " 18  Hg_Area            18512 non-null  float64\n",
      " 19  Distance           18512 non-null  float64\n",
      " 20  Ground_Truth       18512 non-null  int64  \n",
      " 21  GT                 18512 non-null  object \n",
      "dtypes: float64(15), int64(5), object(2)\n",
      "memory usage: 3.1+ MB\n"
     ]
    }
   ],
   "source": [
    "df.info()"
   ]
  },
  {
   "cell_type": "code",
   "execution_count": 50,
   "id": "048f07b5",
   "metadata": {},
   "outputs": [
    {
     "data": {
      "text/plain": [
       "Frame                 1933\n",
       "N_Person                 5\n",
       "Xcenter              14256\n",
       "Ycenter              14237\n",
       "PerXmin              14264\n",
       "PerYmin              14261\n",
       "PerXmax              14264\n",
       "PerYmax              14241\n",
       "N_Handgun                5\n",
       "HgXcenter             7304\n",
       "HgYcenter             7302\n",
       "HgXmin                7306\n",
       "HgYmin                7306\n",
       "HgXmax                7306\n",
       "HgYmax                7305\n",
       "Intersection             9\n",
       "Included_Center          2\n",
       "Intersection_Area     8474\n",
       "Hg_Area               7306\n",
       "Distance             18512\n",
       "Ground_Truth             3\n",
       "GT                       3\n",
       "dtype: int64"
      ]
     },
     "execution_count": 50,
     "metadata": {},
     "output_type": "execute_result"
    }
   ],
   "source": [
    "df.nunique()"
   ]
  },
  {
   "cell_type": "code",
   "execution_count": 51,
   "id": "86b0f52d",
   "metadata": {
    "scrolled": false
   },
   "outputs": [
    {
     "data": {
      "text/plain": [
       "0    15955\n",
       "1     2250\n",
       "2      307\n",
       "Name: Ground_Truth, dtype: int64"
      ]
     },
     "execution_count": 51,
     "metadata": {},
     "output_type": "execute_result"
    }
   ],
   "source": [
    "df['Ground_Truth'].value_counts()"
   ]
  },
  {
   "cell_type": "code",
   "execution_count": 52,
   "id": "732110e8",
   "metadata": {
    "scrolled": false
   },
   "outputs": [
    {
     "data": {
      "text/html": [
       "<div>\n",
       "<style scoped>\n",
       "    .dataframe tbody tr th:only-of-type {\n",
       "        vertical-align: middle;\n",
       "    }\n",
       "\n",
       "    .dataframe tbody tr th {\n",
       "        vertical-align: top;\n",
       "    }\n",
       "\n",
       "    .dataframe thead th {\n",
       "        text-align: right;\n",
       "    }\n",
       "</style>\n",
       "<table border=\"1\" class=\"dataframe\">\n",
       "  <thead>\n",
       "    <tr style=\"text-align: right;\">\n",
       "      <th></th>\n",
       "      <th>Frame</th>\n",
       "      <th>N_Person</th>\n",
       "      <th>Xcenter</th>\n",
       "      <th>Ycenter</th>\n",
       "      <th>PerXmin</th>\n",
       "      <th>PerYmin</th>\n",
       "      <th>PerXmax</th>\n",
       "      <th>PerYmax</th>\n",
       "      <th>N_Handgun</th>\n",
       "      <th>HgXcenter</th>\n",
       "      <th>...</th>\n",
       "      <th>GT</th>\n",
       "      <th>Intersection_Center_left</th>\n",
       "      <th>Intersection_Center_right</th>\n",
       "      <th>Intersection_Down_center</th>\n",
       "      <th>Intersection_Down_left</th>\n",
       "      <th>Intersection_Inside</th>\n",
       "      <th>Intersection_No_intersection</th>\n",
       "      <th>Intersection_Up_center</th>\n",
       "      <th>Intersection_Up_left</th>\n",
       "      <th>Intersection_Up_right</th>\n",
       "    </tr>\n",
       "  </thead>\n",
       "  <tbody>\n",
       "    <tr>\n",
       "      <th>0</th>\n",
       "      <td>0</td>\n",
       "      <td>0</td>\n",
       "      <td>474.999451</td>\n",
       "      <td>309.582947</td>\n",
       "      <td>395.377251</td>\n",
       "      <td>156.402725</td>\n",
       "      <td>554.621651</td>\n",
       "      <td>462.763168</td>\n",
       "      <td>0</td>\n",
       "      <td>409.881988</td>\n",
       "      <td>...</td>\n",
       "      <td>GBC</td>\n",
       "      <td>1</td>\n",
       "      <td>0</td>\n",
       "      <td>0</td>\n",
       "      <td>0</td>\n",
       "      <td>0</td>\n",
       "      <td>0</td>\n",
       "      <td>0</td>\n",
       "      <td>0</td>\n",
       "      <td>0</td>\n",
       "    </tr>\n",
       "    <tr>\n",
       "      <th>1</th>\n",
       "      <td>1</td>\n",
       "      <td>0</td>\n",
       "      <td>474.938843</td>\n",
       "      <td>309.623566</td>\n",
       "      <td>395.161308</td>\n",
       "      <td>156.591705</td>\n",
       "      <td>554.716377</td>\n",
       "      <td>462.655426</td>\n",
       "      <td>0</td>\n",
       "      <td>409.638031</td>\n",
       "      <td>...</td>\n",
       "      <td>GBC</td>\n",
       "      <td>1</td>\n",
       "      <td>0</td>\n",
       "      <td>0</td>\n",
       "      <td>0</td>\n",
       "      <td>0</td>\n",
       "      <td>0</td>\n",
       "      <td>0</td>\n",
       "      <td>0</td>\n",
       "      <td>0</td>\n",
       "    </tr>\n",
       "    <tr>\n",
       "      <th>2</th>\n",
       "      <td>2</td>\n",
       "      <td>0</td>\n",
       "      <td>475.070465</td>\n",
       "      <td>309.475372</td>\n",
       "      <td>395.484291</td>\n",
       "      <td>156.138077</td>\n",
       "      <td>554.656639</td>\n",
       "      <td>462.812668</td>\n",
       "      <td>0</td>\n",
       "      <td>409.610718</td>\n",
       "      <td>...</td>\n",
       "      <td>GBC</td>\n",
       "      <td>1</td>\n",
       "      <td>0</td>\n",
       "      <td>0</td>\n",
       "      <td>0</td>\n",
       "      <td>0</td>\n",
       "      <td>0</td>\n",
       "      <td>0</td>\n",
       "      <td>0</td>\n",
       "      <td>0</td>\n",
       "    </tr>\n",
       "    <tr>\n",
       "      <th>3</th>\n",
       "      <td>3</td>\n",
       "      <td>0</td>\n",
       "      <td>476.837311</td>\n",
       "      <td>308.901245</td>\n",
       "      <td>399.288238</td>\n",
       "      <td>154.448364</td>\n",
       "      <td>554.386383</td>\n",
       "      <td>463.354126</td>\n",
       "      <td>0</td>\n",
       "      <td>408.519043</td>\n",
       "      <td>...</td>\n",
       "      <td>GBC</td>\n",
       "      <td>1</td>\n",
       "      <td>0</td>\n",
       "      <td>0</td>\n",
       "      <td>0</td>\n",
       "      <td>0</td>\n",
       "      <td>0</td>\n",
       "      <td>0</td>\n",
       "      <td>0</td>\n",
       "      <td>0</td>\n",
       "    </tr>\n",
       "    <tr>\n",
       "      <th>4</th>\n",
       "      <td>4</td>\n",
       "      <td>0</td>\n",
       "      <td>476.918640</td>\n",
       "      <td>308.815064</td>\n",
       "      <td>399.598404</td>\n",
       "      <td>154.249756</td>\n",
       "      <td>554.238876</td>\n",
       "      <td>463.380371</td>\n",
       "      <td>0</td>\n",
       "      <td>408.613525</td>\n",
       "      <td>...</td>\n",
       "      <td>GBC</td>\n",
       "      <td>1</td>\n",
       "      <td>0</td>\n",
       "      <td>0</td>\n",
       "      <td>0</td>\n",
       "      <td>0</td>\n",
       "      <td>0</td>\n",
       "      <td>0</td>\n",
       "      <td>0</td>\n",
       "      <td>0</td>\n",
       "    </tr>\n",
       "  </tbody>\n",
       "</table>\n",
       "<p>5 rows × 30 columns</p>\n",
       "</div>"
      ],
      "text/plain": [
       "   Frame  N_Person     Xcenter     Ycenter     PerXmin     PerYmin  \\\n",
       "0      0         0  474.999451  309.582947  395.377251  156.402725   \n",
       "1      1         0  474.938843  309.623566  395.161308  156.591705   \n",
       "2      2         0  475.070465  309.475372  395.484291  156.138077   \n",
       "3      3         0  476.837311  308.901245  399.288238  154.448364   \n",
       "4      4         0  476.918640  308.815064  399.598404  154.249756   \n",
       "\n",
       "      PerXmax     PerYmax  N_Handgun   HgXcenter  ...   GT  \\\n",
       "0  554.621651  462.763168          0  409.881988  ...  GBC   \n",
       "1  554.716377  462.655426          0  409.638031  ...  GBC   \n",
       "2  554.656639  462.812668          0  409.610718  ...  GBC   \n",
       "3  554.386383  463.354126          0  408.519043  ...  GBC   \n",
       "4  554.238876  463.380371          0  408.613525  ...  GBC   \n",
       "\n",
       "   Intersection_Center_left  Intersection_Center_right  \\\n",
       "0                         1                          0   \n",
       "1                         1                          0   \n",
       "2                         1                          0   \n",
       "3                         1                          0   \n",
       "4                         1                          0   \n",
       "\n",
       "   Intersection_Down_center  Intersection_Down_left  Intersection_Inside  \\\n",
       "0                         0                       0                    0   \n",
       "1                         0                       0                    0   \n",
       "2                         0                       0                    0   \n",
       "3                         0                       0                    0   \n",
       "4                         0                       0                    0   \n",
       "\n",
       "   Intersection_No_intersection  Intersection_Up_center  Intersection_Up_left  \\\n",
       "0                             0                       0                     0   \n",
       "1                             0                       0                     0   \n",
       "2                             0                       0                     0   \n",
       "3                             0                       0                     0   \n",
       "4                             0                       0                     0   \n",
       "\n",
       "   Intersection_Up_right  \n",
       "0                      0  \n",
       "1                      0  \n",
       "2                      0  \n",
       "3                      0  \n",
       "4                      0  \n",
       "\n",
       "[5 rows x 30 columns]"
      ]
     },
     "execution_count": 52,
     "metadata": {},
     "output_type": "execute_result"
    }
   ],
   "source": [
    "df2 = pd.get_dummies(df,columns=['Intersection'])\n",
    "df2.head()"
   ]
  },
  {
   "cell_type": "code",
   "execution_count": 53,
   "id": "a246c9a2",
   "metadata": {
    "scrolled": true
   },
   "outputs": [
    {
     "name": "stdout",
     "output_type": "stream",
     "text": [
      "<class 'pandas.core.frame.DataFrame'>\n",
      "RangeIndex: 18512 entries, 0 to 18511\n",
      "Data columns (total 30 columns):\n",
      " #   Column                        Non-Null Count  Dtype  \n",
      "---  ------                        --------------  -----  \n",
      " 0   Frame                         18512 non-null  int64  \n",
      " 1   N_Person                      18512 non-null  int64  \n",
      " 2   Xcenter                       18512 non-null  float64\n",
      " 3   Ycenter                       18512 non-null  float64\n",
      " 4   PerXmin                       18512 non-null  float64\n",
      " 5   PerYmin                       18512 non-null  float64\n",
      " 6   PerXmax                       18512 non-null  float64\n",
      " 7   PerYmax                       18512 non-null  float64\n",
      " 8   N_Handgun                     18512 non-null  int64  \n",
      " 9   HgXcenter                     18512 non-null  float64\n",
      " 10  HgYcenter                     18512 non-null  float64\n",
      " 11  HgXmin                        18512 non-null  float64\n",
      " 12  HgYmin                        18512 non-null  float64\n",
      " 13  HgXmax                        18512 non-null  float64\n",
      " 14  HgYmax                        18512 non-null  float64\n",
      " 15  Included_Center               18512 non-null  int64  \n",
      " 16  Intersection_Area             18512 non-null  float64\n",
      " 17  Hg_Area                       18512 non-null  float64\n",
      " 18  Distance                      18512 non-null  float64\n",
      " 19  Ground_Truth                  18512 non-null  int64  \n",
      " 20  GT                            18512 non-null  object \n",
      " 21  Intersection_Center_left      18512 non-null  uint8  \n",
      " 22  Intersection_Center_right     18512 non-null  uint8  \n",
      " 23  Intersection_Down_center      18512 non-null  uint8  \n",
      " 24  Intersection_Down_left        18512 non-null  uint8  \n",
      " 25  Intersection_Inside           18512 non-null  uint8  \n",
      " 26  Intersection_No_intersection  18512 non-null  uint8  \n",
      " 27  Intersection_Up_center        18512 non-null  uint8  \n",
      " 28  Intersection_Up_left          18512 non-null  uint8  \n",
      " 29  Intersection_Up_right         18512 non-null  uint8  \n",
      "dtypes: float64(15), int64(5), object(1), uint8(9)\n",
      "memory usage: 3.1+ MB\n"
     ]
    }
   ],
   "source": [
    "df2.info()"
   ]
  },
  {
   "cell_type": "markdown",
   "id": "49376aaf",
   "metadata": {},
   "source": [
    "# Random Forest \n",
    "## Todos los predictores"
   ]
  },
  {
   "cell_type": "code",
   "execution_count": 54,
   "id": "a8376980",
   "metadata": {
    "scrolled": true
   },
   "outputs": [
    {
     "name": "stdout",
     "output_type": "stream",
     "text": [
      "{1: 'GBC', 0: 'MLP', 2: 'SVM'}\n"
     ]
    }
   ],
   "source": [
    "pred = dict(zip(df2.Ground_Truth.unique(),df2.GT.unique()))\n",
    "print(pred)"
   ]
  },
  {
   "cell_type": "code",
   "execution_count": 55,
   "id": "7e893d55",
   "metadata": {
    "scrolled": false
   },
   "outputs": [
    {
     "name": "stdout",
     "output_type": "stream",
     "text": [
      "0    15955\n",
      "1     2250\n",
      "2      307\n",
      "Name: Ground_Truth, dtype: int64\n"
     ]
    }
   ],
   "source": [
    "print(df2['Ground_Truth'].value_counts())"
   ]
  },
  {
   "cell_type": "code",
   "execution_count": 56,
   "id": "e0a1da1a",
   "metadata": {
    "scrolled": true
   },
   "outputs": [],
   "source": [
    "df3 = df2.drop(columns=[\"GT\"])"
   ]
  },
  {
   "cell_type": "code",
   "execution_count": 57,
   "id": "b88b8d0f",
   "metadata": {
    "scrolled": false
   },
   "outputs": [
    {
     "name": "stdout",
     "output_type": "stream",
     "text": [
      "<class 'pandas.core.frame.DataFrame'>\n",
      "RangeIndex: 18512 entries, 0 to 18511\n",
      "Data columns (total 29 columns):\n",
      " #   Column                        Non-Null Count  Dtype  \n",
      "---  ------                        --------------  -----  \n",
      " 0   Frame                         18512 non-null  int64  \n",
      " 1   N_Person                      18512 non-null  int64  \n",
      " 2   Xcenter                       18512 non-null  float64\n",
      " 3   Ycenter                       18512 non-null  float64\n",
      " 4   PerXmin                       18512 non-null  float64\n",
      " 5   PerYmin                       18512 non-null  float64\n",
      " 6   PerXmax                       18512 non-null  float64\n",
      " 7   PerYmax                       18512 non-null  float64\n",
      " 8   N_Handgun                     18512 non-null  int64  \n",
      " 9   HgXcenter                     18512 non-null  float64\n",
      " 10  HgYcenter                     18512 non-null  float64\n",
      " 11  HgXmin                        18512 non-null  float64\n",
      " 12  HgYmin                        18512 non-null  float64\n",
      " 13  HgXmax                        18512 non-null  float64\n",
      " 14  HgYmax                        18512 non-null  float64\n",
      " 15  Included_Center               18512 non-null  int64  \n",
      " 16  Intersection_Area             18512 non-null  float64\n",
      " 17  Hg_Area                       18512 non-null  float64\n",
      " 18  Distance                      18512 non-null  float64\n",
      " 19  Ground_Truth                  18512 non-null  int64  \n",
      " 20  Intersection_Center_left      18512 non-null  uint8  \n",
      " 21  Intersection_Center_right     18512 non-null  uint8  \n",
      " 22  Intersection_Down_center      18512 non-null  uint8  \n",
      " 23  Intersection_Down_left        18512 non-null  uint8  \n",
      " 24  Intersection_Inside           18512 non-null  uint8  \n",
      " 25  Intersection_No_intersection  18512 non-null  uint8  \n",
      " 26  Intersection_Up_center        18512 non-null  uint8  \n",
      " 27  Intersection_Up_left          18512 non-null  uint8  \n",
      " 28  Intersection_Up_right         18512 non-null  uint8  \n",
      "dtypes: float64(15), int64(5), uint8(9)\n",
      "memory usage: 3.0 MB\n"
     ]
    }
   ],
   "source": [
    "df3.info()"
   ]
  },
  {
   "cell_type": "code",
   "execution_count": 58,
   "id": "c1daddd3",
   "metadata": {},
   "outputs": [
    {
     "name": "stdout",
     "output_type": "stream",
     "text": [
      "(14809, 28) (14809,)\n",
      "(3703, 28) (3703,)\n"
     ]
    }
   ],
   "source": [
    "from sklearn.model_selection import train_test_split\n",
    "\n",
    "train_df, test_df = train_test_split(df3, test_size=0.2, random_state=123)\n",
    "X_train, y_train = train_df.drop(columns=[\"Ground_Truth\"], axis=1), train_df[\"Ground_Truth\"]\n",
    "X_test, y_test = test_df.drop(columns=[\"Ground_Truth\"], axis=1), test_df[\"Ground_Truth\"]\n",
    "\n",
    "print(X_train.shape, y_train.shape)\n",
    "print(X_test.shape, y_test.shape)"
   ]
  },
  {
   "cell_type": "code",
   "execution_count": 61,
   "id": "81e31bc9",
   "metadata": {
    "scrolled": false
   },
   "outputs": [
    {
     "name": "stdout",
     "output_type": "stream",
     "text": [
      "mean_train =  0.8901193326756767\n",
      "mean_test =  0.8883792908370897\n"
     ]
    },
    {
     "data": {
      "text/html": [
       "<div>\n",
       "<style scoped>\n",
       "    .dataframe tbody tr th:only-of-type {\n",
       "        vertical-align: middle;\n",
       "    }\n",
       "\n",
       "    .dataframe tbody tr th {\n",
       "        vertical-align: top;\n",
       "    }\n",
       "\n",
       "    .dataframe thead th {\n",
       "        text-align: right;\n",
       "    }\n",
       "</style>\n",
       "<table border=\"1\" class=\"dataframe\">\n",
       "  <thead>\n",
       "    <tr style=\"text-align: right;\">\n",
       "      <th></th>\n",
       "      <th>fit_time</th>\n",
       "      <th>score_time</th>\n",
       "      <th>test_score</th>\n",
       "      <th>train_score</th>\n",
       "    </tr>\n",
       "  </thead>\n",
       "  <tbody>\n",
       "    <tr>\n",
       "      <th>0</th>\n",
       "      <td>0.155589</td>\n",
       "      <td>0.009968</td>\n",
       "      <td>0.892640</td>\n",
       "      <td>0.897959</td>\n",
       "    </tr>\n",
       "    <tr>\n",
       "      <th>1</th>\n",
       "      <td>0.153545</td>\n",
       "      <td>0.006983</td>\n",
       "      <td>0.892640</td>\n",
       "      <td>0.888956</td>\n",
       "    </tr>\n",
       "    <tr>\n",
       "      <th>2</th>\n",
       "      <td>0.137619</td>\n",
       "      <td>0.003989</td>\n",
       "      <td>0.896016</td>\n",
       "      <td>0.887980</td>\n",
       "    </tr>\n",
       "    <tr>\n",
       "      <th>3</th>\n",
       "      <td>0.133351</td>\n",
       "      <td>0.003990</td>\n",
       "      <td>0.885213</td>\n",
       "      <td>0.889181</td>\n",
       "    </tr>\n",
       "    <tr>\n",
       "      <th>4</th>\n",
       "      <td>0.133754</td>\n",
       "      <td>0.003989</td>\n",
       "      <td>0.878460</td>\n",
       "      <td>0.885354</td>\n",
       "    </tr>\n",
       "    <tr>\n",
       "      <th>5</th>\n",
       "      <td>0.155221</td>\n",
       "      <td>0.004061</td>\n",
       "      <td>0.886563</td>\n",
       "      <td>0.883553</td>\n",
       "    </tr>\n",
       "    <tr>\n",
       "      <th>6</th>\n",
       "      <td>0.158532</td>\n",
       "      <td>0.010973</td>\n",
       "      <td>0.882512</td>\n",
       "      <td>0.893157</td>\n",
       "    </tr>\n",
       "    <tr>\n",
       "      <th>7</th>\n",
       "      <td>0.153441</td>\n",
       "      <td>0.005000</td>\n",
       "      <td>0.884537</td>\n",
       "      <td>0.887680</td>\n",
       "    </tr>\n",
       "    <tr>\n",
       "      <th>8</th>\n",
       "      <td>0.140565</td>\n",
       "      <td>0.004000</td>\n",
       "      <td>0.887914</td>\n",
       "      <td>0.892032</td>\n",
       "    </tr>\n",
       "    <tr>\n",
       "      <th>9</th>\n",
       "      <td>0.139628</td>\n",
       "      <td>0.002992</td>\n",
       "      <td>0.897297</td>\n",
       "      <td>0.895341</td>\n",
       "    </tr>\n",
       "  </tbody>\n",
       "</table>\n",
       "</div>"
      ],
      "text/plain": [
       "   fit_time  score_time  test_score  train_score\n",
       "0  0.155589    0.009968    0.892640     0.897959\n",
       "1  0.153545    0.006983    0.892640     0.888956\n",
       "2  0.137619    0.003989    0.896016     0.887980\n",
       "3  0.133351    0.003990    0.885213     0.889181\n",
       "4  0.133754    0.003989    0.878460     0.885354\n",
       "5  0.155221    0.004061    0.886563     0.883553\n",
       "6  0.158532    0.010973    0.882512     0.893157\n",
       "7  0.153441    0.005000    0.884537     0.887680\n",
       "8  0.140565    0.004000    0.887914     0.892032\n",
       "9  0.139628    0.002992    0.897297     0.895341"
      ]
     },
     "execution_count": 61,
     "metadata": {},
     "output_type": "execute_result"
    }
   ],
   "source": [
    "from sklearn.ensemble import RandomForestClassifier\n",
    "from sklearn.model_selection import cross_validate\n",
    "\n",
    "clf = RandomForestClassifier(n_estimators=10, max_depth=4, random_state=0)\n",
    "y_pred = clf.fit(X_train, y_train).predict(X_test)\n",
    "scores = pd.DataFrame(cross_validate(clf, X_train, y_train, cv=10, return_train_score=True))\n",
    "print(\"mean_train = \", scores['train_score'].mean())\n",
    "print(\"mean_test = \", scores['test_score'].mean())\n",
    "scores"
   ]
  },
  {
   "cell_type": "code",
   "execution_count": 63,
   "id": "803a6a17",
   "metadata": {
    "scrolled": true
   },
   "outputs": [
    {
     "name": "stdout",
     "output_type": "stream",
     "text": [
      "                         feature  importance       std\n",
      "25        Intersection_Up_center    0.000000  0.000000\n",
      "22        Intersection_Down_left    0.000000  0.000000\n",
      "21      Intersection_Down_center    0.000000  0.000000\n",
      "26          Intersection_Up_left    0.000000  0.000000\n",
      "27         Intersection_Up_right    0.001452  0.004355\n",
      "15               Included_Center    0.002055  0.005724\n",
      "24  Intersection_No_intersection    0.002817  0.008451\n",
      "19      Intersection_Center_left    0.003988  0.008225\n",
      "23           Intersection_Inside    0.009491  0.025566\n",
      "13                        HgXmax    0.010872  0.014754\n",
      "11                        HgXmin    0.011632  0.021608\n",
      "8                      N_Handgun    0.014058  0.029596\n",
      "9                      HgXcenter    0.017374  0.020251\n",
      "20     Intersection_Center_right    0.021280  0.042669\n",
      "18                      Distance    0.026141  0.026314\n",
      "1                       N_Person    0.026150  0.041580\n",
      "17                       Hg_Area    0.029163  0.056392\n",
      "4                        PerXmin    0.029622  0.068760\n",
      "6                        PerXmax    0.052087  0.068112\n",
      "16             Intersection_Area    0.054264  0.068398\n",
      "2                        Xcenter    0.055343  0.056387\n",
      "7                        PerYmax    0.057009  0.085506\n",
      "3                        Ycenter    0.061952  0.073325\n",
      "0                          Frame    0.072577  0.073343\n",
      "14                        HgYmax    0.073637  0.108766\n",
      "12                        HgYmin    0.093283  0.116953\n",
      "10                     HgYcenter    0.130827  0.142015\n",
      "5                        PerYmin    0.142926  0.112461\n"
     ]
    },
    {
     "data": {
      "image/png": "[encoded data removed]",
      "text/plain": [
       "<Figure size 800x600 with 1 Axes>"
      ]
     },
     "metadata": {},
     "output_type": "display_data"
    }
   ],
   "source": [
    "clf.fit(X_train.values, y_train.values)\n",
    "predictions=clf.predict(X_test.values)\n",
    "#Le agrego .values para solucionar el problema:\n",
    "#C:\\ProgramData\\Anaconda3\\lib\\site-packages\\sklearn\\base.py:450: UserWarning: X does not have valid feature names, but RandomForestClassifier was fitted with feature names\n",
    "#https://stackoverflow.com/questions/69326639/sklearn-warning-valid-feature-names-in-version-1-0\n",
    "\n",
    "importances = clf.feature_importances_\n",
    "std = np.std([tree.feature_importances_ for tree in clf.estimators_], axis=0)\n",
    "\n",
    "df = pd.DataFrame({'feature': X_train.columns, 'importance': importances, 'std': std})\n",
    "df = df.sort_values('importance')\n",
    "print(df)\n",
    "\n",
    "ax = df.plot(figsize=(8,6),kind='barh', xerr='std', x='feature', legend=False)\n",
    "ax.set_ylabel('')\n",
    "\n",
    "plt.tight_layout()\n",
    "plt.show()"
   ]
  },
  {
   "cell_type": "code",
   "execution_count": 64,
   "id": "4cd43a0d",
   "metadata": {
    "scrolled": true
   },
   "outputs": [
    {
     "name": "stdout",
     "output_type": "stream",
     "text": [
      "              precision    recall  f1-score   support\n",
      "\n",
      "           0       0.90      1.00      0.94      3222\n",
      "           1       0.97      0.25      0.40       426\n",
      "           2       0.00      0.00      0.00        55\n",
      "\n",
      "    accuracy                           0.90      3703\n",
      "   macro avg       0.62      0.42      0.45      3703\n",
      "weighted avg       0.89      0.90      0.87      3703\n",
      "\n"
     ]
    },
    {
     "name": "stderr",
     "output_type": "stream",
     "text": [
      "C:\\Users\\ALONSO\\anaconda3\\lib\\site-packages\\sklearn\\metrics\\_classification.py:1327: UndefinedMetricWarning: Precision and F-score are ill-defined and being set to 0.0 in labels with no predicted samples. Use `zero_division` parameter to control this behavior.\n",
      "  _warn_prf(average, modifier, msg_start, len(result))\n",
      "C:\\Users\\ALONSO\\anaconda3\\lib\\site-packages\\sklearn\\metrics\\_classification.py:1327: UndefinedMetricWarning: Precision and F-score are ill-defined and being set to 0.0 in labels with no predicted samples. Use `zero_division` parameter to control this behavior.\n",
      "  _warn_prf(average, modifier, msg_start, len(result))\n",
      "C:\\Users\\ALONSO\\anaconda3\\lib\\site-packages\\sklearn\\metrics\\_classification.py:1327: UndefinedMetricWarning: Precision and F-score are ill-defined and being set to 0.0 in labels with no predicted samples. Use `zero_division` parameter to control this behavior.\n",
      "  _warn_prf(average, modifier, msg_start, len(result))\n"
     ]
    }
   ],
   "source": [
    "from sklearn.metrics import classification_report\n",
    "print(classification_report(y_test,predictions))"
   ]
  },
  {
   "cell_type": "code",
   "execution_count": 65,
   "id": "eefab3e6",
   "metadata": {},
   "outputs": [
    {
     "name": "stdout",
     "output_type": "stream",
     "text": [
      "Score train =  0.8981906562246826\n"
     ]
    }
   ],
   "source": [
    "from sklearn.metrics import accuracy_score\n",
    "print(\"Score test = \", accuracy_score(y_test,predictions))"
   ]
  },
  {
   "cell_type": "code",
   "execution_count": 66,
   "id": "15add96b",
   "metadata": {},
   "outputs": [
    {
     "name": "stderr",
     "output_type": "stream",
     "text": [
      "C:\\Users\\ALONSO\\anaconda3\\lib\\site-packages\\sklearn\\metrics\\_classification.py:1327: UndefinedMetricWarning: Precision is ill-defined and being set to 0.0 in labels with no predicted samples. Use `zero_division` parameter to control this behavior.\n",
      "  _warn_prf(average, modifier, msg_start, len(result))\n"
     ]
    },
    {
     "data": {
      "text/plain": [
       "0.6228786613701727"
      ]
     },
     "execution_count": 66,
     "metadata": {},
     "output_type": "execute_result"
    }
   ],
   "source": [
    "from sklearn.metrics import precision_score\n",
    "precision_score(y_test,predictions, average='macro')"
   ]
  },
  {
   "cell_type": "code",
   "execution_count": 67,
   "id": "6e603321",
   "metadata": {},
   "outputs": [
    {
     "data": {
      "text/plain": [
       "0.41674753674124204"
      ]
     },
     "execution_count": 67,
     "metadata": {},
     "output_type": "execute_result"
    }
   ],
   "source": [
    "from sklearn.metrics import recall_score\n",
    "recall_score(y_test,predictions, average='macro')"
   ]
  },
  {
   "cell_type": "code",
   "execution_count": 68,
   "id": "1dbb8a93",
   "metadata": {},
   "outputs": [
    {
     "data": {
      "text/plain": [
       "0.44797819413570444"
      ]
     },
     "execution_count": 68,
     "metadata": {},
     "output_type": "execute_result"
    }
   ],
   "source": [
    "from sklearn.metrics import f1_score\n",
    "f1_score(y_test,predictions, average='macro')"
   ]
  },
  {
   "cell_type": "code",
   "execution_count": 20,
   "id": "b638c813",
   "metadata": {},
   "outputs": [],
   "source": [
    "# save the model to disk\n",
    "filename = 'rfc_model_intersection.sav'\n",
    "pickle.dump(clf, open(filename, 'wb')) "
   ]
  },
  {
   "cell_type": "markdown",
   "id": "a98ecc7b",
   "metadata": {},
   "source": [
    "# Redes Neuronales - Todos los predictores"
   ]
  },
  {
   "cell_type": "code",
   "execution_count": 21,
   "id": "05a611fa",
   "metadata": {
    "scrolled": true
   },
   "outputs": [],
   "source": [
    "X = df3.drop('Ground_Truth',axis='columns')\n",
    "y = df3.Ground_Truth"
   ]
  },
  {
   "cell_type": "code",
   "execution_count": 22,
   "id": "e6473e29",
   "metadata": {
    "scrolled": true
   },
   "outputs": [
    {
     "name": "stdout",
     "output_type": "stream",
     "text": [
      "<class 'pandas.core.frame.DataFrame'>\n",
      "RangeIndex: 18512 entries, 0 to 18511\n",
      "Data columns (total 28 columns):\n",
      " #   Column                        Non-Null Count  Dtype  \n",
      "---  ------                        --------------  -----  \n",
      " 0   Frame                         18512 non-null  int64  \n",
      " 1   N_Person                      18512 non-null  int64  \n",
      " 2   Xcenter                       18512 non-null  float64\n",
      " 3   Ycenter                       18512 non-null  float64\n",
      " 4   PerXmin                       18512 non-null  float64\n",
      " 5   PerYmin                       18512 non-null  float64\n",
      " 6   PerXmax                       18512 non-null  float64\n",
      " 7   PerYmax                       18512 non-null  float64\n",
      " 8   N_Handgun                     18512 non-null  int64  \n",
      " 9   HgXcenter                     18512 non-null  float64\n",
      " 10  HgYcenter                     18512 non-null  float64\n",
      " 11  HgXmin                        18512 non-null  float64\n",
      " 12  HgYmin                        18512 non-null  float64\n",
      " 13  HgXmax                        18512 non-null  float64\n",
      " 14  HgYmax                        18512 non-null  float64\n",
      " 15  Included_Center               18512 non-null  int64  \n",
      " 16  Intersection_Area             18512 non-null  float64\n",
      " 17  Hg_Area                       18512 non-null  float64\n",
      " 18  Distance                      18512 non-null  float64\n",
      " 19  Intersection_Center_left      18512 non-null  uint8  \n",
      " 20  Intersection_Center_right     18512 non-null  uint8  \n",
      " 21  Intersection_Down_center      18512 non-null  uint8  \n",
      " 22  Intersection_Down_left        18512 non-null  uint8  \n",
      " 23  Intersection_Inside           18512 non-null  uint8  \n",
      " 24  Intersection_No_intersection  18512 non-null  uint8  \n",
      " 25  Intersection_Up_center        18512 non-null  uint8  \n",
      " 26  Intersection_Up_left          18512 non-null  uint8  \n",
      " 27  Intersection_Up_right         18512 non-null  uint8  \n",
      "dtypes: float64(15), int64(4), uint8(9)\n",
      "memory usage: 2.8 MB\n"
     ]
    }
   ],
   "source": [
    "X.info()"
   ]
  },
  {
   "cell_type": "code",
   "execution_count": 23,
   "id": "69009579",
   "metadata": {
    "scrolled": true
   },
   "outputs": [
    {
     "data": {
      "text/plain": [
       "array([[-1.86611178, -1.00640658,  0.38620049, -1.05671043,  0.40759683,\n",
       "        -0.80034181,  0.34912188, -1.42496035, -0.49676412,  0.6459943 ,\n",
       "        -1.25678889,  0.69876439, -1.17546134,  0.59183179, -1.33345098,\n",
       "         1.17410276, -0.05200918, -0.63079265, -0.6965104 ,  2.6675342 ,\n",
       "        -0.2810276 , -0.01800609, -0.0103947 , -0.53921649, -1.08435903,\n",
       "        -0.11981721, -0.06160912, -0.14122643],\n",
       "       [-1.86394078, -1.00640658,  0.38591474, -1.05612058,  0.40661467,\n",
       "        -0.79865409,  0.34956752, -1.42770591, -0.49676412,  0.64440066,\n",
       "        -1.25764222,  0.69576513, -1.17611191,  0.59163104, -1.33450901,\n",
       "         1.17410276, -0.04959585, -0.62491426, -0.6950817 ,  2.6675342 ,\n",
       "        -0.2810276 , -0.01800609, -0.0103947 , -0.53921649, -1.08435903,\n",
       "        -0.11981721, -0.06160912, -0.14122643],\n",
       "       [-1.86176978, -1.00640658,  0.3865353 , -1.0582726 ,  0.40808368,\n",
       "        -0.80270531,  0.34928648, -1.42369897, -0.49676412,  0.64422224,\n",
       "        -1.25905502,  0.6956758 , -1.17731017,  0.59136523, -1.33613539,\n",
       "         1.17410276, -0.05633493, -0.62598728, -0.69459554,  2.6675342 ,\n",
       "        -0.2810276 , -0.01800609, -0.0103947 , -0.53921649, -1.08435903,\n",
       "        -0.11981721, -0.06160912, -0.14122643]])"
      ]
     },
     "execution_count": 23,
     "metadata": {},
     "output_type": "execute_result"
    }
   ],
   "source": [
    "from sklearn.preprocessing import StandardScaler\n",
    "scaler = StandardScaler()\n",
    "X_scaled = scaler.fit_transform(X)\n",
    "X_scaled[:3]\n",
    "#X_scaled.shape"
   ]
  },
  {
   "cell_type": "code",
   "execution_count": 24,
   "id": "452d05da",
   "metadata": {
    "scrolled": false
   },
   "outputs": [
    {
     "name": "stdout",
     "output_type": "stream",
     "text": [
      "[8.59563202e+02 8.79807692e-01 3.93086265e+02 3.82350806e+02\n",
      " 3.05761672e+02 2.46019627e+02 4.80410857e+02 5.18681985e+02\n",
      " 2.98347018e-01 3.10991858e+02 3.12347984e+02 2.87607708e+02\n",
      " 2.92795352e+02 3.34376009e+02 3.31900615e+02 4.20429991e-01\n",
      " 9.31724565e+02 2.02814656e+03 2.31838166e+02 1.23217373e-01\n",
      " 7.31957649e-02 3.24114088e-04 1.08038029e-04 2.25259291e-01\n",
      " 5.40406223e-01 1.41529818e-02 3.78133103e-03 1.95548833e-02]\n"
     ]
    }
   ],
   "source": [
    "print(scaler.mean_)"
   ]
  },
  {
   "cell_type": "code",
   "execution_count": 25,
   "id": "792e3581",
   "metadata": {
    "scrolled": true
   },
   "outputs": [
    {
     "name": "stdout",
     "output_type": "stream",
     "text": [
      "[4.60617210e+02 8.74207016e-01 2.12100162e+02 6.88626293e+01\n",
      " 2.19863285e+02 1.11973285e+02 2.12564143e+02 3.92423666e+01\n",
      " 6.00580847e-01 1.53082048e+02 9.73115103e+01 1.52349871e+02\n",
      " 9.92629631e+01 1.54306673e+02 9.59317416e+01 4.93628011e-01\n",
      " 1.66892407e+03 1.81777378e+03 1.37424040e+02 3.28686555e-01\n",
      " 2.60457568e-01 1.80002511e-02 1.03935729e-02 4.17752969e-01\n",
      " 4.98364663e-01 1.18121442e-01 6.13761563e-02 1.38464760e-01]\n"
     ]
    }
   ],
   "source": [
    "print(scaler.scale_)"
   ]
  },
  {
   "cell_type": "code",
   "execution_count": 26,
   "id": "0f8c7a7e",
   "metadata": {},
   "outputs": [],
   "source": [
    "from sklearn.model_selection import  train_test_split\n",
    "X_train, X_test, y_train, y_test = train_test_split(X_scaled, y, stratify=y, random_state=10) #stratify hace que el ratio entre 0 y 1 se mantenga en la distri. entre el test(y). "
   ]
  },
  {
   "cell_type": "code",
   "execution_count": 27,
   "id": "89c11ff0",
   "metadata": {},
   "outputs": [
    {
     "data": {
      "text/plain": [
       "(13884, 28)"
      ]
     },
     "execution_count": 27,
     "metadata": {},
     "output_type": "execute_result"
    }
   ],
   "source": [
    "X_train.shape"
   ]
  },
  {
   "cell_type": "code",
   "execution_count": 28,
   "id": "809f7a45",
   "metadata": {
    "scrolled": true
   },
   "outputs": [
    {
     "data": {
      "text/plain": [
       "0    11966\n",
       "1     1688\n",
       "2      230\n",
       "Name: Ground_Truth, dtype: int64"
      ]
     },
     "execution_count": 28,
     "metadata": {},
     "output_type": "execute_result"
    }
   ],
   "source": [
    "y_train.value_counts()"
   ]
  },
  {
   "cell_type": "code",
   "execution_count": 29,
   "id": "87692498",
   "metadata": {},
   "outputs": [
    {
     "data": {
      "text/plain": [
       "(4628, 28)"
      ]
     },
     "execution_count": 29,
     "metadata": {},
     "output_type": "execute_result"
    }
   ],
   "source": [
    "X_test.shape"
   ]
  },
  {
   "cell_type": "code",
   "execution_count": 30,
   "id": "37e3175e",
   "metadata": {
    "scrolled": false
   },
   "outputs": [
    {
     "data": {
      "text/plain": [
       "0    3989\n",
       "1     562\n",
       "2      77\n",
       "Name: Ground_Truth, dtype: int64"
      ]
     },
     "execution_count": 30,
     "metadata": {},
     "output_type": "execute_result"
    }
   ],
   "source": [
    "y_test.value_counts()"
   ]
  },
  {
   "cell_type": "code",
   "execution_count": 31,
   "id": "8b1cbdef",
   "metadata": {
    "scrolled": true
   },
   "outputs": [
    {
     "data": {
      "text/plain": [
       "array([[1.00000000e+00, 1.45055379e-14, 7.75103555e-17],\n",
       "       [9.99999999e-01, 9.48605185e-10, 3.89966916e-11],\n",
       "       [9.98611175e-01, 1.27461230e-10, 1.38882510e-03],\n",
       "       ...,\n",
       "       [7.00640966e-05, 9.76773627e-01, 2.31563091e-02],\n",
       "       [9.99999721e-01, 2.78791211e-07, 1.80650782e-11],\n",
       "       [9.99999941e-01, 5.92020491e-08, 2.41579620e-10]])"
      ]
     },
     "execution_count": 31,
     "metadata": {},
     "output_type": "execute_result"
    }
   ],
   "source": [
    "from sklearn.neural_network import MLPClassifier\n",
    "clf=MLPClassifier(hidden_layer_sizes=(25,25,25,25), max_iter=500, alpha=0.0001, solver='adam',\n",
    "                 random_state=0, tol=0.000000001)\n",
    "y_pred = clf.fit(X_train, y_train).predict(X_test)\n",
    "predictions_mlp=clf.predict_proba(X_test)\n",
    "predictions_mlp"
   ]
  },
  {
   "cell_type": "code",
   "execution_count": 32,
   "id": "1e2e8226",
   "metadata": {},
   "outputs": [
    {
     "data": {
      "text/plain": [
       "array([0, 0, 0, ..., 1, 0, 0], dtype=int64)"
      ]
     },
     "execution_count": 32,
     "metadata": {},
     "output_type": "execute_result"
    }
   ],
   "source": [
    "predictions_mlp=clf.predict(X_test)\n",
    "predictions_mlp"
   ]
  },
  {
   "cell_type": "code",
   "execution_count": 34,
   "id": "f87e6606",
   "metadata": {
    "scrolled": true
   },
   "outputs": [
    {
     "name": "stdout",
     "output_type": "stream",
     "text": [
      "              precision    recall  f1-score   support\n",
      "\n",
      "           0       0.98      0.99      0.99      3989\n",
      "           1       0.91      0.88      0.89       562\n",
      "           2       0.89      0.77      0.83        77\n",
      "\n",
      "    accuracy                           0.97      4628\n",
      "   macro avg       0.93      0.88      0.90      4628\n",
      "weighted avg       0.97      0.97      0.97      4628\n",
      "\n"
     ]
    }
   ],
   "source": [
    "from sklearn.metrics import classification_report\n",
    "print(classification_report(y_test,predictions_mlp))"
   ]
  },
  {
   "cell_type": "code",
   "execution_count": 35,
   "id": "88b8b418",
   "metadata": {
    "scrolled": true
   },
   "outputs": [
    {
     "name": "stdout",
     "output_type": "stream",
     "text": [
      "Score train =  0.9832180927686546\n",
      "Score test =  0.9725583405358686\n"
     ]
    }
   ],
   "source": [
    "print(\"Score train = \",clf.score(X_train, y_train))\n",
    "print(\"Score test = \",clf.score(X_test, y_test))"
   ]
  },
  {
   "cell_type": "code",
   "execution_count": 42,
   "id": "1a28f3fc",
   "metadata": {},
   "outputs": [
    {
     "name": "stdout",
     "output_type": "stream",
     "text": [
      "Score train =  0.9725583405358686\n"
     ]
    }
   ],
   "source": [
    "from sklearn.metrics import accuracy_score\n",
    "print(\"Score test = \", accuracy_score(y_test,predictions_mlp))"
   ]
  },
  {
   "cell_type": "code",
   "execution_count": 43,
   "id": "e6172f29",
   "metadata": {},
   "outputs": [
    {
     "data": {
      "text/plain": [
       "0.9276160973808474"
      ]
     },
     "execution_count": 43,
     "metadata": {},
     "output_type": "execute_result"
    }
   ],
   "source": [
    "from sklearn.metrics import precision_score\n",
    "precision_score(y_test,predictions_mlp, average='macro')"
   ]
  },
  {
   "cell_type": "code",
   "execution_count": 44,
   "id": "158a4f2a",
   "metadata": {},
   "outputs": [
    {
     "data": {
      "text/plain": [
       "0.8773005732179047"
      ]
     },
     "execution_count": 44,
     "metadata": {},
     "output_type": "execute_result"
    }
   ],
   "source": [
    "from sklearn.metrics import recall_score\n",
    "recall_score(y_test,predictions_mlp, average='macro')"
   ]
  },
  {
   "cell_type": "code",
   "execution_count": 45,
   "id": "e4ff7629",
   "metadata": {},
   "outputs": [
    {
     "data": {
      "text/plain": [
       "0.9007286830816242"
      ]
     },
     "execution_count": 45,
     "metadata": {},
     "output_type": "execute_result"
    }
   ],
   "source": [
    "from sklearn.metrics import f1_score\n",
    "f1_score(y_test,predictions_mlp, average='macro')"
   ]
  },
  {
   "cell_type": "code",
   "execution_count": 36,
   "id": "9e560452",
   "metadata": {},
   "outputs": [],
   "source": [
    "# save the model to disk\n",
    "filename = 'mlp_model_intersection.sav'\n",
    "pickle.dump(clf, open(filename, 'wb')) "
   ]
  }
 ],
 "metadata": {
  "kernelspec": {
   "display_name": "Python 3 (ipykernel)",
   "language": "python",
   "name": "python3"
  },
  "language_info": {
   "codemirror_mode": {
    "name": "ipython",
    "version": 3
   },
   "file_extension": ".py",
   "mimetype": "text/x-python",
   "name": "python",
   "nbconvert_exporter": "python",
   "pygments_lexer": "ipython3",
   "version": "3.8.11"
  }
 },
 "nbformat": 4,
 "nbformat_minor": 5
}
