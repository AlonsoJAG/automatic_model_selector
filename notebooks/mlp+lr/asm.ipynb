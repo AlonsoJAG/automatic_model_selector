{
 "cells": [
  {
   "cell_type": "code",
   "execution_count": 1,
   "id": "5d87e640",
   "metadata": {},
   "outputs": [],
   "source": [
    "import pickle\n",
    "import numpy as np\n",
    "import pandas as pd\n",
    "import matplotlib.pyplot as plt\n",
    "%matplotlib inline"
   ]
  },
  {
   "cell_type": "code",
   "execution_count": 2,
   "id": "95600074",
   "metadata": {
    "scrolled": false
   },
   "outputs": [
    {
     "data": {
      "text/html": [
       "<div>\n",
       "<style scoped>\n",
       "    .dataframe tbody tr th:only-of-type {\n",
       "        vertical-align: middle;\n",
       "    }\n",
       "\n",
       "    .dataframe tbody tr th {\n",
       "        vertical-align: top;\n",
       "    }\n",
       "\n",
       "    .dataframe thead th {\n",
       "        text-align: right;\n",
       "    }\n",
       "</style>\n",
       "<table border=\"1\" class=\"dataframe\">\n",
       "  <thead>\n",
       "    <tr style=\"text-align: right;\">\n",
       "      <th></th>\n",
       "      <th>Frame</th>\n",
       "      <th>N_Person</th>\n",
       "      <th>Xcenter</th>\n",
       "      <th>Ycenter</th>\n",
       "      <th>PerXmin</th>\n",
       "      <th>PerYmin</th>\n",
       "      <th>PerXmax</th>\n",
       "      <th>PerYmax</th>\n",
       "      <th>N_Handgun</th>\n",
       "      <th>HgXcenter</th>\n",
       "      <th>...</th>\n",
       "      <th>HgYmin</th>\n",
       "      <th>HgXmax</th>\n",
       "      <th>HgYmax</th>\n",
       "      <th>Intersection</th>\n",
       "      <th>Included_Center</th>\n",
       "      <th>Intersection_Area</th>\n",
       "      <th>Hg_Area</th>\n",
       "      <th>Distance</th>\n",
       "      <th>Ground_Truth</th>\n",
       "      <th>GT</th>\n",
       "    </tr>\n",
       "  </thead>\n",
       "  <tbody>\n",
       "    <tr>\n",
       "      <th>0</th>\n",
       "      <td>0</td>\n",
       "      <td>0</td>\n",
       "      <td>474.999451</td>\n",
       "      <td>309.582947</td>\n",
       "      <td>395.377251</td>\n",
       "      <td>156.402725</td>\n",
       "      <td>554.621651</td>\n",
       "      <td>462.763168</td>\n",
       "      <td>0</td>\n",
       "      <td>409.881988</td>\n",
       "      <td>...</td>\n",
       "      <td>176.115577</td>\n",
       "      <td>425.699604</td>\n",
       "      <td>203.980340</td>\n",
       "      <td>Center_left</td>\n",
       "      <td>1</td>\n",
       "      <td>844.925198</td>\n",
       "      <td>881.508223</td>\n",
       "      <td>136.120892</td>\n",
       "      <td>0</td>\n",
       "      <td>MLP</td>\n",
       "    </tr>\n",
       "    <tr>\n",
       "      <th>1</th>\n",
       "      <td>1</td>\n",
       "      <td>0</td>\n",
       "      <td>474.938843</td>\n",
       "      <td>309.623566</td>\n",
       "      <td>395.161308</td>\n",
       "      <td>156.591705</td>\n",
       "      <td>554.716377</td>\n",
       "      <td>462.655426</td>\n",
       "      <td>0</td>\n",
       "      <td>409.638031</td>\n",
       "      <td>...</td>\n",
       "      <td>176.050999</td>\n",
       "      <td>425.668627</td>\n",
       "      <td>203.878841</td>\n",
       "      <td>Center_left</td>\n",
       "      <td>1</td>\n",
       "      <td>848.952861</td>\n",
       "      <td>892.193796</td>\n",
       "      <td>136.317231</td>\n",
       "      <td>0</td>\n",
       "      <td>MLP</td>\n",
       "    </tr>\n",
       "    <tr>\n",
       "      <th>2</th>\n",
       "      <td>2</td>\n",
       "      <td>0</td>\n",
       "      <td>475.070465</td>\n",
       "      <td>309.475372</td>\n",
       "      <td>395.484291</td>\n",
       "      <td>156.138077</td>\n",
       "      <td>554.656639</td>\n",
       "      <td>462.812668</td>\n",
       "      <td>0</td>\n",
       "      <td>409.610718</td>\n",
       "      <td>...</td>\n",
       "      <td>175.932056</td>\n",
       "      <td>425.627609</td>\n",
       "      <td>203.722820</td>\n",
       "      <td>Center_left</td>\n",
       "      <td>1</td>\n",
       "      <td>837.705837</td>\n",
       "      <td>890.243298</td>\n",
       "      <td>136.384041</td>\n",
       "      <td>0</td>\n",
       "      <td>MLP</td>\n",
       "    </tr>\n",
       "    <tr>\n",
       "      <th>3</th>\n",
       "      <td>3</td>\n",
       "      <td>0</td>\n",
       "      <td>476.837311</td>\n",
       "      <td>308.901245</td>\n",
       "      <td>399.288238</td>\n",
       "      <td>154.448364</td>\n",
       "      <td>554.386383</td>\n",
       "      <td>463.354126</td>\n",
       "      <td>0</td>\n",
       "      <td>408.519043</td>\n",
       "      <td>...</td>\n",
       "      <td>177.653896</td>\n",
       "      <td>423.709709</td>\n",
       "      <td>202.787083</td>\n",
       "      <td>Center_left</td>\n",
       "      <td>1</td>\n",
       "      <td>613.789372</td>\n",
       "      <td>763.579688</td>\n",
       "      <td>136.939795</td>\n",
       "      <td>0</td>\n",
       "      <td>MLP</td>\n",
       "    </tr>\n",
       "    <tr>\n",
       "      <th>4</th>\n",
       "      <td>4</td>\n",
       "      <td>0</td>\n",
       "      <td>476.918640</td>\n",
       "      <td>308.815064</td>\n",
       "      <td>399.598404</td>\n",
       "      <td>154.249756</td>\n",
       "      <td>554.238876</td>\n",
       "      <td>463.380371</td>\n",
       "      <td>0</td>\n",
       "      <td>408.613525</td>\n",
       "      <td>...</td>\n",
       "      <td>177.582060</td>\n",
       "      <td>423.771116</td>\n",
       "      <td>202.885134</td>\n",
       "      <td>Center_left</td>\n",
       "      <td>1</td>\n",
       "      <td>611.643926</td>\n",
       "      <td>767.067283</td>\n",
       "      <td>136.847188</td>\n",
       "      <td>0</td>\n",
       "      <td>MLP</td>\n",
       "    </tr>\n",
       "  </tbody>\n",
       "</table>\n",
       "<p>5 rows × 22 columns</p>\n",
       "</div>"
      ],
      "text/plain": [
       "   Frame  N_Person     Xcenter     Ycenter     PerXmin     PerYmin  \\\n",
       "0      0         0  474.999451  309.582947  395.377251  156.402725   \n",
       "1      1         0  474.938843  309.623566  395.161308  156.591705   \n",
       "2      2         0  475.070465  309.475372  395.484291  156.138077   \n",
       "3      3         0  476.837311  308.901245  399.288238  154.448364   \n",
       "4      4         0  476.918640  308.815064  399.598404  154.249756   \n",
       "\n",
       "      PerXmax     PerYmax  N_Handgun   HgXcenter  ...      HgYmin      HgXmax  \\\n",
       "0  554.621651  462.763168          0  409.881988  ...  176.115577  425.699604   \n",
       "1  554.716377  462.655426          0  409.638031  ...  176.050999  425.668627   \n",
       "2  554.656639  462.812668          0  409.610718  ...  175.932056  425.627609   \n",
       "3  554.386383  463.354126          0  408.519043  ...  177.653896  423.709709   \n",
       "4  554.238876  463.380371          0  408.613525  ...  177.582060  423.771116   \n",
       "\n",
       "       HgYmax  Intersection  Included_Center Intersection_Area     Hg_Area  \\\n",
       "0  203.980340   Center_left                1        844.925198  881.508223   \n",
       "1  203.878841   Center_left                1        848.952861  892.193796   \n",
       "2  203.722820   Center_left                1        837.705837  890.243298   \n",
       "3  202.787083   Center_left                1        613.789372  763.579688   \n",
       "4  202.885134   Center_left                1        611.643926  767.067283   \n",
       "\n",
       "     Distance  Ground_Truth   GT  \n",
       "0  136.120892             0  MLP  \n",
       "1  136.317231             0  MLP  \n",
       "2  136.384041             0  MLP  \n",
       "3  136.939795             0  MLP  \n",
       "4  136.847188             0  MLP  \n",
       "\n",
       "[5 rows x 22 columns]"
      ]
     },
     "execution_count": 2,
     "metadata": {},
     "output_type": "execute_result"
    }
   ],
   "source": [
    "df = pd.read_csv('ams11.csv')\n",
    "df.head()"
   ]
  },
  {
   "cell_type": "code",
   "execution_count": 3,
   "id": "8ae1ff95",
   "metadata": {},
   "outputs": [
    {
     "data": {
      "text/plain": [
       "18476"
      ]
     },
     "execution_count": 3,
     "metadata": {},
     "output_type": "execute_result"
    }
   ],
   "source": [
    "len(df)"
   ]
  },
  {
   "cell_type": "code",
   "execution_count": 4,
   "id": "9ac6c889",
   "metadata": {
    "scrolled": true
   },
   "outputs": [
    {
     "name": "stdout",
     "output_type": "stream",
     "text": [
      "<class 'pandas.core.frame.DataFrame'>\n",
      "RangeIndex: 18476 entries, 0 to 18475\n",
      "Data columns (total 22 columns):\n",
      " #   Column             Non-Null Count  Dtype  \n",
      "---  ------             --------------  -----  \n",
      " 0   Frame              18476 non-null  int64  \n",
      " 1   N_Person           18476 non-null  int64  \n",
      " 2   Xcenter            18476 non-null  float64\n",
      " 3   Ycenter            18476 non-null  float64\n",
      " 4   PerXmin            18476 non-null  float64\n",
      " 5   PerYmin            18476 non-null  float64\n",
      " 6   PerXmax            18476 non-null  float64\n",
      " 7   PerYmax            18476 non-null  float64\n",
      " 8   N_Handgun          18476 non-null  int64  \n",
      " 9   HgXcenter          18476 non-null  float64\n",
      " 10  HgYcenter          18476 non-null  float64\n",
      " 11  HgXmin             18476 non-null  float64\n",
      " 12  HgYmin             18476 non-null  float64\n",
      " 13  HgXmax             18476 non-null  float64\n",
      " 14  HgYmax             18476 non-null  float64\n",
      " 15  Intersection       18476 non-null  object \n",
      " 16  Included_Center    18476 non-null  int64  \n",
      " 17  Intersection_Area  18476 non-null  float64\n",
      " 18  Hg_Area            18476 non-null  float64\n",
      " 19  Distance           18476 non-null  float64\n",
      " 20  Ground_Truth       18476 non-null  int64  \n",
      " 21  GT                 18476 non-null  object \n",
      "dtypes: float64(15), int64(5), object(2)\n",
      "memory usage: 3.1+ MB\n"
     ]
    }
   ],
   "source": [
    "df.info()"
   ]
  },
  {
   "cell_type": "code",
   "execution_count": 5,
   "id": "048f07b5",
   "metadata": {},
   "outputs": [
    {
     "data": {
      "text/plain": [
       "Frame                 1933\n",
       "N_Person                 5\n",
       "Xcenter              14236\n",
       "Ycenter              14217\n",
       "PerXmin              14244\n",
       "PerYmin              14241\n",
       "PerXmax              14244\n",
       "PerYmax              14221\n",
       "N_Handgun                5\n",
       "HgXcenter             7289\n",
       "HgYcenter             7287\n",
       "HgXmin                7291\n",
       "HgYmin                7291\n",
       "HgXmax                7291\n",
       "HgYmax                7290\n",
       "Intersection             9\n",
       "Included_Center          2\n",
       "Intersection_Area     8446\n",
       "Hg_Area               7291\n",
       "Distance             18476\n",
       "Ground_Truth             2\n",
       "GT                       2\n",
       "dtype: int64"
      ]
     },
     "execution_count": 5,
     "metadata": {},
     "output_type": "execute_result"
    }
   ],
   "source": [
    "df.nunique()"
   ]
  },
  {
   "cell_type": "code",
   "execution_count": 6,
   "id": "86b0f52d",
   "metadata": {
    "scrolled": false
   },
   "outputs": [
    {
     "data": {
      "text/plain": [
       "0    15996\n",
       "1     2480\n",
       "Name: Ground_Truth, dtype: int64"
      ]
     },
     "execution_count": 6,
     "metadata": {},
     "output_type": "execute_result"
    }
   ],
   "source": [
    "df['Ground_Truth'].value_counts()"
   ]
  },
  {
   "cell_type": "code",
   "execution_count": 7,
   "id": "732110e8",
   "metadata": {
    "scrolled": true
   },
   "outputs": [
    {
     "data": {
      "text/html": [
       "<div>\n",
       "<style scoped>\n",
       "    .dataframe tbody tr th:only-of-type {\n",
       "        vertical-align: middle;\n",
       "    }\n",
       "\n",
       "    .dataframe tbody tr th {\n",
       "        vertical-align: top;\n",
       "    }\n",
       "\n",
       "    .dataframe thead th {\n",
       "        text-align: right;\n",
       "    }\n",
       "</style>\n",
       "<table border=\"1\" class=\"dataframe\">\n",
       "  <thead>\n",
       "    <tr style=\"text-align: right;\">\n",
       "      <th></th>\n",
       "      <th>Frame</th>\n",
       "      <th>N_Person</th>\n",
       "      <th>Xcenter</th>\n",
       "      <th>Ycenter</th>\n",
       "      <th>PerXmin</th>\n",
       "      <th>PerYmin</th>\n",
       "      <th>PerXmax</th>\n",
       "      <th>PerYmax</th>\n",
       "      <th>N_Handgun</th>\n",
       "      <th>HgXcenter</th>\n",
       "      <th>...</th>\n",
       "      <th>GT</th>\n",
       "      <th>Intersection_Center_left</th>\n",
       "      <th>Intersection_Center_right</th>\n",
       "      <th>Intersection_Down_center</th>\n",
       "      <th>Intersection_Down_left</th>\n",
       "      <th>Intersection_Inside</th>\n",
       "      <th>Intersection_No_intersection</th>\n",
       "      <th>Intersection_Up_center</th>\n",
       "      <th>Intersection_Up_left</th>\n",
       "      <th>Intersection_Up_right</th>\n",
       "    </tr>\n",
       "  </thead>\n",
       "  <tbody>\n",
       "    <tr>\n",
       "      <th>0</th>\n",
       "      <td>0</td>\n",
       "      <td>0</td>\n",
       "      <td>474.999451</td>\n",
       "      <td>309.582947</td>\n",
       "      <td>395.377251</td>\n",
       "      <td>156.402725</td>\n",
       "      <td>554.621651</td>\n",
       "      <td>462.763168</td>\n",
       "      <td>0</td>\n",
       "      <td>409.881988</td>\n",
       "      <td>...</td>\n",
       "      <td>MLP</td>\n",
       "      <td>1</td>\n",
       "      <td>0</td>\n",
       "      <td>0</td>\n",
       "      <td>0</td>\n",
       "      <td>0</td>\n",
       "      <td>0</td>\n",
       "      <td>0</td>\n",
       "      <td>0</td>\n",
       "      <td>0</td>\n",
       "    </tr>\n",
       "    <tr>\n",
       "      <th>1</th>\n",
       "      <td>1</td>\n",
       "      <td>0</td>\n",
       "      <td>474.938843</td>\n",
       "      <td>309.623566</td>\n",
       "      <td>395.161308</td>\n",
       "      <td>156.591705</td>\n",
       "      <td>554.716377</td>\n",
       "      <td>462.655426</td>\n",
       "      <td>0</td>\n",
       "      <td>409.638031</td>\n",
       "      <td>...</td>\n",
       "      <td>MLP</td>\n",
       "      <td>1</td>\n",
       "      <td>0</td>\n",
       "      <td>0</td>\n",
       "      <td>0</td>\n",
       "      <td>0</td>\n",
       "      <td>0</td>\n",
       "      <td>0</td>\n",
       "      <td>0</td>\n",
       "      <td>0</td>\n",
       "    </tr>\n",
       "    <tr>\n",
       "      <th>2</th>\n",
       "      <td>2</td>\n",
       "      <td>0</td>\n",
       "      <td>475.070465</td>\n",
       "      <td>309.475372</td>\n",
       "      <td>395.484291</td>\n",
       "      <td>156.138077</td>\n",
       "      <td>554.656639</td>\n",
       "      <td>462.812668</td>\n",
       "      <td>0</td>\n",
       "      <td>409.610718</td>\n",
       "      <td>...</td>\n",
       "      <td>MLP</td>\n",
       "      <td>1</td>\n",
       "      <td>0</td>\n",
       "      <td>0</td>\n",
       "      <td>0</td>\n",
       "      <td>0</td>\n",
       "      <td>0</td>\n",
       "      <td>0</td>\n",
       "      <td>0</td>\n",
       "      <td>0</td>\n",
       "    </tr>\n",
       "    <tr>\n",
       "      <th>3</th>\n",
       "      <td>3</td>\n",
       "      <td>0</td>\n",
       "      <td>476.837311</td>\n",
       "      <td>308.901245</td>\n",
       "      <td>399.288238</td>\n",
       "      <td>154.448364</td>\n",
       "      <td>554.386383</td>\n",
       "      <td>463.354126</td>\n",
       "      <td>0</td>\n",
       "      <td>408.519043</td>\n",
       "      <td>...</td>\n",
       "      <td>MLP</td>\n",
       "      <td>1</td>\n",
       "      <td>0</td>\n",
       "      <td>0</td>\n",
       "      <td>0</td>\n",
       "      <td>0</td>\n",
       "      <td>0</td>\n",
       "      <td>0</td>\n",
       "      <td>0</td>\n",
       "      <td>0</td>\n",
       "    </tr>\n",
       "    <tr>\n",
       "      <th>4</th>\n",
       "      <td>4</td>\n",
       "      <td>0</td>\n",
       "      <td>476.918640</td>\n",
       "      <td>308.815064</td>\n",
       "      <td>399.598404</td>\n",
       "      <td>154.249756</td>\n",
       "      <td>554.238876</td>\n",
       "      <td>463.380371</td>\n",
       "      <td>0</td>\n",
       "      <td>408.613525</td>\n",
       "      <td>...</td>\n",
       "      <td>MLP</td>\n",
       "      <td>1</td>\n",
       "      <td>0</td>\n",
       "      <td>0</td>\n",
       "      <td>0</td>\n",
       "      <td>0</td>\n",
       "      <td>0</td>\n",
       "      <td>0</td>\n",
       "      <td>0</td>\n",
       "      <td>0</td>\n",
       "    </tr>\n",
       "  </tbody>\n",
       "</table>\n",
       "<p>5 rows × 30 columns</p>\n",
       "</div>"
      ],
      "text/plain": [
       "   Frame  N_Person     Xcenter     Ycenter     PerXmin     PerYmin  \\\n",
       "0      0         0  474.999451  309.582947  395.377251  156.402725   \n",
       "1      1         0  474.938843  309.623566  395.161308  156.591705   \n",
       "2      2         0  475.070465  309.475372  395.484291  156.138077   \n",
       "3      3         0  476.837311  308.901245  399.288238  154.448364   \n",
       "4      4         0  476.918640  308.815064  399.598404  154.249756   \n",
       "\n",
       "      PerXmax     PerYmax  N_Handgun   HgXcenter  ...   GT  \\\n",
       "0  554.621651  462.763168          0  409.881988  ...  MLP   \n",
       "1  554.716377  462.655426          0  409.638031  ...  MLP   \n",
       "2  554.656639  462.812668          0  409.610718  ...  MLP   \n",
       "3  554.386383  463.354126          0  408.519043  ...  MLP   \n",
       "4  554.238876  463.380371          0  408.613525  ...  MLP   \n",
       "\n",
       "   Intersection_Center_left  Intersection_Center_right  \\\n",
       "0                         1                          0   \n",
       "1                         1                          0   \n",
       "2                         1                          0   \n",
       "3                         1                          0   \n",
       "4                         1                          0   \n",
       "\n",
       "   Intersection_Down_center  Intersection_Down_left  Intersection_Inside  \\\n",
       "0                         0                       0                    0   \n",
       "1                         0                       0                    0   \n",
       "2                         0                       0                    0   \n",
       "3                         0                       0                    0   \n",
       "4                         0                       0                    0   \n",
       "\n",
       "   Intersection_No_intersection  Intersection_Up_center  Intersection_Up_left  \\\n",
       "0                             0                       0                     0   \n",
       "1                             0                       0                     0   \n",
       "2                             0                       0                     0   \n",
       "3                             0                       0                     0   \n",
       "4                             0                       0                     0   \n",
       "\n",
       "   Intersection_Up_right  \n",
       "0                      0  \n",
       "1                      0  \n",
       "2                      0  \n",
       "3                      0  \n",
       "4                      0  \n",
       "\n",
       "[5 rows x 30 columns]"
      ]
     },
     "execution_count": 7,
     "metadata": {},
     "output_type": "execute_result"
    }
   ],
   "source": [
    "df2 = pd.get_dummies(df,columns=['Intersection'])\n",
    "df2.head()"
   ]
  },
  {
   "cell_type": "code",
   "execution_count": 8,
   "id": "a246c9a2",
   "metadata": {
    "scrolled": true
   },
   "outputs": [
    {
     "name": "stdout",
     "output_type": "stream",
     "text": [
      "<class 'pandas.core.frame.DataFrame'>\n",
      "RangeIndex: 18476 entries, 0 to 18475\n",
      "Data columns (total 30 columns):\n",
      " #   Column                        Non-Null Count  Dtype  \n",
      "---  ------                        --------------  -----  \n",
      " 0   Frame                         18476 non-null  int64  \n",
      " 1   N_Person                      18476 non-null  int64  \n",
      " 2   Xcenter                       18476 non-null  float64\n",
      " 3   Ycenter                       18476 non-null  float64\n",
      " 4   PerXmin                       18476 non-null  float64\n",
      " 5   PerYmin                       18476 non-null  float64\n",
      " 6   PerXmax                       18476 non-null  float64\n",
      " 7   PerYmax                       18476 non-null  float64\n",
      " 8   N_Handgun                     18476 non-null  int64  \n",
      " 9   HgXcenter                     18476 non-null  float64\n",
      " 10  HgYcenter                     18476 non-null  float64\n",
      " 11  HgXmin                        18476 non-null  float64\n",
      " 12  HgYmin                        18476 non-null  float64\n",
      " 13  HgXmax                        18476 non-null  float64\n",
      " 14  HgYmax                        18476 non-null  float64\n",
      " 15  Included_Center               18476 non-null  int64  \n",
      " 16  Intersection_Area             18476 non-null  float64\n",
      " 17  Hg_Area                       18476 non-null  float64\n",
      " 18  Distance                      18476 non-null  float64\n",
      " 19  Ground_Truth                  18476 non-null  int64  \n",
      " 20  GT                            18476 non-null  object \n",
      " 21  Intersection_Center_left      18476 non-null  uint8  \n",
      " 22  Intersection_Center_right     18476 non-null  uint8  \n",
      " 23  Intersection_Down_center      18476 non-null  uint8  \n",
      " 24  Intersection_Down_left        18476 non-null  uint8  \n",
      " 25  Intersection_Inside           18476 non-null  uint8  \n",
      " 26  Intersection_No_intersection  18476 non-null  uint8  \n",
      " 27  Intersection_Up_center        18476 non-null  uint8  \n",
      " 28  Intersection_Up_left          18476 non-null  uint8  \n",
      " 29  Intersection_Up_right         18476 non-null  uint8  \n",
      "dtypes: float64(15), int64(5), object(1), uint8(9)\n",
      "memory usage: 3.1+ MB\n"
     ]
    }
   ],
   "source": [
    "df2.info()"
   ]
  },
  {
   "cell_type": "markdown",
   "id": "49376aaf",
   "metadata": {},
   "source": [
    "# Random Forest \n",
    "## Todos los predictores"
   ]
  },
  {
   "cell_type": "code",
   "execution_count": 9,
   "id": "a8376980",
   "metadata": {
    "scrolled": false
   },
   "outputs": [
    {
     "name": "stdout",
     "output_type": "stream",
     "text": [
      "{0: 'MLP', 1: 'LR'}\n"
     ]
    }
   ],
   "source": [
    "pred = dict(zip(df2.Ground_Truth.unique(),df2.GT.unique()))\n",
    "print(pred)"
   ]
  },
  {
   "cell_type": "code",
   "execution_count": 10,
   "id": "7e893d55",
   "metadata": {
    "scrolled": true
   },
   "outputs": [
    {
     "name": "stdout",
     "output_type": "stream",
     "text": [
      "0    15996\n",
      "1     2480\n",
      "Name: Ground_Truth, dtype: int64\n"
     ]
    }
   ],
   "source": [
    "print(df2['Ground_Truth'].value_counts())"
   ]
  },
  {
   "cell_type": "code",
   "execution_count": 11,
   "id": "e0a1da1a",
   "metadata": {},
   "outputs": [],
   "source": [
    "df3 = df2.drop(columns=[\"GT\"])"
   ]
  },
  {
   "cell_type": "code",
   "execution_count": 12,
   "id": "b88b8d0f",
   "metadata": {
    "scrolled": true
   },
   "outputs": [
    {
     "name": "stdout",
     "output_type": "stream",
     "text": [
      "<class 'pandas.core.frame.DataFrame'>\n",
      "RangeIndex: 18476 entries, 0 to 18475\n",
      "Data columns (total 29 columns):\n",
      " #   Column                        Non-Null Count  Dtype  \n",
      "---  ------                        --------------  -----  \n",
      " 0   Frame                         18476 non-null  int64  \n",
      " 1   N_Person                      18476 non-null  int64  \n",
      " 2   Xcenter                       18476 non-null  float64\n",
      " 3   Ycenter                       18476 non-null  float64\n",
      " 4   PerXmin                       18476 non-null  float64\n",
      " 5   PerYmin                       18476 non-null  float64\n",
      " 6   PerXmax                       18476 non-null  float64\n",
      " 7   PerYmax                       18476 non-null  float64\n",
      " 8   N_Handgun                     18476 non-null  int64  \n",
      " 9   HgXcenter                     18476 non-null  float64\n",
      " 10  HgYcenter                     18476 non-null  float64\n",
      " 11  HgXmin                        18476 non-null  float64\n",
      " 12  HgYmin                        18476 non-null  float64\n",
      " 13  HgXmax                        18476 non-null  float64\n",
      " 14  HgYmax                        18476 non-null  float64\n",
      " 15  Included_Center               18476 non-null  int64  \n",
      " 16  Intersection_Area             18476 non-null  float64\n",
      " 17  Hg_Area                       18476 non-null  float64\n",
      " 18  Distance                      18476 non-null  float64\n",
      " 19  Ground_Truth                  18476 non-null  int64  \n",
      " 20  Intersection_Center_left      18476 non-null  uint8  \n",
      " 21  Intersection_Center_right     18476 non-null  uint8  \n",
      " 22  Intersection_Down_center      18476 non-null  uint8  \n",
      " 23  Intersection_Down_left        18476 non-null  uint8  \n",
      " 24  Intersection_Inside           18476 non-null  uint8  \n",
      " 25  Intersection_No_intersection  18476 non-null  uint8  \n",
      " 26  Intersection_Up_center        18476 non-null  uint8  \n",
      " 27  Intersection_Up_left          18476 non-null  uint8  \n",
      " 28  Intersection_Up_right         18476 non-null  uint8  \n",
      "dtypes: float64(15), int64(5), uint8(9)\n",
      "memory usage: 3.0 MB\n"
     ]
    }
   ],
   "source": [
    "df3.info()"
   ]
  },
  {
   "cell_type": "code",
   "execution_count": 13,
   "id": "c1daddd3",
   "metadata": {},
   "outputs": [
    {
     "name": "stdout",
     "output_type": "stream",
     "text": [
      "(14780, 28) (14780,)\n",
      "(3696, 28) (3696,)\n"
     ]
    }
   ],
   "source": [
    "from sklearn.model_selection import train_test_split\n",
    "\n",
    "train_df, test_df = train_test_split(df3, test_size=0.2, random_state=123)\n",
    "X_train, y_train = train_df.drop(columns=[\"Ground_Truth\"], axis=1), train_df[\"Ground_Truth\"]\n",
    "X_test, y_test = test_df.drop(columns=[\"Ground_Truth\"], axis=1), test_df[\"Ground_Truth\"]\n",
    "\n",
    "print(X_train.shape, y_train.shape)\n",
    "print(X_test.shape, y_test.shape)"
   ]
  },
  {
   "cell_type": "code",
   "execution_count": 14,
   "id": "e878e8c9",
   "metadata": {},
   "outputs": [
    {
     "name": "stdout",
     "output_type": "stream",
     "text": [
      "mean_train =  0.9108028867839423\n",
      "mean_test =  0.910148849797023\n"
     ]
    },
    {
     "data": {
      "text/html": [
       "<div>\n",
       "<style scoped>\n",
       "    .dataframe tbody tr th:only-of-type {\n",
       "        vertical-align: middle;\n",
       "    }\n",
       "\n",
       "    .dataframe tbody tr th {\n",
       "        vertical-align: top;\n",
       "    }\n",
       "\n",
       "    .dataframe thead th {\n",
       "        text-align: right;\n",
       "    }\n",
       "</style>\n",
       "<table border=\"1\" class=\"dataframe\">\n",
       "  <thead>\n",
       "    <tr style=\"text-align: right;\">\n",
       "      <th></th>\n",
       "      <th>fit_time</th>\n",
       "      <th>score_time</th>\n",
       "      <th>test_score</th>\n",
       "      <th>train_score</th>\n",
       "    </tr>\n",
       "  </thead>\n",
       "  <tbody>\n",
       "    <tr>\n",
       "      <th>0</th>\n",
       "      <td>0.059842</td>\n",
       "      <td>0.003783</td>\n",
       "      <td>0.903248</td>\n",
       "      <td>0.908435</td>\n",
       "    </tr>\n",
       "    <tr>\n",
       "      <th>1</th>\n",
       "      <td>0.059839</td>\n",
       "      <td>0.001995</td>\n",
       "      <td>0.915426</td>\n",
       "      <td>0.911216</td>\n",
       "    </tr>\n",
       "    <tr>\n",
       "      <th>2</th>\n",
       "      <td>0.059840</td>\n",
       "      <td>0.002992</td>\n",
       "      <td>0.914750</td>\n",
       "      <td>0.910690</td>\n",
       "    </tr>\n",
       "    <tr>\n",
       "      <th>3</th>\n",
       "      <td>0.057845</td>\n",
       "      <td>0.002992</td>\n",
       "      <td>0.905954</td>\n",
       "      <td>0.910389</td>\n",
       "    </tr>\n",
       "    <tr>\n",
       "      <th>4</th>\n",
       "      <td>0.060837</td>\n",
       "      <td>0.003990</td>\n",
       "      <td>0.905954</td>\n",
       "      <td>0.910765</td>\n",
       "    </tr>\n",
       "    <tr>\n",
       "      <th>5</th>\n",
       "      <td>0.058842</td>\n",
       "      <td>0.002993</td>\n",
       "      <td>0.913396</td>\n",
       "      <td>0.911667</td>\n",
       "    </tr>\n",
       "    <tr>\n",
       "      <th>6</th>\n",
       "      <td>0.060838</td>\n",
       "      <td>0.002991</td>\n",
       "      <td>0.917456</td>\n",
       "      <td>0.911292</td>\n",
       "    </tr>\n",
       "    <tr>\n",
       "      <th>7</th>\n",
       "      <td>0.060836</td>\n",
       "      <td>0.002992</td>\n",
       "      <td>0.907984</td>\n",
       "      <td>0.912419</td>\n",
       "    </tr>\n",
       "    <tr>\n",
       "      <th>8</th>\n",
       "      <td>0.059840</td>\n",
       "      <td>0.001995</td>\n",
       "      <td>0.909337</td>\n",
       "      <td>0.911517</td>\n",
       "    </tr>\n",
       "    <tr>\n",
       "      <th>9</th>\n",
       "      <td>0.058843</td>\n",
       "      <td>0.002992</td>\n",
       "      <td>0.907984</td>\n",
       "      <td>0.909638</td>\n",
       "    </tr>\n",
       "  </tbody>\n",
       "</table>\n",
       "</div>"
      ],
      "text/plain": [
       "   fit_time  score_time  test_score  train_score\n",
       "0  0.059842    0.003783    0.903248     0.908435\n",
       "1  0.059839    0.001995    0.915426     0.911216\n",
       "2  0.059840    0.002992    0.914750     0.910690\n",
       "3  0.057845    0.002992    0.905954     0.910389\n",
       "4  0.060837    0.003990    0.905954     0.910765\n",
       "5  0.058842    0.002993    0.913396     0.911667\n",
       "6  0.060838    0.002991    0.917456     0.911292\n",
       "7  0.060836    0.002992    0.907984     0.912419\n",
       "8  0.059840    0.001995    0.909337     0.911517\n",
       "9  0.058843    0.002992    0.907984     0.909638"
      ]
     },
     "execution_count": 14,
     "metadata": {},
     "output_type": "execute_result"
    }
   ],
   "source": [
    "from sklearn.ensemble import RandomForestClassifier\n",
    "from sklearn.model_selection import cross_validate\n",
    "\n",
    "clf = RandomForestClassifier(n_estimators=10, max_depth=2, random_state=0)\n",
    "y_pred = clf.fit(X_train, y_train).predict(X_test)\n",
    "scores = pd.DataFrame(cross_validate(clf, X_train, y_train, cv=10, return_train_score=True))\n",
    "print(\"mean_train = \", scores['train_score'].mean())\n",
    "print(\"mean_test = \", scores['test_score'].mean())\n",
    "scores"
   ]
  },
  {
   "cell_type": "code",
   "execution_count": 15,
   "id": "d8115118",
   "metadata": {},
   "outputs": [],
   "source": [
    "# save the model to disk\n",
    "filename = 'rfc_model_intersection_0.sav'\n",
    "pickle.dump(clf, open(filename, 'wb')) "
   ]
  },
  {
   "cell_type": "code",
   "execution_count": 14,
   "id": "81e31bc9",
   "metadata": {
    "scrolled": false
   },
   "outputs": [
    {
     "name": "stdout",
     "output_type": "stream",
     "text": [
      "mean_train =  0.9374981205833709\n",
      "mean_test =  0.934573748308525\n"
     ]
    },
    {
     "data": {
      "text/html": [
       "<div>\n",
       "<style scoped>\n",
       "    .dataframe tbody tr th:only-of-type {\n",
       "        vertical-align: middle;\n",
       "    }\n",
       "\n",
       "    .dataframe tbody tr th {\n",
       "        vertical-align: top;\n",
       "    }\n",
       "\n",
       "    .dataframe thead th {\n",
       "        text-align: right;\n",
       "    }\n",
       "</style>\n",
       "<table border=\"1\" class=\"dataframe\">\n",
       "  <thead>\n",
       "    <tr style=\"text-align: right;\">\n",
       "      <th></th>\n",
       "      <th>fit_time</th>\n",
       "      <th>score_time</th>\n",
       "      <th>test_score</th>\n",
       "      <th>train_score</th>\n",
       "    </tr>\n",
       "  </thead>\n",
       "  <tbody>\n",
       "    <tr>\n",
       "      <th>0</th>\n",
       "      <td>0.096713</td>\n",
       "      <td>0.002991</td>\n",
       "      <td>0.933694</td>\n",
       "      <td>0.940535</td>\n",
       "    </tr>\n",
       "    <tr>\n",
       "      <th>1</th>\n",
       "      <td>0.097739</td>\n",
       "      <td>0.002993</td>\n",
       "      <td>0.941813</td>\n",
       "      <td>0.940235</td>\n",
       "    </tr>\n",
       "    <tr>\n",
       "      <th>2</th>\n",
       "      <td>0.095741</td>\n",
       "      <td>0.001995</td>\n",
       "      <td>0.942490</td>\n",
       "      <td>0.941061</td>\n",
       "    </tr>\n",
       "    <tr>\n",
       "      <th>3</th>\n",
       "      <td>0.093748</td>\n",
       "      <td>0.002992</td>\n",
       "      <td>0.932341</td>\n",
       "      <td>0.940310</td>\n",
       "    </tr>\n",
       "    <tr>\n",
       "      <th>4</th>\n",
       "      <td>0.093749</td>\n",
       "      <td>0.001995</td>\n",
       "      <td>0.919486</td>\n",
       "      <td>0.932642</td>\n",
       "    </tr>\n",
       "    <tr>\n",
       "      <th>5</th>\n",
       "      <td>0.095777</td>\n",
       "      <td>0.002987</td>\n",
       "      <td>0.931664</td>\n",
       "      <td>0.933920</td>\n",
       "    </tr>\n",
       "    <tr>\n",
       "      <th>6</th>\n",
       "      <td>0.097737</td>\n",
       "      <td>0.003967</td>\n",
       "      <td>0.937077</td>\n",
       "      <td>0.931514</td>\n",
       "    </tr>\n",
       "    <tr>\n",
       "      <th>7</th>\n",
       "      <td>0.098739</td>\n",
       "      <td>0.002989</td>\n",
       "      <td>0.931664</td>\n",
       "      <td>0.933920</td>\n",
       "    </tr>\n",
       "    <tr>\n",
       "      <th>8</th>\n",
       "      <td>0.098735</td>\n",
       "      <td>0.002990</td>\n",
       "      <td>0.936401</td>\n",
       "      <td>0.938130</td>\n",
       "    </tr>\n",
       "    <tr>\n",
       "      <th>9</th>\n",
       "      <td>0.097747</td>\n",
       "      <td>0.002985</td>\n",
       "      <td>0.939107</td>\n",
       "      <td>0.942715</td>\n",
       "    </tr>\n",
       "  </tbody>\n",
       "</table>\n",
       "</div>"
      ],
      "text/plain": [
       "   fit_time  score_time  test_score  train_score\n",
       "0  0.096713    0.002991    0.933694     0.940535\n",
       "1  0.097739    0.002993    0.941813     0.940235\n",
       "2  0.095741    0.001995    0.942490     0.941061\n",
       "3  0.093748    0.002992    0.932341     0.940310\n",
       "4  0.093749    0.001995    0.919486     0.932642\n",
       "5  0.095777    0.002987    0.931664     0.933920\n",
       "6  0.097737    0.003967    0.937077     0.931514\n",
       "7  0.098739    0.002989    0.931664     0.933920\n",
       "8  0.098735    0.002990    0.936401     0.938130\n",
       "9  0.097747    0.002985    0.939107     0.942715"
      ]
     },
     "execution_count": 14,
     "metadata": {},
     "output_type": "execute_result"
    }
   ],
   "source": [
    "from sklearn.ensemble import RandomForestClassifier\n",
    "from sklearn.model_selection import cross_validate\n",
    "\n",
    "clf = RandomForestClassifier(n_estimators=10, max_depth=4, random_state=0)\n",
    "y_pred = clf.fit(X_train, y_train).predict(X_test)\n",
    "scores = pd.DataFrame(cross_validate(clf, X_train, y_train, cv=10, return_train_score=True))\n",
    "print(\"mean_train = \", scores['train_score'].mean())\n",
    "print(\"mean_test = \", scores['test_score'].mean())\n",
    "scores"
   ]
  },
  {
   "cell_type": "code",
   "execution_count": 15,
   "id": "794372af",
   "metadata": {},
   "outputs": [
    {
     "data": {
      "text/plain": [
       "array([[[ 304,  193],\n",
       "        [  17, 3182]],\n",
       "\n",
       "       [[3182,   17],\n",
       "        [ 193,  304]]], dtype=int64)"
      ]
     },
     "execution_count": 15,
     "metadata": {},
     "output_type": "execute_result"
    }
   ],
   "source": [
    "from sklearn.metrics import multilabel_confusion_matrix\n",
    "#rfc_o.fit(X_train.values, y_train.values)\n",
    "multilabel_confusion_matrix(y_test, y_pred)"
   ]
  },
  {
   "cell_type": "code",
   "execution_count": 16,
   "id": "803a6a17",
   "metadata": {
    "scrolled": true
   },
   "outputs": [
    {
     "name": "stdout",
     "output_type": "stream",
     "text": [
      "                         feature  importance       std\n",
      "25        Intersection_Up_center    0.000000  0.000000\n",
      "22        Intersection_Down_left    0.000000  0.000000\n",
      "21      Intersection_Down_center    0.000000  0.000000\n",
      "8                      N_Handgun    0.000000  0.000000\n",
      "26          Intersection_Up_left    0.000000  0.000000\n",
      "27         Intersection_Up_right    0.000020  0.000061\n",
      "24  Intersection_No_intersection    0.000098  0.000293\n",
      "15               Included_Center    0.001696  0.005087\n",
      "19      Intersection_Center_left    0.005031  0.008953\n",
      "1                       N_Person    0.011694  0.025473\n",
      "6                        PerXmax    0.012905  0.037500\n",
      "16             Intersection_Area    0.019252  0.042262\n",
      "13                        HgXmax    0.021888  0.034276\n",
      "17                       Hg_Area    0.025143  0.040311\n",
      "20     Intersection_Center_right    0.025243  0.045119\n",
      "9                      HgXcenter    0.027929  0.038642\n",
      "11                        HgXmin    0.027986  0.041150\n",
      "4                        PerXmin    0.029939  0.053529\n",
      "0                          Frame    0.037507  0.053971\n",
      "14                        HgYmax    0.037843  0.062843\n",
      "2                        Xcenter    0.039613  0.069313\n",
      "23           Intersection_Inside    0.043145  0.097002\n",
      "18                      Distance    0.058199  0.040215\n",
      "5                        PerYmin    0.067645  0.104238\n",
      "12                        HgYmin    0.068550  0.100640\n",
      "10                     HgYcenter    0.090318  0.106916\n",
      "3                        Ycenter    0.120200  0.165087\n",
      "7                        PerYmax    0.228155  0.254682\n"
     ]
    },
    {
     "data": {
      "image/png": "[encoded data removed]",
      "text/plain": [
       "<Figure size 800x600 with 1 Axes>"
      ]
     },
     "metadata": {},
     "output_type": "display_data"
    }
   ],
   "source": [
    "clf.fit(X_train.values, y_train.values)\n",
    "predictions=clf.predict(X_test.values)\n",
    "#Le agrego .values para solucionar el problema:\n",
    "#C:\\ProgramData\\Anaconda3\\lib\\site-packages\\sklearn\\base.py:450: UserWarning: X does not have valid feature names, but RandomForestClassifier was fitted with feature names\n",
    "#https://stackoverflow.com/questions/69326639/sklearn-warning-valid-feature-names-in-version-1-0\n",
    "\n",
    "importances = clf.feature_importances_\n",
    "std = np.std([tree.feature_importances_ for tree in clf.estimators_], axis=0)\n",
    "\n",
    "df = pd.DataFrame({'feature': X_train.columns, 'importance': importances, 'std': std})\n",
    "df = df.sort_values('importance')\n",
    "print(df)\n",
    "\n",
    "ax = df.plot(figsize=(8,6),kind='barh', xerr='std', x='feature', legend=False)\n",
    "ax.set_ylabel('')\n",
    "\n",
    "plt.tight_layout()\n",
    "plt.show()"
   ]
  },
  {
   "cell_type": "code",
   "execution_count": 17,
   "id": "4cd43a0d",
   "metadata": {
    "scrolled": true
   },
   "outputs": [
    {
     "name": "stdout",
     "output_type": "stream",
     "text": [
      "              precision    recall  f1-score   support\n",
      "\n",
      "           0       0.94      0.99      0.97      3199\n",
      "           1       0.95      0.61      0.74       497\n",
      "\n",
      "    accuracy                           0.94      3696\n",
      "   macro avg       0.94      0.80      0.86      3696\n",
      "weighted avg       0.94      0.94      0.94      3696\n",
      "\n"
     ]
    }
   ],
   "source": [
    "from sklearn.metrics import classification_report\n",
    "print(classification_report(y_test,predictions))"
   ]
  },
  {
   "cell_type": "code",
   "execution_count": 17,
   "id": "b638c813",
   "metadata": {},
   "outputs": [],
   "source": [
    "# save the model to disk\n",
    "filename = 'rfc_model_intersection.sav'\n",
    "pickle.dump(clf, open(filename, 'wb')) "
   ]
  },
  {
   "cell_type": "markdown",
   "id": "a98ecc7b",
   "metadata": {},
   "source": [
    "# Redes Neuronales - Todos los predictores"
   ]
  },
  {
   "cell_type": "code",
   "execution_count": 18,
   "id": "05a611fa",
   "metadata": {
    "scrolled": true
   },
   "outputs": [],
   "source": [
    "X = df3.drop('Ground_Truth',axis='columns')\n",
    "y = df3.Ground_Truth"
   ]
  },
  {
   "cell_type": "code",
   "execution_count": 19,
   "id": "e6473e29",
   "metadata": {
    "scrolled": true
   },
   "outputs": [
    {
     "name": "stdout",
     "output_type": "stream",
     "text": [
      "<class 'pandas.core.frame.DataFrame'>\n",
      "RangeIndex: 18476 entries, 0 to 18475\n",
      "Data columns (total 28 columns):\n",
      " #   Column                        Non-Null Count  Dtype  \n",
      "---  ------                        --------------  -----  \n",
      " 0   Frame                         18476 non-null  int64  \n",
      " 1   N_Person                      18476 non-null  int64  \n",
      " 2   Xcenter                       18476 non-null  float64\n",
      " 3   Ycenter                       18476 non-null  float64\n",
      " 4   PerXmin                       18476 non-null  float64\n",
      " 5   PerYmin                       18476 non-null  float64\n",
      " 6   PerXmax                       18476 non-null  float64\n",
      " 7   PerYmax                       18476 non-null  float64\n",
      " 8   N_Handgun                     18476 non-null  int64  \n",
      " 9   HgXcenter                     18476 non-null  float64\n",
      " 10  HgYcenter                     18476 non-null  float64\n",
      " 11  HgXmin                        18476 non-null  float64\n",
      " 12  HgYmin                        18476 non-null  float64\n",
      " 13  HgXmax                        18476 non-null  float64\n",
      " 14  HgYmax                        18476 non-null  float64\n",
      " 15  Included_Center               18476 non-null  int64  \n",
      " 16  Intersection_Area             18476 non-null  float64\n",
      " 17  Hg_Area                       18476 non-null  float64\n",
      " 18  Distance                      18476 non-null  float64\n",
      " 19  Intersection_Center_left      18476 non-null  uint8  \n",
      " 20  Intersection_Center_right     18476 non-null  uint8  \n",
      " 21  Intersection_Down_center      18476 non-null  uint8  \n",
      " 22  Intersection_Down_left        18476 non-null  uint8  \n",
      " 23  Intersection_Inside           18476 non-null  uint8  \n",
      " 24  Intersection_No_intersection  18476 non-null  uint8  \n",
      " 25  Intersection_Up_center        18476 non-null  uint8  \n",
      " 26  Intersection_Up_left          18476 non-null  uint8  \n",
      " 27  Intersection_Up_right         18476 non-null  uint8  \n",
      "dtypes: float64(15), int64(4), uint8(9)\n",
      "memory usage: 2.8 MB\n"
     ]
    }
   ],
   "source": [
    "X.info()"
   ]
  },
  {
   "cell_type": "code",
   "execution_count": 20,
   "id": "69009579",
   "metadata": {
    "scrolled": true
   },
   "outputs": [
    {
     "data": {
      "text/plain": [
       "array([[-1.86326163, -1.00667267,  0.38734516, -1.06125626,  0.40824584,\n",
       "        -0.80335781,  0.35078879, -1.43289812, -0.4972173 ,  0.64976535,\n",
       "        -1.26103311,  0.70246124, -1.17972205,  0.59565633, -1.33764962,\n",
       "         1.17826753, -0.04971489, -0.63083215, -0.69700524,  2.66724302,\n",
       "        -0.28344573, -0.0164528 , -0.01040482, -0.53755307, -1.0857134 ,\n",
       "        -0.11970317, -0.0612256 , -0.13895783],\n",
       "       [-1.86109019, -1.00667267,  0.38705959, -1.06066535,  0.40726421,\n",
       "        -0.80166812,  0.35123417, -1.43565248, -0.4972173 ,  0.64816932,\n",
       "        -1.26188784,  0.69945778, -1.18037372,  0.59545525, -1.33870934,\n",
       "         1.17826753, -0.04729554, -0.62493541, -0.6955775 ,  2.66724302,\n",
       "        -0.28344573, -0.0164528 , -0.01040482, -0.53755307, -1.0857134 ,\n",
       "        -0.11970317, -0.0612256 , -0.13895783],\n",
       "       [-1.85891876, -1.00667267,  0.38767976, -1.06282121,  0.40873242,\n",
       "        -0.80572405,  0.3509533 , -1.4316327 , -0.4972173 ,  0.64799063,\n",
       "        -1.26330297,  0.69936833, -1.181574  ,  0.59518901, -1.34033832,\n",
       "         1.17826753, -0.05405143, -0.62601177, -0.69509167,  2.66724302,\n",
       "        -0.28344573, -0.0164528 , -0.01040482, -0.53755307, -1.0857134 ,\n",
       "        -0.11970317, -0.0612256 , -0.13895783]])"
      ]
     },
     "execution_count": 20,
     "metadata": {},
     "output_type": "execute_result"
    }
   ],
   "source": [
    "from sklearn.preprocessing import StandardScaler\n",
    "scaler = StandardScaler()\n",
    "X_scaled = scaler.fit_transform(X)\n",
    "X_scaled[:3]\n",
    "#X_scaled.shape"
   ]
  },
  {
   "cell_type": "code",
   "execution_count": 21,
   "id": "452d05da",
   "metadata": {
    "scrolled": false
   },
   "outputs": [
    {
     "name": "stdout",
     "output_type": "stream",
     "text": [
      "[8.58077614e+02 8.80006495e-01 3.92791498e+02 3.82533416e+02\n",
      " 3.05569658e+02 2.46252891e+02 4.80013338e+02 5.18813941e+02\n",
      " 2.98820091e-01 3.10563874e+02 3.12559376e+02 2.87194013e+02\n",
      " 2.93020701e+02 3.33933735e+02 3.32098050e+02 4.18705347e-01\n",
      " 9.27689235e+02 2.02464734e+03 2.31970764e+02 1.23240961e-01\n",
      " 7.43667460e-02 2.70621347e-04 1.08248539e-04 2.24182724e-01\n",
      " 5.41026196e-01 1.41264343e-02 3.73457458e-03 1.89434943e-02]\n"
     ]
    }
   ],
   "source": [
    "print(scaler.mean_)"
   ]
  },
  {
   "cell_type": "code",
   "execution_count": 22,
   "id": "792e3581",
   "metadata": {
    "scrolled": true
   },
   "outputs": [
    {
     "name": "stdout",
     "output_type": "stream",
     "text": [
      "[4.60524491e+02 8.74173423e-01 2.12234363e+02 6.87397305e+01\n",
      " 2.19984096e+02 1.11843273e+02 2.12687277e+02 3.91170674e+01\n",
      " 6.00984897e-01 1.52852279e+02 9.71516257e+01 1.52137021e+02\n",
      " 9.90954815e+01 1.54058414e+02 9.57782278e+01 4.93346916e-01\n",
      " 1.66477361e+03 1.81211294e+03 1.37516715e+02 3.28713594e-01\n",
      " 2.62366791e-01 1.64483467e-02 1.04036927e-02 4.17042959e-01\n",
      " 4.98314009e-01 1.18012195e-01 6.09969469e-02 1.36325487e-01]\n"
     ]
    }
   ],
   "source": [
    "print(scaler.scale_)"
   ]
  },
  {
   "cell_type": "code",
   "execution_count": 23,
   "id": "0f8c7a7e",
   "metadata": {},
   "outputs": [],
   "source": [
    "from sklearn.model_selection import  train_test_split\n",
    "X_train, X_test, y_train, y_test = train_test_split(X_scaled, y, stratify=y, random_state=10) #stratify hace que el ratio entre 0 y 1 se mantenga en la distri. entre el test(y). "
   ]
  },
  {
   "cell_type": "code",
   "execution_count": 24,
   "id": "89c11ff0",
   "metadata": {},
   "outputs": [
    {
     "data": {
      "text/plain": [
       "(13857, 28)"
      ]
     },
     "execution_count": 24,
     "metadata": {},
     "output_type": "execute_result"
    }
   ],
   "source": [
    "X_train.shape"
   ]
  },
  {
   "cell_type": "code",
   "execution_count": 25,
   "id": "809f7a45",
   "metadata": {
    "scrolled": true
   },
   "outputs": [
    {
     "data": {
      "text/plain": [
       "0    11997\n",
       "1     1860\n",
       "Name: Ground_Truth, dtype: int64"
      ]
     },
     "execution_count": 25,
     "metadata": {},
     "output_type": "execute_result"
    }
   ],
   "source": [
    "y_train.value_counts()"
   ]
  },
  {
   "cell_type": "code",
   "execution_count": 26,
   "id": "87692498",
   "metadata": {},
   "outputs": [
    {
     "data": {
      "text/plain": [
       "(4619, 28)"
      ]
     },
     "execution_count": 26,
     "metadata": {},
     "output_type": "execute_result"
    }
   ],
   "source": [
    "X_test.shape"
   ]
  },
  {
   "cell_type": "code",
   "execution_count": 27,
   "id": "37e3175e",
   "metadata": {
    "scrolled": false
   },
   "outputs": [
    {
     "data": {
      "text/plain": [
       "0    3999\n",
       "1     620\n",
       "Name: Ground_Truth, dtype: int64"
      ]
     },
     "execution_count": 27,
     "metadata": {},
     "output_type": "execute_result"
    }
   ],
   "source": [
    "y_test.value_counts()"
   ]
  },
  {
   "cell_type": "code",
   "execution_count": 28,
   "id": "8b1cbdef",
   "metadata": {
    "scrolled": true
   },
   "outputs": [
    {
     "data": {
      "text/plain": [
       "array([[2.43301468e-04, 9.99756699e-01],\n",
       "       [9.99999826e-01, 1.74015263e-07],\n",
       "       [3.52696624e-04, 9.99647303e-01],\n",
       "       ...,\n",
       "       [9.98894438e-01, 1.10556160e-03],\n",
       "       [9.99999986e-01, 1.43071196e-08],\n",
       "       [6.28237085e-04, 9.99371763e-01]])"
      ]
     },
     "execution_count": 28,
     "metadata": {},
     "output_type": "execute_result"
    }
   ],
   "source": [
    "from sklearn.neural_network import MLPClassifier\n",
    "clf=MLPClassifier(hidden_layer_sizes=(25,25,25,25), max_iter=500, alpha=0.0001, solver='adam',\n",
    "                 random_state=0, tol=0.000000001)\n",
    "y_pred = clf.fit(X_train, y_train).predict(X_test)\n",
    "predictions_mlp=clf.predict_proba(X_test)\n",
    "predictions_mlp"
   ]
  },
  {
   "cell_type": "code",
   "execution_count": 29,
   "id": "1e2e8226",
   "metadata": {},
   "outputs": [
    {
     "data": {
      "text/plain": [
       "array([1, 0, 1, ..., 0, 0, 1], dtype=int64)"
      ]
     },
     "execution_count": 29,
     "metadata": {},
     "output_type": "execute_result"
    }
   ],
   "source": [
    "predictions_mlp=clf.predict(X_test)\n",
    "predictions_mlp"
   ]
  },
  {
   "cell_type": "code",
   "execution_count": 30,
   "id": "1b624d75",
   "metadata": {},
   "outputs": [
    {
     "data": {
      "text/plain": [
       "array([[[ 591,   29],\n",
       "        [  53, 3946]],\n",
       "\n",
       "       [[3946,   53],\n",
       "        [  29,  591]]], dtype=int64)"
      ]
     },
     "execution_count": 30,
     "metadata": {},
     "output_type": "execute_result"
    }
   ],
   "source": [
    "from sklearn.metrics import multilabel_confusion_matrix\n",
    "#rfc_o.fit(X_train.values, y_train.values)\n",
    "multilabel_confusion_matrix(y_test, y_pred)"
   ]
  },
  {
   "cell_type": "code",
   "execution_count": 31,
   "id": "f87e6606",
   "metadata": {
    "scrolled": true
   },
   "outputs": [
    {
     "name": "stdout",
     "output_type": "stream",
     "text": [
      "              precision    recall  f1-score   support\n",
      "\n",
      "           0       0.99      0.99      0.99      3999\n",
      "           1       0.92      0.95      0.94       620\n",
      "\n",
      "    accuracy                           0.98      4619\n",
      "   macro avg       0.96      0.97      0.96      4619\n",
      "weighted avg       0.98      0.98      0.98      4619\n",
      "\n"
     ]
    }
   ],
   "source": [
    "from sklearn.metrics import classification_report\n",
    "print(classification_report(y_test,predictions_mlp))"
   ]
  },
  {
   "cell_type": "code",
   "execution_count": 32,
   "id": "88b8b418",
   "metadata": {
    "scrolled": false
   },
   "outputs": [
    {
     "name": "stdout",
     "output_type": "stream",
     "text": [
      "Score train =  0.9902576315219744\n",
      "Score test =  0.9822472396622646\n"
     ]
    }
   ],
   "source": [
    "print(\"Score train = \",clf.score(X_train, y_train))\n",
    "print(\"Score test = \",clf.score(X_test, y_test))"
   ]
  },
  {
   "cell_type": "code",
   "execution_count": 31,
   "id": "9e560452",
   "metadata": {},
   "outputs": [],
   "source": [
    "# save the model to disk\n",
    "filename = 'mlp_model_intersection.sav'\n",
    "pickle.dump(clf, open(filename, 'wb')) "
   ]
  },
  {
   "cell_type": "code",
   "execution_count": 27,
   "id": "d462b638",
   "metadata": {
    "scrolled": true
   },
   "outputs": [
    {
     "name": "stdout",
     "output_type": "stream",
     "text": [
      "Score train =  1.0\n",
      "Score test =  0.9626700411262259\n"
     ]
    }
   ],
   "source": [
    "from sklearn.ensemble import GradientBoostingClassifier\n",
    "clf = GradientBoostingClassifier(n_estimators=100, learning_rate=0.1, max_depth=7, random_state=0).fit(X_train, y_train)\n",
    "print(\"Score train = \",clf.score(X_train, y_train))\n",
    "print(\"Score test = \",clf.score(X_test, y_test))"
   ]
  },
  {
   "cell_type": "code",
   "execution_count": 28,
   "id": "88c29b92",
   "metadata": {},
   "outputs": [],
   "source": [
    "# save the model to disk\n",
    "filename = 'gradboost1.sav'\n",
    "pickle.dump(clf, open(filename, 'wb'))"
   ]
  },
  {
   "cell_type": "code",
   "execution_count": 55,
   "id": "d097a90a",
   "metadata": {
    "scrolled": true
   },
   "outputs": [
    {
     "name": "stdout",
     "output_type": "stream",
     "text": [
      "Score train =  0.9746915533059158\n",
      "Score test =  0.9544447959506486\n"
     ]
    }
   ],
   "source": [
    "from sklearn.neighbors import KNeighborsClassifier\n",
    "clf = KNeighborsClassifier(n_neighbors=4)\n",
    "y_pred = clf.fit(X_train, y_train).predict(X_test)\n",
    "print(\"Score train = \",clf.score(X_train, y_train))\n",
    "print(\"Score test = \",clf.score(X_test, y_test))"
   ]
  },
  {
   "cell_type": "code",
   "execution_count": 56,
   "id": "9c7f2a02",
   "metadata": {},
   "outputs": [
    {
     "data": {
      "text/plain": [
       "array([[[2613,   21],\n",
       "        [   9,  518]],\n",
       "\n",
       "       [[2583,   51],\n",
       "        [  25,  502]],\n",
       "\n",
       "       [[2614,   19],\n",
       "        [  19,  509]],\n",
       "\n",
       "       [[2621,   13],\n",
       "        [  28,  499]],\n",
       "\n",
       "       [[2593,   24],\n",
       "        [  52,  492]],\n",
       "\n",
       "       [[2637,   16],\n",
       "        [  11,  497]]], dtype=int64)"
      ]
     },
     "execution_count": 56,
     "metadata": {},
     "output_type": "execute_result"
    }
   ],
   "source": [
    "from sklearn.metrics import multilabel_confusion_matrix\n",
    "#rfc_o.fit(X_train.values, y_train.values)\n",
    "multilabel_confusion_matrix(y_test, y_pred, labels=[0,1,2,3,4,5])"
   ]
  },
  {
   "cell_type": "code",
   "execution_count": 35,
   "id": "09c3375b",
   "metadata": {},
   "outputs": [],
   "source": [
    "# save the model to disk\n",
    "filename = 'knn2.sav'\n",
    "pickle.dump(neigh, open(filename, 'wb'))"
   ]
  },
  {
   "cell_type": "code",
   "execution_count": null,
   "id": "1f38c99c",
   "metadata": {},
   "outputs": [],
   "source": []
  }
 ],
 "metadata": {
  "kernelspec": {
   "display_name": "Python 3 (ipykernel)",
   "language": "python",
   "name": "python3"
  },
  "language_info": {
   "codemirror_mode": {
    "name": "ipython",
    "version": 3
   },
   "file_extension": ".py",
   "mimetype": "text/x-python",
   "name": "python",
   "nbconvert_exporter": "python",
   "pygments_lexer": "ipython3",
   "version": "3.8.8"
  }
 },
 "nbformat": 4,
 "nbformat_minor": 5
}
